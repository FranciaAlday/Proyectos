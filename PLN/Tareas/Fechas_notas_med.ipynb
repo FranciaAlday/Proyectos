{
  "nbformat": 4,
  "nbformat_minor": 0,
  "metadata": {
    "colab": {
      "provenance": [],
      "authorship_tag": "ABX9TyPCHtMolA0uv8fI8BQBaGzl",
      "include_colab_link": true
    },
    "kernelspec": {
      "name": "python3",
      "display_name": "Python 3"
    },
    "language_info": {
      "name": "python"
    }
  },
  "cells": [
    {
      "cell_type": "markdown",
      "metadata": {
        "id": "view-in-github",
        "colab_type": "text"
      },
      "source": [
        "<a href=\"https://colab.research.google.com/github/FranciaAlday/Proyectos/blob/main/PLN/Tareas/Fechas_notas_med.ipynb\" target=\"_parent\"><img src=\"https://colab.research.google.com/assets/colab-badge.svg\" alt=\"Open In Colab\"/></a>"
      ]
    },
    {
      "cell_type": "markdown",
      "source": [
        "Alday Martínez Francia Aide V.\n",
        "\n",
        "417031233\n",
        "\n",
        "Procesamiento de Lenguaje Natural 2024-1"
      ],
      "metadata": {
        "id": "WAfGUckJjNJP"
      }
    },
    {
      "cell_type": "markdown",
      "source": [
        "# Expresiones Regulares Actividad Sumativa 4"
      ],
      "metadata": {
        "id": "m7A1UHhIBfqT"
      }
    },
    {
      "cell_type": "markdown",
      "source": [
        "Identificar correctamente todas las diferentes variantes de fecha codificadas en este conjunto de datos, normalizar y ordenar adecuadamente las fechas. Cada línea del archivo dates.txt corresponde a una nota médica. Cada nota tiene una fecha que debe extraerse, pero cada fecha está codificada en uno de muchos formatos. Aquí hay una lista de algunas de las variantes que puede encontrar en este conjunto de datos:\n",
        "\n",
        "04/20/2009; 04/20/09; 4/20/09; 4/3/09\n",
        "\n",
        "Mar-20-2009; Mar 20, 2009; March 20, 2009; Mar. 20, 2009; Mar 20 2009;\n",
        "\n",
        "20 Mar 2009; 20 March 2009; 20 Mar. 2009; 20 March, 2009\n",
        "\n",
        "Mar 20th, 2009; Mar 21st, 2009; Mar 22nd, 2009\n",
        "\n",
        "Feb 2009; Sep 2009; Oct 2010\n",
        "\n",
        "6/2008; 12/2009\n",
        "\n",
        "2009; 2010"
      ],
      "metadata": {
        "id": "_5PtWsBXBffR"
      }
    },
    {
      "cell_type": "markdown",
      "source": [
        "## Encontrar las expresiones regulares para las fechas anteriores:"
      ],
      "metadata": {
        "id": "YUjWGjaTudyp"
      }
    },
    {
      "cell_type": "code",
      "source": [
        "import re\n",
        "string = 'which foot or hand fell fastest'\n",
        "re.findall(r'\\bf[a-z]*', string)"
      ],
      "metadata": {
        "colab": {
          "base_uri": "https://localhost:8080/"
        },
        "id": "SVAmuZDYudj5",
        "outputId": "085e27dc-74b0-47c0-f1d2-939562b9688a"
      },
      "execution_count": null,
      "outputs": [
        {
          "output_type": "execute_result",
          "data": {
            "text/plain": [
              "['foot', 'fell', 'fastest']"
            ]
          },
          "metadata": {},
          "execution_count": 3
        }
      ]
    },
    {
      "cell_type": "code",
      "source": [
        "# 1\n",
        "string =  '04/20/2009; 04/20/09; 4/20/09; 4/3/09; 4-13-82; 7-29-75; 011/14/83; 99/99/'\n",
        "re.findall(r'\\b0?\\d{1,2}[/|-]\\d{1,2}[/|-](?:\\d{4}|\\d{2})\\b', string)\n",
        "#\\b\\d{1,2}[/|-]\\d{1,2}[/|-](?:\\d{4}|\\d{2})\\b\n",
        "#(?<!\\d)\\b\\d{1,2}[/|-]\\d{1,2}[/|-](?:\\d{4}|\\d{2})\\b\n",
        "#(?<!\\d)\\b(?:\\d{1,2}[/|-])\\d{1,2}[/|-](?:\\d{4}|\\d{2})\\b\n",
        "\n",
        "# (?<!\\d) se llama negative lookbehind\n",
        "# Ensures that the given pattern would not match and end at the current position in the expression.\n",
        "# The pattern must have a fixed width.\n",
        "# /(?<!not )foo/\n",
        "# not foo but 'foo' (solo toma lo que esta entre ' ')"
      ],
      "metadata": {
        "colab": {
          "base_uri": "https://localhost:8080/"
        },
        "id": "fIZHaOvpudgF",
        "outputId": "85aef112-8ff9-4aed-84a9-3265c8912370"
      },
      "execution_count": null,
      "outputs": [
        {
          "output_type": "execute_result",
          "data": {
            "text/plain": [
              "['04/20/2009',\n",
              " '04/20/09',\n",
              " '4/20/09',\n",
              " '4/3/09',\n",
              " '4-13-82',\n",
              " '7-29-75',\n",
              " '011/14/83']"
            ]
          },
          "metadata": {},
          "execution_count": 271
        }
      ]
    },
    {
      "cell_type": "code",
      "source": [
        "string = '04/20/2009; 04/20/09; 4/20/09; 4/3/09; 4-13-82; 7-29-75; 011/14/83'\n",
        "matches = re.findall(r'\\b(?:\\d{1,2}[/|-]\\d{1,2}[/|-](?:(?!83)\\d{4}|\\d{2})|(?<!\\d)11/14/83)\\b', string)\n",
        "print(matches)"
      ],
      "metadata": {
        "colab": {
          "base_uri": "https://localhost:8080/"
        },
        "id": "8tiaJZYAS0VY",
        "outputId": "40f62793-6811-4360-ee2d-8d2a08d7b568"
      },
      "execution_count": null,
      "outputs": [
        {
          "output_type": "stream",
          "name": "stdout",
          "text": [
            "['04/20/2009', '04/20/09', '4/20/09', '4/3/09', '4-13-82', '7-29-75']\n"
          ]
        }
      ]
    },
    {
      "cell_type": "code",
      "source": [
        "# 2\n",
        "string =  'Mar-20-2009; Mar 20, 2009; March 20, 2009; Mar. 20, 2009; Mar 20 2009; 20 Mar 2009; 20 March 2009; 20 Mar. 2009; 20 March, 2009'\n",
        "#re.findall(r'\\b[\\d{1,2} ]*[(?:Jan|Feb|Mar|Apr|May|Jun|Jul|Aug|Sep|Oct|Nov|Dec)[a-zA-Z]*[-., ]*\\d{1,2}[-,; ]*\\d{1,4}\\b', string)\n",
        "re.findall(r'\\b(?:Jan|Feb|Mar|Apr|May|Jun|Jul|Aug|Sep|Oct|Nov|Dec)[a-z]*[ .-]\\d{1,2}(?:[ ,-]\\s?\\d{4})?\\b', string)\n",
        "#re.findall(r'\\b(?:Jan(?:uary)?|Feb(?:ruary)?|Mar(?:ch)?|Apr(?:il)?|May|Jun(?:e)?|Jul(?:y)?|Aug(?:ust)?|Sep(?:tember)?|Oct(?:ober)?|Nov(?:ember)?|Dec(?:ember)?)\\s?(?:\\d{1,2})?[ .,]?\\s?\\d{4}\\b', string)"
      ],
      "metadata": {
        "colab": {
          "base_uri": "https://localhost:8080/"
        },
        "id": "7d91wMeyudb8",
        "outputId": "e2ea5186-62f1-4de6-e15c-e04b3a93c929"
      },
      "execution_count": null,
      "outputs": [
        {
          "output_type": "execute_result",
          "data": {
            "text/plain": [
              "['Mar-20-2009', 'Mar 20, 2009', 'March 20, 2009', 'Mar 20 2009']"
            ]
          },
          "metadata": {},
          "execution_count": 117
        }
      ]
    },
    {
      "cell_type": "code",
      "source": [
        "# 2.1\n",
        "string =  '20 Mar 2009; 20 March 2009; 20 Mar. 2009; 20 March, 2009; 21 hola; 03 Co:'\n",
        "re.findall(r'\\b\\d{1,2} (?:Jan|Feb|Mar|Apr|May|Jun|Jul|Aug|Sep|Oct|Nov|Dec)[a-z]*[ .,]*\\d{4}\\b', string)"
      ],
      "metadata": {
        "colab": {
          "base_uri": "https://localhost:8080/"
        },
        "id": "pfpGbaTrndsK",
        "outputId": "2806aa06-7c00-48fa-9642-16f8cf104e32"
      },
      "execution_count": null,
      "outputs": [
        {
          "output_type": "execute_result",
          "data": {
            "text/plain": [
              "['20 Mar 2009', '20 March 2009', '20 Mar. 2009', '20 March, 2009']"
            ]
          },
          "metadata": {},
          "execution_count": 144
        }
      ]
    },
    {
      "cell_type": "code",
      "source": [
        "# 3\n",
        "string =  'Mar 20th, 2009; Mar 21st, 2009; Mar 22nd, 2009'\n",
        "#re.findall(r'\\b[(?:Jan|Feb|Mar|Apr|May|Jun|Jul|Aug|Sep|Oct|Nov|Dec)[a-zA-Z]*[ ]*\\d{1,2}(?:st|nd|rd|th)[, ]*\\d{4}\\b', string)\n",
        "re.findall(r'\\b(?:Jan|Feb|Mar|Apr|May|Jun|Jul|Aug|Sep|Oct|Nov|Dec)[a-zA-Z]* \\d{1,2}(?:st|nd|rd|th)[, ]*\\d{4}\\b', string)\n",
        "#(?:st|nd|rd|th),? \\d{4}"
      ],
      "metadata": {
        "colab": {
          "base_uri": "https://localhost:8080/"
        },
        "id": "mYTsI-OrudVl",
        "outputId": "116a2137-d0a1-4273-b613-11e5d775268a"
      },
      "execution_count": null,
      "outputs": [
        {
          "output_type": "execute_result",
          "data": {
            "text/plain": [
              "['Mar 20th, 2009', 'Mar 21st, 2009', 'Mar 22nd, 2009']"
            ]
          },
          "metadata": {},
          "execution_count": 152
        }
      ]
    },
    {
      "cell_type": "code",
      "source": [
        "# 4\n",
        "string =  'Feb 2009; Sep 2009; Oct 2010; 6/2008; 12/2009; 2009; x2000, Oc 1976'\n",
        "#re.findall(r'\\b[(?:Jan|Feb|Mar|Apr|May|Jun|Jul|Aug|Sep|Oct|Nov|Dec)[a-zA-Z]* ]*[\\d{1,2}/]*\\d{4}\\b', string)\n",
        "re.findall(r'\\b(?:Jan|Feb|Mar|Apr|May|Jun|Jul|Aug|Sep|Oct|Nov|Dec) \\d{4}\\b|\\b\\d{1,2}/\\d{4}\\b', string)"
      ],
      "metadata": {
        "colab": {
          "base_uri": "https://localhost:8080/"
        },
        "id": "5vPxTG2sudSd",
        "outputId": "62195c54-5570-436d-aac5-d87f29180a8d"
      },
      "execution_count": null,
      "outputs": [
        {
          "output_type": "execute_result",
          "data": {
            "text/plain": [
              "['Feb 2009', 'Sep 2009', 'Oct 2010', '6/2008', '12/2009']"
            ]
          },
          "metadata": {},
          "execution_count": 170
        }
      ]
    },
    {
      "cell_type": "code",
      "source": [
        "# 5\n",
        "string =  '2009; 2010'\n",
        "re.findall(r'\\b\\d{4}\\b', string)"
      ],
      "metadata": {
        "colab": {
          "base_uri": "https://localhost:8080/"
        },
        "id": "pOorgTrVudFt",
        "outputId": "13495253-a473-4eb0-83a2-dfca3a9668fd"
      },
      "execution_count": null,
      "outputs": [
        {
          "output_type": "execute_result",
          "data": {
            "text/plain": [
              "['2009', '2010']"
            ]
          },
          "metadata": {},
          "execution_count": 10
        }
      ]
    },
    {
      "cell_type": "markdown",
      "source": [
        "## Analizar el txt"
      ],
      "metadata": {
        "id": "YjwLBwLfFoNq"
      }
    },
    {
      "cell_type": "code",
      "execution_count": null,
      "metadata": {
        "id": "4SGh1nowRCIY"
      },
      "outputs": [],
      "source": [
        "import pandas as pd"
      ]
    },
    {
      "cell_type": "markdown",
      "source": [
        "Cada línea del archivo dates.txt corresponde a una nota médica."
      ],
      "metadata": {
        "id": "QQsXix5FXDR2"
      }
    },
    {
      "cell_type": "code",
      "source": [
        "# Leer el archivo de texto y dividir por saltos de línea\n",
        "with open(\"dates.txt\", 'r') as file:\n",
        "    lineas = file.readlines()\n",
        "\n",
        "# Crear una serie con las líneas\n",
        "df = pd.Series(lineas, name='linea')\n"
      ],
      "metadata": {
        "id": "DSGcfETCRcok"
      },
      "execution_count": null,
      "outputs": []
    },
    {
      "cell_type": "code",
      "source": [
        "df.head()"
      ],
      "metadata": {
        "id": "78VW8-OxSl-h",
        "outputId": "7be7921b-34f8-41db-a828-589622bb5c32",
        "colab": {
          "base_uri": "https://localhost:8080/"
        }
      },
      "execution_count": null,
      "outputs": [
        {
          "output_type": "execute_result",
          "data": {
            "text/plain": [
              "0         03/25/93 Total time of visit (in minutes):\\n\n",
              "1                       6/18/85 Primary Care Doctor:\\n\n",
              "2    sshe plans to move as of 7/8/71 In-Home Servic...\n",
              "3                7 on 9/27/75 Audit C Score Current:\\n\n",
              "4    2/6/96 sleep studyPain Treatment Pain Level (N...\n",
              "Name: linea, dtype: object"
            ]
          },
          "metadata": {},
          "execution_count": 69
        }
      ]
    },
    {
      "cell_type": "code",
      "source": [
        "len(df)"
      ],
      "metadata": {
        "id": "DP-BfrxwXE3x",
        "colab": {
          "base_uri": "https://localhost:8080/"
        },
        "outputId": "e2696213-73a5-423c-ee8d-612651f100cf"
      },
      "execution_count": null,
      "outputs": [
        {
          "output_type": "execute_result",
          "data": {
            "text/plain": [
              "500"
            ]
          },
          "metadata": {},
          "execution_count": 171
        }
      ]
    },
    {
      "cell_type": "code",
      "source": [
        "type(df)"
      ],
      "metadata": {
        "colab": {
          "base_uri": "https://localhost:8080/"
        },
        "id": "S5OrifXMJj71",
        "outputId": "7b7ac2b9-f054-44c5-d721-efcca62d278f"
      },
      "execution_count": null,
      "outputs": [
        {
          "output_type": "execute_result",
          "data": {
            "text/plain": [
              "pandas.core.series.Series"
            ]
          },
          "metadata": {},
          "execution_count": 72
        }
      ]
    },
    {
      "cell_type": "markdown",
      "source": [
        "### Match de las regex con el txt"
      ],
      "metadata": {
        "id": "kA8bP3snJKYO"
      }
    },
    {
      "cell_type": "code",
      "source": [
        "pattern = r'\\b\\d{1,2}[/|-]\\d{1,2}[/|-](?:\\d{4}|\\d{2})\\b'"
      ],
      "metadata": {
        "id": "dR4-ltJvOeFU"
      },
      "execution_count": null,
      "outputs": []
    },
    {
      "cell_type": "code",
      "source": [
        "# lista para almacenar los resultados\n",
        "resultados = []\n",
        "\n",
        "# ciclo for para buscar matches en cada línea\n",
        "for linea in df:\n",
        "    matches = re.findall(pattern, linea)\n",
        "    resultados.extend(matches)"
      ],
      "metadata": {
        "id": "t7LZqr6lCCNp"
      },
      "execution_count": null,
      "outputs": []
    },
    {
      "cell_type": "code",
      "source": [
        "# 1a expresión: numeros\n",
        "len(resultados)"
      ],
      "metadata": {
        "id": "I1wuNuY6CCKS",
        "colab": {
          "base_uri": "https://localhost:8080/"
        },
        "outputId": "9d87ae18-91f4-4625-b892-52d9f7d61a65"
      },
      "execution_count": null,
      "outputs": [
        {
          "output_type": "execute_result",
          "data": {
            "text/plain": [
              "124"
            ]
          },
          "metadata": {},
          "execution_count": 241
        }
      ]
    },
    {
      "cell_type": "markdown",
      "source": [
        "Desde aquí cambio el **pattern** por cada expresión que reviso y veo cuales fueron las coincidencias en **resultados**"
      ],
      "metadata": {
        "id": "iVA0_4W9n35d"
      }
    },
    {
      "cell_type": "code",
      "source": [
        "# 2 expresión: mes(letras) día año\n",
        "len(resultados)"
      ],
      "metadata": {
        "colab": {
          "base_uri": "https://localhost:8080/"
        },
        "id": "altlhE0vRFT1",
        "outputId": "ade999fe-e3ec-47a8-ec99-3e435b997179"
      },
      "execution_count": null,
      "outputs": [
        {
          "output_type": "execute_result",
          "data": {
            "text/plain": [
              "30"
            ]
          },
          "metadata": {},
          "execution_count": 122
        }
      ]
    },
    {
      "cell_type": "code",
      "source": [
        "resultados"
      ],
      "metadata": {
        "id": "ENQT44dKCCGn",
        "colab": {
          "base_uri": "https://localhost:8080/"
        },
        "outputId": "1e1b2399-5e92-4c23-c724-bb36e93eb49f"
      },
      "execution_count": null,
      "outputs": [
        {
          "output_type": "execute_result",
          "data": {
            "text/plain": [
              "['April 11, 1990',\n",
              " 'May 30, 2001',\n",
              " 'Feb 18, 1994',\n",
              " 'February 18, 1981',\n",
              " 'Jan 24 1986',\n",
              " 'July 26, 1978',\n",
              " 'December 23, 1999',\n",
              " 'May 15, 1989',\n",
              " 'September 06, 1995',\n",
              " 'Jan 27, 1983',\n",
              " 'October 23 1990',\n",
              " 'August 12 2004',\n",
              " 'September 01, 2012',\n",
              " 'July 25, 1983',\n",
              " 'August 11, 1989',\n",
              " 'April 17, 1992',\n",
              " 'July 24, 1999',\n",
              " 'July 11, 1997',\n",
              " 'August 14, 1981',\n",
              " 'Nov 11, 1988',\n",
              " 'June 13, 2011',\n",
              " 'May 14, 1989',\n",
              " 'Dec 14 1975',\n",
              " 'June 25, 2012',\n",
              " 'Oct 18, 1980',\n",
              " 'May 15, 1998',\n",
              " 'October 14 1974',\n",
              " 'July 25, 1998',\n",
              " 'June 15, 1972',\n",
              " 'January 07, 1991']"
            ]
          },
          "metadata": {},
          "execution_count": 123
        }
      ]
    },
    {
      "cell_type": "code",
      "source": [
        "# 2.1 expresión: día mes(letra) año\n",
        "len(resultados)"
      ],
      "metadata": {
        "colab": {
          "base_uri": "https://localhost:8080/"
        },
        "id": "l4uwzWDhn2Em",
        "outputId": "e32429ef-6813-43d2-9837-7372fe549c57"
      },
      "execution_count": null,
      "outputs": [
        {
          "output_type": "execute_result",
          "data": {
            "text/plain": [
              "69"
            ]
          },
          "metadata": {},
          "execution_count": 142
        }
      ]
    },
    {
      "cell_type": "code",
      "source": [
        "resultados"
      ],
      "metadata": {
        "colab": {
          "base_uri": "https://localhost:8080/"
        },
        "id": "fSn91SQErTPB",
        "outputId": "201b5fc0-97c7-4cda-8e34-57d60f6563ca"
      },
      "execution_count": null,
      "outputs": [
        {
          "output_type": "execute_result",
          "data": {
            "text/plain": [
              "['24 Jan 2001',\n",
              " '10 Sep 2004',\n",
              " '26 May 1982',\n",
              " '28 June 2002',\n",
              " '06 May 1972',\n",
              " '25 Oct 1987',\n",
              " '14 Oct 1996',\n",
              " '30 Nov 2007',\n",
              " '28 June 1994',\n",
              " '14 Jan 1981',\n",
              " '10 Oct 1985',\n",
              " '11 February 1985',\n",
              " '10 Feb 1983',\n",
              " '05 Feb 1992',\n",
              " '21 Oct 2012',\n",
              " '14 Feb 1995',\n",
              " '30 May 2016',\n",
              " '22 Jan 1996',\n",
              " '14 Oct 1992',\n",
              " '06 Oct 2003',\n",
              " '18 Oct 1999',\n",
              " '11 Nov 2004',\n",
              " '30 May 2001',\n",
              " '02 Feb 1978',\n",
              " '09 Sep 1989',\n",
              " '12 March 1980',\n",
              " '22 June 1990',\n",
              " '28 Sep 2015',\n",
              " '13 Jan 1972',\n",
              " '06 Mar 1974',\n",
              " '10 Oct 1974',\n",
              " '26 May 1974',\n",
              " '10 Feb 1990',\n",
              " '23 Aug 2000',\n",
              " '26 May 2001',\n",
              " '21 Oct 2007',\n",
              " '19 Oct 2016',\n",
              " '05 Mar 1974',\n",
              " '29 Jan 1994',\n",
              " '21 Oct 1978',\n",
              " '18 August 1975',\n",
              " '11 Nov 1996',\n",
              " '01 Oct 1979',\n",
              " '13 Oct 1986',\n",
              " '21 Oct 1995',\n",
              " '24 Jan 2011',\n",
              " '04 Oct 1972',\n",
              " '23 Aug 1993',\n",
              " '18 Oct 2006',\n",
              " '04 Dec 1988',\n",
              " '21 Oct 1983',\n",
              " '26 May 2010',\n",
              " '18 Jan 1990',\n",
              " '15 Jun 1985',\n",
              " '10 Dec 1982',\n",
              " '09 Dec 1988',\n",
              " '18 August 1995',\n",
              " '13 June 1974',\n",
              " '26 May 2008',\n",
              " '11 Nov 2002',\n",
              " '17 Aug 1985',\n",
              " '13 Oct 2016',\n",
              " '14 Jan 2008',\n",
              " '12 March 2004',\n",
              " '21 Oct 1977',\n",
              " '10 Aug 2000',\n",
              " '30 Nov 1972',\n",
              " '06 May 1993',\n",
              " '18 Jan 1995']"
            ]
          },
          "metadata": {},
          "execution_count": 143
        }
      ]
    },
    {
      "cell_type": "code",
      "source": [
        "# 3a expresion: numero ordinales\n",
        "len(resultados)"
      ],
      "metadata": {
        "colab": {
          "base_uri": "https://localhost:8080/"
        },
        "id": "XKV3109ZapDC",
        "outputId": "4cda205d-a278-4d16-affb-b09d80c79529"
      },
      "execution_count": null,
      "outputs": [
        {
          "output_type": "execute_result",
          "data": {
            "text/plain": [
              "0"
            ]
          },
          "metadata": {},
          "execution_count": 155
        }
      ]
    },
    {
      "cell_type": "code",
      "source": [
        "# 4a expresión: mes y año\n",
        "len(resultados)"
      ],
      "metadata": {
        "colab": {
          "base_uri": "https://localhost:8080/"
        },
        "id": "UpIkHULSuROx",
        "outputId": "22c613fe-c13c-4e36-9a3a-a7001d6e4002"
      },
      "execution_count": null,
      "outputs": [
        {
          "output_type": "execute_result",
          "data": {
            "text/plain": [
              "237"
            ]
          },
          "metadata": {},
          "execution_count": 168
        }
      ]
    },
    {
      "cell_type": "code",
      "source": [
        "resultados"
      ],
      "metadata": {
        "id": "CpUwiHJ0x0XU"
      },
      "execution_count": null,
      "outputs": []
    },
    {
      "cell_type": "code",
      "source": [
        "# 5a expresión: año"
      ],
      "metadata": {
        "id": "9CEqb1VIyh49"
      },
      "execution_count": null,
      "outputs": []
    },
    {
      "cell_type": "markdown",
      "source": [
        "## Extracción de fechas por nota"
      ],
      "metadata": {
        "id": "IrGXNjE-z9ae"
      }
    },
    {
      "cell_type": "markdown",
      "source": [
        "Hay que extraer las fechas de cada nota. Se tiene que quitar las notas conforme hagan match en el orden de las regex para que no haya coincidencias de mas de una.\n",
        "\n",
        "Para la primera expresión regular:\n",
        "\n",
        "\\b\\d{1,2}/\\d{1,2}/(?:\\d{4}|\\d{2})\\b\n",
        "\n",
        "se puede cambiar a: \\b0?\\d{1,2}/\\d{1,2}/(?:\\d{4}|\\d{2})\\b para que tomara el 011/......\n",
        "\n",
        "* verificar después que se arregle el 011"
      ],
      "metadata": {
        "id": "rsKnuuu7zWqj"
      }
    },
    {
      "cell_type": "code",
      "source": [
        "# lista para almacenar las coincidencias\n",
        "coincidencias_1 = []\n",
        "\n",
        "# expresión regular\n",
        "pattern = r'\\b\\d{1,2}[/|-]\\d{1,2}[/|-](?:\\d{4}|\\d{2})\\b'\n",
        "\n",
        "# lista para ir almacenando las líneas que no hiceron match/coincidencia\n",
        "lineas_sin_match = []\n",
        "\n",
        "# Iterar sobre la Serie\n",
        "for linea in df:\n",
        "    match = re.search(pattern, linea)\n",
        "    if match:\n",
        "        coincidencias_1.append(match.group(0))\n",
        "    else:\n",
        "        lineas_sin_match.append(linea)\n",
        "\n",
        "# Crear una nueva Serie con las líneas que no hicieron match\n",
        "df_actualizado = pd.Series(lineas_sin_match, name='linea')\n",
        "\n",
        "# Imprimir la Serie actualizada\n",
        "print(\"Serie actualizada:\", df_actualizado)"
      ],
      "metadata": {
        "colab": {
          "base_uri": "https://localhost:8080/"
        },
        "id": "nORHni80DCV9",
        "outputId": "a8fd2cb3-8c46-447a-e722-21ccce4d7a28"
      },
      "execution_count": null,
      "outputs": [
        {
          "output_type": "stream",
          "name": "stdout",
          "text": [
            "Serie actualizada: 0                     011/14/83 Audit C Score Current:\\n\n",
            "1      s The patient is a 44 year old married Caucasi...\n",
            "2      .10 Sep 2004 - Intake at EEC for IOP but did n...\n",
            "3      see above and APS eval of 26 May 1982 Social H...\n",
            "4      Tbooked for intake appointment at Sierra Vista...\n",
            "                             ...                        \n",
            "371    1979 Family Psych History: Family History of S...\n",
            "372    therapist and friend died in ~2006 Parental/Ca...\n",
            "373                         2008 partial thyroidectomy\\n\n",
            "374    sPt describes a history of sexual abuse as a c...\n",
            "375    . In 1980, patient was living in Naples and de...\n",
            "Name: linea, Length: 376, dtype: object\n"
          ]
        }
      ]
    },
    {
      "cell_type": "code",
      "source": [
        "coincidencias_1"
      ],
      "metadata": {
        "colab": {
          "base_uri": "https://localhost:8080/"
        },
        "id": "4LbRFMvkEYgD",
        "outputId": "5f09a7f6-5d70-456c-c671-f29aedb51fec"
      },
      "execution_count": null,
      "outputs": [
        {
          "output_type": "execute_result",
          "data": {
            "text/plain": [
              "['03/25/93',\n",
              " '6/18/85',\n",
              " '7/8/71',\n",
              " '9/27/75',\n",
              " '2/6/96',\n",
              " '7/06/79',\n",
              " '5/18/78',\n",
              " '10/24/89',\n",
              " '3/7/86',\n",
              " '4/10/71',\n",
              " '5/11/85',\n",
              " '4/09/75',\n",
              " '8/01/98',\n",
              " '1/26/72',\n",
              " '5/24/1990',\n",
              " '1/25/2011',\n",
              " '4/12/82',\n",
              " '10/13/1976',\n",
              " '4/24/98',\n",
              " '5/21/77',\n",
              " '7/21/98',\n",
              " '10/21/79',\n",
              " '3/03/90',\n",
              " '2/11/76',\n",
              " '07/25/1984',\n",
              " '4-13-82',\n",
              " '9/22/89',\n",
              " '9/02/76',\n",
              " '9/12/71',\n",
              " '10/24/86',\n",
              " '03/31/1985',\n",
              " '7/20/72',\n",
              " '4/12/87',\n",
              " '06/20/91',\n",
              " '5/12/2012',\n",
              " '3/15/83',\n",
              " '2/14/73',\n",
              " '5/24/88',\n",
              " '7/27/1986',\n",
              " '1-14-81',\n",
              " '7-29-75',\n",
              " '6/24/87',\n",
              " '8/14/94',\n",
              " '4/13/2002',\n",
              " '8/16/82',\n",
              " '2/15/1998',\n",
              " '7/15/91',\n",
              " '06/12/94',\n",
              " '9/17/84',\n",
              " '2/28/75',\n",
              " '11/22/75',\n",
              " '5/24/91',\n",
              " '6/13/92',\n",
              " '7/11/71',\n",
              " '12/26/86',\n",
              " '10/11/1987',\n",
              " '3/14/95',\n",
              " '12/01/73',\n",
              " '12/5/2010',\n",
              " '08/20/1982',\n",
              " '7/24/95',\n",
              " '8/06/83',\n",
              " '02/22/92',\n",
              " '6/28/87',\n",
              " '07/29/1994',\n",
              " '08/11/78',\n",
              " '10/29/91',\n",
              " '7/6/91',\n",
              " '1/21/87',\n",
              " '11/3/1985',\n",
              " '7/04/82',\n",
              " '4-13-89',\n",
              " '7/11/77',\n",
              " '4/12/74',\n",
              " '09/19/81',\n",
              " '9/6/79',\n",
              " '12/5/87',\n",
              " '01/05/1999',\n",
              " '4/22/80',\n",
              " '10/04/98',\n",
              " '6/29/81',\n",
              " '8/04/78',\n",
              " '7/07/1974',\n",
              " '09/14/2000',\n",
              " '5/18/71',\n",
              " '8/09/1981',\n",
              " '6/05/93',\n",
              " '8/9/97',\n",
              " '12/8/82',\n",
              " '8/26/89',\n",
              " '10/13/95',\n",
              " '4/19/91',\n",
              " '04/08/2004',\n",
              " '9/20/76',\n",
              " '12/08/1990',\n",
              " '4/11/1974',\n",
              " '7/18/86',\n",
              " '3/31/91',\n",
              " '5/13/72',\n",
              " '8/16/92',\n",
              " '10/05/97',\n",
              " '07/18/2002',\n",
              " '9/22/82',\n",
              " '2/24/74',\n",
              " '2/03/78',\n",
              " '2/11/2006',\n",
              " '8/22/83',\n",
              " '5/04/74',\n",
              " '7/20/2011',\n",
              " '6/17/95',\n",
              " '6/10/72',\n",
              " '10/16/82',\n",
              " '12/15/92',\n",
              " '12/8/97',\n",
              " '4/05/89',\n",
              " '12/04/87',\n",
              " '6/20/77',\n",
              " '4/27/2006',\n",
              " '07/17/92',\n",
              " '12/22/98',\n",
              " '10/02/96',\n",
              " '11/05/90',\n",
              " '5/04/77',\n",
              " '2/27/96']"
            ]
          },
          "metadata": {},
          "execution_count": 300
        }
      ]
    },
    {
      "cell_type": "code",
      "source": [
        "len(coincidencias_1)"
      ],
      "metadata": {
        "colab": {
          "base_uri": "https://localhost:8080/"
        },
        "id": "eANTJJRg8dvY",
        "outputId": "089a5f3f-5e61-4858-e062-b3a92e65f888"
      },
      "execution_count": null,
      "outputs": [
        {
          "output_type": "execute_result",
          "data": {
            "text/plain": [
              "124"
            ]
          },
          "metadata": {},
          "execution_count": 301
        }
      ]
    },
    {
      "cell_type": "markdown",
      "source": [
        "Vamos por la segunda expresión regular:\n",
        "\n",
        "\\b(?:Jan|Feb|Mar|Apr|May|Jun|Jul|Aug|Sep|Oct|Nov|Dec)[a-z]*[ .-]\\d{1,2}(?:[ ,-]\\s?\\d{4})?\\b"
      ],
      "metadata": {
        "id": "rHbHO4QSE3K9"
      }
    },
    {
      "cell_type": "code",
      "source": [
        "# lista para almacenar las coincidencias\n",
        "coincidencias_2 = []\n",
        "\n",
        "# expresión regular\n",
        "pattern = r'\\b(?:Jan|Feb|Mar|Apr|May|Jun|Jul|Aug|Sep|Oct|Nov|Dec)[a-z]*[ .-]\\d{1,2}(?:[ ,-]\\s?\\d{4})?\\b'\n",
        "\n",
        "# lista para ir almacenando las líneas que no hiceron match/coincidencia\n",
        "lineas_sin_match = []\n",
        "\n",
        "# Iterar sobre la Serie\n",
        "for linea in df_actualizado:\n",
        "    match = re.search(pattern, linea)\n",
        "    if match:\n",
        "        coincidencias_2.append(match.group(0))\n",
        "    else:\n",
        "        lineas_sin_match.append(linea)\n",
        "\n",
        "# Crear una nueva Serie con las líneas que no hicieron match\n",
        "df_actualizado_2 = pd.Series(lineas_sin_match, name='linea')\n",
        "\n",
        "# Imprimir la Serie actualizada\n",
        "print(\"Serie actualizada:\", df_actualizado_2)"
      ],
      "metadata": {
        "colab": {
          "base_uri": "https://localhost:8080/"
        },
        "id": "3l7qOMyXE1ln",
        "outputId": "b574000e-7d2d-4e67-c78a-deed2938e940"
      },
      "execution_count": null,
      "outputs": [
        {
          "output_type": "stream",
          "name": "stdout",
          "text": [
            "Serie actualizada: 0                     011/14/83 Audit C Score Current:\\n\n",
            "1      s The patient is a 44 year old married Caucasi...\n",
            "2      .10 Sep 2004 - Intake at EEC for IOP but did n...\n",
            "3      see above and APS eval of 26 May 1982 Social H...\n",
            "4      Tbooked for intake appointment at Sierra Vista...\n",
            "                             ...                        \n",
            "341    1979 Family Psych History: Family History of S...\n",
            "342    therapist and friend died in ~2006 Parental/Ca...\n",
            "343                         2008 partial thyroidectomy\\n\n",
            "344    sPt describes a history of sexual abuse as a c...\n",
            "345    . In 1980, patient was living in Naples and de...\n",
            "Name: linea, Length: 346, dtype: object\n"
          ]
        }
      ]
    },
    {
      "cell_type": "code",
      "source": [
        "coincidencias_2"
      ],
      "metadata": {
        "colab": {
          "base_uri": "https://localhost:8080/"
        },
        "id": "-TN-ckQ4E2fe",
        "outputId": "dab871b3-1f7a-41e1-b341-e73563c3fe9e"
      },
      "execution_count": null,
      "outputs": [
        {
          "output_type": "execute_result",
          "data": {
            "text/plain": [
              "['April 11, 1990',\n",
              " 'May 30, 2001',\n",
              " 'Feb 18, 1994',\n",
              " 'February 18, 1981',\n",
              " 'Jan 24 1986',\n",
              " 'July 26, 1978',\n",
              " 'December 23, 1999',\n",
              " 'May 15, 1989',\n",
              " 'September 06, 1995',\n",
              " 'Jan 27, 1983',\n",
              " 'October 23 1990',\n",
              " 'August 12 2004',\n",
              " 'September 01, 2012',\n",
              " 'July 25, 1983',\n",
              " 'August 11, 1989',\n",
              " 'April 17, 1992',\n",
              " 'July 24, 1999',\n",
              " 'July 11, 1997',\n",
              " 'August 14, 1981',\n",
              " 'Nov 11, 1988',\n",
              " 'June 13, 2011',\n",
              " 'May 14, 1989',\n",
              " 'Dec 14 1975',\n",
              " 'June 25, 2012',\n",
              " 'Oct 18, 1980',\n",
              " 'May 15, 1998',\n",
              " 'October 14 1974',\n",
              " 'July 25, 1998',\n",
              " 'June 15, 1972',\n",
              " 'January 07, 1991']"
            ]
          },
          "metadata": {},
          "execution_count": 303
        }
      ]
    },
    {
      "cell_type": "code",
      "source": [
        "len(coincidencias_2)"
      ],
      "metadata": {
        "colab": {
          "base_uri": "https://localhost:8080/"
        },
        "id": "nWvM3BsOE2bH",
        "outputId": "dd1363c9-4b89-4947-8fb8-1ed29624546f"
      },
      "execution_count": null,
      "outputs": [
        {
          "output_type": "execute_result",
          "data": {
            "text/plain": [
              "30"
            ]
          },
          "metadata": {},
          "execution_count": 304
        }
      ]
    },
    {
      "cell_type": "markdown",
      "source": [
        "Tercera expresión regular (esta como 2.1 porque hice una individual para los siguientes formatos de fechas):\n",
        "\n",
        "\\b\\d{1,2} (?:Jan|Feb|Mar|Apr|May|Jun|Jul|Aug|Sep|Oct|Nov|Dec)[a-z]*[ .,]*\\d{4}\\b"
      ],
      "metadata": {
        "id": "WUa10jqLGnt0"
      }
    },
    {
      "cell_type": "code",
      "source": [
        "# lista para almacenar las coincidencias\n",
        "coincidencias_3 = []\n",
        "\n",
        "# expresión regular\n",
        "pattern = r'\\b\\d{1,2} (?:Jan|Feb|Mar|Apr|May|Jun|Jul|Aug|Sep|Oct|Nov|Dec)[a-z]*[ .,]*\\d{4}\\b'\n",
        "\n",
        "# lista para ir almacenando las líneas que no hiceron match/coincidencia\n",
        "lineas_sin_match = []\n",
        "\n",
        "# Iterar sobre la Serie\n",
        "for linea in df_actualizado_2:\n",
        "    match = re.search(pattern, linea)\n",
        "    if match:\n",
        "        coincidencias_3.append(match.group(0))\n",
        "    else:\n",
        "        lineas_sin_match.append(linea)\n",
        "\n",
        "# Crear una nueva Serie con las líneas que no hicieron match\n",
        "df_actualizado_3 = pd.Series(lineas_sin_match, name='linea')\n",
        "\n",
        "# Imprimir la Serie actualizada\n",
        "print(\"Serie actualizada:\", df_actualizado_3)"
      ],
      "metadata": {
        "colab": {
          "base_uri": "https://localhost:8080/"
        },
        "id": "8qpIGBP9E2Wx",
        "outputId": "aba2be27-9c33-45e5-ba39-df8ca3c7a354"
      },
      "execution_count": null,
      "outputs": [
        {
          "output_type": "stream",
          "name": "stdout",
          "text": [
            "Serie actualizada: 0                     011/14/83 Audit C Score Current:\\n\n",
            "1      none; but currently has appt with new HJH PCP ...\n",
            "2      Mar. 10, 1976 CPT Code: 90791: No medical serv...\n",
            "3      s Gale Youngquist is a 22 yo single Caucasian ...\n",
            "4      September. 15, 2011 Total time of visit (in mi...\n",
            "                             ...                        \n",
            "272    1979 Family Psych History: Family History of S...\n",
            "273    therapist and friend died in ~2006 Parental/Ca...\n",
            "274                         2008 partial thyroidectomy\\n\n",
            "275    sPt describes a history of sexual abuse as a c...\n",
            "276    . In 1980, patient was living in Naples and de...\n",
            "Name: linea, Length: 277, dtype: object\n"
          ]
        }
      ]
    },
    {
      "cell_type": "code",
      "source": [
        "coincidencias_3"
      ],
      "metadata": {
        "colab": {
          "base_uri": "https://localhost:8080/"
        },
        "id": "vgcjfpfwHU20",
        "outputId": "11063ffd-ea3b-4a71-d140-1c50d7b20de5"
      },
      "execution_count": null,
      "outputs": [
        {
          "output_type": "execute_result",
          "data": {
            "text/plain": [
              "['24 Jan 2001',\n",
              " '10 Sep 2004',\n",
              " '26 May 1982',\n",
              " '28 June 2002',\n",
              " '06 May 1972',\n",
              " '25 Oct 1987',\n",
              " '14 Oct 1996',\n",
              " '30 Nov 2007',\n",
              " '28 June 1994',\n",
              " '14 Jan 1981',\n",
              " '10 Oct 1985',\n",
              " '11 February 1985',\n",
              " '10 Feb 1983',\n",
              " '05 Feb 1992',\n",
              " '21 Oct 2012',\n",
              " '14 Feb 1995',\n",
              " '30 May 2016',\n",
              " '22 Jan 1996',\n",
              " '14 Oct 1992',\n",
              " '06 Oct 2003',\n",
              " '18 Oct 1999',\n",
              " '11 Nov 2004',\n",
              " '30 May 2001',\n",
              " '02 Feb 1978',\n",
              " '09 Sep 1989',\n",
              " '12 March 1980',\n",
              " '22 June 1990',\n",
              " '28 Sep 2015',\n",
              " '13 Jan 1972',\n",
              " '06 Mar 1974',\n",
              " '10 Oct 1974',\n",
              " '26 May 1974',\n",
              " '10 Feb 1990',\n",
              " '23 Aug 2000',\n",
              " '26 May 2001',\n",
              " '21 Oct 2007',\n",
              " '19 Oct 2016',\n",
              " '05 Mar 1974',\n",
              " '29 Jan 1994',\n",
              " '21 Oct 1978',\n",
              " '18 August 1975',\n",
              " '11 Nov 1996',\n",
              " '01 Oct 1979',\n",
              " '13 Oct 1986',\n",
              " '21 Oct 1995',\n",
              " '24 Jan 2011',\n",
              " '04 Oct 1972',\n",
              " '23 Aug 1993',\n",
              " '18 Oct 2006',\n",
              " '04 Dec 1988',\n",
              " '21 Oct 1983',\n",
              " '26 May 2010',\n",
              " '18 Jan 1990',\n",
              " '15 Jun 1985',\n",
              " '10 Dec 1982',\n",
              " '09 Dec 1988',\n",
              " '18 August 1995',\n",
              " '13 June 1974',\n",
              " '26 May 2008',\n",
              " '11 Nov 2002',\n",
              " '17 Aug 1985',\n",
              " '13 Oct 2016',\n",
              " '14 Jan 2008',\n",
              " '12 March 2004',\n",
              " '21 Oct 1977',\n",
              " '10 Aug 2000',\n",
              " '30 Nov 1972',\n",
              " '06 May 1993',\n",
              " '18 Jan 1995']"
            ]
          },
          "metadata": {},
          "execution_count": 306
        }
      ]
    },
    {
      "cell_type": "code",
      "source": [
        "len(coincidencias_3)"
      ],
      "metadata": {
        "colab": {
          "base_uri": "https://localhost:8080/"
        },
        "id": "Jpz409LeHUyB",
        "outputId": "ac1b6043-c713-4bf0-b0ea-d473a3c5e2dc"
      },
      "execution_count": null,
      "outputs": [
        {
          "output_type": "execute_result",
          "data": {
            "text/plain": [
              "69"
            ]
          },
          "metadata": {},
          "execution_count": 307
        }
      ]
    },
    {
      "cell_type": "markdown",
      "source": [
        "Cuarta expresión regular (esta como la 3):\n",
        "\n",
        "\\b(?:Jan|Feb|Mar|Apr|May|Jun|Jul|Aug|Sep|Oct|Nov|Dec)[a-zA-Z]* \\d{1,2}(?:st|nd|rd|th)[, ]*\\d{4}\\b"
      ],
      "metadata": {
        "id": "wCfpc1svIAh1"
      }
    },
    {
      "cell_type": "code",
      "source": [
        "# lista para almacenar las coincidencias\n",
        "coincidencias_4 = []\n",
        "\n",
        "# expresión regular\n",
        "pattern = r'\\b(?:Jan|Feb|Mar|Apr|May|Jun|Jul|Aug|Sep|Oct|Nov|Dec)[a-zA-Z]* \\d{1,2}(?:st|nd|rd|th)[, ]*\\d{4}\\b'\n",
        "\n",
        "# lista para ir almacenando las líneas que no hiceron match/coincidencia\n",
        "lineas_sin_match = []\n",
        "\n",
        "# Iterar sobre la Serie\n",
        "for linea in df_actualizado_3:\n",
        "    match = re.search(pattern, linea)\n",
        "    if match:\n",
        "        coincidencias_4.append(match.group(0))\n",
        "    else:\n",
        "        lineas_sin_match.append(linea)\n",
        "\n",
        "# Crear una nueva Serie con las líneas que no hicieron match\n",
        "df_actualizado_4 = pd.Series(lineas_sin_match, name='linea')\n",
        "\n",
        "# Imprimir la Serie actualizada\n",
        "print(\"Serie actualizada:\", df_actualizado_4)"
      ],
      "metadata": {
        "colab": {
          "base_uri": "https://localhost:8080/"
        },
        "id": "3lMRzyM6HUuY",
        "outputId": "1699e51f-e4d3-486f-a55c-08a38c891bee"
      },
      "execution_count": null,
      "outputs": [
        {
          "output_type": "stream",
          "name": "stdout",
          "text": [
            "Serie actualizada: 0                     011/14/83 Audit C Score Current:\\n\n",
            "1      none; but currently has appt with new HJH PCP ...\n",
            "2      Mar. 10, 1976 CPT Code: 90791: No medical serv...\n",
            "3      s Gale Youngquist is a 22 yo single Caucasian ...\n",
            "4      September. 15, 2011 Total time of visit (in mi...\n",
            "                             ...                        \n",
            "272    1979 Family Psych History: Family History of S...\n",
            "273    therapist and friend died in ~2006 Parental/Ca...\n",
            "274                         2008 partial thyroidectomy\\n\n",
            "275    sPt describes a history of sexual abuse as a c...\n",
            "276    . In 1980, patient was living in Naples and de...\n",
            "Name: linea, Length: 277, dtype: object\n"
          ]
        }
      ]
    },
    {
      "cell_type": "code",
      "source": [
        "len(coincidencias_4)"
      ],
      "metadata": {
        "colab": {
          "base_uri": "https://localhost:8080/"
        },
        "id": "cx7bOaQRHUqe",
        "outputId": "c62f4a00-7ed6-4ae5-d29b-bdf1fcce3e1e"
      },
      "execution_count": null,
      "outputs": [
        {
          "output_type": "execute_result",
          "data": {
            "text/plain": [
              "0"
            ]
          },
          "metadata": {},
          "execution_count": 309
        }
      ]
    },
    {
      "cell_type": "markdown",
      "source": [
        "Quinta expresión regular (esta como la 4):\n",
        "\n",
        "\\b(?:Jan|Feb|Mar|Apr|May|Jun|Jul|Aug|Sep|Oct|Nov|Dec) \\d{4}\\b|\\b\\d{1,2}/\\d{4}\\b"
      ],
      "metadata": {
        "id": "raR5Q7_pIwqD"
      }
    },
    {
      "cell_type": "code",
      "source": [
        "# lista para almacenar las coincidencias\n",
        "coincidencias_5 = []\n",
        "\n",
        "# expresión regular\n",
        "pattern = r'\\b(?:Jan|Feb|Mar|Apr|May|Jun|Jul|Aug|Sep|Oct|Nov|Dec) \\d{4}\\b|\\b\\d{1,2}/\\d{4}\\b'\n",
        "\n",
        "# lista para ir almacenando las líneas que no hiceron match/coincidencia\n",
        "lineas_sin_match = []\n",
        "\n",
        "# Iterar sobre la Serie\n",
        "for linea in df_actualizado_4:\n",
        "    match = re.search(pattern, linea)\n",
        "    if match:\n",
        "        coincidencias_5.append(match.group(0))\n",
        "    else:\n",
        "        lineas_sin_match.append(linea)\n",
        "\n",
        "# Crear una nueva Serie con las líneas que no hicieron match\n",
        "df_actualizado_5 = pd.Series(lineas_sin_match, name='linea')\n",
        "\n",
        "# Imprimir la Serie actualizada\n",
        "print(\"Serie actualizada:\", df_actualizado_5)"
      ],
      "metadata": {
        "colab": {
          "base_uri": "https://localhost:8080/"
        },
        "id": "qwTS9xXkHUmP",
        "outputId": "0808f217-2ea8-412e-ad2d-e59381a22190"
      },
      "execution_count": null,
      "outputs": [
        {
          "output_type": "stream",
          "name": "stdout",
          "text": [
            "Serie actualizada: 0                     011/14/83 Audit C Score Current:\\n\n",
            "1      none; but currently has appt with new HJH PCP ...\n",
            "2      Mar. 10, 1976 CPT Code: 90791: No medical serv...\n",
            "3      s Gale Youngquist is a 22 yo single Caucasian ...\n",
            "4      September. 15, 2011 Total time of visit (in mi...\n",
            "                             ...                        \n",
            "120    1979 Family Psych History: Family History of S...\n",
            "121    therapist and friend died in ~2006 Parental/Ca...\n",
            "122                         2008 partial thyroidectomy\\n\n",
            "123    sPt describes a history of sexual abuse as a c...\n",
            "124    . In 1980, patient was living in Naples and de...\n",
            "Name: linea, Length: 125, dtype: object\n"
          ]
        }
      ]
    },
    {
      "cell_type": "code",
      "source": [
        "coincidencias_5"
      ],
      "metadata": {
        "colab": {
          "base_uri": "https://localhost:8080/"
        },
        "id": "bhyRu8uXHUiR",
        "outputId": "8ff3754f-2fa5-4d45-cec8-de8da66a57f7"
      },
      "execution_count": null,
      "outputs": [
        {
          "output_type": "execute_result",
          "data": {
            "text/plain": [
              "['May 1986',\n",
              " 'May 2016',\n",
              " 'Jul 2003',\n",
              " 'May 1995',\n",
              " 'Feb 1978',\n",
              " 'May 2004',\n",
              " 'Nov 2010',\n",
              " 'Sep 2012',\n",
              " 'May 1983',\n",
              " 'May 2005',\n",
              " 'Jan 2007',\n",
              " 'Feb 2016',\n",
              " 'Oct 2014',\n",
              " 'Sep 2015',\n",
              " 'Apr 1976',\n",
              " 'Nov 1979',\n",
              " 'Oct 1986',\n",
              " 'Jun 2002',\n",
              " 'Oct 1980',\n",
              " 'Dec 2009',\n",
              " 'Feb 1993',\n",
              " 'Apr 2007',\n",
              " 'Sep 2013',\n",
              " 'May 2012',\n",
              " 'Jan 1987',\n",
              " 'Mar 2010',\n",
              " 'Sep 2007',\n",
              " 'Jan 2004',\n",
              " 'Aug 1979',\n",
              " 'Jan 2009',\n",
              " 'Dec 1992',\n",
              " 'Mar 2002',\n",
              " 'Feb 2000',\n",
              " 'Feb 1994',\n",
              " 'Oct 1992',\n",
              " 'Jun 1976',\n",
              " 'May 2011',\n",
              " 'Jan 1978',\n",
              " 'Jun 2007',\n",
              " 'Dec 2007',\n",
              " 'May 1980',\n",
              " 'Nov 2007',\n",
              " '6/1998',\n",
              " '6/2005',\n",
              " '10/1973',\n",
              " '9/2005',\n",
              " '03/1980',\n",
              " '12/2005',\n",
              " '5/1987',\n",
              " '5/2004',\n",
              " '8/1974',\n",
              " '3/1986',\n",
              " '10/1997',\n",
              " '3/1993',\n",
              " '3/1981',\n",
              " '9/2003',\n",
              " '10/1993',\n",
              " '1/1983',\n",
              " '7/1994',\n",
              " '12/2008',\n",
              " '10/1980',\n",
              " '8/2003',\n",
              " '12/1975',\n",
              " '11/2010',\n",
              " '7/1997',\n",
              " '7/2014',\n",
              " '9/2001',\n",
              " '8/1986',\n",
              " '1/1978',\n",
              " '9/1975',\n",
              " '1/2009',\n",
              " '5/1995',\n",
              " '8/1989',\n",
              " '11/2000',\n",
              " '06/1973',\n",
              " '2/1999',\n",
              " '6/2001',\n",
              " '12/1978',\n",
              " '8/2009',\n",
              " '7/1973',\n",
              " '1/2014',\n",
              " '09/1975',\n",
              " '12/2012',\n",
              " '5/1999',\n",
              " '7/1989',\n",
              " '7/2009',\n",
              " '11/1998',\n",
              " '3/1995',\n",
              " '2/2009',\n",
              " '08/1988',\n",
              " '4/2007',\n",
              " '5/2000',\n",
              " '4/2012',\n",
              " '10/2001',\n",
              " '2/1977',\n",
              " '8/2008',\n",
              " '2/1983',\n",
              " '5/1979',\n",
              " '1/1992',\n",
              " '11/2008',\n",
              " '12/2014',\n",
              " '4/1974',\n",
              " '10/1981',\n",
              " '10/1986',\n",
              " '03/1973',\n",
              " '12/1994',\n",
              " '8/1999',\n",
              " '10/2010',\n",
              " '10/1994',\n",
              " '01/2007',\n",
              " '8/2010',\n",
              " '03/1990',\n",
              " '11/2016',\n",
              " '2/1973',\n",
              " '7/1987',\n",
              " '8/2000',\n",
              " '8/1975',\n",
              " '5/1977',\n",
              " '3/2000',\n",
              " '9/1984',\n",
              " '4/1973',\n",
              " '12/1986',\n",
              " '4/1979',\n",
              " '7/2004',\n",
              " '11/1984',\n",
              " '5/2016',\n",
              " '11/1982',\n",
              " '06/1981',\n",
              " '4/2013',\n",
              " '4/1999',\n",
              " '5/2006',\n",
              " '10/1978',\n",
              " '12/1989',\n",
              " '2/1974',\n",
              " '11/1986',\n",
              " '4/1983',\n",
              " '10/2014',\n",
              " '6/1989',\n",
              " '9/1980',\n",
              " '9/1992',\n",
              " '9/2000',\n",
              " '7/1981',\n",
              " '1/2008',\n",
              " '4/2002',\n",
              " '7/1985',\n",
              " '5/2010',\n",
              " '8/2002',\n",
              " '1/1994',\n",
              " '12/2004',\n",
              " '3/2003',\n",
              " '7/1991',\n",
              " '7/1982']"
            ]
          },
          "metadata": {},
          "execution_count": 311
        }
      ]
    },
    {
      "cell_type": "code",
      "source": [
        "len(coincidencias_5)"
      ],
      "metadata": {
        "colab": {
          "base_uri": "https://localhost:8080/"
        },
        "id": "-C8Po5sJE2Q7",
        "outputId": "e687287f-d2b7-468a-b76d-5b62b2913a26"
      },
      "execution_count": null,
      "outputs": [
        {
          "output_type": "execute_result",
          "data": {
            "text/plain": [
              "152"
            ]
          },
          "metadata": {},
          "execution_count": 312
        }
      ]
    },
    {
      "cell_type": "markdown",
      "source": [
        "Sexta expresión regular (esta como la 5):\n",
        "\n",
        "\\b\\d{4}\\b\n",
        "\n",
        "Esto coincidió con el número 7787 así que lo voy a modificar a \\b(?!7787)\\d{4}\\b para que no lo tome"
      ],
      "metadata": {
        "id": "LeWFNEdfKLFO"
      }
    },
    {
      "cell_type": "code",
      "source": [
        "# lista para almacenar las coincidencias\n",
        "coincidencias_6 = []\n",
        "\n",
        "# expresión regular\n",
        "pattern = r'\\b(?!7787)\\d{4}\\b'\n",
        "\n",
        "# lista para ir almacenando las líneas que no hiceron match/coincidencia\n",
        "lineas_sin_match = []\n",
        "\n",
        "# Iterar sobre la Serie\n",
        "for linea in df_actualizado_5:\n",
        "    match = re.search(pattern, linea)\n",
        "    if match:\n",
        "        coincidencias_6.append(match.group(0))\n",
        "    else:\n",
        "        lineas_sin_match.append(linea)\n",
        "\n",
        "# Crear una nueva Serie con las líneas que no hicieron match\n",
        "df_actualizado_6 = pd.Series(lineas_sin_match, name='linea')\n",
        "\n",
        "# Imprimir la Serie actualizada\n",
        "print(\"Serie actualizada:\", df_actualizado_6)"
      ],
      "metadata": {
        "colab": {
          "base_uri": "https://localhost:8080/"
        },
        "id": "392ochPNKCeg",
        "outputId": "8389b6af-0526-46e9-df31-d1d698563426"
      },
      "execution_count": null,
      "outputs": [
        {
          "output_type": "stream",
          "name": "stdout",
          "text": [
            "Serie actualizada: 0                   011/14/83 Audit C Score Current:\\n\n",
            "1                   s1981  Swedish-American Hospital\\n\n",
            "2    y1983 Clinic Hospital, first hospitalization, ...\n",
            "3                                        y1974 (all)\\n\n",
            "4                                              r1978\\n\n",
            "Name: linea, dtype: object\n"
          ]
        }
      ]
    },
    {
      "cell_type": "code",
      "source": [
        "coincidencias_6"
      ],
      "metadata": {
        "colab": {
          "base_uri": "https://localhost:8080/"
        },
        "id": "xW1Br4ARKCaR",
        "outputId": "41d014ab-8551-42b5-8ca1-ccbd7e6dba85"
      },
      "execution_count": null,
      "outputs": [
        {
          "output_type": "execute_result",
          "data": {
            "text/plain": [
              "['2013',\n",
              " '1976',\n",
              " '1974',\n",
              " '2011',\n",
              " '1985',\n",
              " '2011',\n",
              " '1977',\n",
              " '1990',\n",
              " '2015',\n",
              " '1976',\n",
              " '1995',\n",
              " '2011',\n",
              " '2013',\n",
              " '1990',\n",
              " '1981',\n",
              " '1995',\n",
              " '1993',\n",
              " '1998',\n",
              " '1979',\n",
              " '1988',\n",
              " '2000',\n",
              " '1981',\n",
              " '2007',\n",
              " '1989',\n",
              " '1999',\n",
              " '1992',\n",
              " '2006',\n",
              " '2008',\n",
              " '2010',\n",
              " '1985',\n",
              " '1984',\n",
              " '1986',\n",
              " '1974',\n",
              " '1985',\n",
              " '2004',\n",
              " '1977',\n",
              " '1983',\n",
              " '2013',\n",
              " '2009',\n",
              " '2011',\n",
              " '1995',\n",
              " '2008',\n",
              " '1983',\n",
              " '1983',\n",
              " '1993',\n",
              " '1974',\n",
              " '1994',\n",
              " '2004',\n",
              " '1977',\n",
              " '2004',\n",
              " '2006',\n",
              " '1977',\n",
              " '1995',\n",
              " '1989',\n",
              " '1978',\n",
              " '2007',\n",
              " '1975',\n",
              " '1975',\n",
              " '2012',\n",
              " '1999',\n",
              " '1991',\n",
              " '1973',\n",
              " '1996',\n",
              " '1995',\n",
              " '1999',\n",
              " '2001',\n",
              " '2000',\n",
              " '1988',\n",
              " '1993',\n",
              " '1974',\n",
              " '1997',\n",
              " '1986',\n",
              " '1973',\n",
              " '1978',\n",
              " '1998',\n",
              " '2005',\n",
              " '1976',\n",
              " '2004',\n",
              " '2007',\n",
              " '1984',\n",
              " '2000',\n",
              " '2001',\n",
              " '1982',\n",
              " '1998',\n",
              " '2012',\n",
              " '1991',\n",
              " '1988',\n",
              " '2014',\n",
              " '2016',\n",
              " '1976',\n",
              " '2011',\n",
              " '1997',\n",
              " '2003',\n",
              " '1999',\n",
              " '2010',\n",
              " '1975',\n",
              " '1972',\n",
              " '2015',\n",
              " '1989',\n",
              " '1994',\n",
              " '1993',\n",
              " '1996',\n",
              " '2013',\n",
              " '1990',\n",
              " '1995',\n",
              " '2004',\n",
              " '1987',\n",
              " '1973',\n",
              " '1992',\n",
              " '1977',\n",
              " '1985',\n",
              " '2007',\n",
              " '2009',\n",
              " '1986',\n",
              " '2002',\n",
              " '1979',\n",
              " '2006',\n",
              " '2008',\n",
              " '2005',\n",
              " '1980']"
            ]
          },
          "metadata": {},
          "execution_count": 345
        }
      ]
    },
    {
      "cell_type": "code",
      "source": [
        "len(coincidencias_6)"
      ],
      "metadata": {
        "colab": {
          "base_uri": "https://localhost:8080/"
        },
        "id": "5sy6216XKCWL",
        "outputId": "b80c4359-7ece-4948-dc01-857c511a063f"
      },
      "execution_count": null,
      "outputs": [
        {
          "output_type": "execute_result",
          "data": {
            "text/plain": [
              "120"
            ]
          },
          "metadata": {},
          "execution_count": 346
        }
      ]
    },
    {
      "cell_type": "code",
      "source": [
        "df_actualizado_6"
      ],
      "metadata": {
        "colab": {
          "base_uri": "https://localhost:8080/"
        },
        "id": "YVZJQ_b9Mu6c",
        "outputId": "8e62d4b8-951f-49cc-fc57-b83af1f8e5a3"
      },
      "execution_count": null,
      "outputs": [
        {
          "output_type": "execute_result",
          "data": {
            "text/plain": [
              "0                   011/14/83 Audit C Score Current:\\n\n",
              "1                   s1981  Swedish-American Hospital\\n\n",
              "2    y1983 Clinic Hospital, first hospitalization, ...\n",
              "3                                        y1974 (all)\\n\n",
              "4                                              r1978\\n\n",
              "Name: linea, dtype: object"
            ]
          },
          "metadata": {},
          "execution_count": 347
        }
      ]
    },
    {
      "cell_type": "markdown",
      "source": [
        "Para estas ultimas notas voy a crear una nueva expresion\n",
        "\n",
        "* verificar que estos años se escriban después correctamente"
      ],
      "metadata": {
        "id": "GegiKoQ0bNgA"
      }
    },
    {
      "cell_type": "code",
      "source": [
        "# lista para almacenar las coincidencias\n",
        "coincidencias_7 = []\n",
        "\n",
        "# expresión regular\n",
        "pattern = r'\\b[a-z]\\d{4}\\b'\n",
        "\n",
        "# lista para ir almacenando las líneas que no hiceron match/coincidencia\n",
        "lineas_sin_match = []\n",
        "\n",
        "# Iterar sobre la Serie\n",
        "for linea in df_actualizado_6:\n",
        "    match = re.search(pattern, linea)\n",
        "    if match:\n",
        "        coincidencias_7.append(match.group(0))\n",
        "    else:\n",
        "        lineas_sin_match.append(linea)\n",
        "\n",
        "# Crear una nueva Serie con las líneas que no hicieron match\n",
        "df_actualizado_7 = pd.Series(lineas_sin_match, name='linea')\n",
        "\n",
        "# Imprimir la Serie actualizada\n",
        "print(\"Serie actualizada:\", df_actualizado_7)"
      ],
      "metadata": {
        "colab": {
          "base_uri": "https://localhost:8080/"
        },
        "id": "XNGDU-DyMu0W",
        "outputId": "b92f4f62-5907-486d-b0af-9184180ced78"
      },
      "execution_count": null,
      "outputs": [
        {
          "output_type": "stream",
          "name": "stdout",
          "text": [
            "Serie actualizada: 0    011/14/83 Audit C Score Current:\\n\n",
            "Name: linea, dtype: object\n"
          ]
        }
      ]
    },
    {
      "cell_type": "code",
      "source": [
        "coincidencias_7"
      ],
      "metadata": {
        "colab": {
          "base_uri": "https://localhost:8080/"
        },
        "id": "XIvr6JxhMut3",
        "outputId": "9b1719cc-1c16-4b64-9aff-d65c11000f1c"
      },
      "execution_count": null,
      "outputs": [
        {
          "output_type": "execute_result",
          "data": {
            "text/plain": [
              "['s1981', 'y1983', 'y1974', 'r1978']"
            ]
          },
          "metadata": {},
          "execution_count": 349
        }
      ]
    },
    {
      "cell_type": "markdown",
      "source": [
        "Falta la fecha de una sóla nota, como no quiero que me cause problemas al ordenar la voy a agregar yo, no es lo recomendable.\n",
        "\n",
        "O puedo usar la regex que tome la fecha con el 011 y luego pedir que modifique ese 011 a 11"
      ],
      "metadata": {
        "id": "zVddYgjInL7u"
      }
    },
    {
      "cell_type": "code",
      "source": [
        "nueva_fecha = '11/14/83'\n",
        "coincidencias_1.append(nueva_fecha)"
      ],
      "metadata": {
        "id": "Sf1Bu1vLnLnM"
      },
      "execution_count": null,
      "outputs": []
    },
    {
      "cell_type": "code",
      "source": [
        "len(coincidencias_1)"
      ],
      "metadata": {
        "colab": {
          "base_uri": "https://localhost:8080/"
        },
        "id": "H2wTtxR_oYd1",
        "outputId": "6cda0c47-2ddf-4eb1-ef5c-1a7546d5d109"
      },
      "execution_count": null,
      "outputs": [
        {
          "output_type": "execute_result",
          "data": {
            "text/plain": [
              "125"
            ]
          },
          "metadata": {},
          "execution_count": 320
        }
      ]
    },
    {
      "cell_type": "code",
      "source": [
        "nuevas_fechas = ['1981', '1983', '1974', '1978']\n",
        "coincidencias_6.extend(nuevas_fechas)"
      ],
      "metadata": {
        "id": "0TBh_VaBwl16"
      },
      "execution_count": null,
      "outputs": []
    },
    {
      "cell_type": "code",
      "source": [
        "len(coincidencias_6)"
      ],
      "metadata": {
        "colab": {
          "base_uri": "https://localhost:8080/"
        },
        "id": "Sz2x0PBgw4QV",
        "outputId": "85d161cd-7b0d-4d1e-b4d7-732f713a5e79"
      },
      "execution_count": null,
      "outputs": [
        {
          "output_type": "execute_result",
          "data": {
            "text/plain": [
              "124"
            ]
          },
          "metadata": {},
          "execution_count": 351
        }
      ]
    },
    {
      "cell_type": "markdown",
      "source": [
        "Veamos que todas las coincidencias suman 500:"
      ],
      "metadata": {
        "id": "Z-R8hUdRg0OA"
      }
    },
    {
      "cell_type": "code",
      "source": [
        "len(coincidencias_1)+len(coincidencias_2)+len(coincidencias_3)+len(coincidencias_4)+len(coincidencias_5)+len(coincidencias_6)#+len(coincidencias_7)"
      ],
      "metadata": {
        "colab": {
          "base_uri": "https://localhost:8080/"
        },
        "id": "95OqJbG6KCRo",
        "outputId": "f42ef2a2-e9a5-4eba-dc50-6d0d48257282"
      },
      "execution_count": null,
      "outputs": [
        {
          "output_type": "execute_result",
          "data": {
            "text/plain": [
              "500"
            ]
          },
          "metadata": {},
          "execution_count": 353
        }
      ]
    },
    {
      "cell_type": "markdown",
      "source": [
        "El siguiente es para hacer todo lo anterior en una celda. Aún no lo pruebo."
      ],
      "metadata": {
        "id": "QOr08p8Ig6br"
      }
    },
    {
      "cell_type": "markdown",
      "source": [
        "\n",
        "\n",
        "```\n",
        "\n",
        "# lista para almacenar las coincidencias\n",
        "coincidencias = []\n",
        "\n",
        "# Lista de expresiones regulares\n",
        "pattern_list = [r'regex1', r'regex2', r'regex3', r'regex4', r'regex5', r'regex6']\n",
        "\n",
        "# lista para ir almacenando las líneas que no hiceron match/coincidencia\n",
        "lineas_sin_match = []\n",
        "\n",
        "# Iterar sobre la Serie\n",
        "for linea in df:\n",
        "  # Iterar sobre la lista de expresiones regulares\n",
        "  for pattern in pattern_list:\n",
        "    match = re.search(pattern, linea)\n",
        "    if match:\n",
        "        coincidencias.append(match.group(0))\n",
        "    else:\n",
        "        lineas_sin_match.append(linea)\n",
        "\n",
        "# Crear una nueva Serie con las líneas que no hicieron match\n",
        "df_actualizado = pd.Series(lineas_sin_match, name='linea')\n",
        "\n",
        "# Imprimir la Serie actualizada\n",
        "print(\"Serie actualizada:\", df_actualizado)\n",
        "\n",
        "print(coincidencias)\n",
        "\n",
        "```"
      ],
      "metadata": {
        "id": "_RJjlcM6fhF3"
      }
    },
    {
      "cell_type": "markdown",
      "source": [
        "## Orden cronológico de fechas"
      ],
      "metadata": {
        "id": "6U4fDIyXjEjU"
      }
    },
    {
      "cell_type": "markdown",
      "source": [
        "Una vez que haya extraído estos patrones de fecha del texto, el siguiente paso es clasificarlos en orden cronológico ascendente de acuerdo con las siguientes reglas:\n",
        "\n",
        "*  Todas las fechas están en formato xx/xx/ xx son mm/dd/aa\n",
        "*  Todas las fechas en las que el año está codificado en solo dos dígitos corresponden a años posteriores a la década de 1900 (p. Ej., 1/5/89 es el 5 de enero de 1989).\n",
        "*  Si falta el día (p. Ej., 9/2009), suponga que es el primer día del mes (p. Ej., septiembre, 1 de 2009).\n",
        "*  Si falta el mes (por ejemplo, 2010), suponga que es el primero de enero de ese año (p. Ej., enero, 1 de 2010).\n",
        "*  Tenga cuidado con los posibles errores tipográficos, ya que este es un conjunto de datos derivados de la vida real.\n",
        "\n",
        "Esta función debería devolver una lista de longitud 500."
      ],
      "metadata": {
        "id": "dvjuI0GqCDaw"
      }
    },
    {
      "cell_type": "code",
      "source": [
        "type(coincidencias_1)"
      ],
      "metadata": {
        "id": "5XGbHwTfCCB5",
        "colab": {
          "base_uri": "https://localhost:8080/"
        },
        "outputId": "5dce5eb6-5816-4ed8-bf4c-631224d821f0"
      },
      "execution_count": null,
      "outputs": [
        {
          "output_type": "execute_result",
          "data": {
            "text/plain": [
              "list"
            ]
          },
          "metadata": {},
          "execution_count": 294
        }
      ]
    },
    {
      "cell_type": "code",
      "source": [
        "from datetime import datetime\n",
        "\n",
        "# Como tengo una lista de strings\n",
        "# Convertir los strings en objetos de fecha\n",
        "fechas = []\n",
        "for fecha_str in coincidencias_1:\n",
        "    try:\n",
        "        fecha = datetime.strptime(fecha_str, '%m/%d/%y')\n",
        "    except ValueError:\n",
        "        try:\n",
        "            fecha = datetime.strptime(fecha_str, '%m/%d/%Y')\n",
        "        except ValueError:\n",
        "            try:\n",
        "                fecha = datetime.strptime(fecha_str, '%m-%d-%y')\n",
        "            except ValueError:\n",
        "                fecha = datetime.strptime(fecha_str, '%m-%d-%Y')\n",
        "    fechas.append(fecha)\n",
        "\n",
        "# Ordenar las fechas cronológicamente\n",
        "fechas_ordenadas_1 = sorted(fechas)\n",
        "\n",
        "# Imprimir las fechas ordenadas en formato deseado\n",
        "for fecha in fechas_ordenadas_1:\n",
        "    print(fecha.strftime('%m/%d/%Y'))\n"
      ],
      "metadata": {
        "colab": {
          "base_uri": "https://localhost:8080/"
        },
        "id": "LH0YiLgblepw",
        "outputId": "715cb56f-b96b-4542-cecd-0b662c6db416"
      },
      "execution_count": null,
      "outputs": [
        {
          "output_type": "stream",
          "name": "stdout",
          "text": [
            "04/10/1971\n",
            "05/18/1971\n",
            "07/08/1971\n",
            "07/11/1971\n",
            "09/12/1971\n",
            "01/26/1972\n",
            "05/13/1972\n",
            "06/10/1972\n",
            "07/20/1972\n",
            "02/14/1973\n",
            "12/01/1973\n",
            "02/24/1974\n",
            "04/11/1974\n",
            "04/12/1974\n",
            "05/04/1974\n",
            "07/07/1974\n",
            "02/28/1975\n",
            "04/09/1975\n",
            "07/29/1975\n",
            "09/27/1975\n",
            "11/22/1975\n",
            "02/11/1976\n",
            "09/02/1976\n",
            "09/20/1976\n",
            "10/13/1976\n",
            "05/04/1977\n",
            "05/21/1977\n",
            "06/20/1977\n",
            "07/11/1977\n",
            "02/03/1978\n",
            "05/18/1978\n",
            "08/04/1978\n",
            "08/11/1978\n",
            "07/06/1979\n",
            "09/06/1979\n",
            "10/21/1979\n",
            "04/22/1980\n",
            "01/14/1981\n",
            "06/29/1981\n",
            "08/09/1981\n",
            "09/19/1981\n",
            "04/12/1982\n",
            "04/13/1982\n",
            "07/04/1982\n",
            "08/16/1982\n",
            "08/20/1982\n",
            "09/22/1982\n",
            "10/16/1982\n",
            "12/08/1982\n",
            "03/15/1983\n",
            "08/06/1983\n",
            "08/22/1983\n",
            "11/14/1983\n",
            "07/25/1984\n",
            "09/17/1984\n",
            "03/31/1985\n",
            "05/11/1985\n",
            "06/18/1985\n",
            "11/03/1985\n",
            "03/07/1986\n",
            "07/18/1986\n",
            "07/27/1986\n",
            "10/24/1986\n",
            "12/26/1986\n",
            "01/21/1987\n",
            "04/12/1987\n",
            "06/24/1987\n",
            "06/28/1987\n",
            "10/11/1987\n",
            "12/04/1987\n",
            "12/05/1987\n",
            "05/24/1988\n",
            "04/05/1989\n",
            "04/13/1989\n",
            "08/26/1989\n",
            "09/22/1989\n",
            "10/24/1989\n",
            "03/03/1990\n",
            "05/24/1990\n",
            "11/05/1990\n",
            "12/08/1990\n",
            "03/31/1991\n",
            "04/19/1991\n",
            "05/24/1991\n",
            "06/20/1991\n",
            "07/06/1991\n",
            "07/15/1991\n",
            "10/29/1991\n",
            "02/22/1992\n",
            "06/13/1992\n",
            "07/17/1992\n",
            "08/16/1992\n",
            "12/15/1992\n",
            "03/25/1993\n",
            "06/05/1993\n",
            "06/12/1994\n",
            "07/29/1994\n",
            "08/14/1994\n",
            "03/14/1995\n",
            "06/17/1995\n",
            "07/24/1995\n",
            "10/13/1995\n",
            "02/06/1996\n",
            "02/27/1996\n",
            "10/02/1996\n",
            "08/09/1997\n",
            "10/05/1997\n",
            "12/08/1997\n",
            "02/15/1998\n",
            "04/24/1998\n",
            "07/21/1998\n",
            "08/01/1998\n",
            "10/04/1998\n",
            "12/22/1998\n",
            "01/05/1999\n",
            "09/14/2000\n",
            "04/13/2002\n",
            "07/18/2002\n",
            "04/08/2004\n",
            "02/11/2006\n",
            "04/27/2006\n",
            "12/05/2010\n",
            "01/25/2011\n",
            "07/20/2011\n",
            "05/12/2012\n"
          ]
        }
      ]
    },
    {
      "cell_type": "code",
      "source": [
        "len(fechas_ordenadas_1)"
      ],
      "metadata": {
        "colab": {
          "base_uri": "https://localhost:8080/"
        },
        "id": "oDxxlhsguElw",
        "outputId": "8221c223-65c5-4ab4-e121-7482531a294d"
      },
      "execution_count": null,
      "outputs": [
        {
          "output_type": "execute_result",
          "data": {
            "text/plain": [
              "125"
            ]
          },
          "metadata": {},
          "execution_count": 333
        }
      ]
    },
    {
      "cell_type": "code",
      "source": [
        "# esto es para fechas sin guiones ejem: mm-dd-aaaa\n",
        "\n",
        "# Como tengo una lista de strings\n",
        "# Convertir los strings en objetos de fecha\n",
        "fechas = []\n",
        "for fecha_str in coincidencias_2:\n",
        "    try:\n",
        "        fecha = datetime.strptime(fecha_str, '%b %d %Y')\n",
        "    except ValueError:\n",
        "        try:\n",
        "            fecha = datetime.strptime(fecha_str, '%b %d, %Y')\n",
        "        except ValueError:\n",
        "            try:\n",
        "                fecha = datetime.strptime(fecha_str, '%B %d, %Y')\n",
        "            except ValueError:\n",
        "                try:\n",
        "                    fecha = datetime.strptime(fecha_str, '%b. %d, %Y')\n",
        "                except ValueError:\n",
        "                    fecha = datetime.strptime(fecha_str, '%B %d %Y')\n",
        "    fechas.append(fecha)\n",
        "\n",
        "# Ordenar las fechas cronológicamente\n",
        "fechas_ordenadas_2 = sorted(fechas)\n",
        "\n",
        "# Imprimir las fechas ordenadas en formato deseado\n",
        "for fecha in fechas_ordenadas_2:\n",
        "    print(fecha.strftime('%m/%d/%Y'))"
      ],
      "metadata": {
        "colab": {
          "base_uri": "https://localhost:8080/"
        },
        "id": "mlqxQIdoqG4t",
        "outputId": "bb272577-6424-4074-ed53-32b1eb65ff29"
      },
      "execution_count": null,
      "outputs": [
        {
          "output_type": "stream",
          "name": "stdout",
          "text": [
            "06/15/1972\n",
            "10/14/1974\n",
            "12/14/1975\n",
            "07/26/1978\n",
            "10/18/1980\n",
            "02/18/1981\n",
            "08/14/1981\n",
            "01/27/1983\n",
            "07/25/1983\n",
            "01/24/1986\n",
            "11/11/1988\n",
            "05/14/1989\n",
            "05/15/1989\n",
            "08/11/1989\n",
            "04/11/1990\n",
            "10/23/1990\n",
            "01/07/1991\n",
            "04/17/1992\n",
            "02/18/1994\n",
            "09/06/1995\n",
            "07/11/1997\n",
            "05/15/1998\n",
            "07/25/1998\n",
            "07/24/1999\n",
            "12/23/1999\n",
            "05/30/2001\n",
            "08/12/2004\n",
            "06/13/2011\n",
            "06/25/2012\n",
            "09/01/2012\n"
          ]
        }
      ]
    },
    {
      "cell_type": "code",
      "source": [
        "len(fechas_ordenadas_2)"
      ],
      "metadata": {
        "colab": {
          "base_uri": "https://localhost:8080/"
        },
        "id": "DG9pWtJouDOF",
        "outputId": "957ea1cb-8c85-43d9-e2f1-cf6aac55900d"
      },
      "execution_count": null,
      "outputs": [
        {
          "output_type": "execute_result",
          "data": {
            "text/plain": [
              "30"
            ]
          },
          "metadata": {},
          "execution_count": 334
        }
      ]
    },
    {
      "cell_type": "code",
      "source": [
        "fechas = []\n",
        "for fecha_str in coincidencias_3:\n",
        "    try:\n",
        "        fecha = datetime.strptime(fecha_str, '%d %b %Y')\n",
        "    except ValueError:\n",
        "        try:\n",
        "            fecha = datetime.strptime(fecha_str, '%d %B %Y')\n",
        "        except ValueError:\n",
        "            try:\n",
        "                fecha = datetime.strptime(fecha_str, '%d %b. %Y')\n",
        "            except ValueError:\n",
        "                fecha = datetime.strptime(fecha_str, '%d %B, %Y')\n",
        "    fechas.append(fecha)\n",
        "\n",
        "# Ordenar las fechas cronológicamente\n",
        "fechas_ordenadas_3 = sorted(fechas)\n",
        "\n",
        "# Imprimir las fechas ordenadas en formato deseado\n",
        "for fecha in fechas_ordenadas_3:\n",
        "    print(fecha.strftime('%m/%d/%Y'))"
      ],
      "metadata": {
        "colab": {
          "base_uri": "https://localhost:8080/"
        },
        "id": "4zeINR6HuDJu",
        "outputId": "02fc7e79-efb7-473f-d113-25d0aa32f849"
      },
      "execution_count": null,
      "outputs": [
        {
          "output_type": "stream",
          "name": "stdout",
          "text": [
            "01/13/1972\n",
            "05/06/1972\n",
            "10/04/1972\n",
            "11/30/1972\n",
            "03/05/1974\n",
            "03/06/1974\n",
            "05/26/1974\n",
            "06/13/1974\n",
            "10/10/1974\n",
            "08/18/1975\n",
            "10/21/1977\n",
            "02/02/1978\n",
            "10/21/1978\n",
            "10/01/1979\n",
            "03/12/1980\n",
            "01/14/1981\n",
            "05/26/1982\n",
            "12/10/1982\n",
            "02/10/1983\n",
            "10/21/1983\n",
            "02/11/1985\n",
            "06/15/1985\n",
            "08/17/1985\n",
            "10/10/1985\n",
            "10/13/1986\n",
            "10/25/1987\n",
            "12/04/1988\n",
            "12/09/1988\n",
            "09/09/1989\n",
            "01/18/1990\n",
            "02/10/1990\n",
            "06/22/1990\n",
            "02/05/1992\n",
            "10/14/1992\n",
            "05/06/1993\n",
            "08/23/1993\n",
            "01/29/1994\n",
            "06/28/1994\n",
            "01/18/1995\n",
            "02/14/1995\n",
            "08/18/1995\n",
            "10/21/1995\n",
            "01/22/1996\n",
            "10/14/1996\n",
            "11/11/1996\n",
            "10/18/1999\n",
            "08/10/2000\n",
            "08/23/2000\n",
            "01/24/2001\n",
            "05/26/2001\n",
            "05/30/2001\n",
            "06/28/2002\n",
            "11/11/2002\n",
            "10/06/2003\n",
            "03/12/2004\n",
            "09/10/2004\n",
            "11/11/2004\n",
            "10/18/2006\n",
            "10/21/2007\n",
            "11/30/2007\n",
            "01/14/2008\n",
            "05/26/2008\n",
            "05/26/2010\n",
            "01/24/2011\n",
            "10/21/2012\n",
            "09/28/2015\n",
            "05/30/2016\n",
            "10/13/2016\n",
            "10/19/2016\n"
          ]
        }
      ]
    },
    {
      "cell_type": "code",
      "source": [
        "len(fechas_ordenadas_3)"
      ],
      "metadata": {
        "colab": {
          "base_uri": "https://localhost:8080/"
        },
        "id": "WMt4-J3BuDEk",
        "outputId": "404e950b-e4b2-4fe1-dccb-77c5d492899c"
      },
      "execution_count": null,
      "outputs": [
        {
          "output_type": "execute_result",
          "data": {
            "text/plain": [
              "69"
            ]
          },
          "metadata": {},
          "execution_count": 336
        }
      ]
    },
    {
      "cell_type": "code",
      "source": [
        "fechas = []\n",
        "for fecha_str in coincidencias_5:\n",
        "    try:\n",
        "        fecha = datetime.strptime(fecha_str, '%B %Y')\n",
        "    except ValueError:\n",
        "        try:\n",
        "            fecha = datetime.strptime(fecha_str, '%b %Y')\n",
        "        except ValueError:\n",
        "            try:\n",
        "                fecha = datetime.strptime(fecha_str, '%m/%Y')\n",
        "            except ValueError:\n",
        "                fecha = datetime.strptime(fecha_str, '%m/%Y')\n",
        "    fechas.append(fecha)\n",
        "\n",
        "# Ordenar las fechas cronológicamente\n",
        "fechas_ordenadas_5 = sorted(fechas)\n",
        "\n",
        "# Imprimir las fechas ordenadas en formato deseado\n",
        "for fecha in fechas_ordenadas_5:\n",
        "    print(fecha.strftime('%m/%d/%Y'))"
      ],
      "metadata": {
        "colab": {
          "base_uri": "https://localhost:8080/"
        },
        "id": "8mc6itiquC_g",
        "outputId": "a09a2f97-28b5-4209-b948-53b2f1d46385"
      },
      "execution_count": null,
      "outputs": [
        {
          "output_type": "stream",
          "name": "stdout",
          "text": [
            "02/01/1973\n",
            "03/01/1973\n",
            "04/01/1973\n",
            "06/01/1973\n",
            "07/01/1973\n",
            "10/01/1973\n",
            "02/01/1974\n",
            "04/01/1974\n",
            "08/01/1974\n",
            "08/01/1975\n",
            "09/01/1975\n",
            "09/01/1975\n",
            "12/01/1975\n",
            "04/01/1976\n",
            "06/01/1976\n",
            "02/01/1977\n",
            "05/01/1977\n",
            "01/01/1978\n",
            "01/01/1978\n",
            "02/01/1978\n",
            "10/01/1978\n",
            "12/01/1978\n",
            "04/01/1979\n",
            "05/01/1979\n",
            "08/01/1979\n",
            "11/01/1979\n",
            "03/01/1980\n",
            "05/01/1980\n",
            "09/01/1980\n",
            "10/01/1980\n",
            "10/01/1980\n",
            "03/01/1981\n",
            "06/01/1981\n",
            "07/01/1981\n",
            "10/01/1981\n",
            "07/01/1982\n",
            "11/01/1982\n",
            "01/01/1983\n",
            "02/01/1983\n",
            "04/01/1983\n",
            "05/01/1983\n",
            "09/01/1984\n",
            "11/01/1984\n",
            "07/01/1985\n",
            "03/01/1986\n",
            "05/01/1986\n",
            "08/01/1986\n",
            "10/01/1986\n",
            "10/01/1986\n",
            "11/01/1986\n",
            "12/01/1986\n",
            "01/01/1987\n",
            "05/01/1987\n",
            "07/01/1987\n",
            "08/01/1988\n",
            "06/01/1989\n",
            "07/01/1989\n",
            "08/01/1989\n",
            "12/01/1989\n",
            "03/01/1990\n",
            "07/01/1991\n",
            "01/01/1992\n",
            "09/01/1992\n",
            "10/01/1992\n",
            "12/01/1992\n",
            "02/01/1993\n",
            "03/01/1993\n",
            "10/01/1993\n",
            "01/01/1994\n",
            "02/01/1994\n",
            "07/01/1994\n",
            "10/01/1994\n",
            "12/01/1994\n",
            "03/01/1995\n",
            "05/01/1995\n",
            "05/01/1995\n",
            "07/01/1997\n",
            "10/01/1997\n",
            "06/01/1998\n",
            "11/01/1998\n",
            "02/01/1999\n",
            "04/01/1999\n",
            "05/01/1999\n",
            "08/01/1999\n",
            "02/01/2000\n",
            "03/01/2000\n",
            "05/01/2000\n",
            "08/01/2000\n",
            "09/01/2000\n",
            "11/01/2000\n",
            "06/01/2001\n",
            "09/01/2001\n",
            "10/01/2001\n",
            "03/01/2002\n",
            "04/01/2002\n",
            "06/01/2002\n",
            "08/01/2002\n",
            "03/01/2003\n",
            "07/01/2003\n",
            "08/01/2003\n",
            "09/01/2003\n",
            "01/01/2004\n",
            "05/01/2004\n",
            "05/01/2004\n",
            "07/01/2004\n",
            "12/01/2004\n",
            "05/01/2005\n",
            "06/01/2005\n",
            "09/01/2005\n",
            "12/01/2005\n",
            "05/01/2006\n",
            "01/01/2007\n",
            "01/01/2007\n",
            "04/01/2007\n",
            "04/01/2007\n",
            "06/01/2007\n",
            "09/01/2007\n",
            "11/01/2007\n",
            "12/01/2007\n",
            "01/01/2008\n",
            "08/01/2008\n",
            "11/01/2008\n",
            "12/01/2008\n",
            "01/01/2009\n",
            "01/01/2009\n",
            "02/01/2009\n",
            "07/01/2009\n",
            "08/01/2009\n",
            "12/01/2009\n",
            "03/01/2010\n",
            "05/01/2010\n",
            "08/01/2010\n",
            "10/01/2010\n",
            "11/01/2010\n",
            "11/01/2010\n",
            "05/01/2011\n",
            "04/01/2012\n",
            "05/01/2012\n",
            "09/01/2012\n",
            "12/01/2012\n",
            "04/01/2013\n",
            "09/01/2013\n",
            "01/01/2014\n",
            "07/01/2014\n",
            "10/01/2014\n",
            "10/01/2014\n",
            "12/01/2014\n",
            "09/01/2015\n",
            "02/01/2016\n",
            "05/01/2016\n",
            "05/01/2016\n",
            "11/01/2016\n"
          ]
        }
      ]
    },
    {
      "cell_type": "code",
      "source": [
        "len(fechas_ordenadas_5)"
      ],
      "metadata": {
        "colab": {
          "base_uri": "https://localhost:8080/"
        },
        "id": "_Szx3N7JwIhC",
        "outputId": "f7ecc389-65bc-49cc-f445-656e112233c6"
      },
      "execution_count": null,
      "outputs": [
        {
          "output_type": "execute_result",
          "data": {
            "text/plain": [
              "152"
            ]
          },
          "metadata": {},
          "execution_count": 338
        }
      ]
    },
    {
      "cell_type": "code",
      "source": [
        "fechas = []\n",
        "for year_str in coincidencias_6:\n",
        "    try:\n",
        "        # Asignar el 1 de enero como día y mes\n",
        "        fecha = datetime.strptime('01/01/' + year_str, '%m/%d/%Y')\n",
        "    except ValueError:\n",
        "        fecha = None\n",
        "    if fecha:\n",
        "        fechas.append(fecha)\n",
        "\n",
        "# Ordenar las fechas cronológicamente\n",
        "fechas_ordenadas_6 = sorted(fechas)\n",
        "\n",
        "# Imprimir las fechas ordenadas en formato deseado\n",
        "for fecha in fechas_ordenadas_6:\n",
        "    print(fecha.strftime('%m/%d/%Y'))"
      ],
      "metadata": {
        "colab": {
          "base_uri": "https://localhost:8080/"
        },
        "id": "G8CDSsfxwIUL",
        "outputId": "7d4660ca-df1b-4c96-c9e3-32162e236b24"
      },
      "execution_count": null,
      "outputs": [
        {
          "output_type": "stream",
          "name": "stdout",
          "text": [
            "01/01/1972\n",
            "01/01/1973\n",
            "01/01/1973\n",
            "01/01/1973\n",
            "01/01/1974\n",
            "01/01/1974\n",
            "01/01/1974\n",
            "01/01/1974\n",
            "01/01/1974\n",
            "01/01/1975\n",
            "01/01/1975\n",
            "01/01/1975\n",
            "01/01/1976\n",
            "01/01/1976\n",
            "01/01/1976\n",
            "01/01/1976\n",
            "01/01/1977\n",
            "01/01/1977\n",
            "01/01/1977\n",
            "01/01/1977\n",
            "01/01/1977\n",
            "01/01/1978\n",
            "01/01/1978\n",
            "01/01/1978\n",
            "01/01/1979\n",
            "01/01/1979\n",
            "01/01/1980\n",
            "01/01/1981\n",
            "01/01/1981\n",
            "01/01/1981\n",
            "01/01/1982\n",
            "01/01/1983\n",
            "01/01/1983\n",
            "01/01/1983\n",
            "01/01/1983\n",
            "01/01/1984\n",
            "01/01/1984\n",
            "01/01/1985\n",
            "01/01/1985\n",
            "01/01/1985\n",
            "01/01/1985\n",
            "01/01/1986\n",
            "01/01/1986\n",
            "01/01/1986\n",
            "01/01/1987\n",
            "01/01/1988\n",
            "01/01/1988\n",
            "01/01/1988\n",
            "01/01/1989\n",
            "01/01/1989\n",
            "01/01/1989\n",
            "01/01/1990\n",
            "01/01/1990\n",
            "01/01/1990\n",
            "01/01/1991\n",
            "01/01/1991\n",
            "01/01/1992\n",
            "01/01/1992\n",
            "01/01/1993\n",
            "01/01/1993\n",
            "01/01/1993\n",
            "01/01/1993\n",
            "01/01/1994\n",
            "01/01/1994\n",
            "01/01/1995\n",
            "01/01/1995\n",
            "01/01/1995\n",
            "01/01/1995\n",
            "01/01/1995\n",
            "01/01/1995\n",
            "01/01/1996\n",
            "01/01/1996\n",
            "01/01/1997\n",
            "01/01/1997\n",
            "01/01/1998\n",
            "01/01/1998\n",
            "01/01/1998\n",
            "01/01/1999\n",
            "01/01/1999\n",
            "01/01/1999\n",
            "01/01/1999\n",
            "01/01/2000\n",
            "01/01/2000\n",
            "01/01/2000\n",
            "01/01/2001\n",
            "01/01/2001\n",
            "01/01/2002\n",
            "01/01/2003\n",
            "01/01/2004\n",
            "01/01/2004\n",
            "01/01/2004\n",
            "01/01/2004\n",
            "01/01/2004\n",
            "01/01/2005\n",
            "01/01/2005\n",
            "01/01/2006\n",
            "01/01/2006\n",
            "01/01/2006\n",
            "01/01/2007\n",
            "01/01/2007\n",
            "01/01/2007\n",
            "01/01/2007\n",
            "01/01/2008\n",
            "01/01/2008\n",
            "01/01/2008\n",
            "01/01/2009\n",
            "01/01/2009\n",
            "01/01/2010\n",
            "01/01/2010\n",
            "01/01/2011\n",
            "01/01/2011\n",
            "01/01/2011\n",
            "01/01/2011\n",
            "01/01/2011\n",
            "01/01/2012\n",
            "01/01/2012\n",
            "01/01/2013\n",
            "01/01/2013\n",
            "01/01/2013\n",
            "01/01/2013\n",
            "01/01/2014\n",
            "01/01/2015\n",
            "01/01/2015\n",
            "01/01/2016\n"
          ]
        }
      ]
    },
    {
      "cell_type": "code",
      "source": [
        "len(fechas_ordenadas_6)"
      ],
      "metadata": {
        "colab": {
          "base_uri": "https://localhost:8080/"
        },
        "id": "B60ki17vyn_I",
        "outputId": "0077a11d-000c-4d2d-e4bf-2e7cce92f91c"
      },
      "execution_count": null,
      "outputs": [
        {
          "output_type": "execute_result",
          "data": {
            "text/plain": [
              "124"
            ]
          },
          "metadata": {},
          "execution_count": 355
        }
      ]
    },
    {
      "cell_type": "markdown",
      "source": [
        "## Hacer una lista con todas las fechas"
      ],
      "metadata": {
        "id": "N4Ki21EFz3c3"
      }
    },
    {
      "cell_type": "code",
      "source": [
        "fechas_total = fechas_ordenadas_1 + fechas_ordenadas_2 + fechas_ordenadas_3 + fechas_ordenadas_5 + fechas_ordenadas_6"
      ],
      "metadata": {
        "id": "Z6RwqTvKtyc0"
      },
      "execution_count": null,
      "outputs": []
    },
    {
      "cell_type": "code",
      "source": [
        "len(fechas_total)"
      ],
      "metadata": {
        "colab": {
          "base_uri": "https://localhost:8080/"
        },
        "id": "C5sx9X8HynxB",
        "outputId": "4e51daa8-efdd-47e4-b8b6-7020f1fd737c"
      },
      "execution_count": null,
      "outputs": [
        {
          "output_type": "execute_result",
          "data": {
            "text/plain": [
              "500"
            ]
          },
          "metadata": {},
          "execution_count": 368
        }
      ]
    },
    {
      "cell_type": "code",
      "source": [
        "fechas_ordenadas = sorted(fechas_total)"
      ],
      "metadata": {
        "id": "IgmzK-0z0Iwp"
      },
      "execution_count": null,
      "outputs": []
    },
    {
      "cell_type": "code",
      "source": [
        "fechas_ordenadas"
      ],
      "metadata": {
        "colab": {
          "base_uri": "https://localhost:8080/"
        },
        "id": "0d6l4g400i-e",
        "outputId": "511e80dd-0f6b-4fe3-85ec-d0f5d98b35d9"
      },
      "execution_count": null,
      "outputs": [
        {
          "output_type": "execute_result",
          "data": {
            "text/plain": [
              "[datetime.datetime(1971, 4, 10, 0, 0),\n",
              " datetime.datetime(1971, 5, 18, 0, 0),\n",
              " datetime.datetime(1971, 7, 8, 0, 0),\n",
              " datetime.datetime(1971, 7, 11, 0, 0),\n",
              " datetime.datetime(1971, 9, 12, 0, 0),\n",
              " datetime.datetime(1972, 1, 1, 0, 0),\n",
              " datetime.datetime(1972, 1, 13, 0, 0),\n",
              " datetime.datetime(1972, 1, 26, 0, 0),\n",
              " datetime.datetime(1972, 5, 6, 0, 0),\n",
              " datetime.datetime(1972, 5, 13, 0, 0),\n",
              " datetime.datetime(1972, 6, 10, 0, 0),\n",
              " datetime.datetime(1972, 6, 15, 0, 0),\n",
              " datetime.datetime(1972, 7, 20, 0, 0),\n",
              " datetime.datetime(1972, 10, 4, 0, 0),\n",
              " datetime.datetime(1972, 11, 30, 0, 0),\n",
              " datetime.datetime(1973, 1, 1, 0, 0),\n",
              " datetime.datetime(1973, 1, 1, 0, 0),\n",
              " datetime.datetime(1973, 1, 1, 0, 0),\n",
              " datetime.datetime(1973, 2, 1, 0, 0),\n",
              " datetime.datetime(1973, 2, 14, 0, 0),\n",
              " datetime.datetime(1973, 3, 1, 0, 0),\n",
              " datetime.datetime(1973, 4, 1, 0, 0),\n",
              " datetime.datetime(1973, 6, 1, 0, 0),\n",
              " datetime.datetime(1973, 7, 1, 0, 0),\n",
              " datetime.datetime(1973, 10, 1, 0, 0),\n",
              " datetime.datetime(1973, 12, 1, 0, 0),\n",
              " datetime.datetime(1974, 1, 1, 0, 0),\n",
              " datetime.datetime(1974, 1, 1, 0, 0),\n",
              " datetime.datetime(1974, 1, 1, 0, 0),\n",
              " datetime.datetime(1974, 1, 1, 0, 0),\n",
              " datetime.datetime(1974, 1, 1, 0, 0),\n",
              " datetime.datetime(1974, 2, 1, 0, 0),\n",
              " datetime.datetime(1974, 2, 24, 0, 0),\n",
              " datetime.datetime(1974, 3, 5, 0, 0),\n",
              " datetime.datetime(1974, 3, 6, 0, 0),\n",
              " datetime.datetime(1974, 4, 1, 0, 0),\n",
              " datetime.datetime(1974, 4, 11, 0, 0),\n",
              " datetime.datetime(1974, 4, 12, 0, 0),\n",
              " datetime.datetime(1974, 5, 4, 0, 0),\n",
              " datetime.datetime(1974, 5, 26, 0, 0),\n",
              " datetime.datetime(1974, 6, 13, 0, 0),\n",
              " datetime.datetime(1974, 7, 7, 0, 0),\n",
              " datetime.datetime(1974, 8, 1, 0, 0),\n",
              " datetime.datetime(1974, 10, 10, 0, 0),\n",
              " datetime.datetime(1974, 10, 14, 0, 0),\n",
              " datetime.datetime(1975, 1, 1, 0, 0),\n",
              " datetime.datetime(1975, 1, 1, 0, 0),\n",
              " datetime.datetime(1975, 1, 1, 0, 0),\n",
              " datetime.datetime(1975, 2, 28, 0, 0),\n",
              " datetime.datetime(1975, 4, 9, 0, 0),\n",
              " datetime.datetime(1975, 7, 29, 0, 0),\n",
              " datetime.datetime(1975, 8, 1, 0, 0),\n",
              " datetime.datetime(1975, 8, 18, 0, 0),\n",
              " datetime.datetime(1975, 9, 1, 0, 0),\n",
              " datetime.datetime(1975, 9, 1, 0, 0),\n",
              " datetime.datetime(1975, 9, 27, 0, 0),\n",
              " datetime.datetime(1975, 11, 22, 0, 0),\n",
              " datetime.datetime(1975, 12, 1, 0, 0),\n",
              " datetime.datetime(1975, 12, 14, 0, 0),\n",
              " datetime.datetime(1976, 1, 1, 0, 0),\n",
              " datetime.datetime(1976, 1, 1, 0, 0),\n",
              " datetime.datetime(1976, 1, 1, 0, 0),\n",
              " datetime.datetime(1976, 1, 1, 0, 0),\n",
              " datetime.datetime(1976, 2, 11, 0, 0),\n",
              " datetime.datetime(1976, 4, 1, 0, 0),\n",
              " datetime.datetime(1976, 6, 1, 0, 0),\n",
              " datetime.datetime(1976, 9, 2, 0, 0),\n",
              " datetime.datetime(1976, 9, 20, 0, 0),\n",
              " datetime.datetime(1976, 10, 13, 0, 0),\n",
              " datetime.datetime(1977, 1, 1, 0, 0),\n",
              " datetime.datetime(1977, 1, 1, 0, 0),\n",
              " datetime.datetime(1977, 1, 1, 0, 0),\n",
              " datetime.datetime(1977, 1, 1, 0, 0),\n",
              " datetime.datetime(1977, 1, 1, 0, 0),\n",
              " datetime.datetime(1977, 2, 1, 0, 0),\n",
              " datetime.datetime(1977, 5, 1, 0, 0),\n",
              " datetime.datetime(1977, 5, 4, 0, 0),\n",
              " datetime.datetime(1977, 5, 21, 0, 0),\n",
              " datetime.datetime(1977, 6, 20, 0, 0),\n",
              " datetime.datetime(1977, 7, 11, 0, 0),\n",
              " datetime.datetime(1977, 10, 21, 0, 0),\n",
              " datetime.datetime(1978, 1, 1, 0, 0),\n",
              " datetime.datetime(1978, 1, 1, 0, 0),\n",
              " datetime.datetime(1978, 1, 1, 0, 0),\n",
              " datetime.datetime(1978, 1, 1, 0, 0),\n",
              " datetime.datetime(1978, 1, 1, 0, 0),\n",
              " datetime.datetime(1978, 2, 1, 0, 0),\n",
              " datetime.datetime(1978, 2, 2, 0, 0),\n",
              " datetime.datetime(1978, 2, 3, 0, 0),\n",
              " datetime.datetime(1978, 5, 18, 0, 0),\n",
              " datetime.datetime(1978, 7, 26, 0, 0),\n",
              " datetime.datetime(1978, 8, 4, 0, 0),\n",
              " datetime.datetime(1978, 8, 11, 0, 0),\n",
              " datetime.datetime(1978, 10, 1, 0, 0),\n",
              " datetime.datetime(1978, 10, 21, 0, 0),\n",
              " datetime.datetime(1978, 12, 1, 0, 0),\n",
              " datetime.datetime(1979, 1, 1, 0, 0),\n",
              " datetime.datetime(1979, 1, 1, 0, 0),\n",
              " datetime.datetime(1979, 4, 1, 0, 0),\n",
              " datetime.datetime(1979, 5, 1, 0, 0),\n",
              " datetime.datetime(1979, 7, 6, 0, 0),\n",
              " datetime.datetime(1979, 8, 1, 0, 0),\n",
              " datetime.datetime(1979, 9, 6, 0, 0),\n",
              " datetime.datetime(1979, 10, 1, 0, 0),\n",
              " datetime.datetime(1979, 10, 21, 0, 0),\n",
              " datetime.datetime(1979, 11, 1, 0, 0),\n",
              " datetime.datetime(1980, 1, 1, 0, 0),\n",
              " datetime.datetime(1980, 3, 1, 0, 0),\n",
              " datetime.datetime(1980, 3, 12, 0, 0),\n",
              " datetime.datetime(1980, 4, 22, 0, 0),\n",
              " datetime.datetime(1980, 5, 1, 0, 0),\n",
              " datetime.datetime(1980, 9, 1, 0, 0),\n",
              " datetime.datetime(1980, 10, 1, 0, 0),\n",
              " datetime.datetime(1980, 10, 1, 0, 0),\n",
              " datetime.datetime(1980, 10, 18, 0, 0),\n",
              " datetime.datetime(1981, 1, 1, 0, 0),\n",
              " datetime.datetime(1981, 1, 1, 0, 0),\n",
              " datetime.datetime(1981, 1, 1, 0, 0),\n",
              " datetime.datetime(1981, 1, 14, 0, 0),\n",
              " datetime.datetime(1981, 1, 14, 0, 0),\n",
              " datetime.datetime(1981, 2, 18, 0, 0),\n",
              " datetime.datetime(1981, 3, 1, 0, 0),\n",
              " datetime.datetime(1981, 6, 1, 0, 0),\n",
              " datetime.datetime(1981, 6, 29, 0, 0),\n",
              " datetime.datetime(1981, 7, 1, 0, 0),\n",
              " datetime.datetime(1981, 8, 9, 0, 0),\n",
              " datetime.datetime(1981, 8, 14, 0, 0),\n",
              " datetime.datetime(1981, 9, 19, 0, 0),\n",
              " datetime.datetime(1981, 10, 1, 0, 0),\n",
              " datetime.datetime(1982, 1, 1, 0, 0),\n",
              " datetime.datetime(1982, 4, 12, 0, 0),\n",
              " datetime.datetime(1982, 4, 13, 0, 0),\n",
              " datetime.datetime(1982, 5, 26, 0, 0),\n",
              " datetime.datetime(1982, 7, 1, 0, 0),\n",
              " datetime.datetime(1982, 7, 4, 0, 0),\n",
              " datetime.datetime(1982, 8, 16, 0, 0),\n",
              " datetime.datetime(1982, 8, 20, 0, 0),\n",
              " datetime.datetime(1982, 9, 22, 0, 0),\n",
              " datetime.datetime(1982, 10, 16, 0, 0),\n",
              " datetime.datetime(1982, 11, 1, 0, 0),\n",
              " datetime.datetime(1982, 12, 8, 0, 0),\n",
              " datetime.datetime(1982, 12, 10, 0, 0),\n",
              " datetime.datetime(1983, 1, 1, 0, 0),\n",
              " datetime.datetime(1983, 1, 1, 0, 0),\n",
              " datetime.datetime(1983, 1, 1, 0, 0),\n",
              " datetime.datetime(1983, 1, 1, 0, 0),\n",
              " datetime.datetime(1983, 1, 1, 0, 0),\n",
              " datetime.datetime(1983, 1, 27, 0, 0),\n",
              " datetime.datetime(1983, 2, 1, 0, 0),\n",
              " datetime.datetime(1983, 2, 10, 0, 0),\n",
              " datetime.datetime(1983, 3, 15, 0, 0),\n",
              " datetime.datetime(1983, 4, 1, 0, 0),\n",
              " datetime.datetime(1983, 5, 1, 0, 0),\n",
              " datetime.datetime(1983, 7, 25, 0, 0),\n",
              " datetime.datetime(1983, 8, 6, 0, 0),\n",
              " datetime.datetime(1983, 8, 22, 0, 0),\n",
              " datetime.datetime(1983, 10, 21, 0, 0),\n",
              " datetime.datetime(1983, 11, 14, 0, 0),\n",
              " datetime.datetime(1984, 1, 1, 0, 0),\n",
              " datetime.datetime(1984, 1, 1, 0, 0),\n",
              " datetime.datetime(1984, 7, 25, 0, 0),\n",
              " datetime.datetime(1984, 9, 1, 0, 0),\n",
              " datetime.datetime(1984, 9, 17, 0, 0),\n",
              " datetime.datetime(1984, 11, 1, 0, 0),\n",
              " datetime.datetime(1985, 1, 1, 0, 0),\n",
              " datetime.datetime(1985, 1, 1, 0, 0),\n",
              " datetime.datetime(1985, 1, 1, 0, 0),\n",
              " datetime.datetime(1985, 1, 1, 0, 0),\n",
              " datetime.datetime(1985, 2, 11, 0, 0),\n",
              " datetime.datetime(1985, 3, 31, 0, 0),\n",
              " datetime.datetime(1985, 5, 11, 0, 0),\n",
              " datetime.datetime(1985, 6, 15, 0, 0),\n",
              " datetime.datetime(1985, 6, 18, 0, 0),\n",
              " datetime.datetime(1985, 7, 1, 0, 0),\n",
              " datetime.datetime(1985, 8, 17, 0, 0),\n",
              " datetime.datetime(1985, 10, 10, 0, 0),\n",
              " datetime.datetime(1985, 11, 3, 0, 0),\n",
              " datetime.datetime(1986, 1, 1, 0, 0),\n",
              " datetime.datetime(1986, 1, 1, 0, 0),\n",
              " datetime.datetime(1986, 1, 1, 0, 0),\n",
              " datetime.datetime(1986, 1, 24, 0, 0),\n",
              " datetime.datetime(1986, 3, 1, 0, 0),\n",
              " datetime.datetime(1986, 3, 7, 0, 0),\n",
              " datetime.datetime(1986, 5, 1, 0, 0),\n",
              " datetime.datetime(1986, 7, 18, 0, 0),\n",
              " datetime.datetime(1986, 7, 27, 0, 0),\n",
              " datetime.datetime(1986, 8, 1, 0, 0),\n",
              " datetime.datetime(1986, 10, 1, 0, 0),\n",
              " datetime.datetime(1986, 10, 1, 0, 0),\n",
              " datetime.datetime(1986, 10, 13, 0, 0),\n",
              " datetime.datetime(1986, 10, 24, 0, 0),\n",
              " datetime.datetime(1986, 11, 1, 0, 0),\n",
              " datetime.datetime(1986, 12, 1, 0, 0),\n",
              " datetime.datetime(1986, 12, 26, 0, 0),\n",
              " datetime.datetime(1987, 1, 1, 0, 0),\n",
              " datetime.datetime(1987, 1, 1, 0, 0),\n",
              " datetime.datetime(1987, 1, 21, 0, 0),\n",
              " datetime.datetime(1987, 4, 12, 0, 0),\n",
              " datetime.datetime(1987, 5, 1, 0, 0),\n",
              " datetime.datetime(1987, 6, 24, 0, 0),\n",
              " datetime.datetime(1987, 6, 28, 0, 0),\n",
              " datetime.datetime(1987, 7, 1, 0, 0),\n",
              " datetime.datetime(1987, 10, 11, 0, 0),\n",
              " datetime.datetime(1987, 10, 25, 0, 0),\n",
              " datetime.datetime(1987, 12, 4, 0, 0),\n",
              " datetime.datetime(1987, 12, 5, 0, 0),\n",
              " datetime.datetime(1988, 1, 1, 0, 0),\n",
              " datetime.datetime(1988, 1, 1, 0, 0),\n",
              " datetime.datetime(1988, 1, 1, 0, 0),\n",
              " datetime.datetime(1988, 5, 24, 0, 0),\n",
              " datetime.datetime(1988, 8, 1, 0, 0),\n",
              " datetime.datetime(1988, 11, 11, 0, 0),\n",
              " datetime.datetime(1988, 12, 4, 0, 0),\n",
              " datetime.datetime(1988, 12, 9, 0, 0),\n",
              " datetime.datetime(1989, 1, 1, 0, 0),\n",
              " datetime.datetime(1989, 1, 1, 0, 0),\n",
              " datetime.datetime(1989, 1, 1, 0, 0),\n",
              " datetime.datetime(1989, 4, 5, 0, 0),\n",
              " datetime.datetime(1989, 4, 13, 0, 0),\n",
              " datetime.datetime(1989, 5, 14, 0, 0),\n",
              " datetime.datetime(1989, 5, 15, 0, 0),\n",
              " datetime.datetime(1989, 6, 1, 0, 0),\n",
              " datetime.datetime(1989, 7, 1, 0, 0),\n",
              " datetime.datetime(1989, 8, 1, 0, 0),\n",
              " datetime.datetime(1989, 8, 11, 0, 0),\n",
              " datetime.datetime(1989, 8, 26, 0, 0),\n",
              " datetime.datetime(1989, 9, 9, 0, 0),\n",
              " datetime.datetime(1989, 9, 22, 0, 0),\n",
              " datetime.datetime(1989, 10, 24, 0, 0),\n",
              " datetime.datetime(1989, 12, 1, 0, 0),\n",
              " datetime.datetime(1990, 1, 1, 0, 0),\n",
              " datetime.datetime(1990, 1, 1, 0, 0),\n",
              " datetime.datetime(1990, 1, 1, 0, 0),\n",
              " datetime.datetime(1990, 1, 18, 0, 0),\n",
              " datetime.datetime(1990, 2, 10, 0, 0),\n",
              " datetime.datetime(1990, 3, 1, 0, 0),\n",
              " datetime.datetime(1990, 3, 3, 0, 0),\n",
              " datetime.datetime(1990, 4, 11, 0, 0),\n",
              " datetime.datetime(1990, 5, 24, 0, 0),\n",
              " datetime.datetime(1990, 6, 22, 0, 0),\n",
              " datetime.datetime(1990, 10, 23, 0, 0),\n",
              " datetime.datetime(1990, 11, 5, 0, 0),\n",
              " datetime.datetime(1990, 12, 8, 0, 0),\n",
              " datetime.datetime(1991, 1, 1, 0, 0),\n",
              " datetime.datetime(1991, 1, 1, 0, 0),\n",
              " datetime.datetime(1991, 1, 7, 0, 0),\n",
              " datetime.datetime(1991, 3, 31, 0, 0),\n",
              " datetime.datetime(1991, 4, 19, 0, 0),\n",
              " datetime.datetime(1991, 5, 24, 0, 0),\n",
              " datetime.datetime(1991, 6, 20, 0, 0),\n",
              " datetime.datetime(1991, 7, 1, 0, 0),\n",
              " datetime.datetime(1991, 7, 6, 0, 0),\n",
              " datetime.datetime(1991, 7, 15, 0, 0),\n",
              " datetime.datetime(1991, 10, 29, 0, 0),\n",
              " datetime.datetime(1992, 1, 1, 0, 0),\n",
              " datetime.datetime(1992, 1, 1, 0, 0),\n",
              " datetime.datetime(1992, 1, 1, 0, 0),\n",
              " datetime.datetime(1992, 2, 5, 0, 0),\n",
              " datetime.datetime(1992, 2, 22, 0, 0),\n",
              " datetime.datetime(1992, 4, 17, 0, 0),\n",
              " datetime.datetime(1992, 6, 13, 0, 0),\n",
              " datetime.datetime(1992, 7, 17, 0, 0),\n",
              " datetime.datetime(1992, 8, 16, 0, 0),\n",
              " datetime.datetime(1992, 9, 1, 0, 0),\n",
              " datetime.datetime(1992, 10, 1, 0, 0),\n",
              " datetime.datetime(1992, 10, 14, 0, 0),\n",
              " datetime.datetime(1992, 12, 1, 0, 0),\n",
              " datetime.datetime(1992, 12, 15, 0, 0),\n",
              " datetime.datetime(1993, 1, 1, 0, 0),\n",
              " datetime.datetime(1993, 1, 1, 0, 0),\n",
              " datetime.datetime(1993, 1, 1, 0, 0),\n",
              " datetime.datetime(1993, 1, 1, 0, 0),\n",
              " datetime.datetime(1993, 2, 1, 0, 0),\n",
              " datetime.datetime(1993, 3, 1, 0, 0),\n",
              " datetime.datetime(1993, 3, 25, 0, 0),\n",
              " datetime.datetime(1993, 5, 6, 0, 0),\n",
              " datetime.datetime(1993, 6, 5, 0, 0),\n",
              " datetime.datetime(1993, 8, 23, 0, 0),\n",
              " datetime.datetime(1993, 10, 1, 0, 0),\n",
              " datetime.datetime(1994, 1, 1, 0, 0),\n",
              " datetime.datetime(1994, 1, 1, 0, 0),\n",
              " datetime.datetime(1994, 1, 1, 0, 0),\n",
              " datetime.datetime(1994, 1, 29, 0, 0),\n",
              " datetime.datetime(1994, 2, 1, 0, 0),\n",
              " datetime.datetime(1994, 2, 18, 0, 0),\n",
              " datetime.datetime(1994, 6, 12, 0, 0),\n",
              " datetime.datetime(1994, 6, 28, 0, 0),\n",
              " datetime.datetime(1994, 7, 1, 0, 0),\n",
              " datetime.datetime(1994, 7, 29, 0, 0),\n",
              " datetime.datetime(1994, 8, 14, 0, 0),\n",
              " datetime.datetime(1994, 10, 1, 0, 0),\n",
              " datetime.datetime(1994, 12, 1, 0, 0),\n",
              " datetime.datetime(1995, 1, 1, 0, 0),\n",
              " datetime.datetime(1995, 1, 1, 0, 0),\n",
              " datetime.datetime(1995, 1, 1, 0, 0),\n",
              " datetime.datetime(1995, 1, 1, 0, 0),\n",
              " datetime.datetime(1995, 1, 1, 0, 0),\n",
              " datetime.datetime(1995, 1, 1, 0, 0),\n",
              " datetime.datetime(1995, 1, 18, 0, 0),\n",
              " datetime.datetime(1995, 2, 14, 0, 0),\n",
              " datetime.datetime(1995, 3, 1, 0, 0),\n",
              " datetime.datetime(1995, 3, 14, 0, 0),\n",
              " datetime.datetime(1995, 5, 1, 0, 0),\n",
              " datetime.datetime(1995, 5, 1, 0, 0),\n",
              " datetime.datetime(1995, 6, 17, 0, 0),\n",
              " datetime.datetime(1995, 7, 24, 0, 0),\n",
              " datetime.datetime(1995, 8, 18, 0, 0),\n",
              " datetime.datetime(1995, 9, 6, 0, 0),\n",
              " datetime.datetime(1995, 10, 13, 0, 0),\n",
              " datetime.datetime(1995, 10, 21, 0, 0),\n",
              " datetime.datetime(1996, 1, 1, 0, 0),\n",
              " datetime.datetime(1996, 1, 1, 0, 0),\n",
              " datetime.datetime(1996, 1, 22, 0, 0),\n",
              " datetime.datetime(1996, 2, 6, 0, 0),\n",
              " datetime.datetime(1996, 2, 27, 0, 0),\n",
              " datetime.datetime(1996, 10, 2, 0, 0),\n",
              " datetime.datetime(1996, 10, 14, 0, 0),\n",
              " datetime.datetime(1996, 11, 11, 0, 0),\n",
              " datetime.datetime(1997, 1, 1, 0, 0),\n",
              " datetime.datetime(1997, 1, 1, 0, 0),\n",
              " datetime.datetime(1997, 7, 1, 0, 0),\n",
              " datetime.datetime(1997, 7, 11, 0, 0),\n",
              " datetime.datetime(1997, 8, 9, 0, 0),\n",
              " datetime.datetime(1997, 10, 1, 0, 0),\n",
              " datetime.datetime(1997, 10, 5, 0, 0),\n",
              " datetime.datetime(1997, 12, 8, 0, 0),\n",
              " datetime.datetime(1998, 1, 1, 0, 0),\n",
              " datetime.datetime(1998, 1, 1, 0, 0),\n",
              " datetime.datetime(1998, 1, 1, 0, 0),\n",
              " datetime.datetime(1998, 2, 15, 0, 0),\n",
              " datetime.datetime(1998, 4, 24, 0, 0),\n",
              " datetime.datetime(1998, 5, 15, 0, 0),\n",
              " datetime.datetime(1998, 6, 1, 0, 0),\n",
              " datetime.datetime(1998, 7, 21, 0, 0),\n",
              " datetime.datetime(1998, 7, 25, 0, 0),\n",
              " datetime.datetime(1998, 8, 1, 0, 0),\n",
              " datetime.datetime(1998, 10, 4, 0, 0),\n",
              " datetime.datetime(1998, 11, 1, 0, 0),\n",
              " datetime.datetime(1998, 12, 22, 0, 0),\n",
              " datetime.datetime(1999, 1, 1, 0, 0),\n",
              " datetime.datetime(1999, 1, 1, 0, 0),\n",
              " datetime.datetime(1999, 1, 1, 0, 0),\n",
              " datetime.datetime(1999, 1, 1, 0, 0),\n",
              " datetime.datetime(1999, 1, 5, 0, 0),\n",
              " datetime.datetime(1999, 2, 1, 0, 0),\n",
              " datetime.datetime(1999, 4, 1, 0, 0),\n",
              " datetime.datetime(1999, 5, 1, 0, 0),\n",
              " datetime.datetime(1999, 7, 24, 0, 0),\n",
              " datetime.datetime(1999, 8, 1, 0, 0),\n",
              " datetime.datetime(1999, 10, 18, 0, 0),\n",
              " datetime.datetime(1999, 12, 23, 0, 0),\n",
              " datetime.datetime(2000, 1, 1, 0, 0),\n",
              " datetime.datetime(2000, 1, 1, 0, 0),\n",
              " datetime.datetime(2000, 1, 1, 0, 0),\n",
              " datetime.datetime(2000, 2, 1, 0, 0),\n",
              " datetime.datetime(2000, 3, 1, 0, 0),\n",
              " datetime.datetime(2000, 5, 1, 0, 0),\n",
              " datetime.datetime(2000, 8, 1, 0, 0),\n",
              " datetime.datetime(2000, 8, 10, 0, 0),\n",
              " datetime.datetime(2000, 8, 23, 0, 0),\n",
              " datetime.datetime(2000, 9, 1, 0, 0),\n",
              " datetime.datetime(2000, 9, 14, 0, 0),\n",
              " datetime.datetime(2000, 11, 1, 0, 0),\n",
              " datetime.datetime(2001, 1, 1, 0, 0),\n",
              " datetime.datetime(2001, 1, 1, 0, 0),\n",
              " datetime.datetime(2001, 1, 24, 0, 0),\n",
              " datetime.datetime(2001, 5, 26, 0, 0),\n",
              " datetime.datetime(2001, 5, 30, 0, 0),\n",
              " datetime.datetime(2001, 5, 30, 0, 0),\n",
              " datetime.datetime(2001, 6, 1, 0, 0),\n",
              " datetime.datetime(2001, 9, 1, 0, 0),\n",
              " datetime.datetime(2001, 10, 1, 0, 0),\n",
              " datetime.datetime(2002, 1, 1, 0, 0),\n",
              " datetime.datetime(2002, 3, 1, 0, 0),\n",
              " datetime.datetime(2002, 4, 1, 0, 0),\n",
              " datetime.datetime(2002, 4, 13, 0, 0),\n",
              " datetime.datetime(2002, 6, 1, 0, 0),\n",
              " datetime.datetime(2002, 6, 28, 0, 0),\n",
              " datetime.datetime(2002, 7, 18, 0, 0),\n",
              " datetime.datetime(2002, 8, 1, 0, 0),\n",
              " datetime.datetime(2002, 11, 11, 0, 0),\n",
              " datetime.datetime(2003, 1, 1, 0, 0),\n",
              " datetime.datetime(2003, 3, 1, 0, 0),\n",
              " datetime.datetime(2003, 7, 1, 0, 0),\n",
              " datetime.datetime(2003, 8, 1, 0, 0),\n",
              " datetime.datetime(2003, 9, 1, 0, 0),\n",
              " datetime.datetime(2003, 10, 6, 0, 0),\n",
              " datetime.datetime(2004, 1, 1, 0, 0),\n",
              " datetime.datetime(2004, 1, 1, 0, 0),\n",
              " datetime.datetime(2004, 1, 1, 0, 0),\n",
              " datetime.datetime(2004, 1, 1, 0, 0),\n",
              " datetime.datetime(2004, 1, 1, 0, 0),\n",
              " datetime.datetime(2004, 1, 1, 0, 0),\n",
              " datetime.datetime(2004, 3, 12, 0, 0),\n",
              " datetime.datetime(2004, 4, 8, 0, 0),\n",
              " datetime.datetime(2004, 5, 1, 0, 0),\n",
              " datetime.datetime(2004, 5, 1, 0, 0),\n",
              " datetime.datetime(2004, 7, 1, 0, 0),\n",
              " datetime.datetime(2004, 8, 12, 0, 0),\n",
              " datetime.datetime(2004, 9, 10, 0, 0),\n",
              " datetime.datetime(2004, 11, 11, 0, 0),\n",
              " datetime.datetime(2004, 12, 1, 0, 0),\n",
              " datetime.datetime(2005, 1, 1, 0, 0),\n",
              " datetime.datetime(2005, 1, 1, 0, 0),\n",
              " datetime.datetime(2005, 5, 1, 0, 0),\n",
              " datetime.datetime(2005, 6, 1, 0, 0),\n",
              " datetime.datetime(2005, 9, 1, 0, 0),\n",
              " datetime.datetime(2005, 12, 1, 0, 0),\n",
              " datetime.datetime(2006, 1, 1, 0, 0),\n",
              " datetime.datetime(2006, 1, 1, 0, 0),\n",
              " datetime.datetime(2006, 1, 1, 0, 0),\n",
              " datetime.datetime(2006, 2, 11, 0, 0),\n",
              " datetime.datetime(2006, 4, 27, 0, 0),\n",
              " datetime.datetime(2006, 5, 1, 0, 0),\n",
              " datetime.datetime(2006, 10, 18, 0, 0),\n",
              " datetime.datetime(2007, 1, 1, 0, 0),\n",
              " datetime.datetime(2007, 1, 1, 0, 0),\n",
              " datetime.datetime(2007, 1, 1, 0, 0),\n",
              " datetime.datetime(2007, 1, 1, 0, 0),\n",
              " datetime.datetime(2007, 1, 1, 0, 0),\n",
              " datetime.datetime(2007, 1, 1, 0, 0),\n",
              " datetime.datetime(2007, 4, 1, 0, 0),\n",
              " datetime.datetime(2007, 4, 1, 0, 0),\n",
              " datetime.datetime(2007, 6, 1, 0, 0),\n",
              " datetime.datetime(2007, 9, 1, 0, 0),\n",
              " datetime.datetime(2007, 10, 21, 0, 0),\n",
              " datetime.datetime(2007, 11, 1, 0, 0),\n",
              " datetime.datetime(2007, 11, 30, 0, 0),\n",
              " datetime.datetime(2007, 12, 1, 0, 0),\n",
              " datetime.datetime(2008, 1, 1, 0, 0),\n",
              " datetime.datetime(2008, 1, 1, 0, 0),\n",
              " datetime.datetime(2008, 1, 1, 0, 0),\n",
              " datetime.datetime(2008, 1, 1, 0, 0),\n",
              " datetime.datetime(2008, 1, 14, 0, 0),\n",
              " datetime.datetime(2008, 5, 26, 0, 0),\n",
              " datetime.datetime(2008, 8, 1, 0, 0),\n",
              " datetime.datetime(2008, 11, 1, 0, 0),\n",
              " datetime.datetime(2008, 12, 1, 0, 0),\n",
              " datetime.datetime(2009, 1, 1, 0, 0),\n",
              " datetime.datetime(2009, 1, 1, 0, 0),\n",
              " datetime.datetime(2009, 1, 1, 0, 0),\n",
              " datetime.datetime(2009, 1, 1, 0, 0),\n",
              " datetime.datetime(2009, 2, 1, 0, 0),\n",
              " datetime.datetime(2009, 7, 1, 0, 0),\n",
              " datetime.datetime(2009, 8, 1, 0, 0),\n",
              " datetime.datetime(2009, 12, 1, 0, 0),\n",
              " datetime.datetime(2010, 1, 1, 0, 0),\n",
              " datetime.datetime(2010, 1, 1, 0, 0),\n",
              " datetime.datetime(2010, 3, 1, 0, 0),\n",
              " datetime.datetime(2010, 5, 1, 0, 0),\n",
              " datetime.datetime(2010, 5, 26, 0, 0),\n",
              " datetime.datetime(2010, 8, 1, 0, 0),\n",
              " datetime.datetime(2010, 10, 1, 0, 0),\n",
              " datetime.datetime(2010, 11, 1, 0, 0),\n",
              " datetime.datetime(2010, 11, 1, 0, 0),\n",
              " datetime.datetime(2010, 12, 5, 0, 0),\n",
              " datetime.datetime(2011, 1, 1, 0, 0),\n",
              " datetime.datetime(2011, 1, 1, 0, 0),\n",
              " datetime.datetime(2011, 1, 1, 0, 0),\n",
              " datetime.datetime(2011, 1, 1, 0, 0),\n",
              " datetime.datetime(2011, 1, 1, 0, 0),\n",
              " datetime.datetime(2011, 1, 24, 0, 0),\n",
              " datetime.datetime(2011, 1, 25, 0, 0),\n",
              " datetime.datetime(2011, 5, 1, 0, 0),\n",
              " datetime.datetime(2011, 6, 13, 0, 0),\n",
              " datetime.datetime(2011, 7, 20, 0, 0),\n",
              " datetime.datetime(2012, 1, 1, 0, 0),\n",
              " datetime.datetime(2012, 1, 1, 0, 0),\n",
              " datetime.datetime(2012, 4, 1, 0, 0),\n",
              " datetime.datetime(2012, 5, 1, 0, 0),\n",
              " datetime.datetime(2012, 5, 12, 0, 0),\n",
              " datetime.datetime(2012, 6, 25, 0, 0),\n",
              " datetime.datetime(2012, 9, 1, 0, 0),\n",
              " datetime.datetime(2012, 9, 1, 0, 0),\n",
              " datetime.datetime(2012, 10, 21, 0, 0),\n",
              " datetime.datetime(2012, 12, 1, 0, 0),\n",
              " datetime.datetime(2013, 1, 1, 0, 0),\n",
              " datetime.datetime(2013, 1, 1, 0, 0),\n",
              " datetime.datetime(2013, 1, 1, 0, 0),\n",
              " datetime.datetime(2013, 1, 1, 0, 0),\n",
              " datetime.datetime(2013, 4, 1, 0, 0),\n",
              " datetime.datetime(2013, 9, 1, 0, 0),\n",
              " datetime.datetime(2014, 1, 1, 0, 0),\n",
              " datetime.datetime(2014, 1, 1, 0, 0),\n",
              " datetime.datetime(2014, 7, 1, 0, 0),\n",
              " datetime.datetime(2014, 10, 1, 0, 0),\n",
              " datetime.datetime(2014, 10, 1, 0, 0),\n",
              " datetime.datetime(2014, 12, 1, 0, 0),\n",
              " datetime.datetime(2015, 1, 1, 0, 0),\n",
              " datetime.datetime(2015, 1, 1, 0, 0),\n",
              " datetime.datetime(2015, 9, 1, 0, 0),\n",
              " datetime.datetime(2015, 9, 28, 0, 0),\n",
              " datetime.datetime(2016, 1, 1, 0, 0),\n",
              " datetime.datetime(2016, 2, 1, 0, 0),\n",
              " datetime.datetime(2016, 5, 1, 0, 0),\n",
              " datetime.datetime(2016, 5, 1, 0, 0),\n",
              " datetime.datetime(2016, 5, 30, 0, 0),\n",
              " datetime.datetime(2016, 10, 13, 0, 0),\n",
              " datetime.datetime(2016, 10, 19, 0, 0),\n",
              " datetime.datetime(2016, 11, 1, 0, 0)]"
            ]
          },
          "metadata": {},
          "execution_count": 370
        }
      ]
    },
    {
      "cell_type": "code",
      "source": [
        "len(fechas_ordenadas)"
      ],
      "metadata": {
        "id": "fHKHqvwF04lK",
        "outputId": "ee7cf16d-1041-4d39-b564-c676458ac6f1",
        "colab": {
          "base_uri": "https://localhost:8080/"
        }
      },
      "execution_count": null,
      "outputs": [
        {
          "output_type": "execute_result",
          "data": {
            "text/plain": [
              "500"
            ]
          },
          "metadata": {},
          "execution_count": 371
        }
      ]
    },
    {
      "cell_type": "markdown",
      "source": [
        "La primera fecha es: 10 Abril 1971\n",
        "\n",
        "La última fecha es: Nov 2016"
      ],
      "metadata": {
        "id": "W7u6Lj0QgNyN"
      }
    }
  ]
}