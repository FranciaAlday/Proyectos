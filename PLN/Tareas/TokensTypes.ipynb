{
  "nbformat": 4,
  "nbformat_minor": 0,
  "metadata": {
    "colab": {
      "provenance": [],
      "authorship_tag": "ABX9TyP074QRxS8J/ZM3OebIPmht",
      "include_colab_link": true
    },
    "kernelspec": {
      "name": "python3",
      "display_name": "Python 3"
    },
    "language_info": {
      "name": "python"
    }
  },
  "cells": [
    {
      "cell_type": "markdown",
      "metadata": {
        "id": "view-in-github",
        "colab_type": "text"
      },
      "source": [
        "<a href=\"https://colab.research.google.com/github/FranciaAlday/Proyectos/blob/main/PLN/Tareas/TokensTypes.ipynb\" target=\"_parent\"><img src=\"https://colab.research.google.com/assets/colab-badge.svg\" alt=\"Open In Colab\"/></a>"
      ]
    },
    {
      "cell_type": "markdown",
      "source": [
        "Alday Martínez Francia Aide\n",
        "\n",
        "PLN 2024-1"
      ],
      "metadata": {
        "id": "jlwBsAkxFhWi"
      }
    },
    {
      "cell_type": "markdown",
      "source": [
        "# Tema 3 - Actividad Sumativa 1\n",
        "\n",
        "Escribe un programa en Python que lea cada uno de estos textos, tokenice, y cuente el número de tokens y types de cada uno de ellos (sin usar ninguna librería).\n",
        "\n",
        "*   LA ÚLTIMA INOCENCIA, Alejandra Pizarnik\n",
        "\n",
        "*   Fragmento del poema XXVI de Dulce María Loynaz"
      ],
      "metadata": {
        "id": "IozPyNKGfxg7"
      }
    },
    {
      "cell_type": "code",
      "source": [
        "text1 = open(\"DulceMaríaLoynaz.txt\", \"r\")\n",
        "print(text1.read())"
      ],
      "metadata": {
        "colab": {
          "base_uri": "https://localhost:8080/"
        },
        "id": "fBUebG9EiYYW",
        "outputId": "78a86236-4d08-4213-c337-6c3dfbfcf501"
      },
      "execution_count": null,
      "outputs": [
        {
          "output_type": "stream",
          "name": "stdout",
          "text": [
            "“He de amoldarme a ti como el río a su cauce, como el mar a su playa, como la espada a su vaina.\n",
            "He de correr en ti, he de cantar en ti, he de guardarme en ti ya para siempre.\n",
            "Fuera de ti ha de sobrarme el mundo como le sobra al río el aire, al mar la tierra, a la espada la mesa del convite.\n",
            "Dentro de ti no ha de faltarme blandura de limo para mi corriente, perfil de viento para mis olas, ceñidura y reposo para mi acero.”\n"
          ]
        }
      ]
    },
    {
      "cell_type": "code",
      "source": [
        "text1 = open(\"DulceMaríaLoynaz.txt\", \"r\").read()\n",
        "text1"
      ],
      "metadata": {
        "colab": {
          "base_uri": "https://localhost:8080/",
          "height": 70
        },
        "id": "p0Kpdv_3slET",
        "outputId": "9c402a82-4bc2-4306-de37-6c1b823fff71"
      },
      "execution_count": null,
      "outputs": [
        {
          "output_type": "execute_result",
          "data": {
            "text/plain": [
              "'“He de amoldarme a ti como el río a su cauce, como el mar a su playa, como la espada a su vaina.\\nHe de correr en ti, he de cantar en ti, he de guardarme en ti ya para siempre.\\nFuera de ti ha de sobrarme el mundo como le sobra al río el aire, al mar la tierra, a la espada la mesa del convite.\\nDentro de ti no ha de faltarme blandura de limo para mi corriente, perfil de viento para mis olas, ceñidura y reposo para mi acero.”'"
            ],
            "application/vnd.google.colaboratory.intrinsic+json": {
              "type": "string"
            }
          },
          "metadata": {},
          "execution_count": 86
        }
      ]
    },
    {
      "cell_type": "code",
      "source": [
        "text2 = open(\"ultimaInocencia.txt\", \"r\")\n",
        "print(text2.read())"
      ],
      "metadata": {
        "colab": {
          "base_uri": "https://localhost:8080/"
        },
        "id": "CuwHaVj-jBi8",
        "outputId": "e3f20835-60f2-4e19-8610-7ae27586b866"
      },
      "execution_count": null,
      "outputs": [
        {
          "output_type": "stream",
          "name": "stdout",
          "text": [
            "Partir\n",
            "en cuerpo y alma\n",
            "partir.\n",
            "Partir\n",
            "deshacerse de las miradas\n",
            "piedras opresoras\n",
            "que duermen en la garganta.\n",
            "\n",
            "He de partir\n",
            "no más inercia bajo el sol\n",
            "no más sangre anonadada\n",
            "no más fila para morir.\n",
            "\n",
            "He de partir\n",
            "\n",
            "Pero arremete ¡viajera!\n"
          ]
        }
      ]
    },
    {
      "cell_type": "code",
      "source": [
        "text2 = open(\"ultimaInocencia.txt\", \"r\").read()\n",
        "text2"
      ],
      "metadata": {
        "colab": {
          "base_uri": "https://localhost:8080/",
          "height": 52
        },
        "id": "uFhXoFCOq3Ei",
        "outputId": "e5f67b02-8f97-4d8f-c8ec-c9ce76965b7d"
      },
      "execution_count": null,
      "outputs": [
        {
          "output_type": "execute_result",
          "data": {
            "text/plain": [
              "'Partir\\nen cuerpo y alma\\npartir.\\nPartir\\ndeshacerse de las miradas\\npiedras opresoras\\nque duermen en la garganta.\\n\\nHe de partir\\nno más inercia bajo el sol\\nno más sangre anonadada\\nno más fila para morir.\\n\\nHe de partir\\n\\nPero arremete ¡viajera!'"
            ],
            "application/vnd.google.colaboratory.intrinsic+json": {
              "type": "string"
            }
          },
          "metadata": {},
          "execution_count": 72
        }
      ]
    },
    {
      "cell_type": "code",
      "source": [
        "type(text2)"
      ],
      "metadata": {
        "colab": {
          "base_uri": "https://localhost:8080/"
        },
        "id": "1S0GsfWJpiyf",
        "outputId": "cfa4a721-a43f-4287-e8a9-e0266eee42cc"
      },
      "execution_count": null,
      "outputs": [
        {
          "output_type": "execute_result",
          "data": {
            "text/plain": [
              "str"
            ]
          },
          "metadata": {},
          "execution_count": 6
        }
      ]
    },
    {
      "cell_type": "markdown",
      "source": [
        "## Número de tokens en los textos"
      ],
      "metadata": {
        "id": "_WAYpT9dW0qS"
      }
    },
    {
      "cell_type": "markdown",
      "source": [
        "Texto 2:"
      ],
      "metadata": {
        "id": "7zVXW2rQi2VQ"
      }
    },
    {
      "cell_type": "code",
      "source": [
        "text2 = text2.replace('\\n\\n','\\n')"
      ],
      "metadata": {
        "id": "NEQeySCCYhVW"
      },
      "execution_count": null,
      "outputs": []
    },
    {
      "cell_type": "code",
      "source": [
        "text2 = text2.replace('\\n',' ')"
      ],
      "metadata": {
        "id": "B7zTrZLmW0_u"
      },
      "execution_count": null,
      "outputs": []
    },
    {
      "cell_type": "code",
      "source": [
        "text2 = text2.lower()\n",
        "text2"
      ],
      "metadata": {
        "colab": {
          "base_uri": "https://localhost:8080/",
          "height": 52
        },
        "id": "4AHqtvGoXzT0",
        "outputId": "9a477c43-d5ef-486f-a558-194948f3e5a1"
      },
      "execution_count": null,
      "outputs": [
        {
          "output_type": "execute_result",
          "data": {
            "text/plain": [
              "'partir en cuerpo y alma partir. partir deshacerse de las miradas piedras opresoras que duermen en la garganta. he de partir no más inercia bajo el sol no más sangre anonadada no más fila para morir. he de partir pero arremete ¡viajera!'"
            ],
            "application/vnd.google.colaboratory.intrinsic+json": {
              "type": "string"
            }
          },
          "metadata": {},
          "execution_count": 76
        }
      ]
    },
    {
      "cell_type": "code",
      "source": [
        "text2 = text2.replace('.',' .')\n",
        "text2 = text2.replace('¡','¡ ')\n",
        "text2 = text2.replace('!',' !')"
      ],
      "metadata": {
        "id": "u-SwwZtMcw2k"
      },
      "execution_count": null,
      "outputs": []
    },
    {
      "cell_type": "code",
      "source": [
        "text2.count(\".\"), text2.count(\"¡\"), text2.count(\"!\")\n"
      ],
      "metadata": {
        "colab": {
          "base_uri": "https://localhost:8080/"
        },
        "id": "_PXp_Moob8hn",
        "outputId": "db777632-66e1-4c0b-f557-c01d89a79f1e"
      },
      "execution_count": null,
      "outputs": [
        {
          "output_type": "execute_result",
          "data": {
            "text/plain": [
              "(3, 1, 1)"
            ]
          },
          "metadata": {},
          "execution_count": 78
        }
      ]
    },
    {
      "cell_type": "code",
      "source": [
        "text2"
      ],
      "metadata": {
        "colab": {
          "base_uri": "https://localhost:8080/",
          "height": 52
        },
        "id": "tEcckn2uc7Re",
        "outputId": "11792409-87b2-4142-de79-4838f21809c8"
      },
      "execution_count": null,
      "outputs": [
        {
          "output_type": "execute_result",
          "data": {
            "text/plain": [
              "'partir en cuerpo y alma partir . partir deshacerse de las miradas piedras opresoras que duermen en la garganta . he de partir no más inercia bajo el sol no más sangre anonadada no más fila para morir . he de partir pero arremete ¡ viajera !'"
            ],
            "application/vnd.google.colaboratory.intrinsic+json": {
              "type": "string"
            }
          },
          "metadata": {},
          "execution_count": 79
        }
      ]
    },
    {
      "cell_type": "code",
      "source": [
        "result = len(text2.split(' '))\n",
        "\n",
        "# Prints an array of strings\n",
        "print(text2.split(' '))\n",
        "print(\"El texto tiene \" + str(result) + \" tokens.\")"
      ],
      "metadata": {
        "colab": {
          "base_uri": "https://localhost:8080/"
        },
        "id": "XKEpPqRCS_Np",
        "outputId": "6f47351d-2915-4ab1-d152-1af446d391fb"
      },
      "execution_count": null,
      "outputs": [
        {
          "output_type": "stream",
          "name": "stdout",
          "text": [
            "['partir', 'en', 'cuerpo', 'y', 'alma', 'partir', '.', 'partir', 'deshacerse', 'de', 'las', 'miradas', 'piedras', 'opresoras', 'que', 'duermen', 'en', 'la', 'garganta', '.', 'he', 'de', 'partir', 'no', 'más', 'inercia', 'bajo', 'el', 'sol', 'no', 'más', 'sangre', 'anonadada', 'no', 'más', 'fila', 'para', 'morir', '.', 'he', 'de', 'partir', 'pero', 'arremete', '¡', 'viajera', '!']\n",
            "El texto tiene 47 tokens.\n"
          ]
        }
      ]
    },
    {
      "cell_type": "markdown",
      "source": [
        "Texto 1:"
      ],
      "metadata": {
        "id": "FCRSBogzi-MT"
      }
    },
    {
      "cell_type": "code",
      "source": [
        "text1 = text1.replace('\\n',' ')\n",
        "text1 = text1.replace('.',' .')\n",
        "text1 = text1.replace(',',' ,')\n",
        "text1 = text1.replace('“','“ ')\n",
        "text1 = text1.replace('”',' ”')\n",
        "text1 = text1.lower()\n",
        "text1"
      ],
      "metadata": {
        "colab": {
          "base_uri": "https://localhost:8080/",
          "height": 70
        },
        "id": "hFEbW6kIfWdQ",
        "outputId": "5a7755ec-6974-4e61-b723-a620d1867341"
      },
      "execution_count": null,
      "outputs": [
        {
          "output_type": "execute_result",
          "data": {
            "text/plain": [
              "'“ he de amoldarme a ti como el río a su cauce , como el mar a su playa , como la espada a su vaina . he de correr en ti , he de cantar en ti , he de guardarme en ti ya para siempre . fuera de ti ha de sobrarme el mundo como le sobra al río el aire , al mar la tierra , a la espada la mesa del convite . dentro de ti no ha de faltarme blandura de limo para mi corriente , perfil de viento para mis olas , ceñidura y reposo para mi acero . ”'"
            ],
            "application/vnd.google.colaboratory.intrinsic+json": {
              "type": "string"
            }
          },
          "metadata": {},
          "execution_count": 87
        }
      ]
    },
    {
      "cell_type": "code",
      "source": [
        "text1.count(\".\"), text1.count(\",\"), text1.count(\"“\"), text1.count(\"”\")"
      ],
      "metadata": {
        "colab": {
          "base_uri": "https://localhost:8080/"
        },
        "id": "lpNgaxcMfWgX",
        "outputId": "7e6993c7-a4c8-4329-8b13-eb86c4fc7f03"
      },
      "execution_count": null,
      "outputs": [
        {
          "output_type": "execute_result",
          "data": {
            "text/plain": [
              "(4, 8, 1, 1)"
            ]
          },
          "metadata": {},
          "execution_count": 88
        }
      ]
    },
    {
      "cell_type": "code",
      "source": [
        "result1 = len(text1.split())\n",
        "print(text1.split(' '))\n",
        "print(\"El texto tiene \" + str(result1) + \" tokens\")"
      ],
      "metadata": {
        "colab": {
          "base_uri": "https://localhost:8080/"
        },
        "id": "BlJBupI8h1UE",
        "outputId": "1a9b1d73-123b-47b8-aace-d1fb64c3d48d"
      },
      "execution_count": null,
      "outputs": [
        {
          "output_type": "stream",
          "name": "stdout",
          "text": [
            "['“', 'he', 'de', 'amoldarme', 'a', 'ti', 'como', 'el', 'río', 'a', 'su', 'cauce', ',', 'como', 'el', 'mar', 'a', 'su', 'playa', ',', 'como', 'la', 'espada', 'a', 'su', 'vaina', '.', 'he', 'de', 'correr', 'en', 'ti', ',', 'he', 'de', 'cantar', 'en', 'ti', ',', 'he', 'de', 'guardarme', 'en', 'ti', 'ya', 'para', 'siempre', '.', 'fuera', 'de', 'ti', 'ha', 'de', 'sobrarme', 'el', 'mundo', 'como', 'le', 'sobra', 'al', 'río', 'el', 'aire', ',', 'al', 'mar', 'la', 'tierra', ',', 'a', 'la', 'espada', 'la', 'mesa', 'del', 'convite', '.', 'dentro', 'de', 'ti', 'no', 'ha', 'de', 'faltarme', 'blandura', 'de', 'limo', 'para', 'mi', 'corriente', ',', 'perfil', 'de', 'viento', 'para', 'mis', 'olas', ',', 'ceñidura', 'y', 'reposo', 'para', 'mi', 'acero', '.', '”']\n",
            "El texto tiene 106 tokens\n"
          ]
        }
      ]
    },
    {
      "cell_type": "markdown",
      "source": [
        "Cuando separe antes con split sin contar signos de puntuación, en el texto 1 encontré 92 tokens y en el texto 2 encontré 42 tokens"
      ],
      "metadata": {
        "id": "HyFQyXeaiC4Z"
      }
    },
    {
      "cell_type": "markdown",
      "source": [
        "## Conteo de types"
      ],
      "metadata": {
        "id": "wboiubIguG3L"
      }
    },
    {
      "cell_type": "markdown",
      "source": [
        "Texto 1:"
      ],
      "metadata": {
        "id": "I77raBTJ9XZ4"
      }
    },
    {
      "cell_type": "code",
      "source": [
        "tokens = text1.split(' ')\n",
        "\n",
        "# Crear un diccionario para almacenar las palabras y sus conteos\n",
        "dic = {}\n",
        "\n",
        "# Contar las palabras únicas y almacenar sus conteos en el diccionario\n",
        "for types in tokens:\n",
        "  if types in dic:\n",
        "    dic[types] += 1\n",
        "  else:\n",
        "    dic[types] = 1\n",
        "\n",
        "dic"
      ],
      "metadata": {
        "colab": {
          "base_uri": "https://localhost:8080/"
        },
        "id": "kuXE446F13C0",
        "outputId": "8ba8a88a-2ef0-4f5c-981e-46b20b268d76"
      },
      "execution_count": null,
      "outputs": [
        {
          "output_type": "execute_result",
          "data": {
            "text/plain": [
              "{'“': 1,\n",
              " 'he': 4,\n",
              " 'de': 10,\n",
              " 'amoldarme': 1,\n",
              " 'a': 5,\n",
              " 'ti': 6,\n",
              " 'como': 4,\n",
              " 'el': 4,\n",
              " 'río': 2,\n",
              " 'su': 3,\n",
              " 'cauce': 1,\n",
              " ',': 8,\n",
              " 'mar': 2,\n",
              " 'playa': 1,\n",
              " 'la': 4,\n",
              " 'espada': 2,\n",
              " 'vaina': 1,\n",
              " '.': 4,\n",
              " 'correr': 1,\n",
              " 'en': 3,\n",
              " 'cantar': 1,\n",
              " 'guardarme': 1,\n",
              " 'ya': 1,\n",
              " 'para': 4,\n",
              " 'siempre': 1,\n",
              " 'fuera': 1,\n",
              " 'ha': 2,\n",
              " 'sobrarme': 1,\n",
              " 'mundo': 1,\n",
              " 'le': 1,\n",
              " 'sobra': 1,\n",
              " 'al': 2,\n",
              " 'aire': 1,\n",
              " 'tierra': 1,\n",
              " 'mesa': 1,\n",
              " 'del': 1,\n",
              " 'convite': 1,\n",
              " 'dentro': 1,\n",
              " 'no': 1,\n",
              " 'faltarme': 1,\n",
              " 'blandura': 1,\n",
              " 'limo': 1,\n",
              " 'mi': 2,\n",
              " 'corriente': 1,\n",
              " 'perfil': 1,\n",
              " 'viento': 1,\n",
              " 'mis': 1,\n",
              " 'olas': 1,\n",
              " 'ceñidura': 1,\n",
              " 'y': 1,\n",
              " 'reposo': 1,\n",
              " 'acero': 1,\n",
              " '”': 1}"
            ]
          },
          "metadata": {},
          "execution_count": 90
        }
      ]
    },
    {
      "cell_type": "code",
      "source": [
        "len(dic)"
      ],
      "metadata": {
        "colab": {
          "base_uri": "https://localhost:8080/"
        },
        "id": "kJDzombV3P8d",
        "outputId": "aff6f126-f697-481c-a575-793138096a20"
      },
      "execution_count": null,
      "outputs": [
        {
          "output_type": "execute_result",
          "data": {
            "text/plain": [
              "53"
            ]
          },
          "metadata": {},
          "execution_count": 92
        }
      ]
    },
    {
      "cell_type": "markdown",
      "source": [
        "Texto 2:"
      ],
      "metadata": {
        "id": "vazM6fGM9kQo"
      }
    },
    {
      "cell_type": "code",
      "source": [
        "tokens = text2.split(' ')\n",
        "\n",
        "# Crear un diccionario para almacenar las palabras y sus conteos\n",
        "dic2 = {}\n",
        "\n",
        "# Contar las palabras únicas y almacenar sus conteos en el diccionario\n",
        "for types in tokens:\n",
        "  if types in dic2:\n",
        "    dic2[types] += 1\n",
        "  else:\n",
        "    dic2[types] = 1\n",
        "\n",
        "dic2"
      ],
      "metadata": {
        "colab": {
          "base_uri": "https://localhost:8080/"
        },
        "id": "eg5_nNRr9j9b",
        "outputId": "3ed91544-c868-4fa1-be65-d081e0dceba6"
      },
      "execution_count": null,
      "outputs": [
        {
          "output_type": "execute_result",
          "data": {
            "text/plain": [
              "{'partir': 5,\n",
              " 'en': 2,\n",
              " 'cuerpo': 1,\n",
              " 'y': 1,\n",
              " 'alma': 1,\n",
              " '.': 3,\n",
              " 'deshacerse': 1,\n",
              " 'de': 3,\n",
              " 'las': 1,\n",
              " 'miradas': 1,\n",
              " 'piedras': 1,\n",
              " 'opresoras': 1,\n",
              " 'que': 1,\n",
              " 'duermen': 1,\n",
              " 'la': 1,\n",
              " 'garganta': 1,\n",
              " 'he': 2,\n",
              " 'no': 3,\n",
              " 'más': 3,\n",
              " 'inercia': 1,\n",
              " 'bajo': 1,\n",
              " 'el': 1,\n",
              " 'sol': 1,\n",
              " 'sangre': 1,\n",
              " 'anonadada': 1,\n",
              " 'fila': 1,\n",
              " 'para': 1,\n",
              " 'morir': 1,\n",
              " 'pero': 1,\n",
              " 'arremete': 1,\n",
              " '¡': 1,\n",
              " 'viajera': 1,\n",
              " '!': 1}"
            ]
          },
          "metadata": {},
          "execution_count": 93
        }
      ]
    },
    {
      "cell_type": "code",
      "source": [
        "len(dic2)"
      ],
      "metadata": {
        "colab": {
          "base_uri": "https://localhost:8080/"
        },
        "id": "fE0Tw54v_d1c",
        "outputId": "fac2fe23-8c0c-4aea-e6bc-d7c0c289cd92"
      },
      "execution_count": null,
      "outputs": [
        {
          "output_type": "execute_result",
          "data": {
            "text/plain": [
              "33"
            ]
          },
          "metadata": {},
          "execution_count": 94
        }
      ]
    },
    {
      "cell_type": "markdown",
      "source": [
        "En el texto 1 hay 53 types y en el texto 2 hay 33 types contando signos de puntuación como tokens"
      ],
      "metadata": {
        "id": "inPztnR0AGCj"
      }
    },
    {
      "cell_type": "markdown",
      "source": [
        "Debería poner lo de cambiar signos de puntuación, minusculas y espacios dentro de una función para sólo usarla en el texto\n",
        "\n",
        "Se pueden crear parámetros para elegir si contar mayúsculas o signos de puntuación, si son TRUE entonces se aplican si no no"
      ],
      "metadata": {
        "id": "Cu4Xa1Vcgmsp"
      }
    }
  ]
}