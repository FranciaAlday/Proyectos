{
  "cells": [
    {
      "cell_type": "markdown",
      "metadata": {
        "id": "view-in-github",
        "colab_type": "text"
      },
      "source": [
        "<a href=\"https://colab.research.google.com/github/FranciaAlday/Proyectos/blob/main/PLN/Tareas/clase2_regex_PracticaClean.ipynb\" target=\"_parent\"><img src=\"https://colab.research.google.com/assets/colab-badge.svg\" alt=\"Open In Colab\"/></a>"
      ]
    },
    {
      "cell_type": "markdown",
      "metadata": {
        "collapsed": true,
        "id": "lAfu42NzfD_U"
      },
      "source": [
        "# Expresiones regulares"
      ]
    },
    {
      "cell_type": "markdown",
      "metadata": {
        "collapsed": true,
        "id": "UeikKE1YfD_W"
      },
      "source": [
        "## Caso de estudio: Expresiones regulares para fechas\n",
        "\n",
        "### Variaciones de fechas para 23 de Octubre de 2002\n",
        "23-10-2002\n",
        "\n",
        "23/10/2002\n",
        "\n",
        "23/10/02\n",
        "\n",
        "10/23/2002\n",
        "\n",
        "23 Oct 2002\n",
        "\n",
        "23 de Octubre de 2002\n",
        "\n",
        "Oct 23, 2002\n",
        "\n",
        "Octubre 23, 2002"
      ]
    },
    {
      "cell_type": "code",
      "execution_count": null,
      "metadata": {
        "colab": {
          "base_uri": "https://localhost:8080/"
        },
        "id": "bxsrmiTmfD_W",
        "outputId": "10873d52-cdb1-435f-e896-564c62ab2a9a"
      },
      "outputs": [
        {
          "output_type": "stream",
          "name": "stdout",
          "text": [
            "23-10-002\n",
            "23-10-2002\n",
            "23/10/2002\n",
            "23/10/02\n",
            "10/23/2002\n",
            "23 Oct 2002\n",
            "23 de Octubre de 2002\n",
            "Oct 23, 2002\n",
            "Octubre 23, 2002\n",
            "\n"
          ]
        }
      ],
      "source": [
        "import re\n",
        "dateStr = '23-10-002\\n23-10-2002\\n23/10/2002\\n23/10/02\\n10/23/2002\\n23 Oct 2002\\n23 de Octubre de 2002\\nOct 23, \\\n",
        "2002\\nOctubre 23, 2002\\n'\n",
        "print (dateStr)"
      ]
    },
    {
      "cell_type": "markdown",
      "metadata": {
        "collapsed": true,
        "id": "Kvc8zxjTfD_X"
      },
      "source": [
        "### Primera versión: Expresiones regulares para fechas (números)\n",
        "23-10-002\n",
        "\n",
        "23-10-2002\n",
        "\n",
        "23/10/2002\n",
        "\n",
        "23/10/02\n",
        "\n",
        "10/23/2002"
      ]
    },
    {
      "cell_type": "code",
      "source": [
        "#yo\n",
        "re.findall('\\d{2}[/-]\\d{2}[/-]\\d{4}', dateStr)"
      ],
      "metadata": {
        "colab": {
          "base_uri": "https://localhost:8080/"
        },
        "id": "m50k2XByfmxk",
        "outputId": "29a411c9-f821-43d8-9a18-f85466e577d5"
      },
      "execution_count": null,
      "outputs": [
        {
          "output_type": "execute_result",
          "data": {
            "text/plain": [
              "['23-10-2002', '23/10/2002', '10/23/2002']"
            ]
          },
          "metadata": {},
          "execution_count": 4
        }
      ]
    },
    {
      "cell_type": "code",
      "source": [
        "#yo\n",
        "re.findall('\\d{2}[/-]\\d{2}[/-]\\d{2,4}', dateStr)"
      ],
      "metadata": {
        "colab": {
          "base_uri": "https://localhost:8080/"
        },
        "id": "cp16kQcdhPuV",
        "outputId": "076f2d1f-2e8c-4d13-c4a0-3799bcf81a16"
      },
      "execution_count": null,
      "outputs": [
        {
          "output_type": "execute_result",
          "data": {
            "text/plain": [
              "['23-10-002', '23-10-2002', '23/10/2002', '23/10/02', '10/23/2002']"
            ]
          },
          "metadata": {},
          "execution_count": 5
        }
      ]
    },
    {
      "cell_type": "code",
      "execution_count": null,
      "metadata": {
        "id": "B02V4RG-fD_X",
        "outputId": "3b91e880-5989-4375-8eb3-f319a162ae4a"
      },
      "outputs": [
        {
          "data": {
            "text/plain": [
              "['23-10-002', '23-10-2002', '23/10/2002', '23/10/02', '10/23/2002']"
            ]
          },
          "execution_count": 10,
          "metadata": {},
          "output_type": "execute_result"
        }
      ],
      "source": []
    },
    {
      "cell_type": "markdown",
      "metadata": {
        "collapsed": true,
        "id": "Udcd2eQ7fD_Y"
      },
      "source": [
        "### Agregamos rango de dígitos"
      ]
    },
    {
      "cell_type": "code",
      "execution_count": null,
      "metadata": {
        "id": "vgfOh6YbfD_Y",
        "outputId": "a3a0a804-b5fe-4aa3-ddea-4ebdda6416b5"
      },
      "outputs": [
        {
          "data": {
            "text/plain": [
              "['23-10-2002', '23/10/2002', '23/10/02', '10/23/2002']"
            ]
          },
          "execution_count": 31,
          "metadata": {},
          "output_type": "execute_result"
        }
      ],
      "source": []
    },
    {
      "cell_type": "markdown",
      "metadata": {
        "collapsed": true,
        "id": "_7wqaLDqfD_Y"
      },
      "source": [
        "### Segunda versión: Expresiones regulares para fechas (letras) - Agregamos alternancia\n",
        "\n",
        "23 Oct 2002\n",
        "\n",
        "23 de Octubre de 2002\n",
        "\n",
        "Oct 23, 2002\n",
        "\n",
        "Octubre 23, 2002"
      ]
    },
    {
      "cell_type": "code",
      "source": [
        "re.findall('\\d{2} (Ene|Feb|Mar|Abr|May|Jun|Jul|Ago|Sep|Oct|Nov|Dic) \\d{4}',dateStr)"
      ],
      "metadata": {
        "colab": {
          "base_uri": "https://localhost:8080/"
        },
        "id": "8q5TZ6NDiMIE",
        "outputId": "30caa4b8-ff40-4a1e-a866-595af8701c03"
      },
      "execution_count": null,
      "outputs": [
        {
          "output_type": "execute_result",
          "data": {
            "text/plain": [
              "['Oct']"
            ]
          },
          "metadata": {},
          "execution_count": 8
        }
      ]
    },
    {
      "cell_type": "code",
      "source": [
        "#yo\n",
        "# 2 digitos + mes + 4 digitos\n",
        "re.findall('\\d{2} (?:Enero|Febrero|Marzo|Abril|Mayo|Junio|Julio|Agosto|Septiembre|Octubre|Noviembre|Diciembre) \\d{4}', dateStr)"
      ],
      "metadata": {
        "colab": {
          "base_uri": "https://localhost:8080/"
        },
        "id": "ExCNo3eChgms",
        "outputId": "8a47a8fa-266e-445e-92ab-265022b8ccb3"
      },
      "execution_count": null,
      "outputs": [
        {
          "output_type": "execute_result",
          "data": {
            "text/plain": [
              "[]"
            ]
          },
          "metadata": {},
          "execution_count": 14
        }
      ]
    },
    {
      "cell_type": "markdown",
      "source": [],
      "metadata": {
        "id": "SgqvEt5-iwyM"
      }
    },
    {
      "cell_type": "markdown",
      "metadata": {
        "collapsed": true,
        "id": "f6OqkxqtfD_Y"
      },
      "source": [
        "### Se agrega ?: para que no capture el grupo"
      ]
    },
    {
      "cell_type": "code",
      "source": [
        "re.findall('\\d{2} (?:Ene|Feb|Mar|Abr|May|Jun|Jul|Ago|Sep|Oct|Nov|Dic) \\d{4}',dateStr)"
      ],
      "metadata": {
        "colab": {
          "base_uri": "https://localhost:8080/"
        },
        "id": "KBRLH8PAjfME",
        "outputId": "d24e078c-8229-4b78-8464-44847afccf58"
      },
      "execution_count": null,
      "outputs": [
        {
          "output_type": "execute_result",
          "data": {
            "text/plain": [
              "['23 Oct 2002']"
            ]
          },
          "metadata": {},
          "execution_count": 13
        }
      ]
    },
    {
      "cell_type": "markdown",
      "metadata": {
        "collapsed": true,
        "id": "YCNm8wqCfD_Z"
      },
      "source": [
        "### Agregamos la palabra \"de\" opcional"
      ]
    },
    {
      "cell_type": "code",
      "source": [
        "re.findall('\\d{2} (?:de)?(?:Ene|Feb|Mar|Abr|May|Jun|Jul|Ago|Sep|Oct|Nov|Dic) [a-z]*(?:de)?\\d{4}',dateStr)"
      ],
      "metadata": {
        "colab": {
          "base_uri": "https://localhost:8080/"
        },
        "id": "UVPUsq3rkgKM",
        "outputId": "111aff0c-a7ca-4ebe-bbef-5038dc5ad567"
      },
      "execution_count": null,
      "outputs": [
        {
          "output_type": "execute_result",
          "data": {
            "text/plain": [
              "['23 Oct 2002']"
            ]
          },
          "metadata": {},
          "execution_count": 18
        }
      ]
    },
    {
      "cell_type": "code",
      "source": [
        "re.findall('\\d{2} (?:de )?(?:Ene|Feb|Mar|Abr|May|Jun|Jul|Ago|Sep|Oct|Nov|Dic)[a-z]* (?:de )?\\d{4}', dateStr)\n"
      ],
      "metadata": {
        "colab": {
          "base_uri": "https://localhost:8080/"
        },
        "id": "7aCjD4Aak2fb",
        "outputId": "d7806bf3-4d71-4cb2-bc18-2b0d17ef635d"
      },
      "execution_count": null,
      "outputs": [
        {
          "output_type": "execute_result",
          "data": {
            "text/plain": [
              "['23 Oct 2002', '23 de Octubre de 2002']"
            ]
          },
          "metadata": {},
          "execution_count": 25
        }
      ]
    },
    {
      "cell_type": "code",
      "execution_count": null,
      "metadata": {
        "id": "fJuku-yGfD_Z",
        "outputId": "3cd96b04-eb57-41ba-f650-f323a884a9b3"
      },
      "outputs": [
        {
          "data": {
            "text/plain": [
              "['23 Oct 2002', '23 de Octubre de 2002']"
            ]
          },
          "execution_count": 29,
          "metadata": {},
          "output_type": "execute_result"
        }
      ],
      "source": [
        "re.findall('\\d{2} (?:de)?(?:Ene|Feb|Mar|Abr|May|Jun|Jul|Ago|Sep|Oct|Nov|Dic) (?:de)?\\d{4}',dateStr)"
      ]
    },
    {
      "cell_type": "markdown",
      "metadata": {
        "collapsed": true,
        "id": "PtA05AS0fD_Z"
      },
      "source": [
        "### Cambiamos \\d{2}  por (?:\\d{2} )? para hacerlo opcional, y agregamos (?:\\d{2}, )? para capturar dato del dia al final"
      ]
    },
    {
      "cell_type": "code",
      "source": [
        "re.findall('(?:\\d{2} )? (?:de )?(?:Ene|Feb|Mar|Abr|May|Jun|Jul|Ago|Sep|Oct|Nov|Dic)[a-z]* (?:de )?\\d{4}', dateStr)"
      ],
      "metadata": {
        "colab": {
          "base_uri": "https://localhost:8080/"
        },
        "id": "HUR9-q9KlsK6",
        "outputId": "5e8ecc8b-978d-424d-e35b-dac989694903"
      },
      "execution_count": null,
      "outputs": [
        {
          "output_type": "execute_result",
          "data": {
            "text/plain": [
              "[' Oct 2002', ' de Octubre de 2002']"
            ]
          },
          "metadata": {},
          "execution_count": 26
        }
      ]
    },
    {
      "cell_type": "code",
      "source": [
        "re.findall(r'(?:\\d{2} )? (?:de )?(?:Ene|Feb|Mar|Abr|May|Jun|Jul|Ago|Sep|Oct|Nov|Dic)[a-z]* (?:de )?(?:\\d{2}, )?\\d{4}', dateStr)"
      ],
      "metadata": {
        "colab": {
          "base_uri": "https://localhost:8080/"
        },
        "id": "nFdFMN6FmYd7",
        "outputId": "7e776bab-9866-4535-bdcb-a5a16a522572"
      },
      "execution_count": null,
      "outputs": [
        {
          "output_type": "execute_result",
          "data": {
            "text/plain": [
              "[' Oct 2002', ' de Octubre de 2002']"
            ]
          },
          "metadata": {},
          "execution_count": 29
        }
      ]
    },
    {
      "cell_type": "code",
      "source": [
        "re.findall(r'(?:\\d{2} )?(?:de )?(?:Ene|Feb|Mar|Abr|May|Jun|Jul|Ago|Sep|Oct|Nov|Dic)[a-z]* (?:de )?(?:\\d{2}, )?\\d{4}', dateStr)\n"
      ],
      "metadata": {
        "colab": {
          "base_uri": "https://localhost:8080/"
        },
        "id": "3hiqWNPrmr-o",
        "outputId": "27a09b23-7688-4016-eed7-da8b8c9c6a2b"
      },
      "execution_count": null,
      "outputs": [
        {
          "output_type": "execute_result",
          "data": {
            "text/plain": [
              "['23 Oct 2002', '23 de Octubre de 2002', 'Oct 23, 2002', 'Octubre 23, 2002']"
            ]
          },
          "metadata": {},
          "execution_count": 30
        }
      ]
    },
    {
      "cell_type": "code",
      "execution_count": null,
      "metadata": {
        "id": "PkIWKN2cfD_Z",
        "outputId": "cdf3d274-6088-44a9-8c51-03c10a3932e4"
      },
      "outputs": [
        {
          "data": {
            "text/plain": [
              "['23 Oct 2002', '23 de Octubre de 2002', 'Oct 23, 2002', 'Octubre 23, 2002']"
            ]
          },
          "execution_count": 30,
          "metadata": {},
          "output_type": "execute_result"
        }
      ],
      "source": []
    },
    {
      "cell_type": "markdown",
      "metadata": {
        "collapsed": true,
        "id": "eQ3OVftcfD_Z"
      },
      "source": [
        "### Tercera versión: ahora tenemos en el día un solo digito, que pasa con nuestras expresiones regulares?\n",
        "\n",
        "1-10-2002\n",
        "\n",
        "1 Oct 2001"
      ]
    },
    {
      "cell_type": "code",
      "execution_count": null,
      "metadata": {
        "colab": {
          "base_uri": "https://localhost:8080/"
        },
        "id": "YnD-ZJ4wfD_Z",
        "outputId": "b22c50aa-1bee-4267-e309-2be615f31adc"
      },
      "outputs": [
        {
          "output_type": "stream",
          "name": "stdout",
          "text": [
            "23-10-002\n",
            "23-10-2002\n",
            "23/10/2002\n",
            "23/10/02\n",
            "10/23/2002\n",
            "23 Oct 2002\n",
            "23 de Octubre de 2002\n",
            "Oct 23, 2002\n",
            "Octubre 23, 2002\n",
            "1-10-2001\n",
            "1 Oct 2001\n"
          ]
        }
      ],
      "source": [
        "dateStr = '23-10-002\\n23-10-2002\\n23/10/2002\\n23/10/02\\n10/23/2002\\n23 Oct 2002\\n23 de Octubre de 2002\\nOct 23, \\\n",
        "2002\\nOctubre 23, 2002\\n1-10-2001\\n1 Oct 2001'\n",
        "print (dateStr)"
      ]
    },
    {
      "cell_type": "code",
      "source": [
        "dateStr = '1-10-2001\\n1 Oct 2001’"
      ],
      "metadata": {
        "id": "5zdzV0xlm9Sy"
      },
      "execution_count": null,
      "outputs": []
    },
    {
      "cell_type": "code",
      "source": [
        "re.findall('\\d{2}[/-]\\d{1,2}[/-]\\d{2,4}', dateStr)"
      ],
      "metadata": {
        "colab": {
          "base_uri": "https://localhost:8080/"
        },
        "id": "bkqEhM90nCjy",
        "outputId": "5181ebfa-01d8-4423-b717-4832c67d3b0d"
      },
      "execution_count": null,
      "outputs": [
        {
          "output_type": "execute_result",
          "data": {
            "text/plain": [
              "['23-10-002', '23-10-2002', '23/10/2002', '23/10/02', '10/23/2002']"
            ]
          },
          "metadata": {},
          "execution_count": 33
        }
      ]
    },
    {
      "cell_type": "code",
      "source": [
        "re.findall('\\d{1,2}[/-]\\d{1,2}[/-]\\d{2,4}', dateStr)\n"
      ],
      "metadata": {
        "colab": {
          "base_uri": "https://localhost:8080/"
        },
        "id": "_LPlS7FsnX-C",
        "outputId": "f56d9fbd-382f-4df9-c190-14cd8096a53a"
      },
      "execution_count": null,
      "outputs": [
        {
          "output_type": "execute_result",
          "data": {
            "text/plain": [
              "['23-10-002',\n",
              " '23-10-2002',\n",
              " '23/10/2002',\n",
              " '23/10/02',\n",
              " '10/23/2002',\n",
              " '1-10-2001']"
            ]
          },
          "metadata": {},
          "execution_count": 34
        }
      ]
    },
    {
      "cell_type": "code",
      "source": [
        "re.findall(r'(?:\\d{1,2} )?(?:de)?(?:Jan|Feb|Mar|Apr|May|Jun|Jul|Aug|Sep|Oct|Nov|Dec)[a-z]* (?:de )?(?:\\d{1,2},)?\\d{4}', dateStr)\n"
      ],
      "metadata": {
        "id": "9jYvaaofoAYS",
        "outputId": "4565b884-5975-47ec-b0ec-a45922c4b105",
        "colab": {
          "base_uri": "https://localhost:8080/"
        }
      },
      "execution_count": null,
      "outputs": [
        {
          "output_type": "execute_result",
          "data": {
            "text/plain": [
              "['23 Oct 2002', 'Octubre de 2002', '1 Oct 2001']"
            ]
          },
          "metadata": {},
          "execution_count": 35
        }
      ]
    },
    {
      "cell_type": "markdown",
      "metadata": {
        "collapsed": true,
        "id": "h6Clm4wbfD_Z"
      },
      "source": [
        "### No captura las fechas correctamente"
      ]
    },
    {
      "cell_type": "code",
      "execution_count": null,
      "metadata": {
        "id": "loDAhSnofD_Z",
        "outputId": "02ef0f6b-e749-45af-891c-ece1006f87b7"
      },
      "outputs": [
        {
          "name": "stdout",
          "output_type": "stream",
          "text": [
            "['23 Oct 2002', '23 de Octubre de 2002', 'Oct 23, 2002', 'Octubre 23, 2002', 'Oct 2001'] ['23-10-00', '23-10-2002', '23/10/2002', '23/10/02', '10/23/2002']\n"
          ]
        }
      ],
      "source": []
    },
    {
      "cell_type": "markdown",
      "metadata": {
        "collapsed": true,
        "id": "PZzA_FiPfD_a"
      },
      "source": [
        "### Agregamos rango de 1 a 2 en el digito que representa el día"
      ]
    },
    {
      "cell_type": "code",
      "execution_count": null,
      "metadata": {
        "id": "zUERKY3VfD_a"
      },
      "outputs": [],
      "source": []
    },
    {
      "cell_type": "markdown",
      "metadata": {
        "collapsed": true,
        "id": "_oob9RhnfD_a"
      },
      "source": [
        "### Agregamos rango de 1 a 2 en el digito que representa el día"
      ]
    },
    {
      "cell_type": "code",
      "execution_count": null,
      "metadata": {
        "id": "KLthvx2WfD_a"
      },
      "outputs": [],
      "source": []
    }
  ],
  "metadata": {
    "coursera": {
      "course_slug": "python-text-mining",
      "graded_item_id": "LvcWI",
      "launcher_item_id": "krne9",
      "part_id": "Mkp1I"
    },
    "kernelspec": {
      "display_name": "Python 3",
      "language": "python",
      "name": "python3"
    },
    "language_info": {
      "codemirror_mode": {
        "name": "ipython",
        "version": 3
      },
      "file_extension": ".py",
      "mimetype": "text/x-python",
      "name": "python",
      "nbconvert_exporter": "python",
      "pygments_lexer": "ipython3",
      "version": "3.8.5"
    },
    "colab": {
      "provenance": [],
      "include_colab_link": true
    }
  },
  "nbformat": 4,
  "nbformat_minor": 0
}