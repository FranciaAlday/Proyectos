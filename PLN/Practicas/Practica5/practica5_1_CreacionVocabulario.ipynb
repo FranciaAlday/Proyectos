{
  "cells": [
    {
      "cell_type": "markdown",
      "metadata": {
        "id": "view-in-github",
        "colab_type": "text"
      },
      "source": [
        "<a href=\"https://colab.research.google.com/github/FranciaAlday/Proyectos/blob/main/PLN/Practicas/Practica5/practica5_1_CreacionVocabulario.ipynb\" target=\"_parent\"><img src=\"https://colab.research.google.com/assets/colab-badge.svg\" alt=\"Open In Colab\"/></a>"
      ]
    },
    {
      "cell_type": "markdown",
      "metadata": {
        "id": "fBzBwKVF5WRX"
      },
      "source": [
        "# NLP Course 2 Week 1 Lesson : Building The Model - Lecture Exercise 01\n",
        "Estimated Time: 10 minutes\n",
        "<br>\n",
        "# Vocabulary Creation\n",
        "Create a tiny vocabulary from a tiny corpus\n",
        "<br>\n",
        "It's time to start small !\n",
        "<br>\n",
        "### Imports and Data"
      ]
    },
    {
      "cell_type": "code",
      "execution_count": null,
      "metadata": {
        "id": "aYh7bBCb5WRd"
      },
      "outputs": [],
      "source": [
        "# imports\n",
        "import re # regular expression library; for tokenization of words\n",
        "from collections import Counter # collections library; counter: dict subclass for counting hashable objects\n",
        "import matplotlib.pyplot as plt # for data visualization"
      ]
    },
    {
      "cell_type": "code",
      "execution_count": null,
      "metadata": {
        "id": "znc2zpec5WRg",
        "outputId": "7f567208-f005-4420-e344-4b034c766d74",
        "colab": {
          "base_uri": "https://localhost:8080/"
        }
      },
      "outputs": [
        {
          "output_type": "stream",
          "name": "stdout",
          "text": [
            "red pink pink blue blue yellow ORANGE BLUE BLUE PINK purple\n",
            "string length :  59\n"
          ]
        }
      ],
      "source": [
        "# the tiny corpus of text !\n",
        "text = 'red pink pink blue blue yellow ORANGE BLUE BLUE PINK purple' # 🌈\n",
        "print(text)\n",
        "print('string length : ',len(text))"
      ]
    },
    {
      "cell_type": "markdown",
      "metadata": {
        "id": "2FL3G8gU5WRh"
      },
      "source": [
        "### Preprocessing"
      ]
    },
    {
      "cell_type": "code",
      "execution_count": null,
      "metadata": {
        "id": "dCeYwib65WRi",
        "outputId": "ae3ed7d2-6433-44f5-bd4c-6f01234b1d6c",
        "colab": {
          "base_uri": "https://localhost:8080/"
        }
      },
      "outputs": [
        {
          "output_type": "stream",
          "name": "stdout",
          "text": [
            "red pink pink blue blue yellow orange blue blue pink purple\n",
            "string length :  59\n"
          ]
        }
      ],
      "source": [
        "# convert all letters to lower case\n",
        "text_lowercase = text.lower()\n",
        "print(text_lowercase)\n",
        "print('string length : ',len(text_lowercase))"
      ]
    },
    {
      "cell_type": "code",
      "execution_count": null,
      "metadata": {
        "id": "V4rJTvpX5WRj",
        "outputId": "de85c7c0-9c50-47b5-a6d0-e4680bb4fc73",
        "colab": {
          "base_uri": "https://localhost:8080/"
        }
      },
      "outputs": [
        {
          "output_type": "stream",
          "name": "stdout",
          "text": [
            "['red', 'pink', 'pink', 'blue', 'blue', 'yellow', 'orange', 'blue', 'blue', 'pink', 'purple']\n",
            "count :  11\n"
          ]
        }
      ],
      "source": [
        "# some regex to tokenize the string to words and return them in a list\n",
        "words = re.findall(r'\\w+', text_lowercase)\n",
        "print(words)\n",
        "print('count : ',len(words))"
      ]
    },
    {
      "cell_type": "markdown",
      "metadata": {
        "id": "Gz6tbzkk5WRj"
      },
      "source": [
        "### Create Vocabulary\n",
        "Option 1 : A set of distinct words from the text"
      ]
    },
    {
      "cell_type": "code",
      "execution_count": null,
      "metadata": {
        "id": "4CSGuMWY5WRk",
        "outputId": "13a62add-c3f6-4e38-caa9-9814acf5e3b0",
        "colab": {
          "base_uri": "https://localhost:8080/"
        }
      },
      "outputs": [
        {
          "output_type": "stream",
          "name": "stdout",
          "text": [
            "{'red', 'yellow', 'blue', 'purple', 'pink', 'orange'}\n",
            "count :  6\n"
          ]
        }
      ],
      "source": [
        "# create vocab\n",
        "vocab = set(words)\n",
        "print(vocab)\n",
        "print('count : ',len(vocab))"
      ]
    },
    {
      "cell_type": "markdown",
      "metadata": {
        "id": "KdP8zV1k5WRl"
      },
      "source": [
        "### Add Information with Word Counts\n",
        "Option 2 : Two alternatives for including the word count as well"
      ]
    },
    {
      "cell_type": "code",
      "execution_count": null,
      "metadata": {
        "id": "x0w7fX9t5WRl",
        "outputId": "9057ce9e-215a-4f12-8245-e22004659fcd",
        "colab": {
          "base_uri": "https://localhost:8080/"
        }
      },
      "outputs": [
        {
          "output_type": "stream",
          "name": "stdout",
          "text": [
            "{'red': 1, 'pink': 3, 'blue': 4, 'yellow': 1, 'orange': 1, 'purple': 1}\n",
            "count :  6\n"
          ]
        }
      ],
      "source": [
        "# create vocab including word count\n",
        "counts_a = dict()\n",
        "for w in words:\n",
        "    counts_a[w] = counts_a.get(w,0)+1\n",
        "print(counts_a)\n",
        "print('count : ',len(counts_a))"
      ]
    },
    {
      "cell_type": "code",
      "execution_count": null,
      "metadata": {
        "id": "xFQ_swsJ5WRm",
        "outputId": "b6a5a585-455a-4dee-8bbf-c96ab56e6ebd",
        "colab": {
          "base_uri": "https://localhost:8080/"
        }
      },
      "outputs": [
        {
          "output_type": "stream",
          "name": "stdout",
          "text": [
            "Counter({'blue': 4, 'pink': 3, 'red': 1, 'yellow': 1, 'orange': 1, 'purple': 1})\n",
            "count :  6\n"
          ]
        }
      ],
      "source": [
        "# create vocab including word count using collections.Counter\n",
        "counts_b = dict()\n",
        "counts_b = Counter(words)\n",
        "print(counts_b)\n",
        "print('count : ',len(counts_b))"
      ]
    },
    {
      "cell_type": "code",
      "execution_count": null,
      "metadata": {
        "id": "F_y68UGq5WRm",
        "outputId": "796c162e-ad8a-4e9a-fd2b-b9459f3f246b",
        "colab": {
          "base_uri": "https://localhost:8080/",
          "height": 430
        }
      },
      "outputs": [
        {
          "output_type": "display_data",
          "data": {
            "text/plain": [
              "<Figure size 640x480 with 1 Axes>"
            ],
            "image/png": "[encoded data removed]"
          },
          "metadata": {}
        }
      ],
      "source": [
        "# barchart of sorted word counts\n",
        "d = {'blue': counts_b['blue'], 'pink': counts_b['pink'], 'purple':counts_b['purple'], 'red': counts_b['red'], 'yellow': counts_b['yellow'], 'orange': counts_b['orange']}\n",
        "plt.bar(range(len(d)), list(d.values()), align='center', color=d.keys())\n",
        "_ = plt.xticks(range(len(d)), list(d.keys()))"
      ]
    },
    {
      "cell_type": "markdown",
      "metadata": {
        "id": "b8DRujoy5WRn"
      },
      "source": [
        "### Ungraded Exercise\n",
        "Note that `counts_b`, above, returned by `collections.Counter` is sorted by word count\n",
        "\n",
        "Can you modify the tiny corpus of ***text*** so that a new color appears\n",
        "between ***pink*** and ***red*** in `counts_b` ?\n",
        "\n",
        "Do you need to run all the cells again, or just specific ones ?"
      ]
    },
    {
      "cell_type": "code",
      "execution_count": null,
      "metadata": {
        "id": "ypjwR9Lk5WRn",
        "outputId": "fcb05bbf-3b51-4957-c956-2723d945daea",
        "colab": {
          "base_uri": "https://localhost:8080/"
        }
      },
      "outputs": [
        {
          "output_type": "stream",
          "name": "stdout",
          "text": [
            "counts_b :  Counter({'blue': 4, 'pink': 3, 'red': 1, 'yellow': 1, 'orange': 1, 'purple': 1})\n",
            "count :  6\n"
          ]
        }
      ],
      "source": [
        "print('counts_b : ', counts_b)\n",
        "print('count : ', len(counts_b))"
      ]
    },
    {
      "cell_type": "code",
      "source": [
        "counts_b['green'] = 2"
      ],
      "metadata": {
        "id": "cnnbyscYpf_C"
      },
      "execution_count": null,
      "outputs": []
    },
    {
      "cell_type": "code",
      "source": [
        "counts_b"
      ],
      "metadata": {
        "colab": {
          "base_uri": "https://localhost:8080/"
        },
        "id": "t9FfuRTkptKm",
        "outputId": "265f2fd5-c54c-49e6-88d9-c82667c1d0d2"
      },
      "execution_count": null,
      "outputs": [
        {
          "output_type": "execute_result",
          "data": {
            "text/plain": [
              "Counter({'red': 1,\n",
              "         'pink': 3,\n",
              "         'blue': 4,\n",
              "         'yellow': 1,\n",
              "         'orange': 1,\n",
              "         'purple': 1,\n",
              "         'green': 2})"
            ]
          },
          "metadata": {},
          "execution_count": 15
        }
      ]
    },
    {
      "cell_type": "code",
      "source": [
        "print(Counter(counts_b))\n",
        "print('count : ',len(counts_b))"
      ],
      "metadata": {
        "colab": {
          "base_uri": "https://localhost:8080/"
        },
        "id": "SeXH05SpqLB3",
        "outputId": "93f4c599-69d4-40cd-9868-3f9efe0312ec"
      },
      "execution_count": null,
      "outputs": [
        {
          "output_type": "stream",
          "name": "stdout",
          "text": [
            "Counter({'blue': 4, 'pink': 3, 'green': 2, 'red': 1, 'yellow': 1, 'orange': 1, 'purple': 1})\n",
            "count :  7\n"
          ]
        }
      ]
    },
    {
      "cell_type": "markdown",
      "metadata": {
        "id": "1HMTh0as5WRn"
      },
      "source": [
        "Expected Outcome:\n",
        "\n",
        "counts_b : Counter({'blue': 4, 'pink': 3, **'your_new_color_here': 2**, red': 1, 'yellow': 1, 'orange': 1})\n",
        "<br>\n",
        "count :  6"
      ]
    },
    {
      "cell_type": "markdown",
      "metadata": {
        "id": "8Qvmnfyc5WRn"
      },
      "source": [
        "### Summary\n",
        "\n",
        "This is a tiny example but the methodology scales very well.\n",
        "<br>\n",
        "In the assignment you will create a large vocabulary of thousands of words, from a corpus\n",
        "<br>\n",
        "of tens of thousands or words! But the mechanics are exactly the same.\n",
        "<br>\n",
        "The only extra things to pay attention to should be; run time, memory management and the vocab data structure.\n",
        "<br>\n",
        "So the choice of approach used in code blocks `counts_a` vs `counts_b`, above, will be important."
      ]
    },
    {
      "cell_type": "code",
      "execution_count": null,
      "metadata": {
        "id": "uv_DvF2d5WRo"
      },
      "outputs": [],
      "source": []
    }
  ],
  "metadata": {
    "kernelspec": {
      "display_name": "Python 3",
      "language": "python",
      "name": "python3"
    },
    "language_info": {
      "codemirror_mode": {
        "name": "ipython",
        "version": 3
      },
      "file_extension": ".py",
      "mimetype": "text/x-python",
      "name": "python",
      "nbconvert_exporter": "python",
      "pygments_lexer": "ipython3",
      "version": "3.8.5"
    },
    "colab": {
      "provenance": [],
      "include_colab_link": true
    }
  },
  "nbformat": 4,
  "nbformat_minor": 0
}