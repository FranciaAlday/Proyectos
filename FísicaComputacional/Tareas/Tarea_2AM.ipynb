{
  "nbformat": 4,
  "nbformat_minor": 0,
  "metadata": {
    "kernelspec": {
      "display_name": "Python 3",
      "language": "python",
      "name": "python3"
    },
    "language_info": {
      "codemirror_mode": {
        "name": "ipython",
        "version": 3
      },
      "file_extension": ".py",
      "mimetype": "text/x-python",
      "name": "python",
      "nbconvert_exporter": "python",
      "pygments_lexer": "ipython3",
      "version": "3.8.8"
    },
    "colab": {
      "provenance": [],
      "include_colab_link": true
    }
  },
  "cells": [
    {
      "cell_type": "markdown",
      "metadata": {
        "id": "view-in-github",
        "colab_type": "text"
      },
      "source": [
        "<a href=\"https://colab.research.google.com/github/FranciaAlday/Proyectos/blob/main/F%C3%ADsicaComputacional/Tareas/Tarea_2AM.ipynb\" target=\"_parent\"><img src=\"https://colab.research.google.com/assets/colab-badge.svg\" alt=\"Open In Colab\"/></a>"
      ]
    },
    {
      "cell_type": "markdown",
      "metadata": {
        "ExecuteTime": {
          "end_time": "2020-10-11T23:31:40.881412Z",
          "start_time": "2020-10-11T23:31:40.873889Z"
        },
        "id": "jtXip-N5fQQ-"
      },
      "source": [
        "<font size=4 color='blue'>\n",
        "\n",
        "# <center> Tópico de estudio: Mortalidad por diabetes </center>"
      ]
    },
    {
      "cell_type": "markdown",
      "metadata": {
        "id": "gmCOp4GOfQRT"
      },
      "source": [
        "<font size=4 color='blue'>\n",
        "    \n",
        "## Información sobre el tópico"
      ]
    },
    {
      "cell_type": "markdown",
      "metadata": {
        "id": "I9sj64o-fQRg"
      },
      "source": [
        "<font size=4>\n",
        "\n",
        "Evolución de la diabetes después de un año.\n",
        "    \n",
        "En el presente trabajo, la diabetes la caracterizamos con los siguientes diez rasgos: edad, sexo, índice de masa corporal, presión arterial promedio y seis mediciones de suero sanguíneo (S1, S2, S3, S4, S5, S6).\n"
      ]
    },
    {
      "cell_type": "markdown",
      "metadata": {
        "id": "a8nrlvZ6fQRk"
      },
      "source": [
        "<font size=4 color='blue'>\n",
        "    \n",
        "## Cuantificación de esta información"
      ]
    },
    {
      "cell_type": "markdown",
      "metadata": {
        "id": "KDYNh42NfQRn"
      },
      "source": [
        "<font size=4>\n",
        "\n",
        "Se tiene información de 442 pacientes $(m = 442)$. La respuesta de interés, $Y$, es una medida cuantitativa de la progresión de la enfermedad un año después del inicio del estudio. Los valores de $Y$ varían entre 25 y 346\n",
        "\n",
        "Fuente de la información: [diabetes data](https://www4.stat.ncsu.edu/~boos/var.select/diabetes.html)    \n",
        "\n",
        "Artículo original: [Least-Angle-Regression_2004](./Literatura/Least-Angle-Regression_2004.pdf)"
      ]
    },
    {
      "cell_type": "code",
      "metadata": {
        "ExecuteTime": {
          "end_time": "2020-10-20T17:23:09.525342Z",
          "start_time": "2020-10-20T17:23:09.131578Z"
        },
        "id": "c97AAYYAfQRp"
      },
      "source": [
        "import pandas as pd\n",
        "import numpy as np\n",
        "import matplotlib.pyplot as plt\n",
        "import time"
      ],
      "execution_count": null,
      "outputs": []
    },
    {
      "cell_type": "code",
      "metadata": {
        "ExecuteTime": {
          "end_time": "2020-10-20T17:23:09.533015Z",
          "start_time": "2020-10-20T17:23:09.526914Z"
        },
        "id": "l5o18mUmfQRu"
      },
      "source": [
        "# Los datos se encuentran el el archivo diabetes.csv\n",
        "\n",
        "df = pd.read_csv('diabetes.csv', sep ='\\t')\n",
        "\n",
        "# se crea el dataframe df, el cual contiene los 10 rasgos relevantes de los pacientes\n",
        "# diabeticos, así como el progreso (y) de la enfermedad un año después de comenzado el estudio."
      ],
      "execution_count": null,
      "outputs": []
    },
    {
      "cell_type": "code",
      "metadata": {
        "ExecuteTime": {
          "end_time": "2020-10-20T17:23:09.552420Z",
          "start_time": "2020-10-20T17:23:09.534768Z"
        },
        "colab": {
          "base_uri": "https://localhost:8080/",
          "height": 206
        },
        "id": "yYmuWDu5fQRw",
        "outputId": "dcc216ab-08d3-4ce8-a418-309c2a279bd0"
      },
      "source": [
        "# Se despliegan las primeras 5 muestras (rasgos, objetivo)\n",
        "\n",
        "df.head()"
      ],
      "execution_count": null,
      "outputs": [
        {
          "output_type": "execute_result",
          "data": {
            "text/html": [
              "<div>\n",
              "<style scoped>\n",
              "    .dataframe tbody tr th:only-of-type {\n",
              "        vertical-align: middle;\n",
              "    }\n",
              "\n",
              "    .dataframe tbody tr th {\n",
              "        vertical-align: top;\n",
              "    }\n",
              "\n",
              "    .dataframe thead th {\n",
              "        text-align: right;\n",
              "    }\n",
              "</style>\n",
              "<table border=\"1\" class=\"dataframe\">\n",
              "  <thead>\n",
              "    <tr style=\"text-align: right;\">\n",
              "      <th></th>\n",
              "      <th>AGE</th>\n",
              "      <th>SEX</th>\n",
              "      <th>BMI</th>\n",
              "      <th>BP</th>\n",
              "      <th>S1</th>\n",
              "      <th>S2</th>\n",
              "      <th>S3</th>\n",
              "      <th>S4</th>\n",
              "      <th>S5</th>\n",
              "      <th>S6</th>\n",
              "      <th>Y</th>\n",
              "    </tr>\n",
              "  </thead>\n",
              "  <tbody>\n",
              "    <tr>\n",
              "      <th>0</th>\n",
              "      <td>59</td>\n",
              "      <td>2</td>\n",
              "      <td>32.1</td>\n",
              "      <td>101.0</td>\n",
              "      <td>157</td>\n",
              "      <td>93.2</td>\n",
              "      <td>38.0</td>\n",
              "      <td>4.0</td>\n",
              "      <td>4.8598</td>\n",
              "      <td>87</td>\n",
              "      <td>151</td>\n",
              "    </tr>\n",
              "    <tr>\n",
              "      <th>1</th>\n",
              "      <td>48</td>\n",
              "      <td>1</td>\n",
              "      <td>21.6</td>\n",
              "      <td>87.0</td>\n",
              "      <td>183</td>\n",
              "      <td>103.2</td>\n",
              "      <td>70.0</td>\n",
              "      <td>3.0</td>\n",
              "      <td>3.8918</td>\n",
              "      <td>69</td>\n",
              "      <td>75</td>\n",
              "    </tr>\n",
              "    <tr>\n",
              "      <th>2</th>\n",
              "      <td>72</td>\n",
              "      <td>2</td>\n",
              "      <td>30.5</td>\n",
              "      <td>93.0</td>\n",
              "      <td>156</td>\n",
              "      <td>93.6</td>\n",
              "      <td>41.0</td>\n",
              "      <td>4.0</td>\n",
              "      <td>4.6728</td>\n",
              "      <td>85</td>\n",
              "      <td>141</td>\n",
              "    </tr>\n",
              "    <tr>\n",
              "      <th>3</th>\n",
              "      <td>24</td>\n",
              "      <td>1</td>\n",
              "      <td>25.3</td>\n",
              "      <td>84.0</td>\n",
              "      <td>198</td>\n",
              "      <td>131.4</td>\n",
              "      <td>40.0</td>\n",
              "      <td>5.0</td>\n",
              "      <td>4.8903</td>\n",
              "      <td>89</td>\n",
              "      <td>206</td>\n",
              "    </tr>\n",
              "    <tr>\n",
              "      <th>4</th>\n",
              "      <td>50</td>\n",
              "      <td>1</td>\n",
              "      <td>23.0</td>\n",
              "      <td>101.0</td>\n",
              "      <td>192</td>\n",
              "      <td>125.4</td>\n",
              "      <td>52.0</td>\n",
              "      <td>4.0</td>\n",
              "      <td>4.2905</td>\n",
              "      <td>80</td>\n",
              "      <td>135</td>\n",
              "    </tr>\n",
              "  </tbody>\n",
              "</table>\n",
              "</div>"
            ],
            "text/plain": [
              "   AGE  SEX   BMI     BP   S1     S2    S3   S4      S5  S6    Y\n",
              "0   59    2  32.1  101.0  157   93.2  38.0  4.0  4.8598  87  151\n",
              "1   48    1  21.6   87.0  183  103.2  70.0  3.0  3.8918  69   75\n",
              "2   72    2  30.5   93.0  156   93.6  41.0  4.0  4.6728  85  141\n",
              "3   24    1  25.3   84.0  198  131.4  40.0  5.0  4.8903  89  206\n",
              "4   50    1  23.0  101.0  192  125.4  52.0  4.0  4.2905  80  135"
            ]
          },
          "metadata": {},
          "execution_count": 3
        }
      ]
    },
    {
      "cell_type": "markdown",
      "metadata": {
        "id": "gygdhrXNfQR0"
      },
      "source": [
        "<font size=4 color='cornflowerblue'>\n",
        "    \n",
        "  ## Ejercicio"
      ]
    },
    {
      "cell_type": "markdown",
      "metadata": {
        "id": "ggnJXGsufQR2"
      },
      "source": [
        "<font size=4>\n",
        "    \n",
        "  Despliega los últimos 15 renglones del dataframe *df*."
      ]
    },
    {
      "cell_type": "code",
      "metadata": {
        "colab": {
          "base_uri": "https://localhost:8080/",
          "height": 520
        },
        "id": "t2Ob73qafQR4",
        "outputId": "101e2501-0d6e-4166-a2ba-f7e90d209066"
      },
      "source": [
        "# Escribe el código aquí\n",
        "df.tail(15)"
      ],
      "execution_count": null,
      "outputs": [
        {
          "output_type": "execute_result",
          "data": {
            "text/html": [
              "<div>\n",
              "<style scoped>\n",
              "    .dataframe tbody tr th:only-of-type {\n",
              "        vertical-align: middle;\n",
              "    }\n",
              "\n",
              "    .dataframe tbody tr th {\n",
              "        vertical-align: top;\n",
              "    }\n",
              "\n",
              "    .dataframe thead th {\n",
              "        text-align: right;\n",
              "    }\n",
              "</style>\n",
              "<table border=\"1\" class=\"dataframe\">\n",
              "  <thead>\n",
              "    <tr style=\"text-align: right;\">\n",
              "      <th></th>\n",
              "      <th>AGE</th>\n",
              "      <th>SEX</th>\n",
              "      <th>BMI</th>\n",
              "      <th>BP</th>\n",
              "      <th>S1</th>\n",
              "      <th>S2</th>\n",
              "      <th>S3</th>\n",
              "      <th>S4</th>\n",
              "      <th>S5</th>\n",
              "      <th>S6</th>\n",
              "      <th>Y</th>\n",
              "    </tr>\n",
              "  </thead>\n",
              "  <tbody>\n",
              "    <tr>\n",
              "      <th>427</th>\n",
              "      <td>39</td>\n",
              "      <td>2</td>\n",
              "      <td>26.9</td>\n",
              "      <td>93.00</td>\n",
              "      <td>136</td>\n",
              "      <td>75.4</td>\n",
              "      <td>48.0</td>\n",
              "      <td>3.00</td>\n",
              "      <td>4.1431</td>\n",
              "      <td>99</td>\n",
              "      <td>67</td>\n",
              "    </tr>\n",
              "    <tr>\n",
              "      <th>428</th>\n",
              "      <td>62</td>\n",
              "      <td>2</td>\n",
              "      <td>34.6</td>\n",
              "      <td>120.00</td>\n",
              "      <td>215</td>\n",
              "      <td>129.2</td>\n",
              "      <td>43.0</td>\n",
              "      <td>5.00</td>\n",
              "      <td>5.3660</td>\n",
              "      <td>123</td>\n",
              "      <td>310</td>\n",
              "    </tr>\n",
              "    <tr>\n",
              "      <th>429</th>\n",
              "      <td>37</td>\n",
              "      <td>1</td>\n",
              "      <td>23.3</td>\n",
              "      <td>88.00</td>\n",
              "      <td>223</td>\n",
              "      <td>142.0</td>\n",
              "      <td>65.0</td>\n",
              "      <td>3.40</td>\n",
              "      <td>4.3567</td>\n",
              "      <td>82</td>\n",
              "      <td>94</td>\n",
              "    </tr>\n",
              "    <tr>\n",
              "      <th>430</th>\n",
              "      <td>46</td>\n",
              "      <td>1</td>\n",
              "      <td>21.1</td>\n",
              "      <td>80.00</td>\n",
              "      <td>205</td>\n",
              "      <td>144.4</td>\n",
              "      <td>42.0</td>\n",
              "      <td>5.00</td>\n",
              "      <td>4.5326</td>\n",
              "      <td>87</td>\n",
              "      <td>183</td>\n",
              "    </tr>\n",
              "    <tr>\n",
              "      <th>431</th>\n",
              "      <td>68</td>\n",
              "      <td>2</td>\n",
              "      <td>23.5</td>\n",
              "      <td>101.00</td>\n",
              "      <td>162</td>\n",
              "      <td>85.4</td>\n",
              "      <td>59.0</td>\n",
              "      <td>3.00</td>\n",
              "      <td>4.4773</td>\n",
              "      <td>91</td>\n",
              "      <td>66</td>\n",
              "    </tr>\n",
              "    <tr>\n",
              "      <th>432</th>\n",
              "      <td>51</td>\n",
              "      <td>1</td>\n",
              "      <td>31.5</td>\n",
              "      <td>93.00</td>\n",
              "      <td>231</td>\n",
              "      <td>144.0</td>\n",
              "      <td>49.0</td>\n",
              "      <td>4.70</td>\n",
              "      <td>5.2523</td>\n",
              "      <td>117</td>\n",
              "      <td>173</td>\n",
              "    </tr>\n",
              "    <tr>\n",
              "      <th>433</th>\n",
              "      <td>41</td>\n",
              "      <td>1</td>\n",
              "      <td>20.8</td>\n",
              "      <td>86.00</td>\n",
              "      <td>223</td>\n",
              "      <td>128.2</td>\n",
              "      <td>83.0</td>\n",
              "      <td>3.00</td>\n",
              "      <td>4.0775</td>\n",
              "      <td>89</td>\n",
              "      <td>72</td>\n",
              "    </tr>\n",
              "    <tr>\n",
              "      <th>434</th>\n",
              "      <td>53</td>\n",
              "      <td>1</td>\n",
              "      <td>26.5</td>\n",
              "      <td>97.00</td>\n",
              "      <td>193</td>\n",
              "      <td>122.4</td>\n",
              "      <td>58.0</td>\n",
              "      <td>3.00</td>\n",
              "      <td>4.1431</td>\n",
              "      <td>99</td>\n",
              "      <td>49</td>\n",
              "    </tr>\n",
              "    <tr>\n",
              "      <th>435</th>\n",
              "      <td>45</td>\n",
              "      <td>1</td>\n",
              "      <td>24.2</td>\n",
              "      <td>83.00</td>\n",
              "      <td>177</td>\n",
              "      <td>118.4</td>\n",
              "      <td>45.0</td>\n",
              "      <td>4.00</td>\n",
              "      <td>4.2195</td>\n",
              "      <td>82</td>\n",
              "      <td>64</td>\n",
              "    </tr>\n",
              "    <tr>\n",
              "      <th>436</th>\n",
              "      <td>33</td>\n",
              "      <td>1</td>\n",
              "      <td>19.5</td>\n",
              "      <td>80.00</td>\n",
              "      <td>171</td>\n",
              "      <td>85.4</td>\n",
              "      <td>75.0</td>\n",
              "      <td>2.00</td>\n",
              "      <td>3.9703</td>\n",
              "      <td>80</td>\n",
              "      <td>48</td>\n",
              "    </tr>\n",
              "    <tr>\n",
              "      <th>437</th>\n",
              "      <td>60</td>\n",
              "      <td>2</td>\n",
              "      <td>28.2</td>\n",
              "      <td>112.00</td>\n",
              "      <td>185</td>\n",
              "      <td>113.8</td>\n",
              "      <td>42.0</td>\n",
              "      <td>4.00</td>\n",
              "      <td>4.9836</td>\n",
              "      <td>93</td>\n",
              "      <td>178</td>\n",
              "    </tr>\n",
              "    <tr>\n",
              "      <th>438</th>\n",
              "      <td>47</td>\n",
              "      <td>2</td>\n",
              "      <td>24.9</td>\n",
              "      <td>75.00</td>\n",
              "      <td>225</td>\n",
              "      <td>166.0</td>\n",
              "      <td>42.0</td>\n",
              "      <td>5.00</td>\n",
              "      <td>4.4427</td>\n",
              "      <td>102</td>\n",
              "      <td>104</td>\n",
              "    </tr>\n",
              "    <tr>\n",
              "      <th>439</th>\n",
              "      <td>60</td>\n",
              "      <td>2</td>\n",
              "      <td>24.9</td>\n",
              "      <td>99.67</td>\n",
              "      <td>162</td>\n",
              "      <td>106.6</td>\n",
              "      <td>43.0</td>\n",
              "      <td>3.77</td>\n",
              "      <td>4.1271</td>\n",
              "      <td>95</td>\n",
              "      <td>132</td>\n",
              "    </tr>\n",
              "    <tr>\n",
              "      <th>440</th>\n",
              "      <td>36</td>\n",
              "      <td>1</td>\n",
              "      <td>30.0</td>\n",
              "      <td>95.00</td>\n",
              "      <td>201</td>\n",
              "      <td>125.2</td>\n",
              "      <td>42.0</td>\n",
              "      <td>4.79</td>\n",
              "      <td>5.1299</td>\n",
              "      <td>85</td>\n",
              "      <td>220</td>\n",
              "    </tr>\n",
              "    <tr>\n",
              "      <th>441</th>\n",
              "      <td>36</td>\n",
              "      <td>1</td>\n",
              "      <td>19.6</td>\n",
              "      <td>71.00</td>\n",
              "      <td>250</td>\n",
              "      <td>133.2</td>\n",
              "      <td>97.0</td>\n",
              "      <td>3.00</td>\n",
              "      <td>4.5951</td>\n",
              "      <td>92</td>\n",
              "      <td>57</td>\n",
              "    </tr>\n",
              "  </tbody>\n",
              "</table>\n",
              "</div>"
            ],
            "text/plain": [
              "     AGE  SEX   BMI      BP   S1     S2    S3    S4      S5   S6    Y\n",
              "427   39    2  26.9   93.00  136   75.4  48.0  3.00  4.1431   99   67\n",
              "428   62    2  34.6  120.00  215  129.2  43.0  5.00  5.3660  123  310\n",
              "429   37    1  23.3   88.00  223  142.0  65.0  3.40  4.3567   82   94\n",
              "430   46    1  21.1   80.00  205  144.4  42.0  5.00  4.5326   87  183\n",
              "431   68    2  23.5  101.00  162   85.4  59.0  3.00  4.4773   91   66\n",
              "432   51    1  31.5   93.00  231  144.0  49.0  4.70  5.2523  117  173\n",
              "433   41    1  20.8   86.00  223  128.2  83.0  3.00  4.0775   89   72\n",
              "434   53    1  26.5   97.00  193  122.4  58.0  3.00  4.1431   99   49\n",
              "435   45    1  24.2   83.00  177  118.4  45.0  4.00  4.2195   82   64\n",
              "436   33    1  19.5   80.00  171   85.4  75.0  2.00  3.9703   80   48\n",
              "437   60    2  28.2  112.00  185  113.8  42.0  4.00  4.9836   93  178\n",
              "438   47    2  24.9   75.00  225  166.0  42.0  5.00  4.4427  102  104\n",
              "439   60    2  24.9   99.67  162  106.6  43.0  3.77  4.1271   95  132\n",
              "440   36    1  30.0   95.00  201  125.2  42.0  4.79  5.1299   85  220\n",
              "441   36    1  19.6   71.00  250  133.2  97.0  3.00  4.5951   92   57"
            ]
          },
          "metadata": {},
          "execution_count": 4
        }
      ]
    },
    {
      "cell_type": "code",
      "metadata": {
        "ExecuteTime": {
          "end_time": "2020-10-20T17:23:09.599709Z",
          "start_time": "2020-10-20T17:23:09.554199Z"
        },
        "colab": {
          "base_uri": "https://localhost:8080/",
          "height": 320
        },
        "id": "Ft9pso9pfQR7",
        "outputId": "6f7b0522-5eb5-423c-ecb0-b96f696d504f"
      },
      "source": [
        "# el método describe() genera una tabla con informacion estadística de cada uno de los rasgos y del objetivo.\n",
        "\n",
        "df.describe()"
      ],
      "execution_count": null,
      "outputs": [
        {
          "output_type": "execute_result",
          "data": {
            "text/html": [
              "<div>\n",
              "<style scoped>\n",
              "    .dataframe tbody tr th:only-of-type {\n",
              "        vertical-align: middle;\n",
              "    }\n",
              "\n",
              "    .dataframe tbody tr th {\n",
              "        vertical-align: top;\n",
              "    }\n",
              "\n",
              "    .dataframe thead th {\n",
              "        text-align: right;\n",
              "    }\n",
              "</style>\n",
              "<table border=\"1\" class=\"dataframe\">\n",
              "  <thead>\n",
              "    <tr style=\"text-align: right;\">\n",
              "      <th></th>\n",
              "      <th>AGE</th>\n",
              "      <th>SEX</th>\n",
              "      <th>BMI</th>\n",
              "      <th>BP</th>\n",
              "      <th>S1</th>\n",
              "      <th>S2</th>\n",
              "      <th>S3</th>\n",
              "      <th>S4</th>\n",
              "      <th>S5</th>\n",
              "      <th>S6</th>\n",
              "      <th>Y</th>\n",
              "    </tr>\n",
              "  </thead>\n",
              "  <tbody>\n",
              "    <tr>\n",
              "      <th>count</th>\n",
              "      <td>442.000000</td>\n",
              "      <td>442.000000</td>\n",
              "      <td>442.000000</td>\n",
              "      <td>442.000000</td>\n",
              "      <td>442.000000</td>\n",
              "      <td>442.000000</td>\n",
              "      <td>442.000000</td>\n",
              "      <td>442.000000</td>\n",
              "      <td>442.000000</td>\n",
              "      <td>442.000000</td>\n",
              "      <td>442.000000</td>\n",
              "    </tr>\n",
              "    <tr>\n",
              "      <th>mean</th>\n",
              "      <td>48.518100</td>\n",
              "      <td>1.468326</td>\n",
              "      <td>26.375792</td>\n",
              "      <td>94.647014</td>\n",
              "      <td>189.140271</td>\n",
              "      <td>115.439140</td>\n",
              "      <td>49.788462</td>\n",
              "      <td>4.070249</td>\n",
              "      <td>4.641411</td>\n",
              "      <td>91.260181</td>\n",
              "      <td>152.133484</td>\n",
              "    </tr>\n",
              "    <tr>\n",
              "      <th>std</th>\n",
              "      <td>13.109028</td>\n",
              "      <td>0.499561</td>\n",
              "      <td>4.418122</td>\n",
              "      <td>13.831283</td>\n",
              "      <td>34.608052</td>\n",
              "      <td>30.413081</td>\n",
              "      <td>12.934202</td>\n",
              "      <td>1.290450</td>\n",
              "      <td>0.522391</td>\n",
              "      <td>11.496335</td>\n",
              "      <td>77.093005</td>\n",
              "    </tr>\n",
              "    <tr>\n",
              "      <th>min</th>\n",
              "      <td>19.000000</td>\n",
              "      <td>1.000000</td>\n",
              "      <td>18.000000</td>\n",
              "      <td>62.000000</td>\n",
              "      <td>97.000000</td>\n",
              "      <td>41.600000</td>\n",
              "      <td>22.000000</td>\n",
              "      <td>2.000000</td>\n",
              "      <td>3.258100</td>\n",
              "      <td>58.000000</td>\n",
              "      <td>25.000000</td>\n",
              "    </tr>\n",
              "    <tr>\n",
              "      <th>25%</th>\n",
              "      <td>38.250000</td>\n",
              "      <td>1.000000</td>\n",
              "      <td>23.200000</td>\n",
              "      <td>84.000000</td>\n",
              "      <td>164.250000</td>\n",
              "      <td>96.050000</td>\n",
              "      <td>40.250000</td>\n",
              "      <td>3.000000</td>\n",
              "      <td>4.276700</td>\n",
              "      <td>83.250000</td>\n",
              "      <td>87.000000</td>\n",
              "    </tr>\n",
              "    <tr>\n",
              "      <th>50%</th>\n",
              "      <td>50.000000</td>\n",
              "      <td>1.000000</td>\n",
              "      <td>25.700000</td>\n",
              "      <td>93.000000</td>\n",
              "      <td>186.000000</td>\n",
              "      <td>113.000000</td>\n",
              "      <td>48.000000</td>\n",
              "      <td>4.000000</td>\n",
              "      <td>4.620050</td>\n",
              "      <td>91.000000</td>\n",
              "      <td>140.500000</td>\n",
              "    </tr>\n",
              "    <tr>\n",
              "      <th>75%</th>\n",
              "      <td>59.000000</td>\n",
              "      <td>2.000000</td>\n",
              "      <td>29.275000</td>\n",
              "      <td>105.000000</td>\n",
              "      <td>209.750000</td>\n",
              "      <td>134.500000</td>\n",
              "      <td>57.750000</td>\n",
              "      <td>5.000000</td>\n",
              "      <td>4.997200</td>\n",
              "      <td>98.000000</td>\n",
              "      <td>211.500000</td>\n",
              "    </tr>\n",
              "    <tr>\n",
              "      <th>max</th>\n",
              "      <td>79.000000</td>\n",
              "      <td>2.000000</td>\n",
              "      <td>42.200000</td>\n",
              "      <td>133.000000</td>\n",
              "      <td>301.000000</td>\n",
              "      <td>242.400000</td>\n",
              "      <td>99.000000</td>\n",
              "      <td>9.090000</td>\n",
              "      <td>6.107000</td>\n",
              "      <td>124.000000</td>\n",
              "      <td>346.000000</td>\n",
              "    </tr>\n",
              "  </tbody>\n",
              "</table>\n",
              "</div>"
            ],
            "text/plain": [
              "              AGE         SEX         BMI  ...          S5          S6           Y\n",
              "count  442.000000  442.000000  442.000000  ...  442.000000  442.000000  442.000000\n",
              "mean    48.518100    1.468326   26.375792  ...    4.641411   91.260181  152.133484\n",
              "std     13.109028    0.499561    4.418122  ...    0.522391   11.496335   77.093005\n",
              "min     19.000000    1.000000   18.000000  ...    3.258100   58.000000   25.000000\n",
              "25%     38.250000    1.000000   23.200000  ...    4.276700   83.250000   87.000000\n",
              "50%     50.000000    1.000000   25.700000  ...    4.620050   91.000000  140.500000\n",
              "75%     59.000000    2.000000   29.275000  ...    4.997200   98.000000  211.500000\n",
              "max     79.000000    2.000000   42.200000  ...    6.107000  124.000000  346.000000\n",
              "\n",
              "[8 rows x 11 columns]"
            ]
          },
          "metadata": {},
          "execution_count": 5
        }
      ]
    },
    {
      "cell_type": "markdown",
      "metadata": {
        "id": "CcsqbJnIfQR-"
      },
      "source": [
        "## Se crean los histogramas para cada uno de los rasgos que caracteriza a los pacientes con diabetes:"
      ]
    },
    {
      "cell_type": "code",
      "metadata": {
        "ExecuteTime": {
          "end_time": "2020-10-20T17:23:10.163028Z",
          "start_time": "2020-10-20T17:23:09.601953Z"
        },
        "colab": {
          "base_uri": "https://localhost:8080/",
          "height": 218
        },
        "id": "gdLOGDO_fQR_",
        "outputId": "81f78c7c-41c6-4d26-9316-b66c9ed111ef"
      },
      "source": [
        "plt.figure(figsize=(20,8))\n",
        "\n",
        "ax1 = plt.subplot(2,4,1)\n",
        "ax2 = plt.subplot(2,4,2)\n",
        "ax3 = plt.subplot(2,4,3)\n",
        "ax4 = plt.subplot(2,4,4)\n",
        "\n",
        "ax1.hist(df.AGE, bins=30, color='green',edgecolor='purple', alpha=0.5)\n",
        "ax1.set_xlabel('Age (years)', size=15)\n",
        "ax1.set_ylabel('Frequency', size=15)\n",
        "\n",
        "ax2.hist(df.SEX, bins=30, color='orange',edgecolor='purple', alpha=0.5)\n",
        "ax2.set_xlabel('Sex', size=15)\n",
        "\n",
        "ax3.hist(df.BMI, bins=30, color='red',edgecolor='purple', alpha=0.5)\n",
        "ax3.set_xlabel('Body_mass_index', size=15)\n",
        "\n",
        "ax4.hist(df.BP, bins=30, color='blue',edgecolor='purple', alpha=0.5)\n",
        "ax4.set_xlabel('Average_blood_pressure', size=15);"
      ],
      "execution_count": null,
      "outputs": [
        {
          "output_type": "display_data",
          "data": {
            "image/png": "[encoded data removed]",
            "text/plain": [
              "<Figure size 1440x576 with 4 Axes>"
            ]
          },
          "metadata": {
            "needs_background": "light"
          }
        }
      ]
    },
    {
      "cell_type": "code",
      "metadata": {
        "ExecuteTime": {
          "end_time": "2020-10-20T17:23:10.664852Z",
          "start_time": "2020-10-20T17:23:10.164787Z"
        },
        "colab": {
          "base_uri": "https://localhost:8080/",
          "height": 217
        },
        "id": "Kkost5nqfQSA",
        "outputId": "6d8f4866-1710-403c-eda2-873ae4f39df0"
      },
      "source": [
        "plt.figure(figsize=(20,8))\n",
        "\n",
        "ax1 = plt.subplot(2,4,1)\n",
        "ax2 = plt.subplot(2,4,2)\n",
        "ax3 = plt.subplot(2,4,3)\n",
        "ax4 = plt.subplot(2,4,4)\n",
        "\n",
        "ax1.hist(df.S1, bins=30, color='green',edgecolor='purple', alpha=0.5)\n",
        "ax1.set_xlabel('S1', size=15)\n",
        "ax1.set_ylabel('Frequency', size=15)\n",
        "\n",
        "ax2.hist(df.S2, bins=30, color='orange',edgecolor='purple', alpha=0.5)\n",
        "ax2.set_xlabel('S2', size=15)\n",
        "\n",
        "ax3.hist(df.S3, bins=30, color='red',edgecolor='purple', alpha=0.5)\n",
        "ax3.set_xlabel('S3', size=15)\n",
        "\n",
        "ax4.hist(df.S4, bins=30, color='blue',edgecolor='purple', alpha=0.5)\n",
        "ax4.set_xlabel('S4', size=15);"
      ],
      "execution_count": null,
      "outputs": [
        {
          "output_type": "display_data",
          "data": {
            "image/png": "[encoded data removed]",
            "text/plain": [
              "<Figure size 1440x576 with 4 Axes>"
            ]
          },
          "metadata": {
            "needs_background": "light"
          }
        }
      ]
    },
    {
      "cell_type": "code",
      "metadata": {
        "ExecuteTime": {
          "end_time": "2020-10-20T17:23:11.045266Z",
          "start_time": "2020-10-20T17:23:10.666554Z"
        },
        "colab": {
          "base_uri": "https://localhost:8080/",
          "height": 282
        },
        "id": "tqL_BxPWfQSC",
        "outputId": "ffcc6a06-ae3f-4aeb-e65d-83a3f196a3ea"
      },
      "source": [
        "plt.figure(figsize=(15,8))\n",
        "\n",
        "ax1 = plt.subplot(2,3,1)\n",
        "ax2 = plt.subplot(2,3,2)\n",
        "ax3 = plt.subplot(2,3,3)\n",
        "\n",
        "ax1.hist(df.S5, bins=30, color='green',edgecolor='purple', alpha=0.5)\n",
        "ax1.set_xlabel('S5', size=15)\n",
        "ax1.set_ylabel('Frequency', size=15)\n",
        "\n",
        "ax2.hist(df.S6, bins=30, color='orange',edgecolor='purple', alpha=0.5)\n",
        "ax2.set_xlabel('S6', size=15)\n",
        "\n",
        "ax3.hist(df.Y, bins=30, color='purple',edgecolor='black', alpha=0.5)\n",
        "ax3.set_xlabel('Y', size=15)\n"
      ],
      "execution_count": null,
      "outputs": [
        {
          "output_type": "execute_result",
          "data": {
            "text/plain": [
              "Text(0.5, 0, 'Y')"
            ]
          },
          "metadata": {},
          "execution_count": 8
        },
        {
          "output_type": "display_data",
          "data": {
            "image/png": "[encoded data removed]",
            "text/plain": [
              "<Figure size 1080x576 with 3 Axes>"
            ]
          },
          "metadata": {
            "needs_background": "light"
          }
        }
      ]
    },
    {
      "cell_type": "markdown",
      "metadata": {
        "ExecuteTime": {
          "end_time": "2020-10-13T20:21:23.071130Z",
          "start_time": "2020-10-13T20:21:23.062454Z"
        },
        "id": "mqhqOLlWfQSD"
      },
      "source": [
        "<font size=4>\n",
        "\n",
        "Para quitar cualquier posible correlación entre las muestras (los renglones del DataFrame), estos se reordenan al azar."
      ]
    },
    {
      "cell_type": "code",
      "metadata": {
        "ExecuteTime": {
          "end_time": "2020-10-20T17:23:11.050719Z",
          "start_time": "2020-10-20T17:23:11.047329Z"
        },
        "id": "I-cclMPjfQSF"
      },
      "source": [
        "df = df.sample(frac=1)"
      ],
      "execution_count": null,
      "outputs": []
    },
    {
      "cell_type": "markdown",
      "metadata": {
        "id": "fA1jBZqSfQSF"
      },
      "source": [
        "<font size=4 color='cornflowerblue'>\n",
        "    \n",
        "  ## Ejercicio"
      ]
    },
    {
      "cell_type": "markdown",
      "metadata": {
        "id": "LPPGF2Q5fQSG"
      },
      "source": [
        "<font size=4>\n",
        "    \n",
        "Divide a las muestras originales (df) en 2 conjuntos: 90 % para el entrenamiento y 10 % para hacer inferencias (predicciones) con lo aprendido. (separa el dataframe en dos)\n",
        "\n",
        "nombra al dataframe con el 90% de  las muestras **df_train** y nombra al dataframe con el 10% restante de las muestras **df_test**."
      ]
    },
    {
      "cell_type": "code",
      "metadata": {
        "ExecuteTime": {
          "end_time": "2020-10-20T17:23:11.063764Z",
          "start_time": "2020-10-20T17:23:11.052499Z"
        },
        "id": "9VFiYPzBfQSH"
      },
      "source": [
        "# escribe aquí el código\n",
        "test_ratio = 0.1\n",
        "train_ratio = int((1.0-test_ratio)*len(df.values[:,:]))\n",
        "\n",
        "df_train = df.iloc[0:train_ratio,:]\n",
        "df_test = df.iloc[train_ratio:,:]"
      ],
      "execution_count": null,
      "outputs": []
    },
    {
      "cell_type": "markdown",
      "metadata": {
        "id": "JbgsAeGBfQSI"
      },
      "source": [
        "<font size=4>\n",
        "    \n",
        "Comprueba que las dimesniones de df_train y df_test son (397, 11) y (45,11), respectivamente"
      ]
    },
    {
      "cell_type": "code",
      "metadata": {
        "ExecuteTime": {
          "end_time": "2020-10-20T17:23:11.075747Z",
          "start_time": "2020-10-20T17:23:11.065397Z"
        },
        "colab": {
          "base_uri": "https://localhost:8080/"
        },
        "id": "EamBZu6dfQSJ",
        "outputId": "2d2428c2-82b7-46d3-b828-99e8849ba025"
      },
      "source": [
        "# escribe aquí el código\n",
        "print(df_train.shape)\n",
        "print(df_test.shape)"
      ],
      "execution_count": null,
      "outputs": [
        {
          "output_type": "stream",
          "name": "stdout",
          "text": [
            "(397, 11)\n",
            "(45, 11)\n"
          ]
        }
      ]
    },
    {
      "cell_type": "markdown",
      "metadata": {
        "id": "19y_-KrZfQSL"
      },
      "source": [
        "<font size=4>\n",
        "\n",
        "Para trabajar con los modelos se requiere que todas las variables tengan el mismo orden de magnitud. Por ello, se normalizan sus valores en las muestras que se van a emplear en el entrenamiento, tanto los rasgos $(X)$ como la variable objetivo o referencia $(Y)$:\n",
        "\n",
        "$$x_{norm} = \\dfrac{x-\\bar{x}}{\\sigma}$$"
      ]
    },
    {
      "cell_type": "markdown",
      "metadata": {
        "id": "wpE6C7ChfQSM"
      },
      "source": [
        "<font size=4 color='cornflowerblue'>\n",
        "    \n",
        "  ## Ejercicio"
      ]
    },
    {
      "cell_type": "markdown",
      "metadata": {
        "id": "aT5s1eYZfQSM"
      },
      "source": [
        "<font size=4>\n",
        "    \n",
        "Normaliza cada rasgo así como la variable de salida, tanto para el conjunto de entrenamiento como para el conjunto de prueba. Recuerda que debes usar el promedio y desviación del conjunto de entrenamiento en ambos casos.\n",
        "\n",
        "Nombra a los dataframes con los datos normalizados **df_train_norm** y **df_test_norm**, respectivamente."
      ]
    },
    {
      "cell_type": "code",
      "metadata": {
        "ExecuteTime": {
          "end_time": "2020-10-20T17:23:11.094500Z",
          "start_time": "2020-10-20T17:23:11.077146Z"
        },
        "colab": {
          "base_uri": "https://localhost:8080/",
          "height": 206
        },
        "id": "Q6G9WC2cfQSN",
        "outputId": "e3624b03-7394-459f-e0d3-53e391731f0c"
      },
      "source": [
        "# escribe el código aquí\n",
        "mu = df_train.mean()\n",
        "sigma = df_train.std()\n",
        "\n",
        "df_train_norm = (df_train - mu)/ sigma\n",
        "df_train_norm.head()\n",
        "\n",
        "df_test_norm = (df_test - mu) / sigma\n",
        "df_test_norm.head()"
      ],
      "execution_count": null,
      "outputs": [
        {
          "output_type": "execute_result",
          "data": {
            "text/html": [
              "<div>\n",
              "<style scoped>\n",
              "    .dataframe tbody tr th:only-of-type {\n",
              "        vertical-align: middle;\n",
              "    }\n",
              "\n",
              "    .dataframe tbody tr th {\n",
              "        vertical-align: top;\n",
              "    }\n",
              "\n",
              "    .dataframe thead th {\n",
              "        text-align: right;\n",
              "    }\n",
              "</style>\n",
              "<table border=\"1\" class=\"dataframe\">\n",
              "  <thead>\n",
              "    <tr style=\"text-align: right;\">\n",
              "      <th></th>\n",
              "      <th>AGE</th>\n",
              "      <th>SEX</th>\n",
              "      <th>BMI</th>\n",
              "      <th>BP</th>\n",
              "      <th>S1</th>\n",
              "      <th>S2</th>\n",
              "      <th>S3</th>\n",
              "      <th>S4</th>\n",
              "      <th>S5</th>\n",
              "      <th>S6</th>\n",
              "      <th>Y</th>\n",
              "    </tr>\n",
              "  </thead>\n",
              "  <tbody>\n",
              "    <tr>\n",
              "      <th>134</th>\n",
              "      <td>-1.561887</td>\n",
              "      <td>-0.918901</td>\n",
              "      <td>0.904598</td>\n",
              "      <td>-0.683860</td>\n",
              "      <td>0.238623</td>\n",
              "      <td>-0.002490</td>\n",
              "      <td>1.312005</td>\n",
              "      <td>-0.830911</td>\n",
              "      <td>-0.580555</td>\n",
              "      <td>-0.978684</td>\n",
              "      <td>-0.648804</td>\n",
              "    </tr>\n",
              "    <tr>\n",
              "      <th>7</th>\n",
              "      <td>1.360428</td>\n",
              "      <td>1.085515</td>\n",
              "      <td>-0.031147</td>\n",
              "      <td>1.380462</td>\n",
              "      <td>1.881895</td>\n",
              "      <td>2.277008</td>\n",
              "      <td>0.467378</td>\n",
              "      <td>0.365899</td>\n",
              "      <td>-0.761827</td>\n",
              "      <td>0.067882</td>\n",
              "      <td>-1.164135</td>\n",
              "    </tr>\n",
              "    <tr>\n",
              "      <th>428</th>\n",
              "      <td>1.052816</td>\n",
              "      <td>1.085515</td>\n",
              "      <td>1.840342</td>\n",
              "      <td>1.807563</td>\n",
              "      <td>0.728721</td>\n",
              "      <td>0.444212</td>\n",
              "      <td>-0.530817</td>\n",
              "      <td>0.713360</td>\n",
              "      <td>1.363792</td>\n",
              "      <td>2.771509</td>\n",
              "      <td>2.018033</td>\n",
              "    </tr>\n",
              "    <tr>\n",
              "      <th>341</th>\n",
              "      <td>0.668301</td>\n",
              "      <td>1.085515</td>\n",
              "      <td>1.238792</td>\n",
              "      <td>1.166911</td>\n",
              "      <td>-0.482111</td>\n",
              "      <td>0.017217</td>\n",
              "      <td>-0.684385</td>\n",
              "      <td>-0.058776</td>\n",
              "      <td>-0.531860</td>\n",
              "      <td>-0.368187</td>\n",
              "      <td>1.412519</td>\n",
              "    </tr>\n",
              "    <tr>\n",
              "      <th>285</th>\n",
              "      <td>0.283786</td>\n",
              "      <td>-0.918901</td>\n",
              "      <td>-0.409900</td>\n",
              "      <td>-0.327943</td>\n",
              "      <td>0.238623</td>\n",
              "      <td>0.437643</td>\n",
              "      <td>-1.605796</td>\n",
              "      <td>2.257631</td>\n",
              "      <td>1.235018</td>\n",
              "      <td>-0.455401</td>\n",
              "      <td>1.026021</td>\n",
              "    </tr>\n",
              "  </tbody>\n",
              "</table>\n",
              "</div>"
            ],
            "text/plain": [
              "          AGE       SEX       BMI  ...        S5        S6         Y\n",
              "134 -1.561887 -0.918901  0.904598  ... -0.580555 -0.978684 -0.648804\n",
              "7    1.360428  1.085515 -0.031147  ... -0.761827  0.067882 -1.164135\n",
              "428  1.052816  1.085515  1.840342  ...  1.363792  2.771509  2.018033\n",
              "341  0.668301  1.085515  1.238792  ... -0.531860 -0.368187  1.412519\n",
              "285  0.283786 -0.918901 -0.409900  ...  1.235018 -0.455401  1.026021\n",
              "\n",
              "[5 rows x 11 columns]"
            ]
          },
          "metadata": {},
          "execution_count": 12
        }
      ]
    },
    {
      "cell_type": "markdown",
      "metadata": {
        "id": "G_wxhpA4fQSO"
      },
      "source": [
        "<font size=4>\n",
        "    \n",
        "Histogramas de las variables que se emplearán en el entrenamiento:"
      ]
    },
    {
      "cell_type": "code",
      "metadata": {
        "ExecuteTime": {
          "end_time": "2020-10-20T17:23:11.592444Z",
          "start_time": "2020-10-20T17:23:11.107611Z"
        },
        "colab": {
          "base_uri": "https://localhost:8080/",
          "height": 218
        },
        "id": "ps3Fd5mufQSO",
        "outputId": "3ba5ea5b-9d17-4c9a-aede-c352c5517113"
      },
      "source": [
        "plt.figure(figsize=(20,8))\n",
        "\n",
        "ax1 = plt.subplot(2,4,1)\n",
        "ax2 = plt.subplot(2,4,2)\n",
        "ax3 = plt.subplot(2,4,3)\n",
        "ax4 = plt.subplot(2,4,4)\n",
        "\n",
        "ax1.hist(df_train_norm.AGE, bins=30, color='green',edgecolor='purple', alpha=0.5)\n",
        "ax1.set_xlabel('x1(Age)', size=15)\n",
        "ax1.set_ylabel('Frequency', size=15)\n",
        "\n",
        "ax2.hist(df_train_norm.SEX, bins=30, color='orange',edgecolor='purple', alpha=0.5)\n",
        "ax2.set_xlabel('x2(Sex)', size=15)\n",
        "\n",
        "ax3.hist(df_train_norm.BMI, bins=30, color='red',edgecolor='purple', alpha=0.5)\n",
        "ax3.set_xlabel('x3(Body_mass_index)', size=15)\n",
        "\n",
        "ax4.hist(df_train_norm.BP, bins=30, color='blue',edgecolor='purple', alpha=0.5)\n",
        "ax4.set_xlabel('x4(Average_blood_pressure)', size=15);"
      ],
      "execution_count": null,
      "outputs": [
        {
          "output_type": "display_data",
          "data": {
            "image/png": "[encoded data removed]",
            "text/plain": [
              "<Figure size 1440x576 with 4 Axes>"
            ]
          },
          "metadata": {
            "needs_background": "light"
          }
        }
      ]
    },
    {
      "cell_type": "code",
      "metadata": {
        "ExecuteTime": {
          "end_time": "2020-10-20T17:23:12.146067Z",
          "start_time": "2020-10-20T17:23:11.594277Z"
        },
        "colab": {
          "base_uri": "https://localhost:8080/",
          "height": 219
        },
        "id": "ZDpgynFmfQSP",
        "outputId": "37dcc93f-0d5d-41a1-c31b-6f3f73c0e63d"
      },
      "source": [
        "plt.figure(figsize=(20,8))\n",
        "\n",
        "ax1 = plt.subplot(2,4,1)\n",
        "ax2 = plt.subplot(2,4,2)\n",
        "ax3 = plt.subplot(2,4,3)\n",
        "ax4 = plt.subplot(2,4,4)\n",
        "\n",
        "ax1.hist(df_train_norm.S1, bins=30, color='green',edgecolor='purple', alpha=0.5)\n",
        "ax1.set_xlabel('x5(S1)', size=15)\n",
        "ax1.set_ylabel('Frequency', size=15)\n",
        "\n",
        "ax2.hist(df_train_norm.S2, bins=30, color='orange',edgecolor='purple', alpha=0.5)\n",
        "ax2.set_xlabel('x6(S2)', size=15)\n",
        "\n",
        "ax3.hist(df_train_norm.S3, bins=30, color='red',edgecolor='purple', alpha=0.5)\n",
        "ax3.set_xlabel('x7(S3)', size=15)\n",
        "\n",
        "ax4.hist(df_train_norm.S4, bins=30, color='blue',edgecolor='purple', alpha=0.5)\n",
        "ax4.set_xlabel('x8(S4)', size=15);"
      ],
      "execution_count": null,
      "outputs": [
        {
          "output_type": "display_data",
          "data": {
            "image/png": "[encoded data removed]",
            "text/plain": [
              "<Figure size 1440x576 with 4 Axes>"
            ]
          },
          "metadata": {
            "needs_background": "light"
          }
        }
      ]
    },
    {
      "cell_type": "code",
      "metadata": {
        "ExecuteTime": {
          "end_time": "2020-10-20T17:23:12.503067Z",
          "start_time": "2020-10-20T17:23:12.147700Z"
        },
        "colab": {
          "base_uri": "https://localhost:8080/",
          "height": 234
        },
        "id": "Veuwng-HfQSR",
        "outputId": "f0c7751d-0447-45a4-eb60-8410ac84cf6d"
      },
      "source": [
        "plt.figure(figsize=(20,8))\n",
        "\n",
        "ax1 = plt.subplot(2,3,1)\n",
        "ax2 = plt.subplot(2,3,2)\n",
        "ax3 = plt.subplot(2,3,3)\n",
        "\n",
        "ax1.hist(df_train_norm.S5, bins=30, color='green',edgecolor='purple', alpha=0.5)\n",
        "ax1.set_xlabel('x9(S5)', size=15)\n",
        "ax1.set_ylabel('Frequency', size=15)\n",
        "\n",
        "ax2.hist(df_train_norm.S6, bins=30, color='orange',edgecolor='purple', alpha=0.5)\n",
        "ax2.set_xlabel('x10(S6)', size=15)\n",
        "\n",
        "ax3.hist(df_train_norm.Y, bins=30, color='purple',edgecolor='black', alpha=0.5)\n",
        "ax3.set_xlabel('Y', size=15)\n"
      ],
      "execution_count": null,
      "outputs": [
        {
          "output_type": "execute_result",
          "data": {
            "text/plain": [
              "Text(0.5, 0, 'Y')"
            ]
          },
          "metadata": {},
          "execution_count": 15
        },
        {
          "output_type": "display_data",
          "data": {
            "image/png": "[encoded data removed]",
            "text/plain": [
              "<Figure size 1440x576 with 3 Axes>"
            ]
          },
          "metadata": {
            "needs_background": "light"
          }
        }
      ]
    },
    {
      "cell_type": "markdown",
      "metadata": {
        "id": "Y8mfqtFRfQSS"
      },
      "source": [
        "<font size=4 color='cornflowerblue'>\n",
        "    \n",
        "  ## Ejercicio"
      ]
    },
    {
      "cell_type": "markdown",
      "metadata": {
        "id": "UWkvN91KfQST"
      },
      "source": [
        "<font size=4>\n",
        "    \n",
        "Realiza los histogramas para los rasgos **AGE**, **BMI** y **S4** para el conjunto de prueba."
      ]
    },
    {
      "cell_type": "code",
      "metadata": {
        "colab": {
          "base_uri": "https://localhost:8080/",
          "height": 283
        },
        "id": "zYTI_ubIfQSU",
        "outputId": "9b165ff5-e9ca-41d4-fe91-acd0b1ff0a22"
      },
      "source": [
        "# escribe aquí el código\n",
        "plt.figure(figsize=(20,8))\n",
        "\n",
        "ax1 = plt.subplot(2,4,1)\n",
        "ax2 = plt.subplot(2,4,2)\n",
        "ax3 = plt.subplot(2,4,3)\n",
        "\n",
        "ax1.hist(df_test_norm.AGE, bins=30, color='green',edgecolor='purple', alpha=0.5)\n",
        "ax1.set_xlabel('x1(Age)', size=15)\n",
        "ax1.set_ylabel('Frequency', size=15)\n",
        "\n",
        "ax2.hist(df_test_norm.BMI, bins=30, color='orange',edgecolor='purple', alpha=0.5)\n",
        "ax2.set_xlabel('x2(Body_mass_index)', size=15)\n",
        "\n",
        "ax3.hist(df_test_norm.S4, bins=30, color='red',edgecolor='purple', alpha=0.5)\n",
        "ax3.set_xlabel('x3(S4)', size=15)"
      ],
      "execution_count": null,
      "outputs": [
        {
          "output_type": "execute_result",
          "data": {
            "text/plain": [
              "Text(0.5, 0, 'x3(S4)')"
            ]
          },
          "metadata": {},
          "execution_count": 16
        },
        {
          "output_type": "display_data",
          "data": {
            "image/png": "[encoded data removed]",
            "text/plain": [
              "<Figure size 1440x576 with 3 Axes>"
            ]
          },
          "metadata": {
            "needs_background": "light"
          }
        }
      ]
    },
    {
      "cell_type": "markdown",
      "metadata": {
        "id": "OMybDwLifQSV"
      },
      "source": [
        "<font size=4>\n",
        "Los valores de las variables X e Y se extraen de las columnas del DataFrame."
      ]
    },
    {
      "cell_type": "code",
      "metadata": {
        "ExecuteTime": {
          "end_time": "2020-10-20T17:23:12.507790Z",
          "start_time": "2020-10-20T17:23:12.504878Z"
        },
        "id": "lk00-3xwfQSW"
      },
      "source": [
        "train_x = df_train_norm.values[:,:-1]\n",
        "train_y = df_train_norm.values[:,-1:]"
      ],
      "execution_count": null,
      "outputs": []
    },
    {
      "cell_type": "code",
      "metadata": {
        "ExecuteTime": {
          "end_time": "2020-10-20T17:23:12.519443Z",
          "start_time": "2020-10-20T17:23:12.509672Z"
        },
        "id": "PJx6I1GAfQSW"
      },
      "source": [
        "test_x = df_test_norm.values[:,:-1]\n",
        "test_y = df_test_norm.values[:,-1:]"
      ],
      "execution_count": null,
      "outputs": []
    },
    {
      "cell_type": "code",
      "metadata": {
        "ExecuteTime": {
          "end_time": "2020-10-20T17:23:12.531052Z",
          "start_time": "2020-10-20T17:23:12.520767Z"
        },
        "id": "2ezgltccfQSW"
      },
      "source": [
        "x_train = train_x.T\n",
        "x_test = test_x.T\n",
        "\n",
        "y_train = train_y.T\n",
        "y_test = test_y.T"
      ],
      "execution_count": null,
      "outputs": []
    },
    {
      "cell_type": "code",
      "metadata": {
        "ExecuteTime": {
          "end_time": "2020-10-20T17:23:12.543837Z",
          "start_time": "2020-10-20T17:23:12.532806Z"
        },
        "colab": {
          "base_uri": "https://localhost:8080/"
        },
        "id": "q0SAyO3vfQSY",
        "outputId": "4de0459e-cdc6-4975-cd71-5fce65cb9e0a"
      },
      "source": [
        "print(x_train.shape)\n",
        "print(y_train.shape)\n",
        "print(x_test.shape)\n",
        "print(y_test.shape)"
      ],
      "execution_count": null,
      "outputs": [
        {
          "output_type": "stream",
          "name": "stdout",
          "text": [
            "(10, 397)\n",
            "(1, 397)\n",
            "(10, 45)\n",
            "(1, 45)\n"
          ]
        }
      ]
    },
    {
      "cell_type": "code",
      "metadata": {
        "ExecuteTime": {
          "end_time": "2020-10-20T17:23:12.564236Z",
          "start_time": "2020-10-20T17:23:12.545155Z"
        },
        "colab": {
          "base_uri": "https://localhost:8080/"
        },
        "id": "34xD7M-WfQSa",
        "outputId": "b3f3a208-91c1-4a52-feee-057eec25530a"
      },
      "source": [
        "print(train_x.shape)\n",
        "print(train_y.shape)\n",
        "print(test_x.shape)\n",
        "print(test_y.shape)"
      ],
      "execution_count": null,
      "outputs": [
        {
          "output_type": "stream",
          "name": "stdout",
          "text": [
            "(397, 10)\n",
            "(397, 1)\n",
            "(45, 10)\n",
            "(45, 1)\n"
          ]
        }
      ]
    },
    {
      "cell_type": "markdown",
      "metadata": {
        "id": "wNjLXWXefQSb"
      },
      "source": [
        "<font size=5 color='blue'>\n",
        "\n",
        "# <center> Artificial Neural Networks </center>\n",
        "\n",
        "\n"
      ]
    },
    {
      "cell_type": "markdown",
      "metadata": {
        "ExecuteTime": {
          "end_time": "2020-10-18T00:30:05.725975Z",
          "start_time": "2020-10-18T00:30:05.722770Z"
        },
        "id": "Br9hWk4_fQSc"
      },
      "source": [
        "<font size=4 color='blue'>\n",
        "\n",
        "# <center> Implementación empleando el lenguaje formal Python </center>"
      ]
    },
    {
      "cell_type": "markdown",
      "metadata": {
        "ExecuteTime": {
          "end_time": "2020-10-14T17:48:13.294187Z",
          "start_time": "2020-10-14T17:48:13.290898Z"
        },
        "id": "OOlZTS8efQSc"
      },
      "source": [
        "<font size=5 color='blue'>\n",
        "\n",
        "Adecuando los datos de alimentación al sistema de aprendizaje"
      ]
    },
    {
      "cell_type": "markdown",
      "metadata": {
        "ExecuteTime": {
          "end_time": "2020-10-13T17:06:46.389123Z",
          "start_time": "2020-10-13T17:06:46.381702Z"
        },
        "id": "XgdvX7c1fQSd"
      },
      "source": [
        "<font size=4>\n",
        "    \n",
        "###  Definición de la arquitectura de la red neuronal.\n",
        "\n",
        "La función ```layer_sizes()``` genera la arquitectura de la red neuronal partiendo de los datos con que se van a alimentar a la red.\n"
      ]
    },
    {
      "cell_type": "code",
      "metadata": {
        "ExecuteTime": {
          "end_time": "2020-10-20T17:23:12.579183Z",
          "start_time": "2020-10-20T17:23:12.569309Z"
        },
        "id": "rpNYv59XfQSe"
      },
      "source": [
        "def layer_sizes(X, Y, n_h):\n",
        "    \"\"\"\n",
        "    Argument:\n",
        "    X -- input dataset of shape (input size, number of examples)\n",
        "    Y -- labels of shape (output size, number of examples)\n",
        "\n",
        "    Return:\n",
        "    n_x -- the size of the input layer\n",
        "    n_h -- the size of the hidden layer\n",
        "    n_y -- the size of the output layer\n",
        "    \"\"\"\n",
        "\n",
        "    n_x = X.shape[0]\n",
        "    n_h = n_h\n",
        "    n_y = Y.shape[0]\n",
        "\n",
        "    return (n_x, n_h, n_y)"
      ],
      "execution_count": null,
      "outputs": []
    },
    {
      "cell_type": "code",
      "metadata": {
        "ExecuteTime": {
          "end_time": "2020-10-20T17:23:12.590829Z",
          "start_time": "2020-10-20T17:23:12.583563Z"
        },
        "id": "g1MTJZx9fQSe"
      },
      "source": [
        "n_h = 4\n",
        "n_x, n_h, n_y = layer_sizes(x_train, y_train, n_h = n_h)"
      ],
      "execution_count": null,
      "outputs": []
    },
    {
      "cell_type": "code",
      "metadata": {
        "ExecuteTime": {
          "end_time": "2020-10-20T17:23:12.603382Z",
          "start_time": "2020-10-20T17:23:12.596532Z"
        },
        "colab": {
          "base_uri": "https://localhost:8080/"
        },
        "id": "I5lrBE2jfQSf",
        "outputId": "b1993603-6eac-4d1f-d09d-b746ee0971e1"
      },
      "source": [
        "print(n_x, n_h, n_y)"
      ],
      "execution_count": null,
      "outputs": [
        {
          "output_type": "stream",
          "name": "stdout",
          "text": [
            "10 4 1\n"
          ]
        }
      ]
    },
    {
      "cell_type": "markdown",
      "metadata": {
        "id": "_F0M0R-sfQSg"
      },
      "source": [
        "<font size=4 color='cornflowerblue'>\n",
        "    \n",
        "  ## Ejercicio"
      ]
    },
    {
      "cell_type": "markdown",
      "metadata": {
        "id": "mDQ_d_26fQSg"
      },
      "source": [
        "<font size=4>\n",
        "    \n",
        "¿Cómo cambiaría el código de la función ```layer_sizes()``` si quisieramos usar train_x y train_y en lugar de x_train y y_train?\n",
        "\n",
        "\n",
        "Escribe la nueva función, nombrala ```layer_sizes_1()``` y pruébala."
      ]
    },
    {
      "cell_type": "markdown",
      "metadata": {
        "id": "5Z_zIB27lRbO"
      },
      "source": [
        "def layer_sizes_1(X, Y, n_h):\n",
        "\n",
        "n_x = X.shape[0]\n",
        "\n",
        "n_h = n_h\n",
        "\n",
        "n_y =Y.shape[0]\n",
        "\n",
        "return (n_x, n_h, n_y)\n",
        "\n"
      ]
    },
    {
      "cell_type": "markdown",
      "metadata": {
        "id": "C5DcnDYij_y4"
      },
      "source": [
        "n_h = 4\n",
        "\n",
        "n_x, n_h, n_y = layer_sizes_1(train_x, train_y, n_h = n_h)\n",
        "\n",
        "print(n_x, n_h, n_y)"
      ]
    },
    {
      "cell_type": "markdown",
      "metadata": {
        "id": "-UU5ZrEGfQSl"
      },
      "source": [
        "<font size=5 color='blue'>\n",
        "Gráfica de la red     \n",
        "\n",
        "<font size=4 color='black'>\n",
        "    \n",
        "Usaremos NetworkX, que es una librería escrita en Python para la creación, manipulación y estudio de la estructura, dinámica y funciones de redes complejas.\n",
        "    \n",
        "[NetworkX](https://networkx.github.io/)\n",
        "\n",
        "Para instalar NetworkX puedes usar el siguiente comando:"
      ]
    },
    {
      "cell_type": "raw",
      "metadata": {
        "id": "S9Uutr9nfQSm"
      },
      "source": [
        "$ conda install -c anaconda networkx"
      ]
    },
    {
      "cell_type": "code",
      "metadata": {
        "ExecuteTime": {
          "end_time": "2020-10-20T17:23:12.784973Z",
          "start_time": "2020-10-20T17:23:12.605281Z"
        },
        "id": "eDsLggMqfQSm"
      },
      "source": [
        "import networkx as nx\n",
        "\n",
        "class Network(object):\n",
        "\n",
        "    def  __init__ (self,sizes):\n",
        "        self.num_layers = len(sizes)\n",
        "        print(\"It has\", self.num_layers, \"layers,\")\n",
        "        self.sizes = sizes\n",
        "        print(\"with the following number of nodes per layer\",self.sizes)\n",
        "        self.biases = [np.random.randn(y, 1) for y in sizes[1:]]\n",
        "        self.weights = [np.random.randn(y, x)\n",
        "                        for x, y in zip(sizes[:-1], sizes[1:])]\n",
        "\n",
        "    def feedforward(self, x_of_sample):\n",
        "        \"\"\"Return the output of the network F(x_of_sample) \"\"\"\n",
        "        for b, w in zip(self.biases, self.weights):\n",
        "            x_of_sample = sigmoid(np.dot(w, x_of_sample)+b)\n",
        "        return x_of_sample\n",
        "\n",
        "    def graph(self,sizes):\n",
        "        a=[]\n",
        "        ps={}\n",
        "        Q = nx.Graph()\n",
        "        for i in range(len(sizes)):\n",
        "            Qi=nx.Graph()\n",
        "            n=sizes[i]\n",
        "            nodos=np.arange(n)\n",
        "            Qi.add_nodes_from(nodos)\n",
        "            l_i=Qi.nodes\n",
        "            Q = nx.union(Q, Qi, rename = (None, 'Q%i-'%i))\n",
        "            if len(l_i)==1:\n",
        "                ps['Q%i-0'%i]=[i/(len(sizes)), 1/2]\n",
        "            else:\n",
        "                for j in range(len(l_i)+1):\n",
        "                    ps['Q%i-%i'%(i,j)]=[i/(len(sizes)),(1/(len(l_i)*len(l_i)))+(j/(len(l_i)))]\n",
        "            a.insert(i,Qi)\n",
        "        for i in range(len(a)-1):\n",
        "            for j in range(len(a[i])):\n",
        "                for k in range(len(a[i+1])):\n",
        "                    Q.add_edge('Q%i-%i' %(i,j),'Q%i-%i' %(i+1,k))\n",
        "        nx.draw(Q, pos = ps)\n",
        ""
      ],
      "execution_count": null,
      "outputs": []
    },
    {
      "cell_type": "code",
      "metadata": {
        "ExecuteTime": {
          "end_time": "2020-10-20T17:23:12.852839Z",
          "start_time": "2020-10-20T17:23:12.786355Z"
        },
        "colab": {
          "base_uri": "https://localhost:8080/",
          "height": 354
        },
        "id": "C0gt9joFfQSn",
        "outputId": "a7e4244d-7830-48a5-8219-16ed46347fc8"
      },
      "source": [
        "layers = [n_x, n_h, n_y]\n",
        "net = Network(layers)\n",
        "net.graph(layers)"
      ],
      "execution_count": null,
      "outputs": [
        {
          "output_type": "stream",
          "name": "stdout",
          "text": [
            "It has 3 layers,\n",
            "with the following number of nodes per layer [10, 4, 1]\n"
          ]
        },
        {
          "output_type": "display_data",
          "data": {
            "image/png": "[encoded data removed]",
            "text/plain": [
              "<Figure size 432x288 with 1 Axes>"
            ]
          },
          "metadata": {}
        }
      ]
    },
    {
      "cell_type": "markdown",
      "metadata": {
        "id": "bhY6TIA6fQSo"
      },
      "source": [
        "<font size=4 color='cornflowerblue'>\n",
        "    \n",
        "  ## Ejercicio"
      ]
    },
    {
      "cell_type": "markdown",
      "metadata": {
        "id": "1AqKq_FyfQSp"
      },
      "source": [
        "<font size=4>\n",
        "\n",
        "Supón que a partir de un estudio concluimos que $y$ (el nivel de progreso de la enfremedad) no depende de la edad y el sexo (es solo un ejemplo, en la realidad puede no ser así), ¿cuántos nodos debería tener cada una de las capas de una red neuronal con dos capas?\n",
        "\n",
        "Responde esta pregunta ilustrando la red neuronal con networkx"
      ]
    },
    {
      "cell_type": "markdown",
      "metadata": {
        "id": "fE7Umo-J71mn"
      },
      "source": [
        "Si quitamos las variables de edad y sexo solo quedarán 8 variables iniciales. Entonces en el layer 1 habrán 8 nodos, en el layer 2 los 4 nodos que definimos en n_h y en el layer 3 sólo el nodo de salida que indica el progreso de la enfermedad."
      ]
    },
    {
      "cell_type": "code",
      "metadata": {
        "ExecuteTime": {
          "end_time": "2020-10-20T17:23:12.852839Z",
          "start_time": "2020-10-20T17:23:12.786355Z"
        },
        "colab": {
          "base_uri": "https://localhost:8080/",
          "height": 354
        },
        "id": "sxjtHnH_yMQc",
        "outputId": "4c143f19-734b-4504-df89-f341e22e498a"
      },
      "source": [
        "layers1 = [n_x-2, n_h, n_y]\n",
        "net = Network(layers1)\n",
        "net.graph(layers1)"
      ],
      "execution_count": null,
      "outputs": [
        {
          "output_type": "stream",
          "name": "stdout",
          "text": [
            "It has 3 layers,\n",
            "with the following number of nodes per layer [8, 4, 1]\n"
          ]
        },
        {
          "output_type": "display_data",
          "data": {
            "image/png": "[encoded data removed]",
            "text/plain": [
              "<Figure size 432x288 with 1 Axes>"
            ]
          },
          "metadata": {}
        }
      ]
    },
    {
      "cell_type": "markdown",
      "metadata": {
        "id": "jqN0KZkAfQSs"
      },
      "source": [
        "<font size=4 color='cornflowerblue'>\n",
        "    \n",
        "  ## Ejercicio"
      ]
    },
    {
      "cell_type": "markdown",
      "metadata": {
        "id": "_07ogqT8fQSs"
      },
      "source": [
        "<font size=4>\n",
        "\n",
        "Supón que a partir del nivel de progreso de la enfermedad se puede concluir que para ciertos valores se concluye que el progreso es avanzado, medio y bajo. Es decir, la inferencia de la red es avanzado, medio o bajo en lugar de solo un numero que indica el nivel de progreso de la enfermedad.\n",
        "\n",
        "¿cuántos nodos debería tener cada una de las capas de una red neuronal con dos capas?\n",
        "\n",
        "Responde esta pregunta ilustrando la red neuronal con networkx"
      ]
    },
    {
      "cell_type": "markdown",
      "metadata": {
        "id": "lBukmYKy_fqT"
      },
      "source": [
        "El layer 1 tiene las 10 variables de entrada, el layer 2 los 4 nodos definidos en n_h y el layer 3 ahora va a tener 3 nodos de salida para el progreso avanzado, medio y bajo de la enfermedad."
      ]
    },
    {
      "cell_type": "code",
      "metadata": {
        "ExecuteTime": {
          "end_time": "2020-10-20T17:23:12.852839Z",
          "start_time": "2020-10-20T17:23:12.786355Z"
        },
        "colab": {
          "base_uri": "https://localhost:8080/",
          "height": 354
        },
        "id": "S9VpO0CX_U-T",
        "outputId": "b3471e0e-1ec8-42bf-c124-9ad3f558f60e"
      },
      "source": [
        "layers2 = [n_x, n_h, n_y+2]\n",
        "net = Network(layers2)\n",
        "net.graph(layers2)"
      ],
      "execution_count": null,
      "outputs": [
        {
          "output_type": "stream",
          "name": "stdout",
          "text": [
            "It has 3 layers,\n",
            "with the following number of nodes per layer [10, 4, 3]\n"
          ]
        },
        {
          "output_type": "display_data",
          "data": {
            "image/png": "[encoded data removed]",
            "text/plain": [
              "<Figure size 432x288 with 1 Axes>"
            ]
          },
          "metadata": {}
        }
      ]
    },
    {
      "cell_type": "markdown",
      "metadata": {
        "id": "SJhibB4WfQSt"
      },
      "source": [
        "<font size=5 color='blue'>\n",
        "    \n",
        " 1. Inicialización de los pesos y el bias."
      ]
    },
    {
      "cell_type": "markdown",
      "metadata": {
        "id": "3s68Pv_CfQSu"
      },
      "source": [
        "    \n",
        "### Se inicializan las variables del algoritmo que define la relación entre X y Y."
      ]
    },
    {
      "cell_type": "markdown",
      "metadata": {
        "id": "8VPDKUpFfQSv"
      },
      "source": [
        "<font size=4>\n",
        "Debido a que las variables X y Y fueron normalizadas a distribuciones con un deviación estándar, las variables $w$ se inicializan con valores pequeños, mientras que los biases se inicializan a cero."
      ]
    },
    {
      "cell_type": "markdown",
      "metadata": {
        "id": "yNSsHE-pfQSw"
      },
      "source": [
        "<font size=4>\n",
        "\n",
        "La función ```initialize_parameters()``` inicializa a los pesos $W$ y el bias $b$.\n",
        "\n",
        "Dado que se tiene un conjunto de variables independientes, se debe definir un peso para cada variable, esto para una sola neurona de la siguiente capa.\n",
        "\n",
        "Entonces $W_1$ ahora es una matriz de tamaño $(n_h, n_x)$, en donde $n_h$ es el número de nodos en la capa interna y $n_x$ es el número de nodos en la capa de entrada, es decir, es el número de variables independientes.\n",
        "\n",
        "Por cada neurona en la capa interna hay un bias, por lo que ahora $b_1$ es un vector de tamaño $(n_h, 1)$.\n",
        "\n",
        "En general para cada par de capas consecutivas debe haber un $W$ y un $b$.\n",
        "\n",
        "Generalizando:\n",
        "\n",
        "$W_i$ y $b_i$ son los parámetros a definir entre la capa $i$ y la capa $i+1$. Si la capa $i$ tiene $n_i$ neuronas y la capa $i+1$ tiene $n_{i+1}$ neuronas entonces, las dimensiones de $W_i$ son $(n_{i+1}, n_i)$ y las dimensiones de $b_i$ son $(n_{i+1}, 1)$."
      ]
    },
    {
      "cell_type": "code",
      "metadata": {
        "ExecuteTime": {
          "end_time": "2020-10-20T17:23:12.862688Z",
          "start_time": "2020-10-20T17:23:12.854878Z"
        },
        "id": "bQ4tQ19GfQSx"
      },
      "source": [
        "def initialize_parameters(n_x, n_h, n_y):\n",
        "    \"\"\"\n",
        "    Argument:\n",
        "    n_x -- int: size of the input layer\n",
        "    n_h -- int: size of the hidden layer\n",
        "    n_y -- int: size of the output layer\n",
        "\n",
        "    Returns:\n",
        "    params -- python dictionary containing your parameters:\n",
        "                    W1 -- weight matrix of shape (n_h, n_x)\n",
        "                    b1 -- bias vector of shape (n_h, 1)\n",
        "                    W2 -- weight matrix of shape (n_y, n_h)\n",
        "                    b2 -- bias vector of shape (n_y, 1)\n",
        "    \"\"\"\n",
        "\n",
        "    np.random.seed(2)\n",
        "\n",
        "    W1 = np.reshape(np.random.uniform(-0.1, 0.1, n_h*n_x), (n_h, n_x))\n",
        "    b1 = np.zeros((n_h, 1))\n",
        "    W2 = np.reshape(np.random.uniform(-0.1, 0.1, n_y*n_h), (n_y, n_h))\n",
        "    b2 = np.zeros((n_y, 1))\n",
        "\n",
        "    assert (W1.shape == (n_h, n_x))\n",
        "    assert (b1.shape == (n_h, 1))\n",
        "    assert (W2.shape == (n_y, n_h))\n",
        "    assert (b2.shape == (n_y, 1))\n",
        "\n",
        "    parameters = {\"W1\": W1,\n",
        "                  \"b1\": b1,\n",
        "                  \"W2\": W2,\n",
        "                  \"b2\": b2}\n",
        "\n",
        "    return parameters"
      ],
      "execution_count": null,
      "outputs": []
    },
    {
      "cell_type": "code",
      "metadata": {
        "ExecuteTime": {
          "end_time": "2020-10-20T17:23:12.877400Z",
          "start_time": "2020-10-20T17:23:12.864822Z"
        },
        "id": "DzU8XB_AfQSz"
      },
      "source": [
        "parameters = initialize_parameters(n_x, n_h, n_y)"
      ],
      "execution_count": null,
      "outputs": []
    },
    {
      "cell_type": "markdown",
      "metadata": {
        "id": "mhPE0cLcfQSz"
      },
      "source": [
        "<font size=4 color='cornflowerblue'>\n",
        "    \n",
        "  ## Ejercicio"
      ]
    },
    {
      "cell_type": "markdown",
      "metadata": {
        "id": "djB35TP8YDGF"
      },
      "source": [
        "W1 es (n_h, n_x) que equivale a (4, 10) es un arreglo de 4 vectores con 10 valores cada uno.\n",
        "\n",
        "W2 es (n_y, n_h)=(1, 4) un vector con 4 valores.\n",
        "\n",
        "b1 es (n_h, 1) 4 vectores de 1 valor\n",
        "\n",
        "b2 es (n_y, 1) 1 vector de 1 valor"
      ]
    },
    {
      "cell_type": "code",
      "metadata": {
        "ExecuteTime": {
          "end_time": "2020-10-20T17:23:12.877400Z",
          "start_time": "2020-10-20T17:23:12.864822Z"
        },
        "colab": {
          "base_uri": "https://localhost:8080/"
        },
        "id": "srdkpaeYTYgG",
        "outputId": "58a86529-e38f-4dfb-e1dc-8ee50f6fcb04"
      },
      "source": [
        "initialize_parameters(n_x, n_h, n_y)"
      ],
      "execution_count": null,
      "outputs": [
        {
          "output_type": "execute_result",
          "data": {
            "text/plain": [
              "{'W1': array([[-0.01280102, -0.09481475,  0.0099325 , -0.01293552, -0.01592644,\n",
              "         -0.03393304, -0.05907027,  0.02385419, -0.04006907, -0.04663454],\n",
              "        [ 0.02422677,  0.00582842, -0.07308401,  0.00271562, -0.06311203,\n",
              "          0.05706703,  0.07079506, -0.00115263,  0.0693123 , -0.0840709 ],\n",
              "        [ 0.00104922, -0.0869427 , -0.01437553, -0.08069382, -0.07456801,\n",
              "          0.01934906, -0.0547976 , -0.07861086, -0.05593876, -0.03003474],\n",
              "        [-0.0064425 , -0.05965135,  0.02808135, -0.00338603,  0.00104734,\n",
              "         -0.02262147,  0.05872749,  0.01600084, -0.06754028,  0.04015047]]),\n",
              " 'W2': array([[ 9.29102160e-02,  1.67223404e-06,  7.79040128e-02,\n",
              "         -3.16772695e-02]]),\n",
              " 'b1': array([[0.],\n",
              "        [0.],\n",
              "        [0.],\n",
              "        [0.]]),\n",
              " 'b2': array([[0.]])}"
            ]
          },
          "metadata": {},
          "execution_count": 31
        }
      ]
    },
    {
      "cell_type": "markdown",
      "metadata": {
        "id": "qV5MwHq9fQS1"
      },
      "source": [
        "<font size=4 color='cornflowerblue'>\n",
        "    \n",
        "  ## Ejercicio"
      ]
    },
    {
      "cell_type": "markdown",
      "metadata": {
        "id": "K2z30MPkfQS2"
      },
      "source": [
        "<font size=4>\n",
        "    \n",
        "Obten las palabras clave del diccionario *parameters* (Recuerda que hay un atributo que indica los keyword de un diccionario)"
      ]
    },
    {
      "cell_type": "code",
      "metadata": {
        "id": "ncRVDxPSfQS2"
      },
      "source": [
        "# escribe aquí el código\n",
        "W1 = parameters[\"W1\"]\n",
        "b1 = parameters[\"b1\"]\n",
        "W2 = parameters[\"W2\"]\n",
        "b2 = parameters[\"b2\"]"
      ],
      "execution_count": null,
      "outputs": []
    },
    {
      "cell_type": "markdown",
      "metadata": {
        "ExecuteTime": {
          "end_time": "2020-10-14T18:02:21.703636Z",
          "start_time": "2020-10-14T18:02:21.700427Z"
        },
        "id": "YbVQ78defQS2"
      },
      "source": [
        "<font size=5 color='blue'>\n",
        "\n",
        "2. Conexión entre las neuronas de capas contiguas."
      ]
    },
    {
      "cell_type": "markdown",
      "metadata": {
        "id": "QVzo2XJRfQS3"
      },
      "source": [
        "<font size=4>\n",
        "\n",
        "La función ```propagate()``` realiza la combinacion lineal entre los valores de salida de los nodos de una capa con los pesos y bias definidos entre esa capa y la siguiente.\n",
        "\n",
        "La función de activación que se aplica a esta combinación, es para considerar efectos no lineales.\n",
        "\n",
        "\n",
        "___\n",
        "\n",
        "Funciones de activación disponibles en la presente notebook:"
      ]
    },
    {
      "cell_type": "code",
      "metadata": {
        "ExecuteTime": {
          "end_time": "2020-10-20T17:23:12.892019Z",
          "start_time": "2020-10-20T17:23:12.878669Z"
        },
        "id": "kqGBkF5OfQS4"
      },
      "source": [
        "#Función para considerar los efectos no lineales.\n",
        "#En el presente caso se considera un modelo completamente lineal.\n",
        "#Por ello la función es la identidad.\n",
        "\n",
        "def identity(z):\n",
        "    \"\"\"\n",
        "    Arguments:\n",
        "    z -- A scalar or numpy array of any size.\n",
        "\n",
        "    Return:\n",
        "    s -- z\n",
        "    \"\"\"\n",
        "    s = np.multiply(1.0,z)\n",
        "\n",
        "    return s"
      ],
      "execution_count": null,
      "outputs": []
    },
    {
      "cell_type": "code",
      "metadata": {
        "ExecuteTime": {
          "end_time": "2020-10-20T17:23:12.903601Z",
          "start_time": "2020-10-20T17:23:12.893253Z"
        },
        "id": "19afCeR3fQS4"
      },
      "source": [
        "def identity_derivative(z):\n",
        "    return np.ones(len(z))"
      ],
      "execution_count": null,
      "outputs": []
    },
    {
      "cell_type": "code",
      "metadata": {
        "ExecuteTime": {
          "end_time": "2020-10-20T17:23:12.914927Z",
          "start_time": "2020-10-20T17:23:12.905109Z"
        },
        "id": "jTMOKmeCfQS6"
      },
      "source": [
        "def tanh(z):\n",
        "    \"\"\"\n",
        "    Compute the tanh of z\n",
        "\n",
        "    Arguments:\n",
        "    z -- A scalar or numpy array of any size.\n",
        "\n",
        "    Return:\n",
        "    s -- tanh(z)\n",
        "    \"\"\"\n",
        "    return np.tanh(z)"
      ],
      "execution_count": null,
      "outputs": []
    },
    {
      "cell_type": "code",
      "metadata": {
        "ExecuteTime": {
          "end_time": "2020-10-20T17:23:12.926265Z",
          "start_time": "2020-10-20T17:23:12.916623Z"
        },
        "id": "GgN_UVCQfQS6"
      },
      "source": [
        "def tanh_derivative(z):\n",
        "    return 1-np.square(tanh(z))"
      ],
      "execution_count": null,
      "outputs": []
    },
    {
      "cell_type": "code",
      "metadata": {
        "ExecuteTime": {
          "end_time": "2020-10-20T17:23:12.937706Z",
          "start_time": "2020-10-20T17:23:12.927652Z"
        },
        "id": "UGcZMizmfQS7"
      },
      "source": [
        "def sigmoid(z):\n",
        "    \"\"\"\n",
        "    Compute the sigmoid of z\n",
        "\n",
        "    Arguments:\n",
        "    z -- A scalar or numpy array of any size.\n",
        "\n",
        "    Return:\n",
        "    s -- sigmoid(z)\n",
        "    \"\"\"\n",
        "    s = 1/(1+np.exp(-z))\n",
        "\n",
        "    return s"
      ],
      "execution_count": null,
      "outputs": []
    },
    {
      "cell_type": "code",
      "metadata": {
        "ExecuteTime": {
          "end_time": "2020-10-20T17:23:12.949736Z",
          "start_time": "2020-10-20T17:23:12.939178Z"
        },
        "id": "CnD5KSJRfQS9"
      },
      "source": [
        "def sigmoid_derivative(z):\n",
        "    return sigmoid(z)*(1-sigmoid(z))"
      ],
      "execution_count": null,
      "outputs": []
    },
    {
      "cell_type": "markdown",
      "metadata": {
        "id": "UukVl6P4fQS9"
      },
      "source": [
        "<font size=4 color='cornflowerblue'>\n",
        "    \n",
        "  ## Ejercicio"
      ]
    },
    {
      "cell_type": "markdown",
      "metadata": {
        "id": "vWO2fNMbfQS-"
      },
      "source": [
        "<font size=4>\n",
        "    \n",
        "Grafica la función sigmoid y la función tanh."
      ]
    },
    {
      "cell_type": "code",
      "metadata": {
        "colab": {
          "base_uri": "https://localhost:8080/",
          "height": 528
        },
        "id": "_dVZIgd309pf",
        "outputId": "3d9e3c33-f067-4bda-cd0c-68e5327664b7"
      },
      "source": [
        "# The following array is generated for plotting the functions\n",
        "x1 = np.arange(-2, 2.0, 0.1)\n",
        "y1 = tanh(x1)\n",
        "y2 = sigmoid(x1)\n",
        "\n",
        "plt.figure(figsize=(13,8))\n",
        "\n",
        "plt.rc('xtick', labelsize=16)\n",
        "plt.rc('ytick', labelsize=16)\n",
        "plt.rc('legend', fontsize=16)\n",
        "plt.ylabel('Y', fontsize=16)\n",
        "plt.xlabel('Z', fontsize=16)\n",
        "plt.grid(True)\n",
        "plt.title('Tanh & Sigmoid', size=20)\n",
        "\n",
        "#Plotting function\n",
        "plt.plot(x1, y1, color='green', lw=4)\n",
        "plt.plot(x1, y2, color='purple', lw=4)\n",
        "\n",
        "plt.show()"
      ],
      "execution_count": null,
      "outputs": [
        {
          "output_type": "display_data",
          "data": {
            "image/png": "[encoded data removed]",
            "text/plain": [
              "<Figure size 936x576 with 1 Axes>"
            ]
          },
          "metadata": {
            "needs_background": "light"
          }
        }
      ]
    },
    {
      "cell_type": "code",
      "metadata": {
        "ExecuteTime": {
          "end_time": "2020-10-20T17:23:12.962291Z",
          "start_time": "2020-10-20T17:23:12.951620Z"
        },
        "id": "ZP7Na3JhfQTA"
      },
      "source": [
        "def propagate(X, Y, parameters):\n",
        "    \"\"\"\n",
        "    Argument:\n",
        "    X -- input data of size (n_x, m)\n",
        "    parameters -- python dictionary containing your parameters (output of initialization function)\n",
        "\n",
        "    Returns:\n",
        "    A2 -- The sigmoid output of the second activation\n",
        "    cache -- a dictionary containing \"Z1\", \"A1\", \"Z2\" and \"A2\"\n",
        "    \"\"\"\n",
        "\n",
        "    # Retrieve each parameter from the dictionary \"parameters\"\n",
        "    W1 = parameters[\"W1\"]\n",
        "    b1 = parameters[\"b1\"]\n",
        "    W2 = parameters[\"W2\"]\n",
        "    b2 = parameters[\"b2\"]\n",
        "\n",
        "    # Zi es la combinación lineal entre x y w\n",
        "    # Ai es la aplicación de una función de activación a Zi\n",
        "\n",
        "    Z1 = np.dot(W1, X) + b1\n",
        "    A1 = tanh(Z1)\n",
        "    Z2 = np.dot(W2, A1) + b2\n",
        "    A2 = Z2\n",
        "\n",
        "    assert(A2.shape == (1, X.shape[1]))\n",
        "\n",
        "    cache = {\"Z1\": Z1,\n",
        "             \"A1\": A1,\n",
        "             \"Z2\": Z2,\n",
        "             \"A2\": A2}\n",
        "\n",
        "    m = Y.shape[1] # number of samples\n",
        "\n",
        "    cost = (1/m)*np.sum((Y-A2)**2)\n",
        "    cost = np.squeeze(cost)\n",
        "\n",
        "    assert(isinstance(cost, float))\n",
        "\n",
        "    # Calculo de derivadas\n",
        "\n",
        "    dZ2 = 2*(A2-Y)\n",
        "    dW2 = (1/m)*np.dot(dZ2, A1.T)\n",
        "    db2 = (1/m)*np.sum(dZ2, axis = 1, keepdims = True)\n",
        "    dZ1 = np.dot(W2.T, dZ2)*tanh_derivative(A1)\n",
        "    dW1 = (1/m)*np.dot(dZ1, X.T)\n",
        "    db1 = (1/m)*np.sum(dZ1, axis = 1, keepdims = True)\n",
        "\n",
        "    grads = {\"dW1\": dW1,\n",
        "             \"db1\": db1,\n",
        "             \"dW2\": dW2,\n",
        "             \"db2\": db2}\n",
        "\n",
        "\n",
        "    return A2, cache, cost, grads"
      ],
      "execution_count": null,
      "outputs": []
    },
    {
      "cell_type": "code",
      "metadata": {
        "ExecuteTime": {
          "end_time": "2020-10-20T17:23:12.976704Z",
          "start_time": "2020-10-20T17:23:12.963652Z"
        },
        "id": "OFbh28pKfQTB"
      },
      "source": [
        "def validation(X, Y, parameters):\n",
        "    \"\"\"\n",
        "    Argument:\n",
        "    X -- input data of size (n_x, m)\n",
        "    Y -- output data of size (n_y, m)\n",
        "    parameters -- python dictionary containing your parameters (output of initialization function)\n",
        "\n",
        "    Returns:\n",
        "    A2 -- The sigmoid output of the second activation\n",
        "    cache -- a dictionary containing \"Z1\", \"A1\", \"Z2\" and \"A2\"\n",
        "    cost -- the value of cost\n",
        "    grads -- a dictionary contains derivatives to update parameters\n",
        "    \"\"\"\n",
        "    # Regresa cada parametro del diccionario \"parameters\"\n",
        "\n",
        "    W1 = parameters[\"W1\"]\n",
        "    b1 = parameters[\"b1\"]\n",
        "    W2 = parameters[\"W2\"]\n",
        "    b2 = parameters[\"b2\"]\n",
        "\n",
        "    # Pasos 1 y 2:\n",
        "\n",
        "    # Zi es la combinacion lineal entre x y w\n",
        "    # Ai es la aplicacion de una funcion de activacion a Zi:\n",
        "\n",
        "    Z1 = np.dot(W1, X) + b1\n",
        "    A1 = tanh(Z1)\n",
        "    Z2 = np.dot(W2, A1) + b2\n",
        "    A2 = Z2\n",
        "\n",
        "    # se verifican las dimensiones de A2:\n",
        "\n",
        "    assert(A2.shape == (1, X.shape[1]))\n",
        "\n",
        "    # Paso 3:\n",
        "\n",
        "    # numero de muestras:\n",
        "\n",
        "    m = Y.shape[1]\n",
        "\n",
        "    # se calcula el costo:\n",
        "\n",
        "    cost = (1/m)*np.sum((Y-A2)**2)\n",
        "\n",
        "    # Asegura que cost sea un escalar:\n",
        "\n",
        "    cost = np.squeeze(cost)\n",
        "\n",
        "    assert(isinstance(cost, float))\n",
        "\n",
        "    return cost"
      ],
      "execution_count": null,
      "outputs": []
    },
    {
      "cell_type": "markdown",
      "metadata": {
        "id": "he-6CBHMfQTC"
      },
      "source": [
        "<font size=4 color='cornflowerblue'>\n",
        "    \n",
        "  ## Ejercicio"
      ]
    },
    {
      "cell_type": "markdown",
      "metadata": {
        "id": "ho77124XfQTC"
      },
      "source": [
        "<font size=4>\n",
        "\n",
        "¿Cuáles son las dimensiones de Z1, A1, Z2 y A2?"
      ]
    },
    {
      "cell_type": "markdown",
      "metadata": {
        "id": "_O8jH4cjsTFe"
      },
      "source": [
        "Z1 es un vector de 4 con 100 valores\n",
        "\n",
        "A1 es aplicar la función tanh a Z1, entonces tendría los mismos que Z1\n",
        "\n",
        "Z2 es multiplicar un vector de 4 valores a A1\n",
        "\n",
        "A2 todos los productos\n",
        "\n",
        "¡No encuentro como verlo en código"
      ]
    },
    {
      "cell_type": "markdown",
      "metadata": {
        "id": "rX-omS44fQTE"
      },
      "source": [
        "<font size=5 color='blue'>\n",
        "\n",
        "3. Cálculo de la función de costo durante la optimización de los parámetros que definen al modelo."
      ]
    },
    {
      "cell_type": "markdown",
      "metadata": {
        "id": "ThfXMQaUfQTF"
      },
      "source": [
        "<font size=4>\n",
        "\n",
        "Recordemos que la función de costo, $J$, nos permite saber qué tan bien se esta ajustando el modelo a la variable objetivo de las muestras.\n",
        "\n",
        "Para ello se buscan los parámetros que minimicen a esta función.\n",
        "\n",
        "En el presente caso, la función de costo está definida por la relación siguiente:\n",
        "\n",
        "$$J = \\dfrac{1}{m}\\sum_{i=1}^{m}(y_i-a_i)^2$$"
      ]
    },
    {
      "cell_type": "code",
      "metadata": {
        "ExecuteTime": {
          "end_time": "2020-10-20T17:23:12.994936Z",
          "start_time": "2020-10-20T17:23:12.978202Z"
        },
        "id": "wrLuLot7fQTG"
      },
      "source": [
        "def compute_cost(A2, Y, parameters):\n",
        "    \"\"\"\n",
        "    Computes the cross-entropy cost given in equation (13)\n",
        "\n",
        "    Arguments:\n",
        "    A2 -- The sigmoid output of the second activation, of shape (1, number of examples)\n",
        "    Y -- \"true\" labels vector of shape (1, number of examples)\n",
        "    parameters -- python dictionary containing your parameters W1, b1, W2 and b2\n",
        "\n",
        "    Returns:\n",
        "    cost -- cross-entropy cost given equation (13)\n",
        "    \"\"\"\n",
        "\n",
        "    m = Y.shape[1] # number of samples\n",
        "    cost = (1/m)*np.sum((Y-A2)**2)\n",
        "    cost = np.squeeze(cost)\n",
        "    assert(isinstance(cost, float))\n",
        "\n",
        "    return cost"
      ],
      "execution_count": null,
      "outputs": []
    },
    {
      "cell_type": "markdown",
      "metadata": {
        "id": "IX0Abc3rfQTG"
      },
      "source": [
        "<font size=4>\n",
        "\n",
        "Para encontrar a los valores óptimos de los parámetros, estos se acualizan en cada época empleando el algoritmo de gradiente descendente. El cual esta definido por la siguientes relaciones:\n",
        "\n",
        "$$ \\omega := \\omega - \\alpha \\dfrac{\\partial J(\\omega, b)}{\\partial \\omega}$$\n",
        "\n",
        "$$ b := b - \\alpha \\dfrac{\\partial J(\\omega, b)}{\\partial b}$$\n",
        "\n",
        "Por ello es necesario calcular las derivadas del costo respecto a cada uno de los parámetros."
      ]
    },
    {
      "cell_type": "code",
      "metadata": {
        "ExecuteTime": {
          "end_time": "2020-10-20T17:23:13.010654Z",
          "start_time": "2020-10-20T17:23:12.996218Z"
        },
        "id": "FtLMhfgafQTH"
      },
      "source": [
        "def calculation_of_derivatives(parameters, cache, X, Y):\n",
        "    \"\"\"\n",
        "    Implement the backward propagation using the instructions above.\n",
        "\n",
        "    Arguments:\n",
        "    parameters -- python dictionary containing our parameters\n",
        "    cache -- a dictionary containing \"Z1\", \"A1\", \"Z2\" and \"A2\".\n",
        "    X -- input data of shape (2, number of examples)\n",
        "    Y -- \"true\" labels vector of shape (1, number of examples)\n",
        "\n",
        "    Returns:\n",
        "    grads -- python dictionary containing your gradients with respect to different parameters\n",
        "    \"\"\"\n",
        "    m = X.shape[1]\n",
        "\n",
        "    W1 = parameters[\"W1\"]\n",
        "    W2 = parameters[\"W2\"]\n",
        "    A1 = cache[\"A1\"]\n",
        "    A2 = cache[\"A2\"]\n",
        "\n",
        "    # Calculo de derivadas\n",
        "\n",
        "    dZ2 = 2*(A2-Y)\n",
        "    dW2 = (1/m)*np.dot(dZ2, A1.T)\n",
        "    db2 = (1/m)*np.sum(dZ2, axis = 1, keepdims = True)\n",
        "    dZ1 = np.dot(W2.T, dZ2)*(1-np.power(A1, 2))\n",
        "    dW1 = (1/m)*np.dot(dZ1, X.T)\n",
        "    db1 = (1/m)*np.sum(dZ1, axis = 1, keepdims = True)\n",
        "\n",
        "    grads = {\"dW1\": dW1,\n",
        "             \"db1\": db1,\n",
        "             \"dW2\": dW2,\n",
        "             \"db2\": db2}\n",
        "\n",
        "    return grads"
      ],
      "execution_count": null,
      "outputs": []
    },
    {
      "cell_type": "markdown",
      "metadata": {
        "id": "MTf9PZcYfQTH"
      },
      "source": [
        "<font size=5 color='blue'>\n",
        "4. Optimizacion de los pesos y los bias."
      ]
    },
    {
      "cell_type": "code",
      "metadata": {
        "ExecuteTime": {
          "end_time": "2020-10-20T17:23:13.023183Z",
          "start_time": "2020-10-20T17:23:13.012069Z"
        },
        "id": "yPibd-JVfQTI"
      },
      "source": [
        "def optimize(parameters, grads, learning_rate = 0.1):\n",
        "    \"\"\"\n",
        "    Updates parameters using the gradient descent update rule given above\n",
        "\n",
        "    Arguments:\n",
        "    parameters -- python dictionary containing your parameters\n",
        "    grads -- python dictionary containing your gradients\n",
        "\n",
        "    Returns:\n",
        "    parameters -- python dictionary containing your updated parameters\n",
        "    \"\"\"\n",
        "    # Retrieve each parameter from the dictionary \"parameters\"\n",
        "    W1 = parameters[\"W1\"]\n",
        "    b1 = parameters[\"b1\"]\n",
        "    W2 = parameters[\"W2\"]\n",
        "    b2 = parameters[\"b2\"]\n",
        "\n",
        "    # Retrieve each gradient from the dictionary \"grads\"\n",
        "    dW1 = grads[\"dW1\"]\n",
        "    db1 = grads[\"db1\"]\n",
        "    dW2 = grads[\"dW2\"]\n",
        "    db2 = grads[\"db2\"]\n",
        "\n",
        "    # Update rule for each parameter\n",
        "    W1 = W1-learning_rate*dW1\n",
        "    b1 = b1-learning_rate*db1\n",
        "    W2 = W2-learning_rate*dW2\n",
        "    b2 = b2-learning_rate*db2\n",
        "\n",
        "    parameters = {\"W1\": W1,\n",
        "                  \"b1\": b1,\n",
        "                  \"W2\": W2,\n",
        "                  \"b2\": b2}\n",
        "\n",
        "    return parameters"
      ],
      "execution_count": null,
      "outputs": []
    },
    {
      "cell_type": "markdown",
      "metadata": {
        "id": "eWyedjkjfQTI"
      },
      "source": [
        "<font size=5 color='blue'>\n",
        "5. Las predicciones se realizan con los parametros óptimos encontrados en el entrenamiento."
      ]
    },
    {
      "cell_type": "code",
      "metadata": {
        "ExecuteTime": {
          "end_time": "2020-10-20T17:23:13.040157Z",
          "start_time": "2020-10-20T17:23:13.024797Z"
        },
        "id": "dwoXY3RefQTK"
      },
      "source": [
        "def predict(parameters, X, Y):\n",
        "    \"\"\"\n",
        "    Using the learned parameters, predicts a class for each example in X\n",
        "\n",
        "    Arguments:\n",
        "    parameters -- python dictionary containing your parameters\n",
        "    X -- input data of size (n_x, m)\n",
        "\n",
        "    Returns\n",
        "    predictions -- vector of predictions of our model\n",
        "    \"\"\"\n",
        "    predictions =  []\n",
        "    A2, cache, cost, grads = propagate(X, Y, parameters)\n",
        "    predictions = identity(A2)\n",
        "\n",
        "    return predictions"
      ],
      "execution_count": null,
      "outputs": []
    },
    {
      "cell_type": "markdown",
      "metadata": {
        "id": "vrCaX0B8fQTO"
      },
      "source": [
        "<font size=5 color='blue'>\n",
        "    \n",
        "Las funciones anteriores se integran para generar, entrenar y validar la red neuronal."
      ]
    },
    {
      "cell_type": "code",
      "metadata": {
        "ExecuteTime": {
          "end_time": "2020-10-20T17:23:13.057158Z",
          "start_time": "2020-10-20T17:23:13.041494Z"
        },
        "id": "575DM3bhfQTS"
      },
      "source": [
        "def nn_model(X, Y, val_ratio, n_h, epochs, alpha, print_cost=False):\n",
        "    \"\"\"\n",
        "    Arguments:\n",
        "    X -- dataset of shape (2, number of examples)\n",
        "    Y -- labels of shape (1, number of examples)\n",
        "    n_h -- size of the hidden layer\n",
        "    num_iterations -- Number of iterations in gradient descent loop\n",
        "    print_cost -- if True, print the cost every 1000 iterations\n",
        "\n",
        "    Returns:\n",
        "    parameters -- parameters learnt by the model. They can then be used to predict.\n",
        "    \"\"\"\n",
        "\n",
        "    train_ratio = int((1-val_ratio)*X.shape[1])\n",
        "    X_dev = X[:,train_ratio:]\n",
        "    Y_dev = Y[:,train_ratio:]\n",
        "\n",
        "    X = X[:,:train_ratio]\n",
        "    Y = Y[:,:train_ratio]\n",
        "\n",
        "    print(\"Train\",X.shape,Y.shape)\n",
        "    print(\"val\",X_dev.shape,Y_dev.shape)\n",
        "    np.random.seed(2)\n",
        "    n_x, n_h, n_y = layer_sizes(X, Y, n_h = n_h)\n",
        "\n",
        "    # Initialize parameters, then retrieve W1, b1, W2, b2. Inputs: \"n_x, n_h, n_y\". Outputs = \"W1, b1, W2, b2, parameters\".\n",
        "    parameters = initialize_parameters(n_x, n_h, n_y)\n",
        "    W1 = parameters[\"W1\"]\n",
        "    b1 = parameters[\"b1\"]\n",
        "    W2 = parameters[\"W2\"]\n",
        "    b2 = parameters[\"b2\"]\n",
        "\n",
        "    # Loop (gradient descent)\n",
        "\n",
        "    costs=[]\n",
        "    costs_dev = []\n",
        "    params = []\n",
        "\n",
        "    for i in range(0, epochs):\n",
        "\n",
        "        A2, cache, cost, grads = propagate(X, Y, parameters)\n",
        "\n",
        "        cost_dev = validation(X_dev, Y_dev, parameters)\n",
        "\n",
        "        parameters = optimize(parameters, grads, alpha)\n",
        "\n",
        "        params.append(parameters)\n",
        "\n",
        "        costs.append(cost)\n",
        "\n",
        "        costs_dev.append(cost_dev)\n",
        "\n",
        "        # Print the cost every 1000 iterations\n",
        "        if print_cost and i % 100 == 0:\n",
        "            print (\"Cost and Cost_val in epoch %i: %f %f\" %(i, cost, cost_dev))\n",
        "\n",
        "    return parameters, costs, params, costs_dev"
      ],
      "execution_count": null,
      "outputs": []
    },
    {
      "cell_type": "markdown",
      "metadata": {
        "ExecuteTime": {
          "end_time": "2020-10-13T17:25:36.366411Z",
          "start_time": "2020-10-13T17:25:36.359140Z"
        },
        "id": "GqVlBPMpfQTY"
      },
      "source": [
        "<font size=5 color='blue'>\n",
        "\n",
        "Entrenamiento:"
      ]
    },
    {
      "cell_type": "markdown",
      "metadata": {
        "id": "xC2uFw3IfQTY"
      },
      "source": [
        "<font size=4 color='cornflowerblue'>\n",
        "    \n",
        "  ## Ejercicio"
      ]
    },
    {
      "cell_type": "markdown",
      "metadata": {
        "id": "XlNYP-P6fQTZ"
      },
      "source": [
        "<font size=4>\n",
        "\n",
        "Cambia el valor de la tasa de aprendizaje (alfa), el número de nodos en la capa oculta, la proporción de los datos a usar para la validación y el número de epocas de tal manera que las curvas de costo para el entrenamiento y la validación sean lo mas parecidas posibles.\n",
        "\n",
        "Cambia estos hiper-parámetros a prueba y error."
      ]
    },
    {
      "cell_type": "code",
      "metadata": {
        "ExecuteTime": {
          "end_time": "2020-10-20T17:23:13.436867Z",
          "start_time": "2020-10-20T17:23:13.058576Z"
        },
        "id": "K3M0_tM3fQTZ",
        "colab": {
          "base_uri": "https://localhost:8080/"
        },
        "outputId": "23170516-e6bf-4120-ba6c-81dd3f480c10"
      },
      "source": [
        "epochs = 2000\n",
        "learning_rate = 0.01\n",
        "val_ratio = 0.2\n",
        "n_h = 4\n",
        "\n",
        "opt_parameters, costs, params, costs_dev = nn_model(x_train, y_train, val_ratio=val_ratio,\n",
        "                                                    n_h = n_h, epochs = epochs, alpha=learning_rate, print_cost=True)\n"
      ],
      "execution_count": null,
      "outputs": [
        {
          "output_type": "stream",
          "name": "stdout",
          "text": [
            "Train (10, 317) (1, 317)\n",
            "val (10, 80) (1, 80)\n",
            "Cost and Cost_val in epoch 0: 1.053649 0.873538\n",
            "Cost and Cost_val in epoch 100: 0.748987 0.606685\n",
            "Cost and Cost_val in epoch 200: 0.537629 0.457311\n",
            "Cost and Cost_val in epoch 300: 0.505635 0.436313\n",
            "Cost and Cost_val in epoch 400: 0.499714 0.434712\n",
            "Cost and Cost_val in epoch 500: 0.498058 0.434529\n",
            "Cost and Cost_val in epoch 600: 0.497076 0.434273\n",
            "Cost and Cost_val in epoch 700: 0.496272 0.434142\n",
            "Cost and Cost_val in epoch 800: 0.495527 0.434167\n",
            "Cost and Cost_val in epoch 900: 0.494792 0.434332\n",
            "Cost and Cost_val in epoch 1000: 0.494043 0.434624\n",
            "Cost and Cost_val in epoch 1100: 0.493265 0.435037\n",
            "Cost and Cost_val in epoch 1200: 0.492449 0.435570\n",
            "Cost and Cost_val in epoch 1300: 0.491588 0.436220\n",
            "Cost and Cost_val in epoch 1400: 0.490677 0.436985\n",
            "Cost and Cost_val in epoch 1500: 0.489714 0.437859\n",
            "Cost and Cost_val in epoch 1600: 0.488700 0.438830\n",
            "Cost and Cost_val in epoch 1700: 0.487635 0.439878\n",
            "Cost and Cost_val in epoch 1800: 0.486521 0.440982\n",
            "Cost and Cost_val in epoch 1900: 0.485359 0.442114\n"
          ]
        }
      ]
    },
    {
      "cell_type": "code",
      "metadata": {
        "ExecuteTime": {
          "end_time": "2020-10-20T17:23:13.573105Z",
          "start_time": "2020-10-20T17:23:13.438770Z"
        },
        "id": "P_8PPhfjfQTb",
        "colab": {
          "base_uri": "https://localhost:8080/",
          "height": 284
        },
        "outputId": "e0052fe2-6814-40f0-e52c-0365ab2d72ca"
      },
      "source": [
        "costs = np.squeeze(costs)\n",
        "plt.plot(costs, color='red')\n",
        "plt.plot(costs_dev, color='green')\n",
        "\n",
        "plt.ylabel('Cost')\n",
        "plt.xlabel('epochs')\n",
        "plt.legend(['cost_train', 'cost_validation']);"
      ],
      "execution_count": null,
      "outputs": [
        {
          "output_type": "display_data",
          "data": {
            "image/png": "[encoded data removed]",
            "text/plain": [
              "<Figure size 432x288 with 1 Axes>"
            ]
          },
          "metadata": {
            "needs_background": "light"
          }
        }
      ]
    },
    {
      "cell_type": "markdown",
      "metadata": {
        "ExecuteTime": {
          "end_time": "2020-10-20T17:22:14.197314Z",
          "start_time": "2020-10-20T17:22:14.188557Z"
        },
        "id": "6MACGAAGfQTb"
      },
      "source": [
        "<font size=5 color='blue'>\n",
        "\n",
        "Precision"
      ]
    },
    {
      "cell_type": "markdown",
      "metadata": {
        "id": "ke_PPamYfQTc"
      },
      "source": [
        "<font size=4>\n",
        "\n",
        "Para calcular la precision del modelo se usa MSE:\n",
        "\n",
        "$$100-MSE*100$$\n",
        "\n",
        "es decir\n",
        "\n",
        "$$100-(\\dfrac{1}{m}\\Sigma_{i}(y_{i}-a_{i})^2)*100$$"
      ]
    },
    {
      "cell_type": "code",
      "metadata": {
        "ExecuteTime": {
          "end_time": "2020-10-20T17:23:13.579710Z",
          "start_time": "2020-10-20T17:23:13.574921Z"
        },
        "id": "LiLsvtSVfQTd",
        "colab": {
          "base_uri": "https://localhost:8080/"
        },
        "outputId": "bc4bf139-8b8f-4a07-8522-2e6854486b1e"
      },
      "source": [
        "predictions_train = predict(opt_parameters, x_train, y_train)\n",
        "\n",
        "print(\"train accuracy: {} %\".format(100 - np.mean(np.power(predictions_train-y_train, 2)) * 100))"
      ],
      "execution_count": null,
      "outputs": [
        {
          "output_type": "stream",
          "name": "stdout",
          "text": [
            "train accuracy: 52.40943382649011 %\n"
          ]
        }
      ]
    },
    {
      "cell_type": "code",
      "metadata": {
        "ExecuteTime": {
          "end_time": "2020-10-20T17:23:13.592106Z",
          "start_time": "2020-10-20T17:23:13.581191Z"
        },
        "id": "c7TtJVBqfQTe",
        "colab": {
          "base_uri": "https://localhost:8080/"
        },
        "outputId": "75a289c8-3260-416a-da05-66283a37bc9e"
      },
      "source": [
        "predictions_test = predict(opt_parameters, x_test, y_test)\n",
        "print(\"test accuracy: {} %\".format(100 - np.mean(np.power(predictions_test-y_test, 2)) * 100))"
      ],
      "execution_count": null,
      "outputs": [
        {
          "output_type": "stream",
          "name": "stdout",
          "text": [
            "test accuracy: 53.17535322227507 %\n"
          ]
        }
      ]
    }
  ]
}