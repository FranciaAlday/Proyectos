{
  "nbformat": 4,
  "nbformat_minor": 0,
  "metadata": {
    "colab": {
      "provenance": [],
      "authorship_tag": "ABX9TyPCAi8cvhmbiuR/Q7CCzwi6",
      "include_colab_link": true
    },
    "kernelspec": {
      "name": "python3",
      "display_name": "Python 3"
    },
    "language_info": {
      "name": "python"
    }
  },
  "cells": [
    {
      "cell_type": "markdown",
      "metadata": {
        "id": "view-in-github",
        "colab_type": "text"
      },
      "source": [
        "<a href=\"https://colab.research.google.com/github/FranciaAlday/Proyectos/blob/main/PPCienciaDatos/Clases/11AgoPy.ipynb\" target=\"_parent\"><img src=\"https://colab.research.google.com/assets/colab-badge.svg\" alt=\"Open In Colab\"/></a>"
      ]
    },
    {
      "cell_type": "code",
      "execution_count": null,
      "metadata": {
        "colab": {
          "base_uri": "https://localhost:8080/"
        },
        "id": "xW8U4iXCFpYr",
        "outputId": "6c4130cd-8d76-4c93-8ecc-19aff3b350c1"
      },
      "outputs": [
        {
          "output_type": "execute_result",
          "data": {
            "text/plain": [
              "(1, 2, 3, 1, 2, 3)"
            ]
          },
          "metadata": {},
          "execution_count": 1
        }
      ],
      "source": [
        "x = (1,2,3)\n",
        "y = x + x\n",
        "y"
      ]
    },
    {
      "cell_type": "code",
      "source": [
        "y = x * 5\n",
        "y"
      ],
      "metadata": {
        "colab": {
          "base_uri": "https://localhost:8080/"
        },
        "id": "3zzeg6U-F0-I",
        "outputId": "94293023-a31b-4361-df8f-17119a67e1eb"
      },
      "execution_count": null,
      "outputs": [
        {
          "output_type": "execute_result",
          "data": {
            "text/plain": [
              "(1, 2, 3, 1, 2, 3, 1, 2, 3, 1, 2, 3, 1, 2, 3)"
            ]
          },
          "metadata": {},
          "execution_count": 3
        }
      ]
    },
    {
      "cell_type": "markdown",
      "source": [
        "## Cadenas"
      ],
      "metadata": {
        "id": "46FvWPB0GZkX"
      }
    },
    {
      "cell_type": "code",
      "source": [
        "x = 'cadena con comilla simple'\n",
        "x"
      ],
      "metadata": {
        "colab": {
          "base_uri": "https://localhost:8080/",
          "height": 35
        },
        "id": "L8GGOg3mGOAR",
        "outputId": "75c6b75d-5bf8-43f1-d146-e6b30392a194"
      },
      "execution_count": null,
      "outputs": [
        {
          "output_type": "execute_result",
          "data": {
            "text/plain": [
              "'cadena con milla simple'"
            ],
            "application/vnd.google.colaboratory.intrinsic+json": {
              "type": "string"
            }
          },
          "metadata": {},
          "execution_count": 4
        }
      ]
    },
    {
      "cell_type": "code",
      "source": [
        "x = \"cadena con comilla simple\"\n",
        "x"
      ],
      "metadata": {
        "colab": {
          "base_uri": "https://localhost:8080/",
          "height": 35
        },
        "id": "3CsjEYsTGlG-",
        "outputId": "5b20c2ee-4b27-4797-a6fb-1692e7ff9005"
      },
      "execution_count": null,
      "outputs": [
        {
          "output_type": "execute_result",
          "data": {
            "text/plain": [
              "'cadena con milla simple'"
            ],
            "application/vnd.google.colaboratory.intrinsic+json": {
              "type": "string"
            }
          },
          "metadata": {},
          "execution_count": 5
        }
      ]
    },
    {
      "cell_type": "code",
      "source": [
        "x = '''cadena con triple \\n \\tcomilla simple'''\n",
        "print(x)"
      ],
      "metadata": {
        "colab": {
          "base_uri": "https://localhost:8080/"
        },
        "id": "LkqQ4_-oGsUb",
        "outputId": "1e59edb3-b021-4dbb-f9a1-5531b061af15"
      },
      "execution_count": null,
      "outputs": [
        {
          "output_type": "stream",
          "name": "stdout",
          "text": [
            "cadena con triple \n",
            " \tcomilla simple\n"
          ]
        }
      ]
    },
    {
      "cell_type": "code",
      "source": [
        "#utilizada para comentarios en desarrollo\n",
        "x = \"\"\"cadena con triple \\n \\tcomilla doble\"\"\"\n",
        "print(x)"
      ],
      "metadata": {
        "colab": {
          "base_uri": "https://localhost:8080/"
        },
        "id": "3SrIskUNHA71",
        "outputId": "b23d23ce-d24e-49ee-e8bc-320c507b6d08"
      },
      "execution_count": null,
      "outputs": [
        {
          "output_type": "stream",
          "name": "stdout",
          "text": [
            "cadena con triple \n",
            " \tcomilla doble\n"
          ]
        }
      ]
    },
    {
      "cell_type": "code",
      "source": [
        "x = 'x' * 10\n",
        "x"
      ],
      "metadata": {
        "colab": {
          "base_uri": "https://localhost:8080/",
          "height": 35
        },
        "id": "jOQV5i40HQJS",
        "outputId": "b9dd9c91-7eb1-4fa5-d89e-ed54eb8548e3"
      },
      "execution_count": null,
      "outputs": [
        {
          "output_type": "execute_result",
          "data": {
            "text/plain": [
              "'xxxxxxxxxx'"
            ],
            "application/vnd.google.colaboratory.intrinsic+json": {
              "type": "string"
            }
          },
          "metadata": {},
          "execution_count": 8
        }
      ]
    },
    {
      "cell_type": "code",
      "source": [
        "'hola' + 'mundo'"
      ],
      "metadata": {
        "colab": {
          "base_uri": "https://localhost:8080/",
          "height": 35
        },
        "id": "pEbxyWeUHUaZ",
        "outputId": "1571de0d-3c23-4425-901b-f4101783ce73"
      },
      "execution_count": null,
      "outputs": [
        {
          "output_type": "execute_result",
          "data": {
            "text/plain": [
              "'holamundo'"
            ],
            "application/vnd.google.colaboratory.intrinsic+json": {
              "type": "string"
            }
          },
          "metadata": {},
          "execution_count": 9
        }
      ]
    },
    {
      "cell_type": "code",
      "source": [
        "#No se puede juntar una cadena con una tupla a menos que se transforme\n",
        "'hola' + 'mundo' + repr((1,2))"
      ],
      "metadata": {
        "colab": {
          "base_uri": "https://localhost:8080/",
          "height": 35
        },
        "id": "mXK7ZjZaHcKB",
        "outputId": "df29eb29-1b20-434a-efc4-f87883b645fd"
      },
      "execution_count": null,
      "outputs": [
        {
          "output_type": "execute_result",
          "data": {
            "text/plain": [
              "'holamundo(1, 2)'"
            ],
            "application/vnd.google.colaboratory.intrinsic+json": {
              "type": "string"
            }
          },
          "metadata": {},
          "execution_count": 10
        }
      ]
    },
    {
      "cell_type": "code",
      "source": [
        "x = 'hola mundo cruel'\n",
        "x.split()"
      ],
      "metadata": {
        "colab": {
          "base_uri": "https://localhost:8080/"
        },
        "id": "5qnxbcDYHp2n",
        "outputId": "c5c24c8e-e4ef-42a2-a61b-1c69e21fdda9"
      },
      "execution_count": null,
      "outputs": [
        {
          "output_type": "execute_result",
          "data": {
            "text/plain": [
              "['hola', 'mundo', 'cruel']"
            ]
          },
          "metadata": {},
          "execution_count": 11
        }
      ]
    },
    {
      "cell_type": "code",
      "source": [
        "x.split('o')"
      ],
      "metadata": {
        "colab": {
          "base_uri": "https://localhost:8080/"
        },
        "id": "0cxSk4DDHwjM",
        "outputId": "a5aa0ba3-ca87-40b8-fe69-c26eab6b88cb"
      },
      "execution_count": null,
      "outputs": [
        {
          "output_type": "execute_result",
          "data": {
            "text/plain": [
              "['h', 'la mund', ' cruel']"
            ]
          },
          "metadata": {},
          "execution_count": 12
        }
      ]
    },
    {
      "cell_type": "code",
      "source": [
        "x = 'hola&&mundo'\n",
        "x.split('&&')"
      ],
      "metadata": {
        "colab": {
          "base_uri": "https://localhost:8080/"
        },
        "id": "YZNNdymVH3-d",
        "outputId": "f182deec-2ac1-4a57-81e3-4e15f2605fa7"
      },
      "execution_count": null,
      "outputs": [
        {
          "output_type": "execute_result",
          "data": {
            "text/plain": [
              "['hola', 'mundo']"
            ]
          },
          "metadata": {},
          "execution_count": 13
        }
      ]
    },
    {
      "cell_type": "code",
      "source": [
        "x = 'a b c d e f g'\n",
        "x.split(' ',3)"
      ],
      "metadata": {
        "colab": {
          "base_uri": "https://localhost:8080/"
        },
        "id": "8W7gy2lSICRh",
        "outputId": "21bd47e4-bad6-4f74-e9ed-da99c89bdc3d"
      },
      "execution_count": null,
      "outputs": [
        {
          "output_type": "execute_result",
          "data": {
            "text/plain": [
              "['a', 'b', 'c', 'd e f g']"
            ]
          },
          "metadata": {},
          "execution_count": 15
        }
      ]
    },
    {
      "cell_type": "code",
      "source": [
        "x.split(' ',10)"
      ],
      "metadata": {
        "colab": {
          "base_uri": "https://localhost:8080/"
        },
        "id": "GksBhYpNIPFk",
        "outputId": "4d0e8fd6-2afa-4690-9a93-89723030907e"
      },
      "execution_count": null,
      "outputs": [
        {
          "output_type": "execute_result",
          "data": {
            "text/plain": [
              "['a', 'b', 'c', 'd', 'e', 'f', 'g']"
            ]
          },
          "metadata": {},
          "execution_count": 17
        }
      ]
    },
    {
      "cell_type": "markdown",
      "source": [
        "## Join"
      ],
      "metadata": {
        "id": "AunTGfmXITWY"
      }
    },
    {
      "cell_type": "code",
      "source": [
        "#los paréntesis llaman al método y los corchetes crean la lista\n",
        "' '.join(['join','concatena','cadenas'])"
      ],
      "metadata": {
        "colab": {
          "base_uri": "https://localhost:8080/",
          "height": 35
        },
        "id": "ONw-7mZQIWJy",
        "outputId": "3c500efe-24ef-4130-bc68-a183737b86e6"
      },
      "execution_count": null,
      "outputs": [
        {
          "output_type": "execute_result",
          "data": {
            "text/plain": [
              "'join concatena cadenas'"
            ],
            "application/vnd.google.colaboratory.intrinsic+json": {
              "type": "string"
            }
          },
          "metadata": {},
          "execution_count": 16
        }
      ]
    },
    {
      "cell_type": "code",
      "source": [
        "#los paréntesis llaman al método y los corchetes crean la tupla\n",
        "' '.join(('join','concatena','cadenas'))"
      ],
      "metadata": {
        "colab": {
          "base_uri": "https://localhost:8080/",
          "height": 35
        },
        "id": "Udgl1qddJKlg",
        "outputId": "93981578-7170-4e92-bc61-47774cf03c07"
      },
      "execution_count": null,
      "outputs": [
        {
          "output_type": "execute_result",
          "data": {
            "text/plain": [
              "'join concatena cadenas'"
            ],
            "application/vnd.google.colaboratory.intrinsic+json": {
              "type": "string"
            }
          },
          "metadata": {},
          "execution_count": 18
        }
      ]
    },
    {
      "cell_type": "code",
      "source": [
        "#los paréntesis llaman al método y los corchetes crean la tupla\n",
        "''.join(('join','concatena','cadenas'))"
      ],
      "metadata": {
        "colab": {
          "base_uri": "https://localhost:8080/",
          "height": 35
        },
        "id": "JgKOafsYJKVg",
        "outputId": "975e6bf1-304f-4584-81b7-a459ff1420db"
      },
      "execution_count": null,
      "outputs": [
        {
          "output_type": "execute_result",
          "data": {
            "text/plain": [
              "'joinconcatenacadenas'"
            ],
            "application/vnd.google.colaboratory.intrinsic+json": {
              "type": "string"
            }
          },
          "metadata": {},
          "execution_count": 19
        }
      ]
    },
    {
      "cell_type": "code",
      "source": [
        "int('123')"
      ],
      "metadata": {
        "colab": {
          "base_uri": "https://localhost:8080/"
        },
        "id": "4p-p1EibJo5b",
        "outputId": "4d01e362-a7a1-44a2-f801-861b9cef8e2d"
      },
      "execution_count": null,
      "outputs": [
        {
          "output_type": "execute_result",
          "data": {
            "text/plain": [
              "123"
            ]
          },
          "metadata": {},
          "execution_count": 20
        }
      ]
    },
    {
      "cell_type": "code",
      "source": [
        "#no se puede\n",
        "int('123a')"
      ],
      "metadata": {
        "id": "Hu_nRQN0Js2X"
      },
      "execution_count": null,
      "outputs": []
    },
    {
      "cell_type": "code",
      "source": [
        "float('2')"
      ],
      "metadata": {
        "colab": {
          "base_uri": "https://localhost:8080/"
        },
        "id": "MciVEugfJxmJ",
        "outputId": "bf41c5d4-cfa1-49eb-e4e4-7c76ffda87c0"
      },
      "execution_count": null,
      "outputs": [
        {
          "output_type": "execute_result",
          "data": {
            "text/plain": [
              "2.0"
            ]
          },
          "metadata": {},
          "execution_count": 21
        }
      ]
    },
    {
      "cell_type": "code",
      "source": [
        "float('2.25')"
      ],
      "metadata": {
        "colab": {
          "base_uri": "https://localhost:8080/"
        },
        "id": "6-LmiDgNJ2rD",
        "outputId": "422f8179-33c5-46f1-8af4-f27902bd2d93"
      },
      "execution_count": null,
      "outputs": [
        {
          "output_type": "execute_result",
          "data": {
            "text/plain": [
              "2.25"
            ]
          },
          "metadata": {},
          "execution_count": 22
        }
      ]
    },
    {
      "cell_type": "code",
      "source": [
        "# convierte ese numero en base 2\n",
        "int('10101010101010101001',2)"
      ],
      "metadata": {
        "colab": {
          "base_uri": "https://localhost:8080/"
        },
        "id": "cg2PgSlkJ2cw",
        "outputId": "7b1ccc17-6e59-407d-be9d-9421694ce8af"
      },
      "execution_count": null,
      "outputs": [
        {
          "output_type": "execute_result",
          "data": {
            "text/plain": [
              "699049"
            ]
          },
          "metadata": {},
          "execution_count": 23
        }
      ]
    },
    {
      "cell_type": "code",
      "source": [
        "int('ff',16)"
      ],
      "metadata": {
        "colab": {
          "base_uri": "https://localhost:8080/"
        },
        "id": "ONduxJ6sJ4o1",
        "outputId": "a58b1408-19e6-467b-b5b8-0f8ecba252a1"
      },
      "execution_count": null,
      "outputs": [
        {
          "output_type": "execute_result",
          "data": {
            "text/plain": [
              "255"
            ]
          },
          "metadata": {},
          "execution_count": 24
        }
      ]
    },
    {
      "cell_type": "code",
      "source": [
        "# ese numero en base 5\n",
        "int('3241', 5)"
      ],
      "metadata": {
        "colab": {
          "base_uri": "https://localhost:8080/"
        },
        "id": "nKHM_n07KGZ6",
        "outputId": "cc96c7e3-3119-4021-a84e-45dbe24eb5b3"
      },
      "execution_count": null,
      "outputs": [
        {
          "output_type": "execute_result",
          "data": {
            "text/plain": [
              "446"
            ]
          },
          "metadata": {},
          "execution_count": 25
        }
      ]
    },
    {
      "cell_type": "markdown",
      "source": [
        "Búsquedas de subcadenas"
      ],
      "metadata": {
        "id": "9Zi7NgWhKUMe"
      }
    },
    {
      "cell_type": "code",
      "source": [
        "x = 'ferrocarril'"
      ],
      "metadata": {
        "id": "wRLpvdKBKW8X"
      },
      "execution_count": null,
      "outputs": []
    },
    {
      "cell_type": "code",
      "source": [
        "x.find('rr')"
      ],
      "metadata": {
        "colab": {
          "base_uri": "https://localhost:8080/"
        },
        "id": "iPZ0_1COKXCx",
        "outputId": "93232341-9b86-47af-de4a-4b7d246402cf"
      },
      "execution_count": null,
      "outputs": [
        {
          "output_type": "execute_result",
          "data": {
            "text/plain": [
              "2"
            ]
          },
          "metadata": {},
          "execution_count": 28
        }
      ]
    },
    {
      "cell_type": "code",
      "source": [
        "x.find('rr',3)"
      ],
      "metadata": {
        "colab": {
          "base_uri": "https://localhost:8080/"
        },
        "id": "-1944UKsKdas",
        "outputId": "010e7b9a-21b1-4e44-a487-733cbc9424c0"
      },
      "execution_count": null,
      "outputs": [
        {
          "output_type": "execute_result",
          "data": {
            "text/plain": [
              "7"
            ]
          },
          "metadata": {},
          "execution_count": 29
        }
      ]
    },
    {
      "cell_type": "code",
      "source": [
        "# nos dice si empieza con\n",
        "x.startswith('fer')"
      ],
      "metadata": {
        "colab": {
          "base_uri": "https://localhost:8080/"
        },
        "id": "4biW7maAKl6L",
        "outputId": "6b916bf6-e534-436e-ef0d-88de2bc07c56"
      },
      "execution_count": null,
      "outputs": [
        {
          "output_type": "execute_result",
          "data": {
            "text/plain": [
              "True"
            ]
          },
          "metadata": {},
          "execution_count": 30
        }
      ]
    },
    {
      "cell_type": "code",
      "source": [
        "# nos dice si termina con, con una que cumpla ya indica verdadero\n",
        "x.endswith(('r','el','ril'))"
      ],
      "metadata": {
        "colab": {
          "base_uri": "https://localhost:8080/"
        },
        "id": "VS0H9i6iKtCr",
        "outputId": "f20a1f8e-2e30-426d-bd3f-44c32cbf9dc7"
      },
      "execution_count": null,
      "outputs": [
        {
          "output_type": "execute_result",
          "data": {
            "text/plain": [
              "True"
            ]
          },
          "metadata": {},
          "execution_count": 32
        }
      ]
    },
    {
      "cell_type": "code",
      "source": [
        "x = [1,2,3,4]"
      ],
      "metadata": {
        "id": "pAGdR5t0LJEN"
      },
      "execution_count": null,
      "outputs": []
    },
    {
      "cell_type": "code",
      "source": [
        "'x es : ' + str(x)"
      ],
      "metadata": {
        "colab": {
          "base_uri": "https://localhost:8080/",
          "height": 35
        },
        "id": "MQvOKQSSLO6O",
        "outputId": "77eddb94-ef31-4f5c-b2b0-6b7f95ef4ec3"
      },
      "execution_count": null,
      "outputs": [
        {
          "output_type": "execute_result",
          "data": {
            "text/plain": [
              "'x es : [1, 2, 3, 4]'"
            ],
            "application/vnd.google.colaboratory.intrinsic+json": {
              "type": "string"
            }
          },
          "metadata": {},
          "execution_count": 34
        }
      ]
    },
    {
      "cell_type": "code",
      "source": [
        "repr(len)"
      ],
      "metadata": {
        "colab": {
          "base_uri": "https://localhost:8080/",
          "height": 35
        },
        "id": "mbCWLrI5LWUR",
        "outputId": "7371b88b-b306-47b0-aa06-5453841154e0"
      },
      "execution_count": null,
      "outputs": [
        {
          "output_type": "execute_result",
          "data": {
            "text/plain": [
              "'<built-in function len>'"
            ],
            "application/vnd.google.colaboratory.intrinsic+json": {
              "type": "string"
            }
          },
          "metadata": {},
          "execution_count": 35
        }
      ]
    },
    {
      "cell_type": "code",
      "source": [
        "# Formato con cadenas\n",
        "# módulo entre cadenas\n",
        "\"el %s es la %s de los %s\" % ('tequila','bebida','teomeh')"
      ],
      "metadata": {
        "colab": {
          "base_uri": "https://localhost:8080/",
          "height": 35
        },
        "id": "aZMuB5eoLajS",
        "outputId": "70e57fca-9644-47ee-b7c1-e341b6a83ef4"
      },
      "execution_count": null,
      "outputs": [
        {
          "output_type": "execute_result",
          "data": {
            "text/plain": [
              "'el tequila es la bebida de los teomeh'"
            ],
            "application/vnd.google.colaboratory.intrinsic+json": {
              "type": "string"
            }
          },
          "metadata": {},
          "execution_count": 37
        }
      ]
    },
    {
      "cell_type": "code",
      "source": [
        "\"%s contiene %s\" % ('lista',[1,'dos',3])"
      ],
      "metadata": {
        "colab": {
          "base_uri": "https://localhost:8080/",
          "height": 35
        },
        "id": "e2GZsmEOL01N",
        "outputId": "c2dc228c-6169-4195-b03b-c1e036ef0f05"
      },
      "execution_count": null,
      "outputs": [
        {
          "output_type": "execute_result",
          "data": {
            "text/plain": [
              "\"lista contiene [1, 'dos', 3]\""
            ],
            "application/vnd.google.colaboratory.intrinsic+json": {
              "type": "string"
            }
          },
          "metadata": {},
          "execution_count": 38
        }
      ]
    },
    {
      "cell_type": "code",
      "source": [
        "'entero : %d' % (11)"
      ],
      "metadata": {
        "colab": {
          "base_uri": "https://localhost:8080/",
          "height": 35
        },
        "id": "F2JimxdKMHha",
        "outputId": "5cc9a088-cfc4-4e43-aea9-a644b73d76bb"
      },
      "execution_count": null,
      "outputs": [
        {
          "output_type": "execute_result",
          "data": {
            "text/plain": [
              "'entero : 11'"
            ],
            "application/vnd.google.colaboratory.intrinsic+json": {
              "type": "string"
            }
          },
          "metadata": {},
          "execution_count": 39
        }
      ]
    },
    {
      "cell_type": "code",
      "source": [
        "'flotante : %f' % (5.4321)"
      ],
      "metadata": {
        "colab": {
          "base_uri": "https://localhost:8080/",
          "height": 35
        },
        "id": "B8_XY8EBMN1a",
        "outputId": "6e9bc794-5363-4813-c026-6bb4104c6223"
      },
      "execution_count": null,
      "outputs": [
        {
          "output_type": "execute_result",
          "data": {
            "text/plain": [
              "'flotante : 5.432100'"
            ],
            "application/vnd.google.colaboratory.intrinsic+json": {
              "type": "string"
            }
          },
          "metadata": {},
          "execution_count": 41
        }
      ]
    },
    {
      "cell_type": "code",
      "source": [
        "'flotante : %.4f' % (5.4321)"
      ],
      "metadata": {
        "colab": {
          "base_uri": "https://localhost:8080/",
          "height": 35
        },
        "id": "6PqvC_cDMaBk",
        "outputId": "0febb25d-1d36-43df-a28b-cd9e39b89f9f"
      },
      "execution_count": null,
      "outputs": [
        {
          "output_type": "execute_result",
          "data": {
            "text/plain": [
              "'flotante : 5.4321'"
            ],
            "application/vnd.google.colaboratory.intrinsic+json": {
              "type": "string"
            }
          },
          "metadata": {},
          "execution_count": 43
        }
      ]
    },
    {
      "cell_type": "code",
      "source": [
        "# podemos poner espacios\n",
        "'flotante : %10.4f' % (5.4321)"
      ],
      "metadata": {
        "colab": {
          "base_uri": "https://localhost:8080/",
          "height": 35
        },
        "id": "-8WlPLTFMmWC",
        "outputId": "7ef77232-a304-4e58-8f0e-a05b4e94d939"
      },
      "execution_count": null,
      "outputs": [
        {
          "output_type": "execute_result",
          "data": {
            "text/plain": [
              "'flotante :     5.4321'"
            ],
            "application/vnd.google.colaboratory.intrinsic+json": {
              "type": "string"
            }
          },
          "metadata": {},
          "execution_count": 44
        }
      ]
    },
    {
      "cell_type": "code",
      "source": [
        "#notación científica\n",
        "'flotante : %3e' % (0.000000654)"
      ],
      "metadata": {
        "colab": {
          "base_uri": "https://localhost:8080/",
          "height": 35
        },
        "id": "xS6-zgzwMtzf",
        "outputId": "859ff81e-56da-4dc7-a2ae-73bf4cca5d78"
      },
      "execution_count": null,
      "outputs": [
        {
          "output_type": "execute_result",
          "data": {
            "text/plain": [
              "'flotante : 6.540000e-07'"
            ],
            "application/vnd.google.colaboratory.intrinsic+json": {
              "type": "string"
            }
          },
          "metadata": {},
          "execution_count": 45
        }
      ]
    },
    {
      "cell_type": "code",
      "source": [
        "\"el {2} es la {0} de los {1}\".format('tequila','bebida','teomeh')"
      ],
      "metadata": {
        "colab": {
          "base_uri": "https://localhost:8080/",
          "height": 35
        },
        "id": "fLsOj7xzM1pY",
        "outputId": "a78d4509-ec5e-4809-b3fd-47129eab2cb4"
      },
      "execution_count": null,
      "outputs": [
        {
          "output_type": "execute_result",
          "data": {
            "text/plain": [
              "'el teomeh es la tequila de los bebida'"
            ],
            "application/vnd.google.colaboratory.intrinsic+json": {
              "type": "string"
            }
          },
          "metadata": {},
          "execution_count": 46
        }
      ]
    },
    {
      "cell_type": "code",
      "source": [
        "\"el {bebida} es la {desc} de los {usuarios}\".format(bebida='tequila',desc='bebida',usuarios='teomeh')"
      ],
      "metadata": {
        "colab": {
          "base_uri": "https://localhost:8080/",
          "height": 35
        },
        "id": "SmFs0ablNV4s",
        "outputId": "663bc0be-02c2-49a2-8d69-0e80e725d3ce"
      },
      "execution_count": null,
      "outputs": [
        {
          "output_type": "execute_result",
          "data": {
            "text/plain": [
              "'el tequila es la bebida de los teomeh'"
            ],
            "application/vnd.google.colaboratory.intrinsic+json": {
              "type": "string"
            }
          },
          "metadata": {},
          "execution_count": 47
        }
      ]
    },
    {
      "cell_type": "code",
      "source": [
        "# regresa lo que ingresemos como cadena\n",
        "x = input(\"Ingresa algo: \")\n",
        "x"
      ],
      "metadata": {
        "colab": {
          "base_uri": "https://localhost:8080/",
          "height": 52
        },
        "id": "5Na40cogNVq5",
        "outputId": "9ed6bbed-c73b-4078-9bb6-587387ec3ea9"
      },
      "execution_count": null,
      "outputs": [
        {
          "name": "stdout",
          "output_type": "stream",
          "text": [
            "Ingresa algo: 3\n"
          ]
        },
        {
          "output_type": "execute_result",
          "data": {
            "text/plain": [
              "'3'"
            ],
            "application/vnd.google.colaboratory.intrinsic+json": {
              "type": "string"
            }
          },
          "metadata": {},
          "execution_count": 49
        }
      ]
    },
    {
      "cell_type": "code",
      "source": [
        "# regresa lo que ingresemos como cadena\n",
        "x = input(\"Ingresa un número: \")\n",
        "int(x)"
      ],
      "metadata": {
        "colab": {
          "base_uri": "https://localhost:8080/"
        },
        "id": "P5n0yzRjN8Jd",
        "outputId": "b319fbfe-43c4-4a06-cfb5-9c44499fdaa7"
      },
      "execution_count": null,
      "outputs": [
        {
          "name": "stdout",
          "output_type": "stream",
          "text": [
            "Ingresa un número: 4334\n"
          ]
        },
        {
          "output_type": "execute_result",
          "data": {
            "text/plain": [
              "4334"
            ]
          },
          "metadata": {},
          "execution_count": 50
        }
      ]
    },
    {
      "cell_type": "markdown",
      "source": [
        "## Diccionarios"
      ],
      "metadata": {
        "id": "9f8Lfqe9OGnA"
      }
    },
    {
      "cell_type": "code",
      "source": [
        "x = {}\n",
        "type(x)"
      ],
      "metadata": {
        "colab": {
          "base_uri": "https://localhost:8080/"
        },
        "id": "IAc5RNGiOIly",
        "outputId": "707ba4e1-ca9c-4e74-d547-c0f7b35beac6"
      },
      "execution_count": null,
      "outputs": [
        {
          "output_type": "execute_result",
          "data": {
            "text/plain": [
              "dict"
            ]
          },
          "metadata": {},
          "execution_count": 51
        }
      ]
    },
    {
      "cell_type": "code",
      "source": [
        "x = {'rojo':'red','verde':'green','azul':'blue'}\n",
        "x"
      ],
      "metadata": {
        "colab": {
          "base_uri": "https://localhost:8080/"
        },
        "id": "00n2MWcpON8g",
        "outputId": "c81673dd-ae9b-44d7-8e6a-b9a3fbc8c929"
      },
      "execution_count": null,
      "outputs": [
        {
          "output_type": "execute_result",
          "data": {
            "text/plain": [
              "{'rojo': 'red', 'verde': 'green', 'azul': 'blue'}"
            ]
          },
          "metadata": {},
          "execution_count": 52
        }
      ]
    },
    {
      "cell_type": "code",
      "source": [
        "# para agregar\n",
        "x['blanco']='black'\n",
        "x"
      ],
      "metadata": {
        "colab": {
          "base_uri": "https://localhost:8080/"
        },
        "id": "qgVkdcAUOZci",
        "outputId": "bea142bb-8b5d-435f-ad38-0a763cd3a0b2"
      },
      "execution_count": null,
      "outputs": [
        {
          "output_type": "execute_result",
          "data": {
            "text/plain": [
              "{'rojo': 'red', 'verde': 'green', 'azul': 'blue', 'blanco': 'black'}"
            ]
          },
          "metadata": {},
          "execution_count": 53
        }
      ]
    },
    {
      "cell_type": "code",
      "source": [
        "x"
      ],
      "metadata": {
        "id": "Uy6l6IFJOoO5"
      },
      "execution_count": null,
      "outputs": []
    },
    {
      "cell_type": "code",
      "source": [
        "# esto no se puede como lista pero como tupla si ()\n",
        "x[(1,2)]=5\n",
        "x"
      ],
      "metadata": {
        "colab": {
          "base_uri": "https://localhost:8080/"
        },
        "id": "3E4937y6Osec",
        "outputId": "70f7790f-3923-42ad-e8cd-093cc15b4a9a"
      },
      "execution_count": null,
      "outputs": [
        {
          "output_type": "execute_result",
          "data": {
            "text/plain": [
              "{'rojo': 'red', 'verde': 'green', 'azul': 'blue', 'blanco': 'black', (1, 2): 5}"
            ]
          },
          "metadata": {},
          "execution_count": 55
        }
      ]
    },
    {
      "cell_type": "markdown",
      "source": [
        "Para claves de diccionarios\n",
        "\n",
        "Se puede:\n",
        "cadenas,tuplas, números(enteros, flotantes, imaginarios)\n",
        "\n",
        "No se puede:\n",
        "inmutables, listas,"
      ],
      "metadata": {
        "id": "aIxxs4xXPBSh"
      }
    },
    {
      "cell_type": "code",
      "source": [
        "len(x)"
      ],
      "metadata": {
        "colab": {
          "base_uri": "https://localhost:8080/"
        },
        "id": "pysNb7bJO-QV",
        "outputId": "f372b96e-eecd-45cc-9f5b-e58738884f07"
      },
      "execution_count": null,
      "outputs": [
        {
          "output_type": "execute_result",
          "data": {
            "text/plain": [
              "5"
            ]
          },
          "metadata": {},
          "execution_count": 56
        }
      ]
    },
    {
      "cell_type": "code",
      "source": [
        "'rojo' in x"
      ],
      "metadata": {
        "colab": {
          "base_uri": "https://localhost:8080/"
        },
        "id": "KDcRqOVtPXiK",
        "outputId": "98ae1bf4-0685-47ed-d9ff-4cc5e17209f4"
      },
      "execution_count": null,
      "outputs": [
        {
          "output_type": "execute_result",
          "data": {
            "text/plain": [
              "True"
            ]
          },
          "metadata": {},
          "execution_count": 57
        }
      ]
    },
    {
      "cell_type": "code",
      "source": [
        "# da false por que solo busvca en claves no en valores\n",
        "'red' in x"
      ],
      "metadata": {
        "colab": {
          "base_uri": "https://localhost:8080/"
        },
        "id": "zLtzzT7qPafG",
        "outputId": "c10ca60d-823a-492d-de21-3e849b52bebc"
      },
      "execution_count": null,
      "outputs": [
        {
          "output_type": "execute_result",
          "data": {
            "text/plain": [
              "False"
            ]
          },
          "metadata": {},
          "execution_count": 58
        }
      ]
    },
    {
      "cell_type": "code",
      "source": [
        "x.keys()"
      ],
      "metadata": {
        "colab": {
          "base_uri": "https://localhost:8080/"
        },
        "id": "e-ogAb5yPoei",
        "outputId": "c8da8048-2610-4998-fb5c-ae3e8df51200"
      },
      "execution_count": null,
      "outputs": [
        {
          "output_type": "execute_result",
          "data": {
            "text/plain": [
              "dict_keys(['rojo', 'verde', 'azul', 'blanco', (1, 2)])"
            ]
          },
          "metadata": {},
          "execution_count": 59
        }
      ]
    },
    {
      "cell_type": "code",
      "source": [
        "'red' in x.values()"
      ],
      "metadata": {
        "colab": {
          "base_uri": "https://localhost:8080/"
        },
        "id": "mv9tbkGFPkye",
        "outputId": "aa64d8d5-ae93-4b2b-a0ae-d357bed02eee"
      },
      "execution_count": null,
      "outputs": [
        {
          "output_type": "execute_result",
          "data": {
            "text/plain": [
              "True"
            ]
          },
          "metadata": {},
          "execution_count": 60
        }
      ]
    },
    {
      "cell_type": "code",
      "source": [
        "# da una lista de tuplas de los elemenetos dentro del diccionario\n",
        "x.items()"
      ],
      "metadata": {
        "colab": {
          "base_uri": "https://localhost:8080/"
        },
        "id": "A0BQNMI8Prrj",
        "outputId": "78e1b357-2c01-4ff3-b263-819c1d4a4ca0"
      },
      "execution_count": null,
      "outputs": [
        {
          "output_type": "execute_result",
          "data": {
            "text/plain": [
              "dict_items([('rojo', 'red'), ('verde', 'green'), ('azul', 'blue'), ('blanco', 'black'), ((1, 2), 5)])"
            ]
          },
          "metadata": {},
          "execution_count": 61
        }
      ]
    },
    {
      "cell_type": "code",
      "source": [
        "x.get('verde')"
      ],
      "metadata": {
        "colab": {
          "base_uri": "https://localhost:8080/",
          "height": 35
        },
        "id": "Em52bxVkPz_V",
        "outputId": "3bc661bf-04fe-46fe-d34e-86f02e639ff7"
      },
      "execution_count": null,
      "outputs": [
        {
          "output_type": "execute_result",
          "data": {
            "text/plain": [
              "'green'"
            ],
            "application/vnd.google.colaboratory.intrinsic+json": {
              "type": "string"
            }
          },
          "metadata": {},
          "execution_count": 62
        }
      ]
    },
    {
      "cell_type": "code",
      "source": [
        "x['verde']"
      ],
      "metadata": {
        "colab": {
          "base_uri": "https://localhost:8080/",
          "height": 35
        },
        "id": "ySNH5p9JP35f",
        "outputId": "885c7904-ce9c-4910-fbbe-88249e46110c"
      },
      "execution_count": null,
      "outputs": [
        {
          "output_type": "execute_result",
          "data": {
            "text/plain": [
              "'green'"
            ],
            "application/vnd.google.colaboratory.intrinsic+json": {
              "type": "string"
            }
          },
          "metadata": {},
          "execution_count": 63
        }
      ]
    },
    {
      "cell_type": "code",
      "source": [
        "x['amarillo']"
      ],
      "metadata": {
        "colab": {
          "base_uri": "https://localhost:8080/",
          "height": 176
        },
        "id": "ObUk_BysP7br",
        "outputId": "2613f31a-2f9f-4226-9cff-8bbd375e550f"
      },
      "execution_count": null,
      "outputs": [
        {
          "output_type": "error",
          "ename": "KeyError",
          "evalue": "ignored",
          "traceback": [
            "\u001b[0;31m---------------------------------------------------------------------------\u001b[0m",
            "\u001b[0;31mKeyError\u001b[0m                                  Traceback (most recent call last)",
            "\u001b[0;32m<ipython-input-64-a022568805d8>\u001b[0m in \u001b[0;36m<cell line: 1>\u001b[0;34m()\u001b[0m\n\u001b[0;32m----> 1\u001b[0;31m \u001b[0mx\u001b[0m\u001b[0;34m[\u001b[0m\u001b[0;34m'amarillo'\u001b[0m\u001b[0;34m]\u001b[0m\u001b[0;34m\u001b[0m\u001b[0;34m\u001b[0m\u001b[0m\n\u001b[0m",
            "\u001b[0;31mKeyError\u001b[0m: 'amarillo'"
          ]
        }
      ]
    },
    {
      "cell_type": "code",
      "source": [
        "x.get('amarillo')"
      ],
      "metadata": {
        "id": "3cOhVuprQBF5"
      },
      "execution_count": null,
      "outputs": []
    },
    {
      "cell_type": "code",
      "source": [
        "x.get('amarillo','no existe')"
      ],
      "metadata": {
        "colab": {
          "base_uri": "https://localhost:8080/",
          "height": 35
        },
        "id": "sxTw4uuRQGAV",
        "outputId": "6f5a743e-88f1-4790-b16f-37590d2d2240"
      },
      "execution_count": null,
      "outputs": [
        {
          "output_type": "execute_result",
          "data": {
            "text/plain": [
              "'no existe'"
            ],
            "application/vnd.google.colaboratory.intrinsic+json": {
              "type": "string"
            }
          },
          "metadata": {},
          "execution_count": 66
        }
      ]
    },
    {
      "cell_type": "code",
      "source": [
        "# agrega una entrada al diccionario\n",
        "x.setdefault('amarillo','yellow')"
      ],
      "metadata": {
        "colab": {
          "base_uri": "https://localhost:8080/",
          "height": 35
        },
        "id": "FihUuRdaQKov",
        "outputId": "ccb93c15-2b3e-40c0-a3ec-f4a0011a6a86"
      },
      "execution_count": null,
      "outputs": [
        {
          "output_type": "execute_result",
          "data": {
            "text/plain": [
              "'yellow'"
            ],
            "application/vnd.google.colaboratory.intrinsic+json": {
              "type": "string"
            }
          },
          "metadata": {},
          "execution_count": 67
        }
      ]
    },
    {
      "cell_type": "code",
      "source": [
        "#vemos que lo agregó\n",
        "x"
      ],
      "metadata": {
        "colab": {
          "base_uri": "https://localhost:8080/"
        },
        "id": "WSYoiGVJQafj",
        "outputId": "553672f2-0b3b-48fe-9bb9-0e121094138d"
      },
      "execution_count": null,
      "outputs": [
        {
          "output_type": "execute_result",
          "data": {
            "text/plain": [
              "{'rojo': 'red',\n",
              " 'verde': 'green',\n",
              " 'azul': 'blue',\n",
              " 'blanco': 'black',\n",
              " (1, 2): 5,\n",
              " 'amarillo': 'yellow'}"
            ]
          },
          "metadata": {},
          "execution_count": 68
        }
      ]
    },
    {
      "cell_type": "code",
      "source": [
        "x = {'e':2.718,'pi':3.1416}\n",
        "print('%(pi).2f \\n %(pi).4f \\n %(e).2f' % x)"
      ],
      "metadata": {
        "colab": {
          "base_uri": "https://localhost:8080/"
        },
        "id": "9bXa9Nl3QeDs",
        "outputId": "56dc4591-ecdf-40a3-ea74-b0e9c765d1df"
      },
      "execution_count": null,
      "outputs": [
        {
          "output_type": "stream",
          "name": "stdout",
          "text": [
            "3.14 \n",
            " 3.1416 \n",
            " 2.72\n"
          ]
        }
      ]
    },
    {
      "cell_type": "markdown",
      "source": [
        "## Control de Flujo"
      ],
      "metadata": {
        "id": "jhdJyyvASeDg"
      }
    },
    {
      "cell_type": "markdown",
      "source": [
        "### Condicional if"
      ],
      "metadata": {
        "id": "VCwHa6CfSlTS"
      }
    },
    {
      "cell_type": "code",
      "source": [
        "x = input('ingresa un numero : ')\n",
        "y = input('ingresa otro numero : ')\n",
        "if x<y:\n",
        "  print('el segundo es mayor')\n",
        "elif x>y:\n",
        "  print('el primero es meyor')\n",
        "else:\n",
        "  print('son iguales')"
      ],
      "metadata": {
        "colab": {
          "base_uri": "https://localhost:8080/"
        },
        "id": "O6TRke7TRTw3",
        "outputId": "93e50e54-ac51-418e-c183-527d70f60cc0"
      },
      "execution_count": null,
      "outputs": [
        {
          "output_type": "stream",
          "name": "stdout",
          "text": [
            "ingresa un numero : 4\n",
            "ingresa otro numero : 5\n",
            "el segundo es mayor\n"
          ]
        }
      ]
    },
    {
      "cell_type": "markdown",
      "source": [
        "### Ciclo while"
      ],
      "metadata": {
        "id": "alnni0W9TO45"
      }
    },
    {
      "cell_type": "code",
      "source": [
        "# el contador es para iniciar, el acumulador es odnde ponemos el resultado final\n",
        "# shace la suma de los primeros x numeros\n",
        "x,y,z = 0,5,0\n",
        "while x<y:\n",
        "  z += x\n",
        "  x += 1\n",
        "z"
      ],
      "metadata": {
        "colab": {
          "base_uri": "https://localhost:8080/"
        },
        "id": "BOgmHgTbRTtU",
        "outputId": "ca197687-808a-4f87-94e5-147c015d6899"
      },
      "execution_count": null,
      "outputs": [
        {
          "output_type": "execute_result",
          "data": {
            "text/plain": [
              "10"
            ]
          },
          "metadata": {},
          "execution_count": 72
        }
      ]
    },
    {
      "cell_type": "code",
      "source": [
        "# este es el factorial, no lo escribí bien, daba 120\n",
        "x,y,z = 1,5,1\n",
        "while x<=y:\n",
        "  z += x\n",
        "  x += 1\n",
        "z"
      ],
      "metadata": {
        "colab": {
          "base_uri": "https://localhost:8080/"
        },
        "id": "tOJsVpTPRTqe",
        "outputId": "6b76c9cc-4a62-4cdf-fc66-6a13204f80bb"
      },
      "execution_count": null,
      "outputs": [
        {
          "output_type": "execute_result",
          "data": {
            "text/plain": [
              "16"
            ]
          },
          "metadata": {},
          "execution_count": 74
        }
      ]
    },
    {
      "cell_type": "code",
      "source": [
        "\n",
        "l1, l2 = [1,2,3,l+lj], []\n",
        "for x in l1:\n",
        "  l2.append(x/2)\n",
        "l2"
      ],
      "metadata": {
        "id": "cb4Yxq6mRTnv"
      },
      "execution_count": null,
      "outputs": []
    },
    {
      "cell_type": "code",
      "source": [
        "#range\n",
        "list(range(5))"
      ],
      "metadata": {
        "colab": {
          "base_uri": "https://localhost:8080/"
        },
        "id": "2mxLkStCRTkQ",
        "outputId": "d4595c9b-47a8-44e6-d3a1-699369e7ff45"
      },
      "execution_count": null,
      "outputs": [
        {
          "output_type": "execute_result",
          "data": {
            "text/plain": [
              "[0, 1, 2, 3, 4]"
            ]
          },
          "metadata": {},
          "execution_count": 77
        }
      ]
    },
    {
      "cell_type": "code",
      "source": [
        "list(range(2,7))"
      ],
      "metadata": {
        "colab": {
          "base_uri": "https://localhost:8080/"
        },
        "id": "KWuc3SWKRThF",
        "outputId": "0ac708bc-4ee9-4756-87ea-4ac2eb25ff7b"
      },
      "execution_count": null,
      "outputs": [
        {
          "output_type": "execute_result",
          "data": {
            "text/plain": [
              "[2, 3, 4, 5, 6]"
            ]
          },
          "metadata": {},
          "execution_count": 78
        }
      ]
    },
    {
      "cell_type": "code",
      "source": [
        "list(range(3,15,2))"
      ],
      "metadata": {
        "colab": {
          "base_uri": "https://localhost:8080/"
        },
        "id": "c8f6X1bCRTde",
        "outputId": "912da689-3d3f-495c-8ae3-37b25d743fbc"
      },
      "execution_count": null,
      "outputs": [
        {
          "output_type": "execute_result",
          "data": {
            "text/plain": [
              "[3, 5, 7, 9, 11, 13]"
            ]
          },
          "metadata": {},
          "execution_count": 80
        }
      ]
    },
    {
      "cell_type": "code",
      "source": [
        "list(range(10,3,-2))"
      ],
      "metadata": {
        "colab": {
          "base_uri": "https://localhost:8080/"
        },
        "id": "9ffslmFfRTZq",
        "outputId": "6973e2a8-7805-415e-eae8-be7842b0e299"
      },
      "execution_count": null,
      "outputs": [
        {
          "output_type": "execute_result",
          "data": {
            "text/plain": [
              "[10, 8, 6, 4]"
            ]
          },
          "metadata": {},
          "execution_count": 81
        }
      ]
    },
    {
      "cell_type": "code",
      "source": [
        "l1, l2 = [1,2,3,1+1j], []\n",
        "for x in range l1:\n",
        "  l2.append(x/2)\n",
        "l2"
      ],
      "metadata": {
        "colab": {
          "base_uri": "https://localhost:8080/"
        },
        "id": "TTgeUDcSRTV0",
        "outputId": "855e4c05-e6b1-466c-89b1-49bfed20bafd"
      },
      "execution_count": null,
      "outputs": [
        {
          "output_type": "execute_result",
          "data": {
            "text/plain": [
              "[0.5, 1.0, 1.5, (0.5+0.5j)]"
            ]
          },
          "metadata": {},
          "execution_count": 84
        }
      ]
    },
    {
      "cell_type": "markdown",
      "source": [
        "### Sentencia BREAK y CONTINUE\n",
        "\n",
        "Break: Rompe el ciclo\n",
        "\n",
        "Continue: Rompe el ciclo actual y continua con la operación"
      ],
      "metadata": {
        "id": "90tCdMsfVgcc"
      }
    },
    {
      "cell_type": "code",
      "source": [
        "import random\n",
        "x = random.randint(1,10)\n",
        "for i in range(3):\n",
        "  y = int(input('Adivina el número : '))\n",
        "  if x>y:\n",
        "    print('es mayor')\n",
        "  elif x<y:\n",
        "    print('es menor')\n",
        "  else:\n",
        "    print('adivinaste!!!')\n",
        "    break\n",
        "#lo que esta despues del continue se va a omitir, lo que esta antes no\n",
        "  continue\n",
        "  print('no llega a esta línea')\n",
        "# caundo se acaba el ciclo sin el break entra al siguiente\n",
        "else:\n",
        "  print('no adivinaste, el número es : ' + str(x))"
      ],
      "metadata": {
        "colab": {
          "base_uri": "https://localhost:8080/"
        },
        "id": "lnwZ7JoTRTO8",
        "outputId": "238ddb5e-b3d3-4a97-a776-bd10007d34ee"
      },
      "execution_count": null,
      "outputs": [
        {
          "output_type": "stream",
          "name": "stdout",
          "text": [
            "Adivina el número : 6\n",
            "es mayor\n",
            "Adivina el número : 2\n",
            "es mayor\n",
            "Adivina el número : 3\n",
            "es mayor\n",
            "no adivinaste, el número es : 8\n"
          ]
        }
      ]
    },
    {
      "cell_type": "markdown",
      "source": [
        "## Listas y diccionarios por comprehention"
      ],
      "metadata": {
        "id": "2tcREydiXYJD"
      }
    },
    {
      "cell_type": "code",
      "source": [
        "#lista 1 y lista 2\n",
        "l, l2 = [1,2,3,4],[]\n",
        "for e in l:\n",
        "  l2.append(e**2)\n",
        "l2"
      ],
      "metadata": {
        "colab": {
          "base_uri": "https://localhost:8080/"
        },
        "id": "_DJU0cd7RTFG",
        "outputId": "375e0ed2-4730-49bd-b847-eebe1b88e296"
      },
      "execution_count": null,
      "outputs": [
        {
          "output_type": "execute_result",
          "data": {
            "text/plain": [
              "[1, 4, 9, 16]"
            ]
          },
          "metadata": {},
          "execution_count": 87
        }
      ]
    },
    {
      "cell_type": "code",
      "source": [
        "# la construccion de una lista por comprehention esta en \"C\" y se ejecuta más rapido.\n",
        "#Ésta sintaxis es mejor que la anterior.\n",
        "l = [1,2,3,4]\n",
        "l2 = [e**2 for e in l]\n",
        "l2"
      ],
      "metadata": {
        "colab": {
          "base_uri": "https://localhost:8080/"
        },
        "id": "_NvNBDC0XN4P",
        "outputId": "7bc0672d-29d3-4ae6-b5eb-a36deb75c148"
      },
      "execution_count": null,
      "outputs": [
        {
          "output_type": "execute_result",
          "data": {
            "text/plain": [
              "[1, 4, 9, 16]"
            ]
          },
          "metadata": {},
          "execution_count": 88
        }
      ]
    },
    {
      "cell_type": "code",
      "source": [
        "l = range(15)\n",
        "l2 = [e**2 for e in l if e%2==1]\n",
        "l2"
      ],
      "metadata": {
        "colab": {
          "base_uri": "https://localhost:8080/"
        },
        "id": "w8w0ui0vXNzg",
        "outputId": "4e63bccb-16ce-4c81-aa36-9d31f2244314"
      },
      "execution_count": null,
      "outputs": [
        {
          "output_type": "execute_result",
          "data": {
            "text/plain": [
              "[1, 9, 25, 49, 81, 121, 169]"
            ]
          },
          "metadata": {},
          "execution_count": 89
        }
      ]
    },
    {
      "cell_type": "code",
      "source": [
        "l = range(15)\n",
        "d = {e:e**2 for e in l if e%2==1}\n",
        "d"
      ],
      "metadata": {
        "colab": {
          "base_uri": "https://localhost:8080/"
        },
        "id": "Mig_u_tFXNtt",
        "outputId": "108c709e-12f4-48ba-f59a-24cbddb2f297"
      },
      "execution_count": null,
      "outputs": [
        {
          "output_type": "execute_result",
          "data": {
            "text/plain": [
              "{1: 1, 3: 9, 5: 25, 7: 49, 9: 81, 11: 121, 13: 169}"
            ]
          },
          "metadata": {},
          "execution_count": 91
        }
      ]
    },
    {
      "cell_type": "markdown",
      "source": [
        "## Excepciones, errores en python\n",
        "\n",
        "Manda excepciones de qué cosas no se pueden hacer\n",
        "\n",
        "No estamos verificando errores de a 1, python lo hace\n",
        "\n",
        "Con raise error se muestra qué tipo de error puede ser"
      ],
      "metadata": {
        "id": "h8FEYazIZV12"
      }
    },
    {
      "cell_type": "code",
      "source": [],
      "metadata": {
        "id": "U5B8UkE1XNnX"
      },
      "execution_count": null,
      "outputs": []
    },
    {
      "cell_type": "code",
      "source": [],
      "metadata": {
        "id": "VtfzPoKCZVBq"
      },
      "execution_count": null,
      "outputs": []
    },
    {
      "cell_type": "code",
      "source": [],
      "metadata": {
        "id": "I_snsWP7ZU8u"
      },
      "execution_count": null,
      "outputs": []
    },
    {
      "cell_type": "code",
      "source": [],
      "metadata": {
        "id": "MotBWLhGZU3f"
      },
      "execution_count": null,
      "outputs": []
    }
  ]
}