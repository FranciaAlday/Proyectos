{
  "nbformat": 4,
  "nbformat_minor": 0,
  "metadata": {
    "colab": {
      "provenance": [],
      "authorship_tag": "ABX9TyNOUq+kNFdVX+0xJ54tPj5B",
      "include_colab_link": true
    },
    "kernelspec": {
      "name": "python3",
      "display_name": "Python 3"
    },
    "language_info": {
      "name": "python"
    }
  },
  "cells": [
    {
      "cell_type": "markdown",
      "metadata": {
        "id": "view-in-github",
        "colab_type": "text"
      },
      "source": [
        "<a href=\"https://colab.research.google.com/github/FranciaAlday/Proyectos/blob/main/PPCienciaDatos/Clases/1SepPerceptronIris.ipynb\" target=\"_parent\"><img src=\"https://colab.research.google.com/assets/colab-badge.svg\" alt=\"Open In Colab\"/></a>"
      ]
    },
    {
      "cell_type": "markdown",
      "source": [
        "#Perceptron\n",
        "\n",
        "Aprendizaje supervisado"
      ],
      "metadata": {
        "id": "SOsyCtoVmGl8"
      }
    },
    {
      "cell_type": "markdown",
      "source": [
        "Conjunto iris"
      ],
      "metadata": {
        "id": "a9oKb-XDWh2H"
      }
    },
    {
      "cell_type": "code",
      "source": [
        "import numpy as np\n",
        "import pandas as pd"
      ],
      "metadata": {
        "id": "e4F1yqKTa7p_"
      },
      "execution_count": null,
      "outputs": []
    },
    {
      "cell_type": "code",
      "source": [
        "#Importamos el dataset para iniciar el análisis\n",
        "from sklearn import datasets\n",
        "\n",
        "iris = datasets.load_iris()\n"
      ],
      "metadata": {
        "id": "Gnw2NmuvbBpP"
      },
      "execution_count": null,
      "outputs": []
    },
    {
      "cell_type": "code",
      "source": [
        "#Separo todos los datos con las características y las etiquetas o resultados\n",
        "X = np.array(iris.\n",
        "y = np.array(iris"
      ],
      "metadata": {
        "id": "wMkZ3BKAbdQU"
      },
      "execution_count": null,
      "outputs": []
    },
    {
      "cell_type": "code",
      "source": [],
      "metadata": {
        "id": "EzKIhAuIWhm_"
      },
      "execution_count": null,
      "outputs": []
    },
    {
      "cell_type": "code",
      "source": [],
      "metadata": {
        "id": "1-ZDFRKNkRim"
      },
      "execution_count": null,
      "outputs": []
    },
    {
      "cell_type": "code",
      "source": [],
      "metadata": {
        "id": "OmcHschdkRdb"
      },
      "execution_count": null,
      "outputs": []
    },
    {
      "cell_type": "code",
      "source": [],
      "metadata": {
        "id": "2E_7H8mnkRRL"
      },
      "execution_count": null,
      "outputs": []
    },
    {
      "cell_type": "code",
      "execution_count": null,
      "metadata": {
        "id": "RkxygFM2VTZh"
      },
      "outputs": [],
      "source": [
        "x1 = np.linspace(4,7.5,2)\n",
        "x2 = (ppn.w_[0] + ppn.w_[1]*x1) / ppn.w_[2]\n",
        "plt.plot(x1,x2,'g',label= 'Borde de Decisión')\n",
        "#Setosa\n",
        "registros = y == -1\n",
        "x1 = X[registros][:,0]\n",
        "x2 = X[registros][:,1]\n",
        "plt.scatter(x1,x2,c='r',marker='o',label='setosa')\n",
        "#Versicolor\n",
        "registros = y == 1\n",
        "x1 = X[registros][:,0]\n",
        "x2 = X[registros][:,1]\n",
        "plt.scatter(x1,x2,c='r',marker='x',label='versicolor')"
      ]
    },
    {
      "cell_type": "code",
      "source": [
        "#Funcion para graficar\n",
        "from matplotlib import pyplot as plt\n",
        "from matplotlib.colors import ListedColormap\n",
        "def plot_decision_regions (X,y,classifier,resolution=0.02):\n",
        "  colors = np.array(['lime','red','blue','green'])\n",
        "  cmap = ListedColormap(colors[:len(np.unique(y))])\n",
        "#Superficies de decision\n",
        "x1_min,x1_max = X[:,0].min()-1, X[:,0].max()+1\n",
        "x2_min,x2_max = X[:,1].min()-1, X[:,1].max()+1\n",
        "#vamos a hacerlo 1 dimensional para que el classidicador lo reciba con meshgrid\n",
        "xx1,xx2 = np.meshgrid(np.arange(x1_min,x1_max,resolution),\n",
        "                      np.arange(x2_min,x2_max,resolution))\n",
        "#tenemos que transponer para que queden en orden\n",
        "Z = classifier.predict(np.array([xx1.ravel(),xx2.ravel()]).T)\n",
        "Z = Z.reshape(xx1.shape)\n",
        "plt.contourf(xx1,xx2,Z,alpha=0.4,cmap=cmap)\n",
        "plt.xlim(xx1.min(),xx1.max())\n",
        "plt.ylim(xx2.min(),xx2.max())\n",
        "#Conjuntos de cada clase\n",
        "plt.scatter(X[:,0],X[:,1],alpha=0.9,c=colors[y],edgecolor='black')\n"
      ],
      "metadata": {
        "id": "t33UW292VfKn"
      },
      "execution_count": null,
      "outputs": []
    },
    {
      "cell_type": "code",
      "source": [
        "plot_decision_regions(X,y,classifier=ppn)\n",
        "plt.xlabel('sepal-len[cm]')\n",
        "plt.ylabel('petal-len[cm]')\n",
        "plt.show()"
      ],
      "metadata": {
        "id": "MH0PCN1ob1zi"
      },
      "execution_count": null,
      "outputs": []
    },
    {
      "cell_type": "code",
      "source": [
        "from mlxtend.plotting import plot_decision_regions\n",
        "plot_decision_regions(X,y,clf=ppn,legend=2)\n",
        "plt.xlabel('sepal-len[cm]')\n",
        "plt.ylabel('petal-len[cm]')\n",
        "plt.title('Per eptron en Iris')\n",
        "plt.show()"
      ],
      "metadata": {
        "id": "B-r6sPy_c2Ly"
      },
      "execution_count": null,
      "outputs": []
    },
    {
      "cell_type": "markdown",
      "source": [
        "Con skitlearn\n",
        "\n",
        "Vamos a calcular el plano que mejor separe las clases con el perceptron"
      ],
      "metadata": {
        "id": "H_YBmz7RdafS"
      }
    },
    {
      "cell_type": "code",
      "source": [
        "from sklearn import datasets\n",
        "import numpy as np\n",
        "iris = datasets.load_iris()\n",
        "iris\n",
        "# nos da sus datos, es un diccionario"
      ],
      "metadata": {
        "id": "zWnWK2qhddtw"
      },
      "execution_count": null,
      "outputs": []
    },
    {
      "cell_type": "code",
      "source": [
        "X = iris.data[:,[2,3]]\n",
        "y = iris.target[:]\n",
        "print('Etiquetas: ',np.unique(y))"
      ],
      "metadata": {
        "colab": {
          "base_uri": "https://localhost:8080/"
        },
        "id": "Dir3qAULeBVj",
        "outputId": "8f32483b-6807-4ea6-f578-c12660d8d4a7"
      },
      "execution_count": null,
      "outputs": [
        {
          "output_type": "stream",
          "name": "stdout",
          "text": [
            "Etiquetas:  [0 1 2]\n"
          ]
        }
      ]
    },
    {
      "cell_type": "code",
      "source": [
        "#Conjuntos de entrenamiento y prueba\n",
        "from sklearn.model_selection import train_test_split\n",
        "X_train,X_test,y_train,y_test = train_test_split(X,y,test_size=0.3,stratify=y, random_state=1) #quremos que tome en cuenta la estratificación\n",
        "\n",
        "print(X_train.shape,y_train.shape)\n",
        "print(X_test.shape,y_test.shape)"
      ],
      "metadata": {
        "colab": {
          "base_uri": "https://localhost:8080/"
        },
        "id": "Sz0mQwgZexrC",
        "outputId": "b8ce309d-99c7-4f83-f006-390ef50a1193"
      },
      "execution_count": null,
      "outputs": [
        {
          "output_type": "stream",
          "name": "stdout",
          "text": [
            "(105, 2) (105,)\n",
            "(45, 2) (45,)\n"
          ]
        }
      ]
    },
    {
      "cell_type": "code",
      "source": [
        "print('Total de etiquetas en y = ', np.bincount(y))\n",
        "print('Total de etiquetas en y_train = ', np.bincount(y_train))\n",
        "print('Total de etiquetas en y_test = ', np.bincount(y_test))"
      ],
      "metadata": {
        "colab": {
          "base_uri": "https://localhost:8080/"
        },
        "id": "C7cAD0cMf0-z",
        "outputId": "34e9e13b-0bd1-40fa-d419-fefe47f07df8"
      },
      "execution_count": null,
      "outputs": [
        {
          "output_type": "stream",
          "name": "stdout",
          "text": [
            "Total de etiquetas en y =  [50 50 50]\n",
            "Total de etiquetas en y_train =  [35 35 35]\n",
            "Total de etiquetas en y_test =  [15 15 15]\n"
          ]
        }
      ]
    },
    {
      "cell_type": "code",
      "source": [
        "#Escalamiento\n",
        "from sklearn.preprocessing import StandardScaler\n",
        "sc = StandardScaler()\n",
        "sc.fit(X_train)\n",
        "X_train_std = sc.transform(X_train)\n",
        "X_test_std = sc.transform(X_test)"
      ],
      "metadata": {
        "id": "XGMx-lOegXn_"
      },
      "execution_count": null,
      "outputs": []
    },
    {
      "cell_type": "code",
      "source": [
        "#Perceptron de sklearn\n",
        "from sklearn.linear_model import Perceptron\n",
        "ppn = Perceptron(max_iter=40,eta0=0.1,random_state=1)\n",
        "ppn.fit(X_train,y_train)"
      ],
      "metadata": {
        "colab": {
          "base_uri": "https://localhost:8080/",
          "height": 74
        },
        "id": "u8Bb-L-Qg70o",
        "outputId": "5bb23999-b1b7-43c7-8763-e0c5bf988824"
      },
      "execution_count": null,
      "outputs": [
        {
          "output_type": "execute_result",
          "data": {
            "text/plain": [
              "Perceptron(eta0=0.1, max_iter=40, random_state=1)"
            ],
            "text/html": [
              "<style>#sk-container-id-1 {color: black;background-color: white;}#sk-container-id-1 pre{padding: 0;}#sk-container-id-1 div.sk-toggleable {background-color: white;}#sk-container-id-1 label.sk-toggleable__label {cursor: pointer;display: block;width: 100%;margin-bottom: 0;padding: 0.3em;box-sizing: border-box;text-align: center;}#sk-container-id-1 label.sk-toggleable__label-arrow:before {content: \"▸\";float: left;margin-right: 0.25em;color: #696969;}#sk-container-id-1 label.sk-toggleable__label-arrow:hover:before {color: black;}#sk-container-id-1 div.sk-estimator:hover label.sk-toggleable__label-arrow:before {color: black;}#sk-container-id-1 div.sk-toggleable__content {max-height: 0;max-width: 0;overflow: hidden;text-align: left;background-color: #f0f8ff;}#sk-container-id-1 div.sk-toggleable__content pre {margin: 0.2em;color: black;border-radius: 0.25em;background-color: #f0f8ff;}#sk-container-id-1 input.sk-toggleable__control:checked~div.sk-toggleable__content {max-height: 200px;max-width: 100%;overflow: auto;}#sk-container-id-1 input.sk-toggleable__control:checked~label.sk-toggleable__label-arrow:before {content: \"▾\";}#sk-container-id-1 div.sk-estimator input.sk-toggleable__control:checked~label.sk-toggleable__label {background-color: #d4ebff;}#sk-container-id-1 div.sk-label input.sk-toggleable__control:checked~label.sk-toggleable__label {background-color: #d4ebff;}#sk-container-id-1 input.sk-hidden--visually {border: 0;clip: rect(1px 1px 1px 1px);clip: rect(1px, 1px, 1px, 1px);height: 1px;margin: -1px;overflow: hidden;padding: 0;position: absolute;width: 1px;}#sk-container-id-1 div.sk-estimator {font-family: monospace;background-color: #f0f8ff;border: 1px dotted black;border-radius: 0.25em;box-sizing: border-box;margin-bottom: 0.5em;}#sk-container-id-1 div.sk-estimator:hover {background-color: #d4ebff;}#sk-container-id-1 div.sk-parallel-item::after {content: \"\";width: 100%;border-bottom: 1px solid gray;flex-grow: 1;}#sk-container-id-1 div.sk-label:hover label.sk-toggleable__label {background-color: #d4ebff;}#sk-container-id-1 div.sk-serial::before {content: \"\";position: absolute;border-left: 1px solid gray;box-sizing: border-box;top: 0;bottom: 0;left: 50%;z-index: 0;}#sk-container-id-1 div.sk-serial {display: flex;flex-direction: column;align-items: center;background-color: white;padding-right: 0.2em;padding-left: 0.2em;position: relative;}#sk-container-id-1 div.sk-item {position: relative;z-index: 1;}#sk-container-id-1 div.sk-parallel {display: flex;align-items: stretch;justify-content: center;background-color: white;position: relative;}#sk-container-id-1 div.sk-item::before, #sk-container-id-1 div.sk-parallel-item::before {content: \"\";position: absolute;border-left: 1px solid gray;box-sizing: border-box;top: 0;bottom: 0;left: 50%;z-index: -1;}#sk-container-id-1 div.sk-parallel-item {display: flex;flex-direction: column;z-index: 1;position: relative;background-color: white;}#sk-container-id-1 div.sk-parallel-item:first-child::after {align-self: flex-end;width: 50%;}#sk-container-id-1 div.sk-parallel-item:last-child::after {align-self: flex-start;width: 50%;}#sk-container-id-1 div.sk-parallel-item:only-child::after {width: 0;}#sk-container-id-1 div.sk-dashed-wrapped {border: 1px dashed gray;margin: 0 0.4em 0.5em 0.4em;box-sizing: border-box;padding-bottom: 0.4em;background-color: white;}#sk-container-id-1 div.sk-label label {font-family: monospace;font-weight: bold;display: inline-block;line-height: 1.2em;}#sk-container-id-1 div.sk-label-container {text-align: center;}#sk-container-id-1 div.sk-container {/* jupyter's `normalize.less` sets `[hidden] { display: none; }` but bootstrap.min.css set `[hidden] { display: none !important; }` so we also need the `!important` here to be able to override the default hidden behavior on the sphinx rendered scikit-learn.org. See: https://github.com/scikit-learn/scikit-learn/issues/21755 */display: inline-block !important;position: relative;}#sk-container-id-1 div.sk-text-repr-fallback {display: none;}</style><div id=\"sk-container-id-1\" class=\"sk-top-container\"><div class=\"sk-text-repr-fallback\"><pre>Perceptron(eta0=0.1, max_iter=40, random_state=1)</pre><b>In a Jupyter environment, please rerun this cell to show the HTML representation or trust the notebook. <br />On GitHub, the HTML representation is unable to render, please try loading this page with nbviewer.org.</b></div><div class=\"sk-container\" hidden><div class=\"sk-item\"><div class=\"sk-estimator sk-toggleable\"><input class=\"sk-toggleable__control sk-hidden--visually\" id=\"sk-estimator-id-1\" type=\"checkbox\" checked><label for=\"sk-estimator-id-1\" class=\"sk-toggleable__label sk-toggleable__label-arrow\">Perceptron</label><div class=\"sk-toggleable__content\"><pre>Perceptron(eta0=0.1, max_iter=40, random_state=1)</pre></div></div></div></div></div>"
            ]
          },
          "metadata": {},
          "execution_count": 14
        }
      ]
    },
    {
      "cell_type": "code",
      "source": [
        "y_pred = ppn.predict(X_test_std)\n",
        "print('Errores de clasificación : ',(y_test-y_pred).sum())"
      ],
      "metadata": {
        "colab": {
          "base_uri": "https://localhost:8080/"
        },
        "id": "q-mWZTlBhcbz",
        "outputId": "262ce044-f7cc-4f0a-ecab-d7dc33c96a2b"
      },
      "execution_count": null,
      "outputs": [
        {
          "output_type": "stream",
          "name": "stdout",
          "text": [
            "Errores de clasificación :  41\n"
          ]
        }
      ]
    },
    {
      "cell_type": "code",
      "source": [
        "#da todos los tipos: setosa, versocolor,\n",
        "ppn.coef_"
      ],
      "metadata": {
        "colab": {
          "base_uri": "https://localhost:8080/"
        },
        "id": "bTIF_6Wdh3TM",
        "outputId": "599023f9-e1b6-452e-9a12-9d60f1f95e50"
      },
      "execution_count": null,
      "outputs": [
        {
          "output_type": "execute_result",
          "data": {
            "text/plain": [
              "array([[-0.11, -0.15],\n",
              "       [ 0.6 , -1.32],\n",
              "       [ 0.52,  2.42]])"
            ]
          },
          "metadata": {},
          "execution_count": 17
        }
      ]
    },
    {
      "cell_type": "code",
      "source": [
        "#\n",
        "print('Exactitud : ',ppn.score(X_test_std,y_test))"
      ],
      "metadata": {
        "colab": {
          "base_uri": "https://localhost:8080/"
        },
        "id": "m9NoSX7PiJ2D",
        "outputId": "0d85a3d0-14a9-4b64-d21d-24e2703cd0c9"
      },
      "execution_count": null,
      "outputs": [
        {
          "output_type": "stream",
          "name": "stdout",
          "text": [
            "Exactitud :  0.37777777777777777\n"
          ]
        }
      ]
    },
    {
      "cell_type": "code",
      "source": [
        "#Accuracy\n",
        "from sklearn.metrics import accuracy_score\n",
        "print('Exactitud : ',accuracy_score(y_test,y_pred))"
      ],
      "metadata": {
        "colab": {
          "base_uri": "https://localhost:8080/"
        },
        "id": "A5u2CyjLiZGp",
        "outputId": "9f80cf0c-4853-4b97-bbc1-6d531913c3a5"
      },
      "execution_count": null,
      "outputs": [
        {
          "output_type": "stream",
          "name": "stdout",
          "text": [
            "Exactitud :  0.37777777777777777\n"
          ]
        }
      ]
    },
    {
      "cell_type": "code",
      "source": [
        "from mlxtend.plotting import plot_decision_regions\n",
        "import matplotlib.pyplot as plt\n",
        "plot_decision_regions(X_train_std,y_train,clf=ppn)\n",
        "plt.xlabel('sepal len [std]')\n",
        "plt.ylabel('petal len [std]')\n",
        "plt.title('Perceptron de sklearn en Iris')\n",
        "plt.show()"
      ],
      "metadata": {
        "colab": {
          "base_uri": "https://localhost:8080/",
          "height": 472
        },
        "id": "c04zJT_xi8L-",
        "outputId": "ffa683a7-e035-4134-f8cc-39a62d9c62ec"
      },
      "execution_count": null,
      "outputs": [
        {
          "output_type": "display_data",
          "data": {
            "text/plain": [
              "<Figure size 640x480 with 1 Axes>"
            ],
            "image/png": "[encoded data removed]"
          },
          "metadata": {}
        }
      ]
    },
    {
      "cell_type": "code",
      "source": [
        "from mlxtend.plotting import plot_decision_regions\n",
        "import matplotlib.pyplot as plt\n",
        "plot_decision_regions(X_test_std,y_test,clf=ppn)\n",
        "plt.xlabel('sepal len [std]')\n",
        "plt.ylabel('petal len [std]')\n",
        "plt.title('Perceptron de sklearn en Iris')\n",
        "plt.show()"
      ],
      "metadata": {
        "colab": {
          "base_uri": "https://localhost:8080/",
          "height": 472
        },
        "id": "-cWkzw9Sj__8",
        "outputId": "1ef9a885-09be-495c-9b8d-d80722183e4e"
      },
      "execution_count": null,
      "outputs": [
        {
          "output_type": "display_data",
          "data": {
            "text/plain": [
              "<Figure size 640x480 with 1 Axes>"
            ],
            "image/png": "[encoded data removed]"
          },
          "metadata": {}
        }
      ]
    }
  ]
}