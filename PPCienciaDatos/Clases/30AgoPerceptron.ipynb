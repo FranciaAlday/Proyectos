{
  "nbformat": 4,
  "nbformat_minor": 0,
  "metadata": {
    "colab": {
      "provenance": [],
      "authorship_tag": "ABX9TyO5Vhs3eb9GTBoKRB2qbtAc",
      "include_colab_link": true
    },
    "kernelspec": {
      "name": "python3",
      "display_name": "Python 3"
    },
    "language_info": {
      "name": "python"
    }
  },
  "cells": [
    {
      "cell_type": "markdown",
      "metadata": {
        "id": "view-in-github",
        "colab_type": "text"
      },
      "source": [
        "<a href=\"https://colab.research.google.com/github/FranciaAlday/Proyectos/blob/main/PPCienciaDatos/Clases/30AgoPerceptron.ipynb\" target=\"_parent\"><img src=\"https://colab.research.google.com/assets/colab-badge.svg\" alt=\"Open In Colab\"/></a>"
      ]
    },
    {
      "cell_type": "markdown",
      "source": [
        "# Perceptron de Rosemblatt\n",
        "\n",
        "Esta diseñado para hacer clasisficsción binaria"
      ],
      "metadata": {
        "id": "bCN-BL2B9T2G"
      }
    },
    {
      "cell_type": "code",
      "execution_count": null,
      "metadata": {
        "id": "t7cwLVg08hBz"
      },
      "outputs": [],
      "source": []
    },
    {
      "cell_type": "markdown",
      "source": [
        "Utilzando el valor η=0.1 aplicar el algoritmo de aprendizaje del perceptron para una neurona artificial que calcule la función booleana NAND con 2 parámetros definida como:\n",
        "\n",
        "```\n",
        "x0    x1  x2   y\n",
        " 1     0   0   1\n",
        " 1  *  0   1   1\n",
        " 1     1   0   1\n",
        " 1     1   1  -1\n",
        "```\n",
        "vector de peso * vector de entradas\n",
        "```\n",
        " = η(yi-y^i)x\n",
        " w=[0,0,0] θ=0\n",
        " Δw=0.1(1-g(\n",
        "```\n",
        "Como hubo un cambio en los pesos se repite el proceso\n"
      ],
      "metadata": {
        "id": "FFSrBHMc9as-"
      }
    },
    {
      "cell_type": "markdown",
      "source": [
        "Vamos a utilizar el perceptron para hacer la clasificación sobre la NAND"
      ],
      "metadata": {
        "id": "BHkWwz63KQby"
      }
    },
    {
      "cell_type": "code",
      "source": [
        "import numpy as np\n",
        "\n",
        "# Vamos a usar lenguaje orientado a objetos\n",
        "class Perceptron():\n",
        "  \"\"\"Perceptron\n",
        "  Parameters\n",
        "  *************\n",
        "  eta: float\n",
        "    Learning rate (0.0 < eta <1.0)\n",
        "  n_iter: int\n",
        "    Number of iterations over the training test set\n",
        "  random_state: int\n",
        "    Random number generator for weight initialization\n",
        "\n",
        "  Atributes\n",
        "  *************\n",
        "  w_: numpy array\n",
        "    Weights after fitting\n",
        "  errors_: list\n",
        "    Number of misclassifications(updates) in each epoch\n",
        "  \"\"\"\n",
        "\n",
        "  def __init__(self, eta=0.1, n_iter=50, random_state=1):\n",
        "    self.eta = eta\n",
        "    self.n_iter = n_iter\n",
        "    self.tandom_state = random_state\n",
        "\n",
        "#Método fit\n",
        "  def fit(self, X, y):\n",
        "    \"\"\"Fit training data\n",
        "    Parameters\n",
        "    ------------\n",
        "    X: {np.array}, shape = [n_samples, n_features]\n",
        "      Training vectors with n_samples and n_features\n",
        "    y: {np.array}, shape = [n_samples]\n",
        "      Target values\n",
        "    \"\"\"\n",
        "\n",
        "    rgen = np.random.RandomState(self.random_state)\n",
        "    if self.random_state is None:\n",
        "      self.w_ = np.zeros(1+len(X[1]))\n",
        "    else:\n",
        "      self.w_ = rgen.normal(loc=0.0,scale=0.01, size=1+X.shape[1])\n",
        "    self.errors_ = []\n",
        "    for _ in range(self.n_iter):\n",
        "      errors = 0\n",
        "      for xi,yi in zip(X,y):\n",
        "        update = self.eta * (yi - self.predict(xi))\n",
        "        self.w_[1:] += update * xi\n",
        "        self.w_[0] += update\n",
        "        errors += int(update != 0.0)\n",
        "      self.errors_.append(errors)\n",
        "    return self\n",
        "#aqui se puede decir que imrima los valores internos\n",
        "\n",
        "#g\n",
        "  def net_input(self, X):\n",
        "    \"\"\"Calculate cell input\"\"\"\n",
        "    return np.dot(X, self.w_[1:]) + self.w_[0]\n",
        "\n",
        "#g0\n",
        "  def predict(self,X):\n",
        "    \"\"\"Return class label after unit step\"\"\"\n",
        "    return np.where(self.net_input(X) >= 0.0, 1, -1)\n"
      ],
      "metadata": {
        "id": "hjSbwlyY8k93"
      },
      "execution_count": null,
      "outputs": []
    },
    {
      "cell_type": "code",
      "source": [
        "X = np.array([[0,0],[0,1],[1,0],[1,1]])\n",
        "y = np.array([1,1,1,-1])\n",
        "\n",
        "ppn = Perceptron(n_iter=6, random_state=None)\n",
        "ppn.fit(X,y)\n",
        "print('Pesos: ', ppn.w_)"
      ],
      "metadata": {
        "colab": {
          "base_uri": "https://localhost:8080/",
          "height": 349
        },
        "id": "IOvgGR8h8k6i",
        "outputId": "a4db986e-5dc7-4fa5-bcb1-c7fbddd274b9"
      },
      "execution_count": null,
      "outputs": [
        {
          "output_type": "error",
          "ename": "AttributeError",
          "evalue": "ignored",
          "traceback": [
            "\u001b[0;31m---------------------------------------------------------------------------\u001b[0m",
            "\u001b[0;31mAttributeError\u001b[0m                            Traceback (most recent call last)",
            "\u001b[0;32m<ipython-input-10-49b102cb63a0>\u001b[0m in \u001b[0;36m<cell line: 5>\u001b[0;34m()\u001b[0m\n\u001b[1;32m      3\u001b[0m \u001b[0;34m\u001b[0m\u001b[0m\n\u001b[1;32m      4\u001b[0m \u001b[0mppn\u001b[0m \u001b[0;34m=\u001b[0m \u001b[0mPerceptron\u001b[0m\u001b[0;34m(\u001b[0m\u001b[0mn_iter\u001b[0m\u001b[0;34m=\u001b[0m\u001b[0;36m6\u001b[0m\u001b[0;34m,\u001b[0m \u001b[0mrandom_state\u001b[0m\u001b[0;34m=\u001b[0m\u001b[0;32mNone\u001b[0m\u001b[0;34m)\u001b[0m\u001b[0;34m\u001b[0m\u001b[0;34m\u001b[0m\u001b[0m\n\u001b[0;32m----> 5\u001b[0;31m \u001b[0mppn\u001b[0m\u001b[0;34m.\u001b[0m\u001b[0mfit\u001b[0m\u001b[0;34m(\u001b[0m\u001b[0mX\u001b[0m\u001b[0;34m,\u001b[0m\u001b[0my\u001b[0m\u001b[0;34m)\u001b[0m\u001b[0;34m\u001b[0m\u001b[0;34m\u001b[0m\u001b[0m\n\u001b[0m\u001b[1;32m      6\u001b[0m \u001b[0mprint\u001b[0m\u001b[0;34m(\u001b[0m\u001b[0;34m'Pesos: '\u001b[0m\u001b[0;34m,\u001b[0m \u001b[0mppn\u001b[0m\u001b[0;34m.\u001b[0m\u001b[0mw_\u001b[0m\u001b[0;34m)\u001b[0m\u001b[0;34m\u001b[0m\u001b[0;34m\u001b[0m\u001b[0m\n",
            "\u001b[0;32m<ipython-input-9-621267ab6f01>\u001b[0m in \u001b[0;36mfit\u001b[0;34m(self, X, y)\u001b[0m\n\u001b[1;32m     37\u001b[0m     \"\"\"\n\u001b[1;32m     38\u001b[0m \u001b[0;34m\u001b[0m\u001b[0m\n\u001b[0;32m---> 39\u001b[0;31m     \u001b[0mrgen\u001b[0m \u001b[0;34m=\u001b[0m \u001b[0mnp\u001b[0m\u001b[0;34m.\u001b[0m\u001b[0mrandom\u001b[0m\u001b[0;34m.\u001b[0m\u001b[0mRandomState\u001b[0m\u001b[0;34m(\u001b[0m\u001b[0mself\u001b[0m\u001b[0;34m.\u001b[0m\u001b[0mrandom_state\u001b[0m\u001b[0;34m)\u001b[0m\u001b[0;34m\u001b[0m\u001b[0;34m\u001b[0m\u001b[0m\n\u001b[0m\u001b[1;32m     40\u001b[0m     \u001b[0;32mif\u001b[0m \u001b[0mself\u001b[0m\u001b[0;34m.\u001b[0m\u001b[0mrandom_state\u001b[0m \u001b[0;32mis\u001b[0m \u001b[0;32mNone\u001b[0m\u001b[0;34m:\u001b[0m\u001b[0;34m\u001b[0m\u001b[0;34m\u001b[0m\u001b[0m\n\u001b[1;32m     41\u001b[0m       \u001b[0mself\u001b[0m\u001b[0;34m.\u001b[0m\u001b[0mw_\u001b[0m \u001b[0;34m=\u001b[0m \u001b[0mnp\u001b[0m\u001b[0;34m.\u001b[0m\u001b[0mzeros\u001b[0m\u001b[0;34m(\u001b[0m\u001b[0;36m1\u001b[0m\u001b[0;34m+\u001b[0m\u001b[0mlen\u001b[0m\u001b[0;34m(\u001b[0m\u001b[0mX\u001b[0m\u001b[0;34m[\u001b[0m\u001b[0;36m1\u001b[0m\u001b[0;34m]\u001b[0m\u001b[0;34m)\u001b[0m\u001b[0;34m)\u001b[0m\u001b[0;34m\u001b[0m\u001b[0;34m\u001b[0m\u001b[0m\n",
            "\u001b[0;31mAttributeError\u001b[0m: 'Perceptron' object has no attribute 'random_state'"
          ]
        }
      ]
    },
    {
      "cell_type": "code",
      "source": [],
      "metadata": {
        "id": "DpiHZkNu8k3G"
      },
      "execution_count": null,
      "outputs": []
    },
    {
      "cell_type": "code",
      "source": [],
      "metadata": {
        "id": "BCk30l248krZ"
      },
      "execution_count": null,
      "outputs": []
    },
    {
      "cell_type": "markdown",
      "source": [
        "La regla de aprendizaje converge sólo si   son linealmente separables. Si no son puede no converger por eso agregamos un parámetro de seguridad para evitar que el loop siga"
      ],
      "metadata": {
        "id": "3OacvMRkJiP8"
      }
    }
  ]
}