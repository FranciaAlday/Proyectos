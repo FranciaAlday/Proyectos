{
  "nbformat": 4,
  "nbformat_minor": 0,
  "metadata": {
    "colab": {
      "provenance": [],
      "authorship_tag": "ABX9TyPQFa+lAc+AGBe5bd0FWxAe",
      "include_colab_link": true
    },
    "kernelspec": {
      "name": "python3",
      "display_name": "Python 3"
    },
    "language_info": {
      "name": "python"
    }
  },
  "cells": [
    {
      "cell_type": "markdown",
      "metadata": {
        "id": "view-in-github",
        "colab_type": "text"
      },
      "source": [
        "<a href=\"https://colab.research.google.com/github/FranciaAlday/Proyectos/blob/main/PPCienciaDatos/Clases/14AgoPy.ipynb\" target=\"_parent\"><img src=\"https://colab.research.google.com/assets/colab-badge.svg\" alt=\"Open In Colab\"/></a>"
      ]
    },
    {
      "cell_type": "markdown",
      "source": [
        "pythontutor.com muestra lo que se va guardando en la memoria, como crea objetos\n",
        "\n",
        "ahi se ve bien como funcionan los apuntadores en python"
      ],
      "metadata": {
        "id": "NaWebudBk5HE"
      }
    },
    {
      "cell_type": "markdown",
      "source": [
        "# Funciones\n",
        "\n",
        "Para definir una función en python se usa la palabra reserrvada def"
      ],
      "metadata": {
        "id": "kQm5bL9aY3sd"
      }
    },
    {
      "cell_type": "markdown",
      "source": [
        "Para orientación objetos python no tiene encapsulamiento.\n",
        "\n",
        "En python todo es un objeto.\n",
        "\n",
        "La documentación de python esta escrita dentro de los módulos como escribimos la triple comilla doble para la función suma"
      ],
      "metadata": {
        "id": "Xxcdb2-6ftCC"
      }
    },
    {
      "cell_type": "code",
      "execution_count": null,
      "metadata": {
        "id": "2qWj_0VSYzVA"
      },
      "outputs": [],
      "source": [
        "def suma(n):\n",
        "  \"\"\"suma: Realiza la suma de los primeros n naturales\n",
        "  params:\n",
        "    n: un numero natural\n",
        "returns:\n",
        "    La suma\n",
        "\"\"\"\n",
        "\n",
        "s = 0\n",
        "while n>0:\n",
        "  s += n\n",
        "  n -= 1\n",
        "return s\n"
      ]
    },
    {
      "cell_type": "code",
      "source": [
        "suma(suma(5))"
      ],
      "metadata": {
        "id": "EomO5TgvY64E"
      },
      "execution_count": null,
      "outputs": []
    },
    {
      "cell_type": "code",
      "source": [
        "print(suma.__doc__)"
      ],
      "metadata": {
        "colab": {
          "base_uri": "https://localhost:8080/"
        },
        "id": "GWKVM7xafInc",
        "outputId": "ecf6e3e3-00ba-47fe-faaf-9b7e1e5fe7d6"
      },
      "execution_count": null,
      "outputs": [
        {
          "output_type": "stream",
          "name": "stdout",
          "text": [
            "suma: Realiza la suma de los primeros n naturales\n",
            "  params:\n",
            "    n: un numero natural\n",
            "returns:\n",
            "    La suma\n",
            "\n"
          ]
        }
      ]
    },
    {
      "cell_type": "code",
      "source": [
        "def pow(x,y):\n",
        "  \"\"\" Calcula x^y \"\"\"\n",
        "  p=1\n",
        "  while y>0:\n",
        "    p *= X\n",
        "    y -= 1\n",
        "  return p\n",
        "\n",
        "pow(2,5)"
      ],
      "metadata": {
        "colab": {
          "base_uri": "https://localhost:8080/"
        },
        "id": "5QOKhSgbY58O",
        "outputId": "0d520c4f-4fff-416d-dd68-43dc6fa07d36"
      },
      "execution_count": null,
      "outputs": [
        {
          "output_type": "execute_result",
          "data": {
            "text/plain": [
              "1073741824"
            ]
          },
          "metadata": {},
          "execution_count": 3
        }
      ]
    },
    {
      "cell_type": "code",
      "source": [
        "def pow(x,y=2):\n",
        "  \"\"\" Calcula x^y \"\"\"\n",
        "  p=1\n",
        "  while y>0:\n",
        "    p *= X\n",
        "    y -= 1\n",
        "  return p\n",
        "\n",
        "pow(5)"
      ],
      "metadata": {
        "colab": {
          "base_uri": "https://localhost:8080/"
        },
        "id": "EQ7UeI-LY55n",
        "outputId": "aaad0abf-180f-45b2-e7eb-71a56fbf74fe"
      },
      "execution_count": null,
      "outputs": [
        {
          "output_type": "execute_result",
          "data": {
            "text/plain": [
              "4096"
            ]
          },
          "metadata": {},
          "execution_count": 9
        }
      ]
    },
    {
      "cell_type": "code",
      "source": [
        "pow(5,2)"
      ],
      "metadata": {
        "colab": {
          "base_uri": "https://localhost:8080/"
        },
        "id": "GkCmx5tfY507",
        "outputId": "51aff864-d31c-4d39-e5a1-718dc306d25b"
      },
      "execution_count": null,
      "outputs": [
        {
          "output_type": "execute_result",
          "data": {
            "text/plain": [
              "4096"
            ]
          },
          "metadata": {},
          "execution_count": 10
        }
      ]
    },
    {
      "cell_type": "code",
      "source": [
        "pow(y=3,x=5)"
      ],
      "metadata": {
        "colab": {
          "base_uri": "https://localhost:8080/"
        },
        "id": "BJxzx_QgY5wy",
        "outputId": "39da15bc-485f-47f8-9979-900803b90f1f"
      },
      "execution_count": null,
      "outputs": [
        {
          "output_type": "execute_result",
          "data": {
            "text/plain": [
              "262144"
            ]
          },
          "metadata": {},
          "execution_count": 11
        }
      ]
    },
    {
      "cell_type": "code",
      "source": [
        "# Con parámetros de un diccionario\n",
        "def pow(x,y=2,**kwargs):\n",
        "  \"\"\" Calcula x^y \"\"\"\n",
        "  if kwargs:\n",
        "    print(kwargs)\n",
        "  p=1\n",
        "  while y>0:\n",
        "    p *= X\n",
        "    y -= 1\n",
        "  return p\n",
        "\n",
        "pow(y=3,x=5,w=0,z=6)"
      ],
      "metadata": {
        "colab": {
          "base_uri": "https://localhost:8080/"
        },
        "id": "SCwtIpzeY5rP",
        "outputId": "6cfe4a08-c242-4a8d-fd59-68fea6460b6f"
      },
      "execution_count": null,
      "outputs": [
        {
          "output_type": "stream",
          "name": "stdout",
          "text": [
            "{'w': 0, 'z': 6}\n"
          ]
        },
        {
          "output_type": "execute_result",
          "data": {
            "text/plain": [
              "262144"
            ]
          },
          "metadata": {},
          "execution_count": 13
        }
      ]
    },
    {
      "cell_type": "code",
      "source": [
        "# Para procesar un numero indeterminado de parameros\n",
        "# es un apuntador sencillo\n",
        "def maximo(*num):\n",
        "  if not num:\n",
        "    return None\n",
        "  else:\n",
        "    n_max = num[0]\n",
        "    # el primero es el máximo\n",
        "    for n in num[i:]:\n",
        "      if n > n_max:\n",
        "        n_max = n\n",
        "    return n_max\n",
        "# si n es mayor que el primer número, se hace ese número el máximo"
      ],
      "metadata": {
        "id": "dW5Ay9sKdpWn"
      },
      "execution_count": null,
      "outputs": []
    },
    {
      "cell_type": "code",
      "source": [
        "maximo()"
      ],
      "metadata": {
        "id": "ZC2xT7OXY5gG"
      },
      "execution_count": null,
      "outputs": []
    },
    {
      "cell_type": "code",
      "source": [
        "maximo(4)"
      ],
      "metadata": {
        "colab": {
          "base_uri": "https://localhost:8080/",
          "height": 297
        },
        "id": "xIl0RbKpetg1",
        "outputId": "d6570785-448b-465e-f8e0-4df55f797ec0"
      },
      "execution_count": null,
      "outputs": [
        {
          "output_type": "error",
          "ename": "NameError",
          "evalue": "ignored",
          "traceback": [
            "\u001b[0;31m---------------------------------------------------------------------------\u001b[0m",
            "\u001b[0;31mNameError\u001b[0m                                 Traceback (most recent call last)",
            "\u001b[0;32m<ipython-input-18-ea77bb9b8336>\u001b[0m in \u001b[0;36m<cell line: 1>\u001b[0;34m()\u001b[0m\n\u001b[0;32m----> 1\u001b[0;31m \u001b[0mmaximo\u001b[0m\u001b[0;34m(\u001b[0m\u001b[0;36m4\u001b[0m\u001b[0;34m)\u001b[0m\u001b[0;34m\u001b[0m\u001b[0;34m\u001b[0m\u001b[0m\n\u001b[0m",
            "\u001b[0;32m<ipython-input-16-aa85af5dc945>\u001b[0m in \u001b[0;36mmaximo\u001b[0;34m(*num)\u001b[0m\n\u001b[1;32m      7\u001b[0m     \u001b[0mn_max\u001b[0m \u001b[0;34m=\u001b[0m \u001b[0mnum\u001b[0m\u001b[0;34m[\u001b[0m\u001b[0;36m0\u001b[0m\u001b[0;34m]\u001b[0m\u001b[0;34m\u001b[0m\u001b[0;34m\u001b[0m\u001b[0m\n\u001b[1;32m      8\u001b[0m     \u001b[0;31m# el primero es el máximo\u001b[0m\u001b[0;34m\u001b[0m\u001b[0;34m\u001b[0m\u001b[0m\n\u001b[0;32m----> 9\u001b[0;31m     \u001b[0;32mfor\u001b[0m \u001b[0mn\u001b[0m \u001b[0;32min\u001b[0m \u001b[0mnum\u001b[0m\u001b[0;34m[\u001b[0m\u001b[0mi\u001b[0m\u001b[0;34m:\u001b[0m\u001b[0;34m]\u001b[0m\u001b[0;34m:\u001b[0m\u001b[0;34m\u001b[0m\u001b[0;34m\u001b[0m\u001b[0m\n\u001b[0m\u001b[1;32m     10\u001b[0m       \u001b[0;32mif\u001b[0m \u001b[0mn\u001b[0m \u001b[0;34m>\u001b[0m \u001b[0mn_max\u001b[0m\u001b[0;34m:\u001b[0m\u001b[0;34m\u001b[0m\u001b[0;34m\u001b[0m\u001b[0m\n\u001b[1;32m     11\u001b[0m         \u001b[0mn_max\u001b[0m \u001b[0;34m=\u001b[0m \u001b[0mn\u001b[0m\u001b[0;34m\u001b[0m\u001b[0;34m\u001b[0m\u001b[0m\n",
            "\u001b[0;31mNameError\u001b[0m: name 'i' is not defined"
          ]
        }
      ]
    },
    {
      "cell_type": "markdown",
      "source": [
        "# Clases, herencia\n",
        "\n",
        "Para clases la definimos con class\n",
        "\n",
        "Entre parentesis se dice que hereda de que objeto\n",
        "\n",
        "En skitlearn se usa lo de las letras mayúsculas como en java"
      ],
      "metadata": {
        "id": "LB5KsvCaggEE"
      }
    },
    {
      "cell_type": "code",
      "source": [
        "class mi_clase(object):\n",
        "  \"\"\" Doestring de la clase \"\"\"\n",
        "  pass"
      ],
      "metadata": {
        "id": "n5yCms-tetcI"
      },
      "execution_count": null,
      "outputs": []
    },
    {
      "cell_type": "code",
      "source": [
        "obj = mi_clase()\n",
        "print(obj)"
      ],
      "metadata": {
        "colab": {
          "base_uri": "https://localhost:8080/"
        },
        "id": "9Q6Kc-uMetUs",
        "outputId": "2e8aef35-ab38-4cdb-e4c1-16d83653d4f5"
      },
      "execution_count": null,
      "outputs": [
        {
          "output_type": "stream",
          "name": "stdout",
          "text": [
            "<__main__.mi_clase object at 0x7eb7d0cdc160>\n"
          ]
        }
      ]
    },
    {
      "cell_type": "markdown",
      "source": [
        "## Atributos de objeto"
      ],
      "metadata": {
        "id": "VIm1iBFTiGtm"
      }
    },
    {
      "cell_type": "code",
      "source": [
        "class Circulo():\n",
        "  # self es para que sepa que manda el mismo objeto como parametro\n",
        "  def __init__(self):\n",
        "    self.radio = 1"
      ],
      "metadata": {
        "id": "3ew9PATRetK-"
      },
      "execution_count": null,
      "outputs": []
    },
    {
      "cell_type": "code",
      "source": [
        "e1 = Circulo()\n",
        "e1.radio\n"
      ],
      "metadata": {
        "colab": {
          "base_uri": "https://localhost:8080/"
        },
        "id": "_7eE2XhChdcC",
        "outputId": "fed672fe-3b75-4069-b352-66f5c14d963a"
      },
      "execution_count": null,
      "outputs": [
        {
          "output_type": "execute_result",
          "data": {
            "text/plain": [
              "1"
            ]
          },
          "metadata": {},
          "execution_count": 25
        }
      ]
    },
    {
      "cell_type": "code",
      "source": [
        "# cada objeto tiene su atributo radio y si modifico uno, no le importa al otro\n",
        "e2 = Circulo()\n",
        "e2.radio = 5\n",
        "e2.radio"
      ],
      "metadata": {
        "colab": {
          "base_uri": "https://localhost:8080/"
        },
        "id": "d1Ndtnh-hmxO",
        "outputId": "66a68ab1-1c8e-4018-ffab-be4dd41e517f"
      },
      "execution_count": null,
      "outputs": [
        {
          "output_type": "execute_result",
          "data": {
            "text/plain": [
              "5"
            ]
          },
          "metadata": {},
          "execution_count": 26
        }
      ]
    },
    {
      "cell_type": "code",
      "source": [
        "e1.radio"
      ],
      "metadata": {
        "colab": {
          "base_uri": "https://localhost:8080/"
        },
        "id": "RLOdIy8ehms_",
        "outputId": "5bc93427-a902-48e5-a017-545f9913d2c2"
      },
      "execution_count": null,
      "outputs": [
        {
          "output_type": "execute_result",
          "data": {
            "text/plain": [
              "1"
            ]
          },
          "metadata": {},
          "execution_count": 27
        }
      ]
    },
    {
      "cell_type": "code",
      "source": [
        "e1.nuevo = 'hola'\n",
        "e1.nuevo"
      ],
      "metadata": {
        "colab": {
          "base_uri": "https://localhost:8080/",
          "height": 35
        },
        "id": "PKUYs0Nhhmpm",
        "outputId": "1c632d4c-c727-4357-cd61-4eb73db36d7c"
      },
      "execution_count": null,
      "outputs": [
        {
          "output_type": "execute_result",
          "data": {
            "text/plain": [
              "'hola'"
            ],
            "application/vnd.google.colaboratory.intrinsic+json": {
              "type": "string"
            }
          },
          "metadata": {},
          "execution_count": 29
        }
      ]
    },
    {
      "cell_type": "markdown",
      "source": [
        "## Atributos de clase\n",
        "\n",
        "Se modifica para todos los objetos en paralelo"
      ],
      "metadata": {
        "id": "oPlGmosFiLUN"
      }
    },
    {
      "cell_type": "code",
      "source": [
        "class Circulo():\n",
        "  pi = 3.1416\n",
        "  def __init__(self):\n",
        "    self.radio = 1"
      ],
      "metadata": {
        "id": "hKfpvMrBhmmA"
      },
      "execution_count": null,
      "outputs": []
    },
    {
      "cell_type": "code",
      "source": [
        "# c1.pi es nuestro objeto\n",
        "c1 = Circulo()\n",
        "c1.pi"
      ],
      "metadata": {
        "colab": {
          "base_uri": "https://localhost:8080/"
        },
        "id": "K9gp2U3shmif",
        "outputId": "6a0056d1-71c0-4988-dcd4-d6cd9c9a759c"
      },
      "execution_count": null,
      "outputs": [
        {
          "output_type": "execute_result",
          "data": {
            "text/plain": [
              "3.1416"
            ]
          },
          "metadata": {},
          "execution_count": 31
        }
      ]
    },
    {
      "cell_type": "code",
      "source": [
        "Circulo.pi = 3\n",
        "c1.pi"
      ],
      "metadata": {
        "colab": {
          "base_uri": "https://localhost:8080/"
        },
        "id": "gVlf0G9qilht",
        "outputId": "eb0d238e-7997-48cd-c1e5-2707f2eb41a1"
      },
      "execution_count": null,
      "outputs": [
        {
          "output_type": "execute_result",
          "data": {
            "text/plain": [
              "3"
            ]
          },
          "metadata": {},
          "execution_count": 32
        }
      ]
    },
    {
      "cell_type": "code",
      "source": [
        "c1.pi = 3.151592356\n",
        "c1.pi\n",
        "# se le crea un nuevo atributo a ese objeto c1.pi"
      ],
      "metadata": {
        "colab": {
          "base_uri": "https://localhost:8080/"
        },
        "id": "0pAg_bTNirF2",
        "outputId": "5ba8d984-65f5-4453-9bc4-261ffdc7d651"
      },
      "execution_count": null,
      "outputs": [
        {
          "output_type": "execute_result",
          "data": {
            "text/plain": [
              "3.151592356"
            ]
          },
          "metadata": {},
          "execution_count": 36
        }
      ]
    },
    {
      "cell_type": "code",
      "source": [
        "c2 = Circulo()\n",
        "c2.pi"
      ],
      "metadata": {
        "colab": {
          "base_uri": "https://localhost:8080/"
        },
        "id": "ZKmSjHvLjwRY",
        "outputId": "dd969d90-84a0-47af-deca-f5de79c5fb06"
      },
      "execution_count": null,
      "outputs": [
        {
          "output_type": "execute_result",
          "data": {
            "text/plain": [
              "3"
            ]
          },
          "metadata": {},
          "execution_count": 37
        }
      ]
    },
    {
      "cell_type": "code",
      "source": [
        "# para acceder al atributo de clase\n",
        "c1.__class__.pi\n",
        "# el atributo de clase no se modificó"
      ],
      "metadata": {
        "colab": {
          "base_uri": "https://localhost:8080/"
        },
        "id": "hd9noesBjNdn",
        "outputId": "eb5ea006-7b79-40f1-974f-c1077fa28eb6"
      },
      "execution_count": null,
      "outputs": [
        {
          "output_type": "execute_result",
          "data": {
            "text/plain": [
              "3"
            ]
          },
          "metadata": {},
          "execution_count": 34
        }
      ]
    },
    {
      "cell_type": "code",
      "source": [
        "# de esta forma todos los objetos se van a enterar\n",
        "c1.__class__.pi = 3.1416\n",
        "c2.pi"
      ],
      "metadata": {
        "colab": {
          "base_uri": "https://localhost:8080/"
        },
        "id": "xNGnSlQSj4Cb",
        "outputId": "941c120c-6cbd-42ff-feb4-861f10d80286"
      },
      "execution_count": null,
      "outputs": [
        {
          "output_type": "execute_result",
          "data": {
            "text/plain": [
              "3.1416"
            ]
          },
          "metadata": {},
          "execution_count": 38
        }
      ]
    },
    {
      "cell_type": "markdown",
      "source": [
        "## Métodos\n",
        "\n",
        "Para los métdos utilizamos return\n",
        "\n",
        "Métodos de objeto:"
      ],
      "metadata": {
        "id": "tYSwbAcGiLHQ"
      }
    },
    {
      "cell_type": "code",
      "source": [
        "class Circulo():\n",
        "  pi = 3.14159\n",
        "  def __init__(self,radio=1):\n",
        "    self.radio = radio\n",
        "  def area (self):\n",
        "    # vanmos a garantizar que estamos usando ek de la clase\n",
        "    return self.__class__.pi * self.radio**2"
      ],
      "metadata": {
        "id": "IskgTqWLhmep"
      },
      "execution_count": null,
      "outputs": []
    },
    {
      "cell_type": "code",
      "source": [
        "c1 = Circulo()\n",
        "c1.area()"
      ],
      "metadata": {
        "colab": {
          "base_uri": "https://localhost:8080/"
        },
        "id": "C6vo46LDkJUa",
        "outputId": "70c70710-07ba-40e9-b71d-336b8f4492f7"
      },
      "execution_count": null,
      "outputs": [
        {
          "output_type": "execute_result",
          "data": {
            "text/plain": [
              "3.14159"
            ]
          },
          "metadata": {},
          "execution_count": 40
        }
      ]
    },
    {
      "cell_type": "code",
      "source": [
        "c2 = Circulo(10)\n",
        "c2.area()"
      ],
      "metadata": {
        "colab": {
          "base_uri": "https://localhost:8080/"
        },
        "id": "kRayABstkJP6",
        "outputId": "cf58bfed-5c7d-4fb5-80d5-ed8e2b385c78"
      },
      "execution_count": null,
      "outputs": [
        {
          "output_type": "execute_result",
          "data": {
            "text/plain": [
              "314.159"
            ]
          },
          "metadata": {},
          "execution_count": 41
        }
      ]
    },
    {
      "cell_type": "markdown",
      "source": [
        "### Métodos estáticos"
      ],
      "metadata": {
        "id": "LYAxU1BsldID"
      }
    },
    {
      "cell_type": "code",
      "source": [
        "class Circulo():\n",
        "  pi = 3.14159\n",
        "  todos_los_circulos = [] #lista vacía\n",
        "  def __init__(self,radio=1):\n",
        "    self.radio = radio\n",
        "    self.__class__.todos_los_circulos.append(self)\n",
        "  def area (self):\n",
        "    return self.__class__.pi * self.radio**2\n",
        "  @staticmethod\n",
        "  def area_total():\n",
        "    total=0\n",
        "    for c in Circulo.todos_los_circulos:\n",
        "      total += c.area()\n",
        "    return total\n",
        "    # Circulo es la clase a la que pertenece y hay que indicarla\n"
      ],
      "metadata": {
        "id": "hSdMfN7fkJLM"
      },
      "execution_count": null,
      "outputs": []
    },
    {
      "cell_type": "code",
      "source": [
        "c1 = Circulo()\n",
        "c2 = Circulo(5)\n",
        "c3 = Circulo(10)\n",
        "Circulo.area_total()"
      ],
      "metadata": {
        "colab": {
          "base_uri": "https://localhost:8080/"
        },
        "id": "QimfRAENkJF0",
        "outputId": "d4e7f6b7-11dc-41da-d9ba-ed6d27cb9448"
      },
      "execution_count": null,
      "outputs": [
        {
          "output_type": "execute_result",
          "data": {
            "text/plain": [
              "395.84033999999997"
            ]
          },
          "metadata": {},
          "execution_count": 43
        }
      ]
    },
    {
      "cell_type": "code",
      "source": [
        "# este metodo tambien es accesible desde los objetos y da lo mismo para todas las instancias\n",
        "# con staticmethod todo los objetos van a ser del mismo tipo"
      ],
      "metadata": {
        "id": "2m318-n5kJAW"
      },
      "execution_count": null,
      "outputs": []
    },
    {
      "cell_type": "markdown",
      "source": [
        "### Métodos de clase\n",
        "\n",
        "Hacen que a cada ibjeto se le asigne su"
      ],
      "metadata": {
        "id": "H6oDCE8an_dg"
      }
    },
    {
      "cell_type": "code",
      "source": [
        "# cada uno de los objetos va a calcular su propia area\n",
        "class Circulo():\n",
        "  pi = 3.14159\n",
        "  todos_los_circulos = [] #lista vacía\n",
        "  def __init__(self,radio=1):\n",
        "    self.radio = radio\n",
        "    self.__class__.todos_los_circulos.append(self)\n",
        "  def area (self):\n",
        "    return self.__class__.pi * self.radio**2\n",
        "  @classcmethod\n",
        "  def area_total(cls):\n",
        "    total=0\n",
        "    for c in cls.todos_los_circulos:\n",
        "      total += c.area()\n",
        "    return total"
      ],
      "metadata": {
        "id": "VbycjkIhnfQr"
      },
      "execution_count": null,
      "outputs": []
    },
    {
      "cell_type": "markdown",
      "source": [
        "## Herencia"
      ],
      "metadata": {
        "id": "y7GdcaW0oJYE"
      }
    },
    {
      "cell_type": "code",
      "source": [
        "# por omision heredan de object init\n",
        "class Cuadro():\n",
        "  def __init__(self, lado=1):\n",
        "    self.lado = lado\n",
        "class Circulo():\n",
        "  pi = 3.14159\n",
        "  def __init__(self,radio=1):\n",
        "    self.radio = radio"
      ],
      "metadata": {
        "id": "hrBp_xUfnfM7"
      },
      "execution_count": null,
      "outputs": []
    },
    {
      "cell_type": "code",
      "source": [
        "from re import X\n",
        "# Herencia 2.0\n",
        "# moviendo las propiedades x,y de cada objeto\n",
        "# por omision heredan de object init\n",
        "class Cuadro():\n",
        "  def __init__(self, lado=1):\n",
        "    self.lado = lado\n",
        "    self.x = x\n",
        "    self.y = y\n",
        "class Circulo():\n",
        "  pi = 3.14159\n",
        "  def __init__(self,radio=1):\n",
        "    self.radio = radio\n",
        "    self.x = x\n",
        "    self.y = y\n",
        "# !!!Pero estamos repitiendo código"
      ],
      "metadata": {
        "id": "Mlriob8InfIg"
      },
      "execution_count": null,
      "outputs": []
    },
    {
      "cell_type": "code",
      "source": [
        "# Herencia 3.0\n",
        "class Forma():\n",
        "  def __init__(self, x=0, y=0):\n",
        "    self.x = x\n",
        "    self.y = y\n",
        "  def mover(self, inc_x=0, inc_y=0):\n",
        "    self.x += inc_x\n",
        "    self.y += inc_y\n",
        "class Cuadro(Forma):\n",
        "  def __init__(self, lado=1, x=0, y=0):\n",
        "    #Para inicializar x,y hay que usar super\n",
        "    super().__init__(x,y)\n",
        "    self.lado = lado\n",
        "class Circulo(Forma):\n",
        "  pi = 3.14159\n",
        "  def __init__(self, radio=1, x=0, y=0):\n",
        "    super().__init__(x,y)\n",
        "    self.radio = radio"
      ],
      "metadata": {
        "id": "u3qa1XW6nfEE"
      },
      "execution_count": null,
      "outputs": []
    },
    {
      "cell_type": "code",
      "source": [
        "cua1 = Cuadro()\n",
        "cua1.mover(2,3)\n",
        "cua1.y\n"
      ],
      "metadata": {
        "id": "1LHTKMGrne_M"
      },
      "execution_count": null,
      "outputs": []
    },
    {
      "cell_type": "markdown",
      "source": [
        "La herencia múltiple de python es real porque las funcionalidades se heredan porque en java eso se hace por polimorfismo donde se hacen implementaciones.\n",
        "\n",
        "Si una clase C hereda de clases A y B que tienen el mismo método o cosa, toma en cuanta solo a la primera clase por posición. O se puede decir de manera explícita cual usar con A.__ init__ o B.__ init __"
      ],
      "metadata": {
        "id": "V1s0YWVlq1mr"
      }
    },
    {
      "cell_type": "code",
      "source": [],
      "metadata": {
        "id": "K6scPH8Sne6n"
      },
      "execution_count": null,
      "outputs": []
    },
    {
      "cell_type": "code",
      "source": [],
      "metadata": {
        "id": "ewx60xH8ne1P"
      },
      "execution_count": null,
      "outputs": []
    },
    {
      "cell_type": "code",
      "source": [],
      "metadata": {
        "id": "6jBeJsM_sIO-"
      },
      "execution_count": null,
      "outputs": []
    }
  ]
}