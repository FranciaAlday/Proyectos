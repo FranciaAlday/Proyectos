{
  "nbformat": 4,
  "nbformat_minor": 0,
  "metadata": {
    "colab": {
      "provenance": [],
      "authorship_tag": "ABX9TyPA9onF9/3kpp+6emvhOqT3",
      "include_colab_link": true
    },
    "kernelspec": {
      "name": "python3",
      "display_name": "Python 3"
    },
    "language_info": {
      "name": "python"
    }
  },
  "cells": [
    {
      "cell_type": "markdown",
      "metadata": {
        "id": "view-in-github",
        "colab_type": "text"
      },
      "source": [
        "<a href=\"https://colab.research.google.com/github/FranciaAlday/Proyectos/blob/main/PPCienciaDatos/Clases/21AgoNumpyMatplotlib.ipynb\" target=\"_parent\"><img src=\"https://colab.research.google.com/assets/colab-badge.svg\" alt=\"Open In Colab\"/></a>"
      ]
    },
    {
      "cell_type": "markdown",
      "source": [
        "# Numpy\n",
        "\n",
        "Utilizar arreglos \"a la matlab\""
      ],
      "metadata": {
        "id": "in115OKklUBD"
      }
    },
    {
      "cell_type": "code",
      "execution_count": null,
      "metadata": {
        "id": "oXLznLJSlOu7"
      },
      "outputs": [],
      "source": [
        "import numpy as np"
      ]
    },
    {
      "cell_type": "markdown",
      "source": [
        "## Arreglos"
      ],
      "metadata": {
        "id": "YywfcZw5liJX"
      }
    },
    {
      "cell_type": "code",
      "source": [
        "v = np.array([1,2,3,4,5])\n",
        "type(v)"
      ],
      "metadata": {
        "colab": {
          "base_uri": "https://localhost:8080/"
        },
        "id": "O6lmFusBlkJ2",
        "outputId": "c7f1712e-5572-4f7a-a3a7-ae75f3bad3b6"
      },
      "execution_count": null,
      "outputs": [
        {
          "output_type": "execute_result",
          "data": {
            "text/plain": [
              "numpy.ndarray"
            ]
          },
          "metadata": {},
          "execution_count": 3
        }
      ]
    },
    {
      "cell_type": "code",
      "source": [
        "v.shape"
      ],
      "metadata": {
        "colab": {
          "base_uri": "https://localhost:8080/"
        },
        "id": "xB8DNZYalw6E",
        "outputId": "e407a2a1-5627-4324-c094-69d14054afde"
      },
      "execution_count": null,
      "outputs": [
        {
          "output_type": "execute_result",
          "data": {
            "text/plain": [
              "(5,)"
            ]
          },
          "metadata": {},
          "execution_count": 4
        }
      ]
    },
    {
      "cell_type": "code",
      "source": [
        "v.ndim"
      ],
      "metadata": {
        "colab": {
          "base_uri": "https://localhost:8080/"
        },
        "id": "m0pFwGxQl3eH",
        "outputId": "952283fa-74b0-4098-a593-d3833d0fecd6"
      },
      "execution_count": null,
      "outputs": [
        {
          "output_type": "execute_result",
          "data": {
            "text/plain": [
              "1"
            ]
          },
          "metadata": {},
          "execution_count": 5
        }
      ]
    },
    {
      "cell_type": "code",
      "source": [
        "v.dtype"
      ],
      "metadata": {
        "colab": {
          "base_uri": "https://localhost:8080/"
        },
        "id": "GPixTbdql7cd",
        "outputId": "aa7aafc2-e0ce-49ee-bc39-679a5ace8d74"
      },
      "execution_count": null,
      "outputs": [
        {
          "output_type": "execute_result",
          "data": {
            "text/plain": [
              "dtype('int64')"
            ]
          },
          "metadata": {},
          "execution_count": 6
        }
      ]
    },
    {
      "cell_type": "markdown",
      "source": [
        "## Operaciones vectorizadas"
      ],
      "metadata": {
        "id": "2OgdkzuNmCyP"
      }
    },
    {
      "cell_type": "code",
      "source": [
        "print(v+v)\n",
        "print(5.12*v)"
      ],
      "metadata": {
        "colab": {
          "base_uri": "https://localhost:8080/"
        },
        "id": "cIrmEzwFl_h9",
        "outputId": "e5007edd-9893-48ed-b2fb-f045ed667088"
      },
      "execution_count": null,
      "outputs": [
        {
          "output_type": "stream",
          "name": "stdout",
          "text": [
            "[ 2  4  6  8 10]\n",
            "[ 5.12 10.24 15.36 20.48 25.6 ]\n"
          ]
        }
      ]
    },
    {
      "cell_type": "code",
      "source": [
        "# multiplica elemento a elemento\n",
        "v*v"
      ],
      "metadata": {
        "colab": {
          "base_uri": "https://localhost:8080/"
        },
        "id": "KEFCH-iPmPod",
        "outputId": "71b118d7-3ae2-4d67-a783-60e46c6bdec9"
      },
      "execution_count": null,
      "outputs": [
        {
          "output_type": "execute_result",
          "data": {
            "text/plain": [
              "array([ 1,  4,  9, 16, 25])"
            ]
          },
          "metadata": {},
          "execution_count": 8
        }
      ]
    },
    {
      "cell_type": "code",
      "source": [
        "# producto punto\n",
        "v @ v"
      ],
      "metadata": {
        "colab": {
          "base_uri": "https://localhost:8080/"
        },
        "id": "DtL22d65mPte",
        "outputId": "7a23da4a-d8a5-439d-ccea-be760bf592da"
      },
      "execution_count": null,
      "outputs": [
        {
          "output_type": "execute_result",
          "data": {
            "text/plain": [
              "55"
            ]
          },
          "metadata": {},
          "execution_count": 9
        }
      ]
    },
    {
      "cell_type": "markdown",
      "source": [
        "### Vector con sus elementos inicializados en cero o uno"
      ],
      "metadata": {
        "id": "Pe2GobMkmlTR"
      }
    },
    {
      "cell_type": "code",
      "source": [
        "np.zeros(5)"
      ],
      "metadata": {
        "colab": {
          "base_uri": "https://localhost:8080/"
        },
        "id": "96_8km0KmPzk",
        "outputId": "829be388-eecd-4f2c-b812-3aea227e78cb"
      },
      "execution_count": null,
      "outputs": [
        {
          "output_type": "execute_result",
          "data": {
            "text/plain": [
              "array([0., 0., 0., 0., 0.])"
            ]
          },
          "metadata": {},
          "execution_count": 10
        }
      ]
    },
    {
      "cell_type": "code",
      "source": [
        "np.ones(5)"
      ],
      "metadata": {
        "colab": {
          "base_uri": "https://localhost:8080/"
        },
        "id": "oGyxhmZ_mP4R",
        "outputId": "647cdb30-7b93-4c9f-ff53-671c70a5e37e"
      },
      "execution_count": null,
      "outputs": [
        {
          "output_type": "execute_result",
          "data": {
            "text/plain": [
              "array([1., 1., 1., 1., 1.])"
            ]
          },
          "metadata": {},
          "execution_count": 11
        }
      ]
    },
    {
      "cell_type": "markdown",
      "source": [
        "### Lista de listas"
      ],
      "metadata": {
        "id": "TQIg-bpNmxPk"
      }
    },
    {
      "cell_type": "code",
      "source": [
        "m = np.array([[1,2,3],[4,5,6],[7,8,9]])\n",
        "type(m)"
      ],
      "metadata": {
        "colab": {
          "base_uri": "https://localhost:8080/"
        },
        "id": "GhU5norSmP8T",
        "outputId": "a9e99924-bc52-4965-f0e0-58213fdc0900"
      },
      "execution_count": null,
      "outputs": [
        {
          "output_type": "execute_result",
          "data": {
            "text/plain": [
              "numpy.ndarray"
            ]
          },
          "metadata": {},
          "execution_count": 12
        }
      ]
    },
    {
      "cell_type": "code",
      "source": [
        "# shape sin parentesis es un atributo no una función\n",
        "m.shape"
      ],
      "metadata": {
        "colab": {
          "base_uri": "https://localhost:8080/"
        },
        "id": "loiC2cMDmQAV",
        "outputId": "8f7cea3b-e410-4203-bc8c-875ca796b33f"
      },
      "execution_count": null,
      "outputs": [
        {
          "output_type": "execute_result",
          "data": {
            "text/plain": [
              "(3, 3)"
            ]
          },
          "metadata": {},
          "execution_count": 14
        }
      ]
    },
    {
      "cell_type": "code",
      "source": [
        "# es un atributo\n",
        "m.ndim"
      ],
      "metadata": {
        "colab": {
          "base_uri": "https://localhost:8080/"
        },
        "id": "EKLticSYmQHa",
        "outputId": "c27bb8cb-f90d-408d-aeab-609cdcdbb592"
      },
      "execution_count": null,
      "outputs": [
        {
          "output_type": "execute_result",
          "data": {
            "text/plain": [
              "2"
            ]
          },
          "metadata": {},
          "execution_count": 15
        }
      ]
    },
    {
      "cell_type": "code",
      "source": [
        "m"
      ],
      "metadata": {
        "colab": {
          "base_uri": "https://localhost:8080/"
        },
        "id": "dReD4RypnTk3",
        "outputId": "08b58aaf-0bab-4240-ff56-220b1dd37726"
      },
      "execution_count": null,
      "outputs": [
        {
          "output_type": "execute_result",
          "data": {
            "text/plain": [
              "array([[1, 2, 3],\n",
              "       [4, 5, 6],\n",
              "       [7, 8, 9]])"
            ]
          },
          "metadata": {},
          "execution_count": 16
        }
      ]
    },
    {
      "cell_type": "code",
      "source": [
        "m + m"
      ],
      "metadata": {
        "colab": {
          "base_uri": "https://localhost:8080/"
        },
        "id": "xtZAtyWwnVi3",
        "outputId": "a2866158-5b97-43ab-d9b1-827f81501401"
      },
      "execution_count": null,
      "outputs": [
        {
          "output_type": "execute_result",
          "data": {
            "text/plain": [
              "array([[ 2,  4,  6],\n",
              "       [ 8, 10, 12],\n",
              "       [14, 16, 18]])"
            ]
          },
          "metadata": {},
          "execution_count": 17
        }
      ]
    },
    {
      "cell_type": "code",
      "source": [
        "2 * m"
      ],
      "metadata": {
        "colab": {
          "base_uri": "https://localhost:8080/"
        },
        "id": "NPxp1-xmndQr",
        "outputId": "0152abee-afc3-470e-eab4-19001ee7970b"
      },
      "execution_count": null,
      "outputs": [
        {
          "output_type": "execute_result",
          "data": {
            "text/plain": [
              "array([[ 2,  4,  6],\n",
              "       [ 8, 10, 12],\n",
              "       [14, 16, 18]])"
            ]
          },
          "metadata": {},
          "execution_count": 18
        }
      ]
    },
    {
      "cell_type": "code",
      "source": [
        "# multiplicación elemento a elemento\n",
        "m * m"
      ],
      "metadata": {
        "colab": {
          "base_uri": "https://localhost:8080/"
        },
        "id": "ecHD_UkqndLB",
        "outputId": "104dd0fe-4145-4f23-d2f8-43e76af70664"
      },
      "execution_count": null,
      "outputs": [
        {
          "output_type": "execute_result",
          "data": {
            "text/plain": [
              "array([[ 1,  4,  9],\n",
              "       [16, 25, 36],\n",
              "       [49, 64, 81]])"
            ]
          },
          "metadata": {},
          "execution_count": 19
        }
      ]
    },
    {
      "cell_type": "code",
      "source": [
        "# multiplicación matricial convencional\n",
        "m @ m"
      ],
      "metadata": {
        "colab": {
          "base_uri": "https://localhost:8080/"
        },
        "id": "sv9oJPlFndFG",
        "outputId": "ab95bdbb-7f74-4eb1-befa-777b3017d1a0"
      },
      "execution_count": null,
      "outputs": [
        {
          "output_type": "execute_result",
          "data": {
            "text/plain": [
              "array([[ 30,  36,  42],\n",
              "       [ 66,  81,  96],\n",
              "       [102, 126, 150]])"
            ]
          },
          "metadata": {},
          "execution_count": 20
        }
      ]
    },
    {
      "cell_type": "markdown",
      "source": [
        "### Creando matrices de ceros"
      ],
      "metadata": {
        "id": "LpEWLUGHnuyp"
      }
    },
    {
      "cell_type": "code",
      "source": [
        "# se le da una tupla que indica las dimensiones\n",
        "np.zeros((2,3))"
      ],
      "metadata": {
        "colab": {
          "base_uri": "https://localhost:8080/"
        },
        "id": "7evv7VkQnua0",
        "outputId": "ca31e025-f035-45f1-b7d6-b466cd875c96"
      },
      "execution_count": null,
      "outputs": [
        {
          "output_type": "execute_result",
          "data": {
            "text/plain": [
              "array([[0., 0., 0.],\n",
              "       [0., 0., 0.]])"
            ]
          },
          "metadata": {},
          "execution_count": 21
        }
      ]
    },
    {
      "cell_type": "code",
      "source": [
        "np.ones((3,3))"
      ],
      "metadata": {
        "colab": {
          "base_uri": "https://localhost:8080/"
        },
        "id": "xrGeTyy-nuMo",
        "outputId": "1ddaf14d-7c6d-4436-90bf-0368a160baf8"
      },
      "execution_count": null,
      "outputs": [
        {
          "output_type": "execute_result",
          "data": {
            "text/plain": [
              "array([[1., 1., 1.],\n",
              "       [1., 1., 1.],\n",
              "       [1., 1., 1.]])"
            ]
          },
          "metadata": {},
          "execution_count": 22
        }
      ]
    },
    {
      "cell_type": "code",
      "source": [
        "# da valores random del 1 al 100 aleatoriamente\n",
        "r = np.random.random((3,5))*100\n",
        "r"
      ],
      "metadata": {
        "colab": {
          "base_uri": "https://localhost:8080/"
        },
        "id": "kn-4mdFynuIC",
        "outputId": "7e949262-30a7-4923-c743-351bd76d1977"
      },
      "execution_count": null,
      "outputs": [
        {
          "output_type": "execute_result",
          "data": {
            "text/plain": [
              "array([[11.85397722, 73.63421181, 55.00131   , 45.92259753, 80.1181822 ],\n",
              "       [26.56812696, 57.4194725 , 77.80787006, 49.80383032, 77.87470382],\n",
              "       [50.52702175, 22.93564676, 36.69188461, 71.17214059, 94.13630698]])"
            ]
          },
          "metadata": {},
          "execution_count": 23
        }
      ]
    },
    {
      "cell_type": "markdown",
      "source": [
        "### Matriz transpuesta"
      ],
      "metadata": {
        "id": "CmK3TutEoVwe"
      }
    },
    {
      "cell_type": "code",
      "source": [
        "rt = r.T\n",
        "rt"
      ],
      "metadata": {
        "colab": {
          "base_uri": "https://localhost:8080/"
        },
        "id": "i6xZC9OwoVbx",
        "outputId": "91d88a97-dfaf-4cc9-db10-11fb906ff763"
      },
      "execution_count": null,
      "outputs": [
        {
          "output_type": "execute_result",
          "data": {
            "text/plain": [
              "array([[11.85397722, 26.56812696, 50.52702175],\n",
              "       [73.63421181, 57.4194725 , 22.93564676],\n",
              "       [55.00131   , 77.80787006, 36.69188461],\n",
              "       [45.92259753, 49.80383032, 71.17214059],\n",
              "       [80.1181822 , 77.87470382, 94.13630698]])"
            ]
          },
          "metadata": {},
          "execution_count": 24
        }
      ]
    },
    {
      "cell_type": "markdown",
      "source": [
        "### Accesar elementos en una matriz"
      ],
      "metadata": {
        "id": "Ex_2nI6MoeS7"
      }
    },
    {
      "cell_type": "code",
      "source": [
        "# un elemento en la posicion:\n",
        "rt[1,2]"
      ],
      "metadata": {
        "colab": {
          "base_uri": "https://localhost:8080/"
        },
        "id": "voRt18GXnuES",
        "outputId": "8fe0820b-3075-4b99-c592-9f4a028fe5cb"
      },
      "execution_count": null,
      "outputs": [
        {
          "output_type": "execute_result",
          "data": {
            "text/plain": [
              "22.93564676074571"
            ]
          },
          "metadata": {},
          "execution_count": 25
        }
      ]
    },
    {
      "cell_type": "code",
      "source": [
        "# todas las columnas de la fila 1\n",
        "rt[1,:]"
      ],
      "metadata": {
        "colab": {
          "base_uri": "https://localhost:8080/"
        },
        "id": "_LLbyYBEnuA6",
        "outputId": "8da7c78f-946a-4668-ec3d-ba734d93cb20"
      },
      "execution_count": null,
      "outputs": [
        {
          "output_type": "execute_result",
          "data": {
            "text/plain": [
              "array([73.63421181, 57.4194725 , 22.93564676])"
            ]
          },
          "metadata": {},
          "execution_count": 26
        }
      ]
    },
    {
      "cell_type": "code",
      "source": [
        "rt[:,1]"
      ],
      "metadata": {
        "colab": {
          "base_uri": "https://localhost:8080/"
        },
        "id": "PbLgDNgPnt9Q",
        "outputId": "c215912a-bea9-40ff-b387-079435593aaf"
      },
      "execution_count": null,
      "outputs": [
        {
          "output_type": "execute_result",
          "data": {
            "text/plain": [
              "array([26.56812696, 57.4194725 , 77.80787006, 49.80383032, 77.87470382])"
            ]
          },
          "metadata": {},
          "execution_count": 27
        }
      ]
    },
    {
      "cell_type": "code",
      "source": [
        "# ver que no llega a la última !!!\n",
        "rt[2:5,1:3]"
      ],
      "metadata": {
        "colab": {
          "base_uri": "https://localhost:8080/"
        },
        "id": "P4wqqjPDnt5w",
        "outputId": "98b70950-9806-42c3-ddad-e077e33d58ca"
      },
      "execution_count": null,
      "outputs": [
        {
          "output_type": "execute_result",
          "data": {
            "text/plain": [
              "array([[77.80787006, 36.69188461],\n",
              "       [49.80383032, 71.17214059],\n",
              "       [77.87470382, 94.13630698]])"
            ]
          },
          "metadata": {},
          "execution_count": 28
        }
      ]
    },
    {
      "cell_type": "markdown",
      "source": [
        "## Operaciones"
      ],
      "metadata": {
        "id": "hEznE0qeqFA8"
      }
    },
    {
      "cell_type": "code",
      "source": [
        "# Condicion con verdaderos y falsos\n",
        "rt > 40"
      ],
      "metadata": {
        "colab": {
          "base_uri": "https://localhost:8080/"
        },
        "id": "FAfYPcU5nt2P",
        "outputId": "c720b62a-37b9-4e9c-aaa7-54ce32a0b529"
      },
      "execution_count": null,
      "outputs": [
        {
          "output_type": "execute_result",
          "data": {
            "text/plain": [
              "array([[False, False,  True],\n",
              "       [ True,  True, False],\n",
              "       [ True,  True, False],\n",
              "       [ True,  True,  True],\n",
              "       [ True,  True,  True]])"
            ]
          },
          "metadata": {},
          "execution_count": 29
        }
      ]
    },
    {
      "cell_type": "code",
      "source": [
        "# de esta forma solo nos da los que son mayores en forma de tabla\n",
        "rt[rt > 40]"
      ],
      "metadata": {
        "colab": {
          "base_uri": "https://localhost:8080/"
        },
        "id": "zgl0T4fgnty4",
        "outputId": "b124bbec-c9d6-4fcb-e7ec-26311aa0f936"
      },
      "execution_count": null,
      "outputs": [
        {
          "output_type": "execute_result",
          "data": {
            "text/plain": [
              "array([50.52702175, 73.63421181, 57.4194725 , 55.00131   , 77.80787006,\n",
              "       45.92259753, 49.80383032, 71.17214059, 80.1181822 , 77.87470382,\n",
              "       94.13630698])"
            ]
          },
          "metadata": {},
          "execution_count": 30
        }
      ]
    },
    {
      "cell_type": "code",
      "source": [
        "# tiene paréntesis porque es una función\n",
        "rt.sum()"
      ],
      "metadata": {
        "colab": {
          "base_uri": "https://localhost:8080/"
        },
        "id": "HyUa1JPRntvt",
        "outputId": "0f46a264-7e3e-4c42-f222-f7c0ee5b1f90"
      },
      "execution_count": null,
      "outputs": [
        {
          "output_type": "execute_result",
          "data": {
            "text/plain": [
              "<function ndarray.sum>"
            ]
          },
          "metadata": {},
          "execution_count": 31
        }
      ]
    },
    {
      "cell_type": "code",
      "source": [
        "# suma de filas\n",
        "rt.sum(axis=1)"
      ],
      "metadata": {
        "colab": {
          "base_uri": "https://localhost:8080/"
        },
        "id": "MV39QkaDntsP",
        "outputId": "a39db110-7e4e-441e-8ab6-8ca24526095a"
      },
      "execution_count": null,
      "outputs": [
        {
          "output_type": "execute_result",
          "data": {
            "text/plain": [
              "array([ 88.94912594, 153.98933107, 169.50106466, 166.89856843,\n",
              "       252.12919299])"
            ]
          },
          "metadata": {},
          "execution_count": 34
        }
      ]
    },
    {
      "cell_type": "code",
      "source": [
        "# suma de columnas\n",
        "rt.sum(axis=0)"
      ],
      "metadata": {
        "colab": {
          "base_uri": "https://localhost:8080/"
        },
        "id": "feym7mmRntgH",
        "outputId": "99286f4e-0938-4c47-c6ae-85599dd560a8"
      },
      "execution_count": null,
      "outputs": [
        {
          "output_type": "execute_result",
          "data": {
            "text/plain": [
              "array([266.53027875, 289.47400365, 275.46300068])"
            ]
          },
          "metadata": {},
          "execution_count": 33
        }
      ]
    },
    {
      "cell_type": "code",
      "source": [
        "# desviación estándar\n",
        "rt.std(axis=1)"
      ],
      "metadata": {
        "colab": {
          "base_uri": "https://localhost:8080/"
        },
        "id": "7WFW5HNIntcZ",
        "outputId": "0ccf4c82-d98d-4570-f56f-a9a450ceae5a"
      },
      "execution_count": null,
      "outputs": [
        {
          "output_type": "execute_result",
          "data": {
            "text/plain": [
              "array([15.93786273, 21.14078866, 16.81896581, 11.10159186,  7.19552913])"
            ]
          },
          "metadata": {},
          "execution_count": 35
        }
      ]
    },
    {
      "cell_type": "code",
      "source": [
        "rt.mean(axis=0)"
      ],
      "metadata": {
        "colab": {
          "base_uri": "https://localhost:8080/"
        },
        "id": "cK4N5YBentYR",
        "outputId": "075a4388-3ea9-4750-e1d2-5aee7045280b"
      },
      "execution_count": null,
      "outputs": [
        {
          "output_type": "execute_result",
          "data": {
            "text/plain": [
              "array([53.30605575, 57.89480073, 55.09260014])"
            ]
          },
          "metadata": {},
          "execution_count": 36
        }
      ]
    },
    {
      "cell_type": "markdown",
      "source": [
        "### arange, reshape y resize"
      ],
      "metadata": {
        "id": "5X2qfiB9qLXj"
      }
    },
    {
      "cell_type": "code",
      "source": [
        "a = np.arange(10)\n",
        "a"
      ],
      "metadata": {
        "colab": {
          "base_uri": "https://localhost:8080/"
        },
        "id": "wdOxyUX6qKoK",
        "outputId": "f5132ad6-b7c7-41bc-8cef-35265361581b"
      },
      "execution_count": null,
      "outputs": [
        {
          "output_type": "execute_result",
          "data": {
            "text/plain": [
              "array([0, 1, 2, 3, 4, 5, 6, 7, 8, 9])"
            ]
          },
          "metadata": {},
          "execution_count": 38
        }
      ]
    },
    {
      "cell_type": "code",
      "source": [
        "# reshape devuelve otro arraglo de numpy como se le indicó pero se pierde si no se guarda\n",
        "a2 = a.reshape(5,2)\n",
        "a2"
      ],
      "metadata": {
        "colab": {
          "base_uri": "https://localhost:8080/"
        },
        "id": "lWffRmNDqKfB",
        "outputId": "bc1d8a1e-e3de-4f00-aabf-934022335a76"
      },
      "execution_count": null,
      "outputs": [
        {
          "output_type": "execute_result",
          "data": {
            "text/plain": [
              "array([[0, 1],\n",
              "       [2, 3],\n",
              "       [4, 5],\n",
              "       [6, 7],\n",
              "       [8, 9]])"
            ]
          },
          "metadata": {},
          "execution_count": 39
        }
      ]
    },
    {
      "cell_type": "code",
      "source": [
        "a.reshape(2,5)"
      ],
      "metadata": {
        "colab": {
          "base_uri": "https://localhost:8080/"
        },
        "id": "_Sr7jXPZqKWK",
        "outputId": "28f08d54-6901-43ea-b7d3-ca4fb11f09f0"
      },
      "execution_count": null,
      "outputs": [
        {
          "output_type": "execute_result",
          "data": {
            "text/plain": [
              "array([[0, 1, 2, 3, 4],\n",
              "       [5, 6, 7, 8, 9]])"
            ]
          },
          "metadata": {},
          "execution_count": 40
        }
      ]
    },
    {
      "cell_type": "code",
      "source": [
        "# resize lo hace sobre el objeto\n",
        "a.resize(2,5)\n",
        "a"
      ],
      "metadata": {
        "colab": {
          "base_uri": "https://localhost:8080/"
        },
        "id": "cYaX2wEPqKR7",
        "outputId": "065eb76f-377b-4a1d-e01c-5e4c8cee7eaf"
      },
      "execution_count": null,
      "outputs": [
        {
          "output_type": "execute_result",
          "data": {
            "text/plain": [
              "array([[0, 1, 2, 3, 4],\n",
              "       [5, 6, 7, 8, 9]])"
            ]
          },
          "metadata": {},
          "execution_count": 42
        }
      ]
    },
    {
      "cell_type": "markdown",
      "source": [
        "## Operaciones entre vectores y matrices"
      ],
      "metadata": {
        "id": "PqyEOgFvqJoj"
      }
    },
    {
      "cell_type": "code",
      "source": [
        "v = np.array([7,8,9])\n",
        "m = np.array([[1,2,3],[4,5,6]])"
      ],
      "metadata": {
        "id": "wM9RO3rZq4uq"
      },
      "execution_count": null,
      "outputs": []
    },
    {
      "cell_type": "code",
      "source": [
        "v + m"
      ],
      "metadata": {
        "colab": {
          "base_uri": "https://localhost:8080/"
        },
        "id": "OBUdiYSSq4q2",
        "outputId": "fe38208f-a1df-4c59-a69d-c3327ce97437"
      },
      "execution_count": null,
      "outputs": [
        {
          "output_type": "execute_result",
          "data": {
            "text/plain": [
              "array([[ 8, 10, 12],\n",
              "       [11, 13, 15]])"
            ]
          },
          "metadata": {},
          "execution_count": 44
        }
      ]
    },
    {
      "cell_type": "code",
      "source": [
        "# multiplica elemento a elemento\n",
        "v * m"
      ],
      "metadata": {
        "colab": {
          "base_uri": "https://localhost:8080/"
        },
        "id": "xdoLdHb8q4nQ",
        "outputId": "f678d9e7-171b-4216-f613-0012435a231c"
      },
      "execution_count": null,
      "outputs": [
        {
          "output_type": "execute_result",
          "data": {
            "text/plain": [
              "array([[ 7, 16, 27],\n",
              "       [28, 40, 54]])"
            ]
          },
          "metadata": {},
          "execution_count": 45
        }
      ]
    },
    {
      "cell_type": "code",
      "source": [
        "# (v @ m) no funciona porque no son conformables"
      ],
      "metadata": {
        "id": "3Tg9hvqoq4iq"
      },
      "execution_count": null,
      "outputs": []
    },
    {
      "cell_type": "code",
      "source": [
        "# si funciona porque si es conformable\n",
        "m @ v"
      ],
      "metadata": {
        "colab": {
          "base_uri": "https://localhost:8080/"
        },
        "id": "DY5wsq1hq4eh",
        "outputId": "6beb1b44-dc86-469e-d466-9662fc366f47"
      },
      "execution_count": null,
      "outputs": [
        {
          "output_type": "execute_result",
          "data": {
            "text/plain": [
              "array([ 50, 122])"
            ]
          },
          "metadata": {},
          "execution_count": 46
        }
      ]
    },
    {
      "cell_type": "markdown",
      "source": [
        "# Tiempo numpy vs Python\n",
        "\n",
        "Con esto vamos a ver que sólo vamos a ver como funcionan los algoritmos pero en la vida real no se usan por el tiempo de procesamiento. Esto no puede competir por ejemplo con skit-learn"
      ],
      "metadata": {
        "id": "aORXPkpQrx3F"
      }
    },
    {
      "cell_type": "code",
      "source": [
        "import numpy as np\n",
        "import numpy.random as rnd\n",
        "\n",
        "# podemos hacer refencia a los operadores internos de python\n",
        "from operator import matmul\n",
        "from time import time"
      ],
      "metadata": {
        "id": "tNJuOfuUq4ae"
      },
      "execution_count": null,
      "outputs": []
    },
    {
      "cell_type": "code",
      "source": [
        "def mult_mat(m1,m2):\n",
        "  if m1.shape[1] != m2.shape[0]:\n",
        "    return None\n",
        "  mat = np.zeros((m1.shape[0],m2.shape[1])) # tamaño que debe tener la matriz\n",
        "  for i in range(mat.shape[0]): # mat es la matriz que se acaba de generar\n",
        "    for j in range(mat.shape[1]):\n",
        "      for k in range(mat.shape[0]):\n",
        "        mat[i][j] += m1[i][k] * m2 [k][j]\n",
        "  return mat"
      ],
      "metadata": {
        "id": "w-r9UfzHrtfX"
      },
      "execution_count": null,
      "outputs": []
    },
    {
      "cell_type": "code",
      "source": [
        "# Para saber cuanto tiempo tardó en ejecutarse cada una de las funciones:\n",
        "def time_fun(m1,m2,func): # tiempo de la función\n",
        "  t_ini = time()\n",
        "  func(m1,m2)\n",
        "  return time() - t_ini"
      ],
      "metadata": {
        "id": "VHCQvNuPrtKi"
      },
      "execution_count": null,
      "outputs": []
    },
    {
      "cell_type": "code",
      "source": [
        "m1 = rnd.random((300,400))*10\n",
        "m2 = rnd.random((400,200))*20"
      ],
      "metadata": {
        "id": "b1fWj92jrtDn"
      },
      "execution_count": null,
      "outputs": []
    },
    {
      "cell_type": "code",
      "source": [
        "print('Numpy : ', time_fun(m1,m2,np.dot))\n",
        "print('Matmul : ', time_fun(m1,m2,matmul))\n",
        "print('Python : ', time_fun(m1,m2,mult_mat))"
      ],
      "metadata": {
        "colab": {
          "base_uri": "https://localhost:8080/"
        },
        "id": "DzmiKhs9rs_r",
        "outputId": "40b95a97-2dc7-49ad-8add-e8f958e5b24a"
      },
      "execution_count": null,
      "outputs": [
        {
          "output_type": "stream",
          "name": "stdout",
          "text": [
            "Numpy :  0.00600123405456543\n",
            "Matmul :  0.006238222122192383\n",
            "Python :  20.369619369506836\n"
          ]
        }
      ]
    },
    {
      "cell_type": "markdown",
      "source": [
        "# Matplotlib\n",
        "\n",
        "Para hacer gráficas"
      ],
      "metadata": {
        "id": "7CHN6Ou9vQCD"
      }
    },
    {
      "cell_type": "code",
      "source": [
        "#from matplotlib import pyplot as plt\n",
        "import matplotlib.pyplot as plt # esta es la que más se usa\n",
        "import numpy as np"
      ],
      "metadata": {
        "id": "_FJfoxKJrs8M"
      },
      "execution_count": null,
      "outputs": []
    },
    {
      "cell_type": "code",
      "source": [
        "x = np.linspace(-5,5,10)\n",
        "y = np.sin(x)\n",
        "plt.plot(x,y,'y*', linestyle='dashed', markersize=10)"
      ],
      "metadata": {
        "colab": {
          "base_uri": "https://localhost:8080/",
          "height": 447
        },
        "id": "3Vsb1bZ-rs40",
        "outputId": "c629f2be-298a-486a-8dd5-4e0a7041aa07"
      },
      "execution_count": null,
      "outputs": [
        {
          "output_type": "execute_result",
          "data": {
            "text/plain": [
              "[<matplotlib.lines.Line2D at 0x7ba1040f7520>]"
            ]
          },
          "metadata": {},
          "execution_count": 59
        },
        {
          "output_type": "display_data",
          "data": {
            "text/plain": [
              "<Figure size 640x480 with 1 Axes>"
            ],
            "image/png": "[encoded data removed]"
          },
          "metadata": {}
        }
      ]
    },
    {
      "cell_type": "code",
      "source": [
        "x = np.linspace(-5,5,50)\n",
        "y = np.sin(x)\n",
        "plt.plot(x,y,'y*', linestyle='dashed', markersize=10)"
      ],
      "metadata": {
        "colab": {
          "base_uri": "https://localhost:8080/",
          "height": 447
        },
        "id": "A8-uydMiq4Aw",
        "outputId": "4f580deb-0b91-4e25-d964-82ea063cda97"
      },
      "execution_count": null,
      "outputs": [
        {
          "output_type": "execute_result",
          "data": {
            "text/plain": [
              "[<matplotlib.lines.Line2D at 0x7ba103fbffd0>]"
            ]
          },
          "metadata": {},
          "execution_count": 60
        },
        {
          "output_type": "display_data",
          "data": {
            "text/plain": [
              "<Figure size 640x480 with 1 Axes>"
            ],
            "image/png": "[encoded data removed]"
          },
          "metadata": {}
        }
      ]
    },
    {
      "cell_type": "code",
      "source": [
        "# Gráfica de dispersión\n",
        "n= 50\n",
        "x = np.random.rand(n)\n",
        "y = np.random.rand(n)\n",
        "colores = np.random.rand(n) * 20\n",
        "areas = (30*np.random.rand(n)) ** 2\n",
        "plt.scatter(x,y, s=areas, c=colores, alpha=0.4)\n",
        "plt.show"
      ],
      "metadata": {
        "colab": {
          "base_uri": "https://localhost:8080/",
          "height": 447
        },
        "id": "GzT9asIOwLEk",
        "outputId": "bd308132-4a6e-460e-ce7a-8ace749a1b80"
      },
      "execution_count": null,
      "outputs": [
        {
          "output_type": "execute_result",
          "data": {
            "text/plain": [
              "<function matplotlib.pyplot.show(close=None, block=None)>"
            ]
          },
          "metadata": {},
          "execution_count": 61
        },
        {
          "output_type": "display_data",
          "data": {
            "text/plain": [
              "<Figure size 640x480 with 1 Axes>"
            ],
            "image/png": "[encoded data removed]"
          },
          "metadata": {}
        }
      ]
    },
    {
      "cell_type": "code",
      "source": [
        "# Histograma\n",
        "mu,sigma = 100,15\n",
        "x = mu + sigma * np.random.randn(1000)\n",
        "plt.hist(x,50,density=True)\n",
        "plt.title('Histograma')\n",
        "plt.text(50,0.03,r'$\\mu=100 \\sigma=15$')\n",
        "plt.show()"
      ],
      "metadata": {
        "colab": {
          "base_uri": "https://localhost:8080/",
          "height": 452
        },
        "id": "1ywu-MdsxE45",
        "outputId": "9dc98c93-0f81-461d-cf1f-7eddfeffc6c7"
      },
      "execution_count": null,
      "outputs": [
        {
          "output_type": "display_data",
          "data": {
            "text/plain": [
              "<Figure size 640x480 with 1 Axes>"
            ],
            "image/png": "[encoded data removed]"
          },
          "metadata": {}
        }
      ]
    },
    {
      "cell_type": "code",
      "source": [],
      "metadata": {
        "id": "JyQ2_9QhxE0U"
      },
      "execution_count": null,
      "outputs": []
    }
  ]
}