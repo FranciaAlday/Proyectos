{
  "nbformat": 4,
  "nbformat_minor": 0,
  "metadata": {
    "colab": {
      "provenance": [],
      "authorship_tag": "ABX9TyP8yB+TSRAOoT9dCKKlHWfu",
      "include_colab_link": true
    },
    "kernelspec": {
      "name": "python3",
      "display_name": "Python 3"
    },
    "language_info": {
      "name": "python"
    }
  },
  "cells": [
    {
      "cell_type": "markdown",
      "metadata": {
        "id": "view-in-github",
        "colab_type": "text"
      },
      "source": [
        "<a href=\"https://colab.research.google.com/github/FranciaAlday/Proyectos/blob/main/PPCienciaDatos/Clases/28Ago.ipynb\" target=\"_parent\"><img src=\"https://colab.research.google.com/assets/colab-badge.svg\" alt=\"Open In Colab\"/></a>"
      ]
    },
    {
      "cell_type": "markdown",
      "source": [
        "Distancia Euclidiana\n",
        "\n",
        "$$d=(X-m_k)^T$$\n",
        "\n",
        "\n",
        "\n"
      ],
      "metadata": {
        "id": "TllycZZZoTnn"
      }
    },
    {
      "cell_type": "code",
      "source": [
        "import numpy as np\n",
        "from sympy import Matrix, symbols, simplify\n",
        "def clasif_e(samples):\n",
        "  n_samples = len(samples)\n",
        "  # Vector genérico con simpy\n",
        "  X = Matrix( [symbols('x'+str(i+1)) for i in range(samples[0].shape[0])])\n",
        "  print(' Variables : ',X)\n",
        "  fds = []\n",
        "  for s in samples:\n",
        "    m = Matrix(np.mean(s, axis=1))\n",
        "    fds.append( simplify(X.T*m - (m.T*m)/2))\n",
        "  return fds"
      ],
      "metadata": {
        "id": "TEHfiXAynPRs"
      },
      "execution_count": null,
      "outputs": []
    },
    {
      "cell_type": "code",
      "source": [
        "w1 = np.array([[1,5,6,1],[2,3,4,-3],[0,1,5,3],[1,3,5,2]]).T\n",
        "w2 = np.array([[6,8,-1,6],[7,9,3,6],[8,7,1,9]]).T\n",
        "samples = (w1,w2)\n",
        "fds = clasif_e(samples)\n",
        "for fd in fds:\n",
        "  print(fd)"
      ],
      "metadata": {
        "colab": {
          "base_uri": "https://localhost:8080/"
        },
        "id": "i3Yjx228q7pO",
        "outputId": "d044be04-35b9-423a-adbc-6348b217eb4a"
      },
      "execution_count": null,
      "outputs": [
        {
          "output_type": "stream",
          "name": "stdout",
          "text": [
            " Variables :  Matrix([[x1], [x2], [x3], [x4]])\n",
            "Matrix([[1.0*x1 + 3.0*x2 + 5.0*x3 + 0.75*x4 - 17.78125]])\n",
            "Matrix([[7.0*x1 + 8.0*x2 + 1.0*x3 + 7.0*x4 - 81.5]])\n"
          ]
        }
      ]
    },
    {
      "cell_type": "code",
      "source": [],
      "metadata": {
        "id": "wMDHCiNwq7g0"
      },
      "execution_count": null,
      "outputs": []
    },
    {
      "cell_type": "code",
      "source": [],
      "metadata": {
        "id": "HfqF_bUPq7a-"
      },
      "execution_count": null,
      "outputs": []
    },
    {
      "cell_type": "code",
      "source": [
        "for fd in range(len(fds)):\n",
        "  print('fd'+str(fd+1)+': ',fds(fd).evalf(subs=('x1':3,'x2':1,'x3':3,'x4':5,)))"
      ],
      "metadata": {
        "colab": {
          "base_uri": "https://localhost:8080/",
          "height": 141
        },
        "id": "R5hFi6TTnPMo",
        "outputId": "bd1efc31-2764-4c47-fd10-f423dc34a5ca"
      },
      "execution_count": null,
      "outputs": [
        {
          "output_type": "error",
          "ename": "SyntaxError",
          "evalue": "ignored",
          "traceback": [
            "\u001b[0;36m  File \u001b[0;32m\"<ipython-input-3-2f165d48d4c7>\"\u001b[0;36m, line \u001b[0;32m2\u001b[0m\n\u001b[0;31m    print('fd'+str(fd+1)+': ',fds(fd).evalf(subs=('x1':3,'x2':1,'x3':3,'x4':5,)))\u001b[0m\n\u001b[0m                                                      ^\u001b[0m\n\u001b[0;31mSyntaxError\u001b[0m\u001b[0;31m:\u001b[0m invalid syntax\n"
          ]
        }
      ]
    },
    {
      "cell_type": "code",
      "source": [
        "for fd in range(len(fds)):\n",
        "  print('fd'+str(fd+1)+': ',fds(fd).evalf(subs=('x1':3,'x2':1,'x3':3,'x4':5,)))"
      ],
      "metadata": {
        "id": "MFP_AM9dnO-T"
      },
      "execution_count": null,
      "outputs": []
    },
    {
      "cell_type": "markdown",
      "source": [
        "# ClASIFICADOR ESTADÍSTICO A PRIORI Y SUPERVISADO.\n",
        "\n",
        "Se cambia la distancia de Euclides por la de Mahalanobis.\n",
        "\n",
        "Es una distancia entre vectores que toma en cuenta la distribución normal pero se puede extender a otras distribuciones"
      ],
      "metadata": {
        "id": "rpFyqNGro7ab"
      }
    },
    {
      "cell_type": "markdown",
      "source": [
        "La de Euclides es la de Mahalanobis cuando las matrices de covarianza son menores y los valores son cercanos a cero."
      ],
      "metadata": {
        "id": "v2eDPsuArqqA"
      }
    },
    {
      "cell_type": "markdown",
      "source": [
        "La esperanza es la suma entre el numero de componenetes"
      ],
      "metadata": {
        "id": "XPzBWmXnr-xk"
      }
    },
    {
      "cell_type": "markdown",
      "source": [
        "En las notas se calcula las matrices de covarianza. La inversa de una matriz de 2x2 es intercambiar la diagonal y a lo demás ponerle un signo menos"
      ],
      "metadata": {
        "id": "ioBqWx7-u7U1"
      }
    },
    {
      "cell_type": "code",
      "source": [
        "import numpy as np\n",
        "from sympy import Matrix, symbols, simplify, log\n",
        "def clasif_m(samples):\n",
        "  nsamples = len (samples)\n",
        "  X = Matrix( [symbols('x'+str(i+1)) for i in range(samples[0].shape[0])]) #i+1 es para que no empiece en cero\n",
        "  print('Variables : ',X)\n",
        "  fds = []\n",
        "  for s in samples:\n",
        "    m = Matrix(np.mean(s,axis=1))\n",
        "    m_cov = np.cov(s, bias=True) # matriz de covarianza, se usa bias para sacar la esperanza\n",
        "    m_ci = Matrix(m_cov).inv() # matriz de covarianza invertida\n",
        "    fds.append( simplify((X.T*m_ci*X)/-2 + X.T*m_ci*m - (m.T*m_ci*m)/2 - Matrix([log(m_ci.det())])/2))\n",
        "  return fds"
      ],
      "metadata": {
        "id": "BPRca8_9vSAk"
      },
      "execution_count": null,
      "outputs": []
    },
    {
      "cell_type": "code",
      "source": [
        "w1 = np.array([[1,2],[2,2],[3,1],[2,3],[3,2]]).T\n",
        "w2 = np.array([[8,10],[9,8],[9,9],[8,9],[7,9]]).T\n",
        "samples = (w1,w2)\n",
        "fds = clasif_m(samples)\n",
        "for fd in fds:\n",
        "  print(fd)"
      ],
      "metadata": {
        "colab": {
          "base_uri": "https://localhost:8080/"
        },
        "id": "43Qg2ibxu6Ws",
        "outputId": "ef1b8771-5af2-4e3f-c6a3-07c08ea26194"
      },
      "execution_count": null,
      "outputs": [
        {
          "output_type": "stream",
          "name": "stdout",
          "text": [
            "Variables :  Matrix([[x1], [x2]])\n",
            "Matrix([[-1.08695652173913*x1**2 - 1.08695652173913*x1*x2 + 6.95652173913044*x1 - 1.52173913043478*x2**2 + 8.47826086956522*x2 - 16.9768445432953]])\n",
            "Matrix([[-1.08695652173913*x1**2 - 1.08695652173913*x1*x2 + 27.6086956521739*x1 - 1.52173913043478*x2**2 + 36.304347826087*x2 - 277.411627151991]])\n"
          ]
        }
      ]
    },
    {
      "cell_type": "markdown",
      "source": [
        "Con la de Euclides salen las 2: x^2 x1x2 y las 2 últimas"
      ],
      "metadata": {
        "id": "8b0BVOQizKVX"
      }
    },
    {
      "cell_type": "markdown",
      "source": [
        "Ahora con el problema de Tarea (foto):"
      ],
      "metadata": {
        "id": "C3mLctve0Nks"
      }
    },
    {
      "cell_type": "code",
      "source": [
        "w1 = np.array([[0.5,10.5],[1,12.5],[3,10.5],[3,12.5],[3,14.5],[3,18],[5,18],[5,16],[5,14.5],[5,13]]).T\n",
        "w2 = np.array([[6,9],[8,10],[9,11],[8.5,12],[7,13.5],[8,16]]).T\n",
        "samples = (w1,w2)\n",
        "fds = clasif_m(samples)\n",
        "for fd in fds:\n",
        "  print(fd)"
      ],
      "metadata": {
        "colab": {
          "base_uri": "https://localhost:8080/"
        },
        "id": "GQcsw6R-y-z4",
        "outputId": "d4a2b085-3b45-474a-ce6d-0294e8868589"
      },
      "execution_count": null,
      "outputs": [
        {
          "output_type": "stream",
          "name": "stdout",
          "text": [
            "Variables :  Matrix([[x1], [x2]])\n",
            "Matrix([[-0.28998778998779*x1**2 + 0.198412698412698*x1*x2 - 0.834859584859584*x1 - 0.109126984126984*x2**2 + 2.39087301587302*x2 - 14.1180282392282]])\n",
            "Matrix([[-0.543345829428304*x1**2 + 0.113870665417057*x1*x2 + 7.06490159325211*x1 - 0.0991096532333646*x2**2 + 1.47961574507966*x2 - 35.3938735664761]])\n"
          ]
        }
      ]
    },
    {
      "cell_type": "markdown",
      "source": [
        "$$x1^2 + x1x2 + x1 - x2^2 + x2 + constantes$$"
      ],
      "metadata": {
        "id": "JMNF7jvC0X46"
      }
    },
    {
      "cell_type": "markdown",
      "source": [
        "Calcular a mano la tarea"
      ],
      "metadata": {
        "id": "QMWI-9A01QQw"
      }
    }
  ]
}