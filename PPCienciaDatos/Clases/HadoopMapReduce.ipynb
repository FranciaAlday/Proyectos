{
  "nbformat": 4,
  "nbformat_minor": 0,
  "metadata": {
    "colab": {
      "provenance": [],
      "authorship_tag": "ABX9TyNNVseg13mVA82ExpQDSWfT",
      "include_colab_link": true
    },
    "kernelspec": {
      "name": "python3",
      "display_name": "Python 3"
    },
    "language_info": {
      "name": "python"
    }
  },
  "cells": [
    {
      "cell_type": "markdown",
      "metadata": {
        "id": "view-in-github",
        "colab_type": "text"
      },
      "source": [
        "<a href=\"https://colab.research.google.com/github/FranciaAlday/Proyectos/blob/main/PPCienciaDatos/Clases/HadoopMapReduce.ipynb\" target=\"_parent\"><img src=\"https://colab.research.google.com/assets/colab-badge.svg\" alt=\"Open In Colab\"/></a>"
      ]
    },
    {
      "cell_type": "markdown",
      "source": [
        "Hadoop utiliza MapReduce\n",
        "\n",
        "Usa File distributed system\n",
        "\n",
        "Tiene una taxonomía SIMD. Mismo conjunto de instrucciones aplicado a un mismo conjunto de datos.\n",
        "\n",
        "El nodo maestro le indica a los demás nodos que tienen que hacer.\n",
        "\n",
        "Ir trabajndo por pedazos y haciendo resumenes para no trabajar con todo"
      ],
      "metadata": {
        "id": "kICHKyT442TF"
      }
    },
    {
      "cell_type": "markdown",
      "source": [
        "Tarea: hacer el Hola Mundo de contador de palabras\n",
        "\n",
        "Tarea de las notas, pag(51): código que simule la matriz de obtencioón de mpoementos ...... con Mapreduce"
      ],
      "metadata": {
        "id": "AZWerJvY55E1"
      }
    },
    {
      "cell_type": "code",
      "execution_count": null,
      "metadata": {
        "id": "I1Zi5_EA33iT"
      },
      "outputs": [],
      "source": []
    },
    {
      "cell_type": "code",
      "source": [],
      "metadata": {
        "id": "He1PUSMu366j"
      },
      "execution_count": null,
      "outputs": []
    },
    {
      "cell_type": "code",
      "source": [],
      "metadata": {
        "id": "kK-nh70S363Z"
      },
      "execution_count": null,
      "outputs": []
    }
  ]
}