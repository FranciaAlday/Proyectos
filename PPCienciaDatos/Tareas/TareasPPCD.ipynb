{
  "nbformat": 4,
  "nbformat_minor": 0,
  "metadata": {
    "colab": {
      "provenance": [],
      "authorship_tag": "ABX9TyNpfv0ARziU62QOSZNjg86D",
      "include_colab_link": true
    },
    "kernelspec": {
      "name": "python3",
      "display_name": "Python 3"
    },
    "language_info": {
      "name": "python"
    }
  },
  "cells": [
    {
      "cell_type": "markdown",
      "metadata": {
        "id": "view-in-github",
        "colab_type": "text"
      },
      "source": [
        "<a href=\"https://colab.research.google.com/github/FranciaAlday/Proyectos/blob/main/PPCienciaDatos/Tareas/TareasPPCD.ipynb\" target=\"_parent\"><img src=\"https://colab.research.google.com/assets/colab-badge.svg\" alt=\"Open In Colab\"/></a>"
      ]
    },
    {
      "cell_type": "markdown",
      "source": [
        "# Criptografía"
      ],
      "metadata": {
        "id": "Sj7Xq9_M4tAc"
      }
    },
    {
      "cell_type": "markdown",
      "source": [
        "Consiste en hacer un código que se encargue de cifrar y descifrar texto de acuerdo al método\n",
        "mostrado a continuación:\n",
        "1. Este tipo de cifrado por columna con palabra clave consiste en formar una tabla con tantas\n",
        "columnas como letras tenga la palabra clave; a continuación, se escribe el texto en la tabla\n",
        "de izquierda a derecha y de arriba hacia abajo (sin espacios y, si hace falta, se rellenan los\n",
        "espacios de la última fila con algún caracter):\n",
        "\n",
        "Texto : LA CRIPTOGRAFIA ES ROMANTICA\n",
        "\n",
        "Clave : HOLA"
      ],
      "metadata": {
        "id": "OhnMAiIdoV2p"
      }
    },
    {
      "cell_type": "code",
      "execution_count": null,
      "metadata": {
        "id": "9jjlBXJvoTDw"
      },
      "outputs": [],
      "source": [
        "clave = 'HOLA'\n",
        "frase = 'LA CRIPTOGRAFIA ES ROMANTICA'"
      ]
    },
    {
      "cell_type": "code",
      "source": [
        "frase = frase.replace(\" \", \"\")\n",
        "  # Obtener el número de columnas con la longitud de la clave\n",
        "num_col = len(clave)\n",
        "  # Calcular el número de filas necesario\n",
        "num_fil = (len(frase) + num_col - ) / num_col\n",
        "num = int((len(frase) + num_col) / num_col)\n",
        "print(num_col,num_fil,num)\n"
      ],
      "metadata": {
        "colab": {
          "base_uri": "https://localhost:8080/"
        },
        "id": "KPT6xOdjMVCt",
        "outputId": "53e2f456-e009-4de2-aed0-e70462b7068c"
      },
      "execution_count": null,
      "outputs": [
        {
          "output_type": "stream",
          "name": "stdout",
          "text": [
            "4 7.0 7\n"
          ]
        }
      ]
    },
    {
      "cell_type": "code",
      "source": [
        "def codificador(frase, clave):\n",
        "  \"\"\"\n",
        "  ...\n",
        "  \"\"\"\n",
        "  # Eliminar espacios\n",
        "  frase = frase.replace(\" \", \"\")\n",
        "  # Obtener el número de columnas con la longitud de la clave\n",
        "  num_col = len(clave)\n",
        "  # Calcular el número de filas necesario\n",
        "  num_fil = int((len(frase) + num_col) / num_col)\n",
        "  # LLenar los espacios faltantes con un caracter\n",
        "  residuo = len(frase) % num_col\n",
        "  if len(frase) % num_col != 0:\n",
        "    frase += '$' *(num_col-residuo)\n",
        "  # Lista de listas para la tabla\n",
        "  tabla = [[''] * num_col for _ in range(num_fil)]\n",
        "  # Llenar la tabla\n",
        "  k = 0\n",
        "  for i in range(num_fil):\n",
        "    for j in range(num_col):\n",
        "      tabla[i][j] = frase[k]\n",
        "      k += 1\n",
        "  # Reordenar alfabeticamente\n",
        "  clave_reordenada = ''.join(sorted(clave))\n",
        "  tabla = [[fila[clave.index(letra)] for letra in clave_reordenada] for fila in tabla]\n",
        "\n",
        "  # Frase reordenada\n",
        "  frase_codificada = ''\n",
        "  for j in range(len(clave_reordenada)):\n",
        "    for fila in tabla:\n",
        "      frase_codificada += fila[j]\n",
        "\n",
        "  return frase_codificada"
      ],
      "metadata": {
        "id": "fI18cIskq4TH"
      },
      "execution_count": null,
      "outputs": []
    },
    {
      "cell_type": "code",
      "source": [
        "codificador(frase, clave)"
      ],
      "metadata": {
        "colab": {
          "base_uri": "https://localhost:8080/",
          "height": 35
        },
        "id": "9Rc6sKpPLVyT",
        "outputId": "d3f2be92-4e9e-42dd-f2b3-9baa7be61302"
      },
      "execution_count": null,
      "outputs": [
        {
          "output_type": "execute_result",
          "data": {
            "text/plain": [
              "'ROFSAC$LIGIRNACTAEMI$APRAOT$'"
            ],
            "application/vnd.google.colaboratory.intrinsic+json": {
              "type": "string"
            }
          },
          "metadata": {},
          "execution_count": 11
        }
      ]
    },
    {
      "cell_type": "code",
      "source": [],
      "metadata": {
        "id": "EREBwGuoLYrP"
      },
      "execution_count": null,
      "outputs": []
    },
    {
      "cell_type": "code",
      "source": [
        "def cifrar(texto, clave):\n",
        "    # Eliminar espacios y convertir el texto en mayúsculas\n",
        "    texto = texto.replace(\" \", \"\").upper()\n",
        "\n",
        "    # Calcular el número de columnas en función de la longitud de la clave\n",
        "    num_columnas = len(clave)\n",
        "\n",
        "    # Calcular el número de filas necesario\n",
        "    num_filas = (len(texto) + num_columnas - 1) // num_columnas\n",
        "\n",
        "    # Rellenar la última fila con 'X' si es necesario\n",
        "    if len(texto) % num_columnas != 0:\n",
        "        texto += 'X' * (num_columnas - len(texto) % num_columnas)\n",
        "\n",
        "    # Crear una lista de listas para la tabla\n",
        "    tabla = [[''] * num_columnas for _ in range(num_filas)]\n",
        "\n",
        "    # Llenar la tabla con el texto de izquierda a derecha y de arriba hacia abajo\n",
        "    k = 0\n",
        "    for i in range(num_filas):\n",
        "        for j in range(num_columnas):\n",
        "            tabla[i][j] = texto[k]\n",
        "            k += 1\n",
        "\n",
        "    # Reordenar las columnas alfabéticamente según la clave\n",
        "    clave_ordenada = ''.join(sorted(clave))\n",
        "    tabla = [[fila[clave.index(letra)] for letra in clave_ordenada] for fila in tabla]\n",
        "\n",
        "    # Obtener el texto cifrado por columna\n",
        "    texto_cifrado = ''.join([''.join(fila) for fila in tabla])\n",
        "\n",
        "    return texto_cifrado\n",
        "\n",
        "def descifrar(texto_cifrado, clave):\n",
        "    # Calcular el número de columnas en función de la longitud de la clave\n",
        "    num_columnas = len(clave)\n",
        "\n",
        "    # Calcular el número de filas necesario\n",
        "    num_filas = len(texto_cifrado) // num_columnas\n",
        "\n",
        "    # Crear una lista de listas para la tabla\n",
        "    tabla = [[''] * num_columnas for _ in range(num_filas)]\n",
        "\n",
        "    # Llenar la tabla con el texto cifrado por columna\n",
        "    k = 0\n",
        "    for i in range(num_filas):\n",
        "        for j in range(num_columnas):\n",
        "            tabla[i][j] = texto_cifrado[k]\n",
        "            k += 1\n",
        "\n",
        "    # Reordenar las columnas alfabéticamente según la clave\n",
        "    clave_ordenada = ''.join(sorted(clave))\n",
        "    tabla = [[fila[clave_ordenada.index(letra)] for letra in clave] for fila in tabla]\n",
        "\n",
        "    # Obtener el texto original de izquierda a derecha y de arriba hacia abajo\n",
        "    texto_original = ''.join([''.join(fila) for fila in tabla])\n",
        "\n",
        "    return texto_original\n",
        "\n",
        "# Ejemplo de cifrado y descifrado\n",
        "texto = \"LA CRIPTOGRAFIA ES ROMANTICA\"\n",
        "clave = \"HOLA\"\n",
        "\n",
        "# Cifrar el texto\n",
        "texto_cifrado = cifrar(texto, clave)\n",
        "print(\"Texto cifrado:\", texto_cifrado)\n",
        "\n",
        "# Descifrar el texto\n",
        "texto_descifrado = descifrar(texto_cifrado, clave)\n",
        "print(\"Texto descifrado:\", texto_descifrado)\n"
      ],
      "metadata": {
        "colab": {
          "base_uri": "https://localhost:8080/"
        },
        "id": "otNWtGPtuC6J",
        "outputId": "166d3cc2-b36f-4946-839a-0edc485c639f"
      },
      "execution_count": null,
      "outputs": [
        {
          "output_type": "stream",
          "name": "stdout",
          "text": [
            "Texto cifrado: RLCAOITPFGARSIEAARMOCNITXAXX\n",
            "Texto descifrado: LACRIPTOGRAFIAESROMANTICAXXX\n"
          ]
        }
      ]
    },
    {
      "cell_type": "markdown",
      "source": [
        "# Lasso, Ridge, ElasticNet"
      ],
      "metadata": {
        "id": "PnZ1s6dz4z9f"
      }
    },
    {
      "cell_type": "markdown",
      "source": [
        "![LassoRidge.png](data:image/png;base64,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)"
      ],
      "metadata": {
        "id": "-yNiOMYl4_mf"
      }
    },
    {
      "cell_type": "code",
      "source": [
        "import numpy as np\n",
        "import matplotlib.pyplot as plt"
      ],
      "metadata": {
        "id": "wm5fuBvK48nS"
      },
      "execution_count": null,
      "outputs": []
    },
    {
      "cell_type": "code",
      "source": [
        "X = np.array([0.2,0.6,0.6,1.5,1.8])\n",
        "y = np.array([0.1,0.4,0.9,1.2,1.7])\n",
        "plt.scatter(x,y)"
      ],
      "metadata": {
        "colab": {
          "base_uri": "https://localhost:8080/",
          "height": 447
        },
        "id": "fk-TcYjk9xcf",
        "outputId": "9dc3d0bd-5300-4336-ffe6-dd4ea49b6934"
      },
      "execution_count": null,
      "outputs": [
        {
          "output_type": "execute_result",
          "data": {
            "text/plain": [
              "<matplotlib.collections.PathCollection at 0x7d93c1ee9120>"
            ]
          },
          "metadata": {},
          "execution_count": 3
        },
        {
          "output_type": "display_data",
          "data": {
            "text/plain": [
              "<Figure size 640x480 with 1 Axes>"
            ],
            "image/png": "[encoded data removed]"
          },
          "metadata": {}
        }
      ]
    },
    {
      "cell_type": "code",
      "execution_count": null,
      "metadata": {
        "colab": {
          "base_uri": "https://localhost:8080/"
        },
        "id": "1DAT-6Dffg5M",
        "outputId": "c47c4a30-763b-4fe6-94a4-9130993d6db3"
      },
      "outputs": [
        {
          "output_type": "stream",
          "name": "stdout",
          "text": [
            "Estimador de mínimos cuadrados (beta_hat): [0.0, 1.0]\n"
          ]
        }
      ],
      "source": [
        "# Datos de ejemplo (X y y)\n",
        "#X = [[1, 2], [2, 3], [3, 4], [4, 5]]\n",
        "#y = [2, 3, 4, 5]\n",
        "\n",
        "# Obtener las dimensiones de X\n",
        "n = len(X)\n",
        "p = len(X[0])\n",
        "\n",
        "# Inicializar las matrices y vectores\n",
        "XT = [[0] * n for _ in range(p)]\n",
        "for i in range(p):\n",
        "    for j in range(n):\n",
        "        XT[i][j] = X[j][i]\n",
        "\n",
        "# Calcular XT*X\n",
        "XTX = [[0] * p for _ in range(p)]\n",
        "for i in range(p):\n",
        "    for j in range(p):\n",
        "        for k in range(n):\n",
        "            XTX[i][j] += XT[i][k] * X[k][j]\n",
        "\n",
        "# Calcular XT*y\n",
        "XTy = [0] * p\n",
        "for i in range(p):\n",
        "    for j in range(n):\n",
        "        XTy[i] += XT[i][j] * y[j]\n",
        "\n",
        "# Calcular (XTX)^(-1)\n",
        "# Puedes usar un algoritmo de inversión de matriz, como Gauss-Jordan, si p es pequeño.\n",
        "# Sin embargo, ten en cuenta que esto puede no ser eficiente para matrices grandes.\n",
        "# Para matrices grandes, es preferible usar numpy u otra biblioteca.\n",
        "def inverse_matrix(matrix):\n",
        "    n = len(matrix)\n",
        "\n",
        "    # Crear una matriz aumentada [matrix | I]\n",
        "    augmented_matrix = [row + [0] * n for row in matrix]\n",
        "    for i in range(n):\n",
        "        augmented_matrix[i][n + i] = 1\n",
        "\n",
        "    # Aplicar eliminación gaussiana para obtener la matriz identidad en la izquierda\n",
        "    for col in range(n):\n",
        "        pivot_row = None\n",
        "        for row in range(col, n):\n",
        "            if augmented_matrix[row][col] != 0:\n",
        "                pivot_row = row\n",
        "                break\n",
        "        if pivot_row is None:\n",
        "            raise ValueError(\"La matriz no es invertible\")\n",
        "\n",
        "        augmented_matrix[col], augmented_matrix[pivot_row] = augmented_matrix[pivot_row], augmented_matrix[col]\n",
        "\n",
        "        pivot_val = augmented_matrix[col][col]\n",
        "        for j in range(n + n):\n",
        "            augmented_matrix[col][j] /= pivot_val\n",
        "        for row in range(n):\n",
        "            if row != col:\n",
        "                factor = augmented_matrix[row][col]\n",
        "                for j in range(n + n):\n",
        "                    augmented_matrix[row][j] -= factor * augmented_matrix[col][j]\n",
        "\n",
        "    # Extraer la matriz inversa de la parte derecha de la matriz aumentada\n",
        "    inverse = [row[n:] for row in augmented_matrix]\n",
        "\n",
        "    return inverse\n",
        "\n",
        "\n",
        "# Calcular β\n",
        "beta_hat = [0] * p\n",
        "if p < 4:\n",
        "    # Si p es pequeño, calcula la inversión de matriz manualmente\n",
        "    XTX_inverse = inverse_matrix(XTX)\n",
        "    for i in range(p):\n",
        "        for j in range(p):\n",
        "            beta_hat[i] += XTX_inverse[i][j] * XTy[j]\n",
        "else:\n",
        "    # Para p grande, es mejor usar una biblioteca de álgebra lineal como numpy\n",
        "    print(\"No se puede calcular el estimador de mínimos cuadrados porque p es demasiado grande\")\n",
        "\n",
        "# Imprimir el resultado\n",
        "print(\"Estimador de mínimos cuadrados (beta_hat):\", beta_hat)"
      ]
    },
    {
      "cell_type": "code",
      "source": [],
      "metadata": {
        "id": "NP2hssG049FN"
      },
      "execution_count": null,
      "outputs": []
    },
    {
      "cell_type": "code",
      "source": [],
      "metadata": {
        "id": "2AsBoBY849Bl"
      },
      "execution_count": null,
      "outputs": []
    },
    {
      "cell_type": "code",
      "source": [],
      "metadata": {
        "id": "xT3yU1_M48-y"
      },
      "execution_count": null,
      "outputs": []
    }
  ]
}