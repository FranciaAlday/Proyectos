{
  "nbformat": 4,
  "nbformat_minor": 0,
  "metadata": {
    "colab": {
      "provenance": [],
      "include_colab_link": true
    },
    "kernelspec": {
      "name": "python3",
      "display_name": "Python 3"
    },
    "language_info": {
      "name": "python"
    }
  },
  "cells": [
    {
      "cell_type": "markdown",
      "metadata": {
        "id": "view-in-github",
        "colab_type": "text"
      },
      "source": [
        "<a href=\"https://colab.research.google.com/github/FranciaAlday/Proyectos/blob/main/Patrones/Tareas/Tarea_AlgebraLineal.ipynb\" target=\"_parent\"><img src=\"https://colab.research.google.com/assets/colab-badge.svg\" alt=\"Open In Colab\"/></a>"
      ]
    },
    {
      "cell_type": "markdown",
      "source": [
        "Nombre del equipo: MichiCoders\n",
        "\n",
        "\n",
        "Integrantes:\n",
        "\n",
        "*   Alday Martínez Francia Aide Verenice - 417031233\n",
        "*   Berrio Mendoza Eileen Bjork - 317108969\n",
        "*   Sánchez Domínguez Iván Amaury - 416101001\n",
        "*   Malagón Gasca Miguel Ángel - 318356613\n",
        "\n",
        "\n",
        "\n"
      ],
      "metadata": {
        "id": "7_7by6O8EktS"
      }
    },
    {
      "cell_type": "code",
      "source": [
        "import numpy as np\n",
        "from numpy import array\n",
        "from math import sqrt\n",
        "import matplotlib.pyplot as plt\n",
        "\n",
        "# Biblioteca de álgebra lineal de scipy\n",
        "from scipy import linalg as la"
      ],
      "metadata": {
        "id": "SfltjMvBi8CM"
      },
      "execution_count": null,
      "outputs": []
    },
    {
      "cell_type": "markdown",
      "source": [
        "## Transformaciones lineales"
      ],
      "metadata": {
        "id": "0eR3QmEUxkW3"
      }
    },
    {
      "cell_type": "markdown",
      "source": [
        "Una transformación lineal es una función, la cual toma elementos de un espacio vectorial $V$ (Dominio) y los \"transforma\" a elementos del espacio vectorial $W$ (Contradominio), i.e:\\\n",
        "Sean V y W espacios vectoriales, tales que existe T transformacion lineal, donde $T:V → W$"
      ],
      "metadata": {
        "id": "HBVvdEyWxqi0"
      }
    },
    {
      "cell_type": "markdown",
      "source": [
        "### ¿Qué se necesita para que una transformación sea lineal?"
      ],
      "metadata": {
        "id": "wfhwCP2j4gOP"
      }
    },
    {
      "cell_type": "markdown",
      "source": [
        "Una transformación es lineal cuando cumple con los siguientes 2 puntos:\n",
        "1. $T(u + v) = T(u) + T(v)$ $∀u ∈ V$  \n",
        "2. $T(\\alpha v) = \\alpha T(v)$ $∀u ∈ V$ y $\\forall \\alpha \\in C$\n",
        "\n",
        "Veamos el siguiente ejemplo: \\\n",
        "Sea $T:  \\mathbb{R}^{2} → \\mathbb{R}^{3}$ donde\n",
        "$T \\begin{bmatrix}\n",
        "x\\\\\n",
        "y\n",
        "\\end{bmatrix} = \\begin{bmatrix}\n",
        "x + y\\\\\n",
        "y \\\\\n",
        "2x\n",
        "\\end{bmatrix}$\\\n",
        "¿T es una transformación lineal?\\\n",
        "Sean $v = \\begin{bmatrix}\n",
        "x_{1}\\\\\n",
        "y_{1}\n",
        "\\end{bmatrix}$ y $u = \\begin{bmatrix}\n",
        "x_{2}\\\\\n",
        "y_{2}\n",
        "\\end{bmatrix}$ tales que\n",
        "$u + v =\n",
        "\\begin{bmatrix}\n",
        "x_{1} + x_{2}\\\\\n",
        "y_{1} + y_{2}\n",
        "\\end{bmatrix}$ \\\n",
        "$T(u + v) = T\n",
        "\\begin{bmatrix}\n",
        "x_{1} + x_{2}\\\\\n",
        "y_{1} + y_{2}\n",
        "\\end{bmatrix} = \\begin{bmatrix}\n",
        "(x_{1} + x_{2}) + (y_{1} + y_{2})\\\\\n",
        "(y_{1} + y_{2})\\\\\n",
        "2(x_{1} + x_{2})\n",
        "\\end{bmatrix} =$ ... $= \\begin{bmatrix}\n",
        "x_{1} + y_{1} + x_{2} + y_{2}\\\\\n",
        "y_{1} + y_{2}\\\\\n",
        "2(x_{1}) + 2(x_{2})\n",
        "\\end{bmatrix} = \\begin{bmatrix}\n",
        "x_{1} + y_{1}\\\\\n",
        "y_{1}\\\\\n",
        "2x_{1}\n",
        "\\end{bmatrix} + \\begin{bmatrix}\n",
        "x_{2} + y_{2}\\\\\n",
        "y_{2}\\\\\n",
        "2x_{2}\n",
        "\\end{bmatrix} = T(v) + T(u)$ \\\n",
        "Sea $\\alpha \\in \\mathbb{R}$ \\\n",
        "$T(\\alpha u) = T\n",
        "\\begin{bmatrix}\n",
        "\\alpha x\\\\\n",
        "\\alpha y\n",
        "\\end{bmatrix} = \\begin{bmatrix}\n",
        "\\alpha x + \\alpha y\\\\\n",
        "\\alpha y \\\\\n",
        "2\\alpha x\n",
        "\\end{bmatrix} = \\begin{bmatrix}\n",
        "\\alpha (x + y)\\\\\n",
        "\\alpha (y) \\\\\n",
        "\\alpha (2x)\n",
        "\\end{bmatrix} = \\alpha \\begin{bmatrix}\n",
        "x + y\\\\\n",
        "y \\\\\n",
        "2x\n",
        "\\end{bmatrix} = \\alpha T(u)$ \\\n",
        "$\\therefore T$ es lineal"
      ],
      "metadata": {
        "id": "0E5NRsmu4sFe"
      }
    },
    {
      "cell_type": "markdown",
      "source": [
        "## Ejercicios\n"
      ],
      "metadata": {
        "id": "4LP_Vt8WALCH"
      }
    },
    {
      "cell_type": "markdown",
      "source": [
        "### Ejercicio 1\n"
      ],
      "metadata": {
        "id": "L5fzI0IWANl5"
      }
    },
    {
      "cell_type": "code",
      "source": [
        "# Definición de una \"transformación\" T\n",
        "\n",
        "def transformacion_t(v_vector: array):\n",
        "  return np.array([v_vector[0][0] + 3*v_vector[1][0], v_vector[0][0] + 2*v_vector[1][0]])\n",
        "\n",
        "v_vector = np.array([[4],[7]])\n",
        "print (transformacion_t(v_vector))\n",
        "len(v_vector[0])"
      ],
      "metadata": {
        "colab": {
          "base_uri": "https://localhost:8080/"
        },
        "id": "stW52Q2pG-te",
        "outputId": "e614bfd5-48b1-48bd-ac4b-273f5b037a1e"
      },
      "execution_count": null,
      "outputs": [
        {
          "output_type": "stream",
          "name": "stdout",
          "text": [
            "[25 18]\n"
          ]
        },
        {
          "output_type": "execute_result",
          "data": {
            "text/plain": [
              "1"
            ]
          },
          "metadata": {},
          "execution_count": 8
        }
      ]
    },
    {
      "cell_type": "markdown",
      "source": [
        "Tomando la definición de la transformación T, realice lo siguiente:\n",
        "1. ¿Qué transformación describe?\n",
        "\n",
        "La transformación $T: \\mathbb{R}^{2} \\rightarrow \\mathbb{R}^{2}$ se define como:\n",
        "\n",
        "$$\n",
        "T \\begin{bmatrix}\n",
        "x\\\\\n",
        "y\n",
        "\\end{bmatrix} = \\begin{bmatrix}\n",
        "x + 3y\\\\\n",
        "x + 2y\n",
        "\\end{bmatrix}\n",
        "$$\n",
        "\n",
        "2. Demuestre que T es una transformación lineal\n",
        "\n",
        "Propiedad de Aditividad: $T(u + v) = T(u) + T(v)$\n",
        "\n",
        "Donde $u$ y $v$ son vectores en $\\mathbb{R}^{2}$.\n",
        "\n",
        "Tomamos dos vectores arbitrarios $u = \\begin{bmatrix} u_1 \\\\ u_2 \\end{bmatrix}$ y $v = \\begin{bmatrix} v_1 \\\\ v_2 \\end{bmatrix}$.\n",
        "\n",
        "Ahora, aplicamos la transformación $T$ a $u + v$\n",
        "\n",
        "$$\n",
        "T(u + v) = \\begin{bmatrix} (u_1 + v_1) + 3(u_2 + v_2) \\\\ (u_1 + v_1) + 2(u_2 + v_2) \\end{bmatrix} = \\begin{bmatrix} u_1 + 3u_2 \\\\ u_1 + 2u_2 \\end{bmatrix} + \\begin{bmatrix} v_1 + 3v_2 \\\\ v_1 + 2v_2 \\end{bmatrix} = T(u) + T(v)\n",
        "$$\n",
        "\n",
        "$T(u + v) = T(u) + T(v)$, lo que cumple con la propiedad de aditividad.\n",
        "\n",
        "Propiedad de Homogeneidad: $T(cu) = cT(u)$\n",
        "\n",
        "Donde $c$ es un escalar y $u$ es un vector en $\\mathbb{R}^{2}$.\n",
        "\n",
        "Tomamos un escalar arbitrario $c$ y un vector $u = \\begin{bmatrix} u_1 \\\\ u_2 \\end{bmatrix}$. Aplicamos la transformación $T$ a $cu$:\n",
        "\n",
        "$$\n",
        "T(cu) = \\begin{bmatrix} cu_1 + 3cu_2 \\\\ cu_1 + 2cu_2 \\end{bmatrix}  = c \\begin{bmatrix} u_1 + 3u_2 \\\\ u_1 + 2u_2 \\end{bmatrix} = cT(u)\n",
        "$$\n",
        "\n",
        "\n",
        "$T(cu) = cT(u)$, lo que cumple con la propiedad de homogeneidad.\n",
        "\n",
        "Dado que la transformación $T$ cumple con ambas propiedades de aditividad y homogeneidad, podemos concluir que $T$ es una transformación lineal.\n",
        "\n"
      ],
      "metadata": {
        "id": "DxjIQXKpHU_y"
      }
    },
    {
      "cell_type": "markdown",
      "source": [
        "##Ejemplo de implementación"
      ],
      "metadata": {
        "id": "Gx9XnG8suGLT"
      }
    },
    {
      "cell_type": "code",
      "source": [
        "def transformacion_t(v_vector: array):\n",
        "  return np.array([v_vector[0][0] + v_vector[1][0], v_vector[1][0], 2*v_vector[0][0]])\n",
        "\n",
        "# Prueba de que funciona\n",
        "v_vector = np.array([[2],[3]])\n",
        "print (transformacion_t(v_vector))"
      ],
      "metadata": {
        "colab": {
          "base_uri": "https://localhost:8080/"
        },
        "id": "fcGSYM_wh_YY",
        "outputId": "002eaf2d-17a6-47a1-bab2-7696b74c3ccf"
      },
      "execution_count": null,
      "outputs": [
        {
          "output_type": "stream",
          "name": "stdout",
          "text": [
            "[5 3 4]\n"
          ]
        }
      ]
    },
    {
      "cell_type": "code",
      "source": [
        "def transformacion2_t(v: array, u: array):\n",
        "  return np.array([v[0][0] + u[0][0] + v[1][0] + u[1][0] , v[1][0] + u[1][0] , 2*(v[0][0] + u[0][0])])"
      ],
      "metadata": {
        "id": "9G7LysdymzsZ"
      },
      "execution_count": null,
      "outputs": []
    },
    {
      "cell_type": "code",
      "source": [
        "v = np.array([[1],[2]])\n",
        "u = np.array([[3],[4]])\n",
        "\n",
        "print(v)\n",
        "print(u)"
      ],
      "metadata": {
        "colab": {
          "base_uri": "https://localhost:8080/"
        },
        "id": "Y4zFisDEj4rZ",
        "outputId": "71421104-788d-4af8-d0f8-b9272b876968"
      },
      "execution_count": null,
      "outputs": [
        {
          "output_type": "stream",
          "name": "stdout",
          "text": [
            "[[1]\n",
            " [2]]\n",
            "[[3]\n",
            " [4]]\n"
          ]
        }
      ]
    },
    {
      "cell_type": "code",
      "source": [
        "print(\"Transformación v + u : \", transformacion2_t(v,u))\n",
        "print(\"Transformación v : \", transformacion_t(v))\n",
        "print(\"Transformación u : \", transformacion_t(u))\n",
        "print(\"Transformación v + Transformación u : \", transformacion_t(v) + transformacion_t(u))"
      ],
      "metadata": {
        "colab": {
          "base_uri": "https://localhost:8080/"
        },
        "id": "nYsFl798rgPL",
        "outputId": "110c1fe2-b8c0-4ca5-dfb9-e8850b16ae70"
      },
      "execution_count": null,
      "outputs": [
        {
          "output_type": "stream",
          "name": "stdout",
          "text": [
            "Transformación v + u :  [10  6  8]\n",
            "Transformación v :  [3 2 2]\n",
            "Transformación u :  [7 4 6]\n",
            "Transformación v + Transformación u :  [10  6  8]\n"
          ]
        }
      ]
    },
    {
      "cell_type": "code",
      "source": [
        "a = 2\n",
        "print(\"a * Transformación u : \", a * transformacion_t(u))"
      ],
      "metadata": {
        "colab": {
          "base_uri": "https://localhost:8080/"
        },
        "id": "kJ54gGVjuHK5",
        "outputId": "c1d08685-c398-4b25-9f2f-1dc53abdd862"
      },
      "execution_count": null,
      "outputs": [
        {
          "output_type": "stream",
          "name": "stdout",
          "text": [
            "a * Transformación u :  [14  8 12]\n"
          ]
        }
      ]
    },
    {
      "cell_type": "code",
      "source": [
        "a = 2\n",
        "def transformacion_at(v_vector: array):\n",
        "  return np.array([a*v_vector[0][0] + a*v_vector[1][0], a*v_vector[1][0], a*2*v_vector[0][0]])\n",
        "\n",
        "print(\"Transformación au : \", transformacion_at(u))"
      ],
      "metadata": {
        "colab": {
          "base_uri": "https://localhost:8080/"
        },
        "id": "kUTWmcD5uo4Y",
        "outputId": "7f25ccd8-6573-4ec3-b2a0-5ebfdf602b2c"
      },
      "execution_count": null,
      "outputs": [
        {
          "output_type": "stream",
          "name": "stdout",
          "text": [
            "Transformación au :  [14  8 12]\n"
          ]
        }
      ]
    },
    {
      "cell_type": "code",
      "source": [
        "print(\"T es una transformación lineal porque se cumple:\")\n",
        "print(\"T(v+u):\", transformacion2_t(v,u), \"= T(v) + T(u):\", transformacion_t(v) + transformacion_t(u))\n",
        "print(\"aT(u):\", a * transformacion_t(u),\"= T(au):\", transformacion_at(u))"
      ],
      "metadata": {
        "colab": {
          "base_uri": "https://localhost:8080/"
        },
        "id": "lbX5Viglk3XU",
        "outputId": "39e284f7-d642-45a9-cdf3-e699051dd8e4"
      },
      "execution_count": null,
      "outputs": [
        {
          "output_type": "stream",
          "name": "stdout",
          "text": [
            "T es una transformación lineal porque se cumple:\n",
            "T(v+u): [10  6  8] = T(v) + T(u): [10  6  8]\n",
            "aT(u): [14  8 12] = T(au): [14  8 12]\n"
          ]
        }
      ]
    },
    {
      "cell_type": "markdown",
      "source": [
        "### Ejercicio 2"
      ],
      "metadata": {
        "id": "NYz_Cz_GRYjt"
      }
    },
    {
      "cell_type": "markdown",
      "source": [
        "Sea T una transformación, donde T está descrita de la siguiente forma: \\\n",
        "$T:  \\mathbb{R}^{2} → \\mathbb{R}^{3}$ donde\n",
        "$T \\begin{bmatrix}\n",
        "x\\\\\n",
        "y\n",
        "\\end{bmatrix} = \\begin{bmatrix}\n",
        "x\\\\\n",
        "y \\\\\n",
        "2x + 3y\n",
        "\\end{bmatrix}$ \\\n",
        "Realice lo siguiente:\n",
        "1. La transformación T ¿Es lineal?\n",
        "\n",
        "\n",
        "Podemos verificar ambas propiedades al mismo tiempo como $T(u + cv) = T(u) + cT(v)$, donde $u$ y $v$ son vectores en $\\mathbb{R}^2$ y $c$ es un escalar.\n",
        "\n",
        "Consideremos $u = \\begin{bmatrix} u_1 \\\\ u_2 \\end{bmatrix}$, $v = \\begin{bmatrix} v_1 \\\\ v_2 \\end{bmatrix}$, y $c$ como un escalar arbitrario.\n",
        "\n",
        "Aplicamos la transformación $T$ a $u + cv$:\n",
        "\n",
        "$$\n",
        "T(u + cv) = T\\left(\\begin{bmatrix} u_1 \\\\ u_2 \\end{bmatrix} + c\\begin{bmatrix} v_1 \\\\ v_2 \\end{bmatrix}\\right) = T\\left(\\begin{bmatrix} u_1 + cv_1 \\\\ u_2 + cv_2 \\end{bmatrix}\\right)\n",
        "$$\n",
        "\n",
        "\n",
        "Ahora, aplicamos la definición de $T$:\n",
        "\n",
        "$$\n",
        "\\begin{bmatrix} u_1 + cv_1 \\\\ u_2 + cv_2 \\\\ 2(u_1 + cv_1) + 3(u_2 + cv_2) \\end{bmatrix}  = \\begin{bmatrix} u_1 \\\\ u_2 \\\\ 2u_1 + 3u_2 \\end{bmatrix} + c\\begin{bmatrix} v_1 \\\\ v_2 \\\\ 2v_1 + 3v_2 \\end{bmatrix} = T(u) + cT(v)\n",
        "$$\n",
        "\n",
        "Por lo que la transformación $T$ es lineal.\n",
        "\n",
        "2. Defina una función en Python que represente la transformación T y evalue los vectores $v_1$ y $v_2$\n",
        "\n"
      ],
      "metadata": {
        "id": "lNZYuzxRRcMu"
      }
    },
    {
      "cell_type": "code",
      "source": [
        "v1 = np.array([[1],[3]])\n",
        "v2 = np.array([[10],[1]])\n",
        "a = 3\n",
        "# Escriba su codigo aqui\n",
        "\n",
        "def transformacion3_t(v_vector: array):\n",
        "  return np.array([v_vector[0][0], v_vector[1][0], 2*v_vector[0][0] + 3*v_vector[1][0]])\n",
        "\n",
        "print(f'T(1,3) = {transformacion3_t(v1)}')\n",
        "print(f'T(10,1) = {transformacion3_t(v2)}')"
      ],
      "metadata": {
        "id": "ABBTeQlZX7lZ",
        "colab": {
          "base_uri": "https://localhost:8080/"
        },
        "outputId": "ccfbcc7a-bea8-4686-9b45-453c0079fd91"
      },
      "execution_count": null,
      "outputs": [
        {
          "output_type": "stream",
          "name": "stdout",
          "text": [
            "T(1,3) = [ 1  3 11]\n",
            "T(10,1) = [10  1 23]\n"
          ]
        }
      ]
    },
    {
      "cell_type": "code",
      "source": [],
      "metadata": {
        "id": "y5lQ6egtwx6x"
      },
      "execution_count": null,
      "outputs": []
    }
  ]
}